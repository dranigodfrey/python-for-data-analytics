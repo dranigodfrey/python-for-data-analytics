{
 "cells": [
  {
   "cell_type": "markdown",
   "id": "f2da77f0",
   "metadata": {},
   "source": [
    "# Project\n",
    "---"
   ]
  },
  {
   "cell_type": "markdown",
   "id": "52003191",
   "metadata": {},
   "source": [
    "# Project:\n",
    "### Data Entry Sanitizer\n",
    "\n",
    "**Goal**\n",
    "\n",
    "Write a Python script that takes in raw text input (like names or phone numbers) and cleans/formats them for consistent data entry.\n",
    "\n",
    "**Requirements**\n",
    "* Accept a full name (e.g., \" maale AUSTIN \") → Output: \"Maale Austin\"\n",
    "* Accept a phone number (e.g., \" (077) 395-3489 \" or \"0773953489\") → Output: +256-077-395-3489\n",
    "* Accept an email address and lowercase it"
   ]
  },
  {
   "cell_type": "code",
   "execution_count": null,
   "id": "fc6e9a05-cafc-448e-a1bf-ae0e86008c40",
   "metadata": {},
   "outputs": [],
   "source": []
  }
 ],
 "metadata": {
  "kernelspec": {
   "display_name": "Python 3 (ipykernel)",
   "language": "python",
   "name": "python3"
  },
  "language_info": {
   "codemirror_mode": {
    "name": "ipython",
    "version": 3
   },
   "file_extension": ".py",
   "mimetype": "text/x-python",
   "name": "python",
   "nbconvert_exporter": "python",
   "pygments_lexer": "ipython3",
   "version": "3.12.3"
  }
 },
 "nbformat": 4,
 "nbformat_minor": 5
}
