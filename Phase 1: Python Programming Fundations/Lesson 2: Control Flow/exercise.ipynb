{
 "cells": [
  {
   "cell_type": "markdown",
   "id": "07183e52",
   "metadata": {},
   "source": [
    "# Exercises\n",
    "---"
   ]
  },
  {
   "cell_type": "markdown",
   "id": "8066a037",
   "metadata": {},
   "source": [
    "### 1. Check if number is even or odd"
   ]
  },
  {
   "cell_type": "code",
   "execution_count": null,
   "id": "3f4c914e",
   "metadata": {},
   "outputs": [],
   "source": []
  },
  {
   "cell_type": "markdown",
   "id": "44de708e",
   "metadata": {},
   "source": [
    "### 2. Grade Checker"
   ]
  },
  {
   "cell_type": "code",
   "execution_count": null,
   "id": "deadc3cf",
   "metadata": {},
   "outputs": [],
   "source": []
  },
  {
   "cell_type": "markdown",
   "id": "7ae5ea8d",
   "metadata": {},
   "source": [
    "### 3. Password Length Validator"
   ]
  },
  {
   "cell_type": "code",
   "execution_count": null,
   "id": "611005a2",
   "metadata": {},
   "outputs": [],
   "source": []
  },
  {
   "cell_type": "markdown",
   "id": "32fcce4a",
   "metadata": {},
   "source": [
    "### 4. Loop through a list of numbers and print only positives"
   ]
  },
  {
   "cell_type": "code",
   "execution_count": null,
   "id": "57befccd",
   "metadata": {},
   "outputs": [],
   "source": []
  },
  {
   "cell_type": "markdown",
   "id": "41947a34",
   "metadata": {},
   "source": [
    "### 5. Count how many even numbers in a list"
   ]
  },
  {
   "cell_type": "code",
   "execution_count": null,
   "id": "529b8a8b",
   "metadata": {},
   "outputs": [],
   "source": []
  },
  {
   "cell_type": "markdown",
   "id": "d39f9006",
   "metadata": {},
   "source": [
    "### 6. Ask for input until user types \"exit\""
   ]
  },
  {
   "cell_type": "code",
   "execution_count": null,
   "id": "7284d00b",
   "metadata": {},
   "outputs": [],
   "source": []
  },
  {
   "cell_type": "markdown",
   "id": "5141c7df",
   "metadata": {},
   "source": [
    "### 7. Salary filter"
   ]
  },
  {
   "cell_type": "code",
   "execution_count": null,
   "id": "8cdcc826",
   "metadata": {},
   "outputs": [],
   "source": []
  },
  {
   "cell_type": "markdown",
   "id": "741620fb",
   "metadata": {},
   "source": [
    "### 8. Email domain extractor"
   ]
  },
  {
   "cell_type": "code",
   "execution_count": null,
   "id": "9aac5abe-d502-40ba-91f3-a13c04adef62",
   "metadata": {},
   "outputs": [],
   "source": []
  }
 ],
 "metadata": {
  "kernelspec": {
   "display_name": "venv",
   "language": "python",
   "name": "python3"
  },
  "language_info": {
   "codemirror_mode": {
    "name": "ipython",
    "version": 3
   },
   "file_extension": ".py",
   "mimetype": "text/x-python",
   "name": "python",
   "nbconvert_exporter": "python",
   "pygments_lexer": "ipython3",
   "version": "3.12.3"
  }
 },
 "nbformat": 4,
 "nbformat_minor": 5
}
