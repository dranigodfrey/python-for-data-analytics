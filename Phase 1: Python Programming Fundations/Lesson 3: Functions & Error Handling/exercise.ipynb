{
 "cells": [
  {
   "cell_type": "markdown",
   "id": "2615a1cd",
   "metadata": {},
   "source": [
    "# Exercises\n",
    "---"
   ]
  },
  {
   "cell_type": "markdown",
   "id": "7dcf85ff",
   "metadata": {},
   "source": [
    "### 1. Function to square a number"
   ]
  },
  {
   "cell_type": "code",
   "execution_count": null,
   "id": "9aac5abe-d502-40ba-91f3-a13c04adef62",
   "metadata": {},
   "outputs": [],
   "source": []
  },
  {
   "cell_type": "markdown",
   "id": "e6ea574f",
   "metadata": {},
   "source": [
    "### 2. Greet with default"
   ]
  },
  {
   "cell_type": "code",
   "execution_count": null,
   "id": "2e973133",
   "metadata": {},
   "outputs": [],
   "source": []
  },
  {
   "cell_type": "markdown",
   "id": "687ca173",
   "metadata": {},
   "source": [
    "### 3. Convert Celsius to Fahrenheit"
   ]
  },
  {
   "cell_type": "code",
   "execution_count": null,
   "id": "43458e1f",
   "metadata": {},
   "outputs": [],
   "source": []
  },
  {
   "cell_type": "markdown",
   "id": "9801eab6",
   "metadata": {},
   "source": [
    "### 4. Safe Division with Try/Except"
   ]
  },
  {
   "cell_type": "code",
   "execution_count": null,
   "id": "2ae2d561",
   "metadata": {},
   "outputs": [],
   "source": []
  },
  {
   "cell_type": "markdown",
   "id": "99ac770a",
   "metadata": {},
   "source": [
    "### 5. Capitalize all names in a list"
   ]
  },
  {
   "cell_type": "code",
   "execution_count": null,
   "id": "ed40dcf8",
   "metadata": {},
   "outputs": [],
   "source": []
  },
  {
   "cell_type": "markdown",
   "id": "37822f0a",
   "metadata": {},
   "source": [
    "### 6. Validate email with assert"
   ]
  },
  {
   "cell_type": "code",
   "execution_count": null,
   "id": "c02a799c",
   "metadata": {},
   "outputs": [],
   "source": []
  },
  {
   "cell_type": "markdown",
   "id": "0919692f",
   "metadata": {},
   "source": [
    "### 7. Use lambda to triple a number"
   ]
  },
  {
   "cell_type": "code",
   "execution_count": null,
   "id": "b0a75030",
   "metadata": {},
   "outputs": [],
   "source": []
  },
  {
   "cell_type": "markdown",
   "id": "fbbc2cab",
   "metadata": {},
   "source": [
    "### 8. Create logger that prints success message"
   ]
  },
  {
   "cell_type": "code",
   "execution_count": null,
   "id": "26eea9ca",
   "metadata": {},
   "outputs": [],
   "source": []
  },
  {
   "cell_type": "markdown",
   "id": "d5e59beb",
   "metadata": {},
   "source": [
    "### 9: Reusable Data Cleaning Functions\n",
    "\n",
    "### Goal\n",
    "Create small, reusable functions that clean common types of messy data.\n",
    "\n",
    "### Tasks\n",
    "Write and test these functions:\n",
    "\n",
    "- `clean_whitespace(text)`: removes leading/trailing spaces\n",
    "- `fix_case(name)`: capitalizes names\n",
    "- `remove_special_chars(text)`: removes symbols like `@#!`\n",
    "- `validate_email(email)`: returns True/False"
   ]
  },
  {
   "cell_type": "code",
   "execution_count": null,
   "id": "c893bf08",
   "metadata": {},
   "outputs": [],
   "source": []
  }
 ],
 "metadata": {
  "kernelspec": {
   "display_name": "venv",
   "language": "python",
   "name": "python3"
  },
  "language_info": {
   "codemirror_mode": {
    "name": "ipython",
    "version": 3
   },
   "file_extension": ".py",
   "mimetype": "text/x-python",
   "name": "python",
   "nbconvert_exporter": "python",
   "pygments_lexer": "ipython3",
   "version": "3.12.3"
  }
 },
 "nbformat": 4,
 "nbformat_minor": 5
}
