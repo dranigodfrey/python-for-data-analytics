{
 "cells": [
  {
   "cell_type": "markdown",
   "id": "830c30c0",
   "metadata": {},
   "source": [
    "# Exercises\n",
    "---"
   ]
  },
  {
   "cell_type": "markdown",
   "id": "e6139827",
   "metadata": {},
   "source": [
    "### 1. Create a list of 5 cities and print each"
   ]
  },
  {
   "cell_type": "code",
   "execution_count": null,
   "id": "9aac5abe-d502-40ba-91f3-a13c04adef62",
   "metadata": {},
   "outputs": [],
   "source": []
  },
  {
   "cell_type": "markdown",
   "id": "c4b1541e",
   "metadata": {},
   "source": [
    "### 2. Get the last 3 elements from a list"
   ]
  },
  {
   "cell_type": "code",
   "execution_count": null,
   "id": "50433d06",
   "metadata": {},
   "outputs": [],
   "source": []
  },
  {
   "cell_type": "markdown",
   "id": "91f18a6e",
   "metadata": {},
   "source": [
    "### 3. Create a dictionary of a product"
   ]
  },
  {
   "cell_type": "code",
   "execution_count": null,
   "id": "32dc54ed",
   "metadata": {},
   "outputs": [],
   "source": []
  },
  {
   "cell_type": "markdown",
   "id": "496fdc1f",
   "metadata": {},
   "source": [
    "### 4. Loop through dictionary keys and values"
   ]
  },
  {
   "cell_type": "code",
   "execution_count": null,
   "id": "7a1c5e00",
   "metadata": {},
   "outputs": [],
   "source": []
  },
  {
   "cell_type": "markdown",
   "id": "078d4fcd",
   "metadata": {},
   "source": [
    "### 5. Count how many times a word appears in a list"
   ]
  },
  {
   "cell_type": "code",
   "execution_count": null,
   "id": "72bb6ec7",
   "metadata": {},
   "outputs": [],
   "source": []
  },
  {
   "cell_type": "markdown",
   "id": "977325b8",
   "metadata": {},
   "source": [
    "### 6. Use list comprehension to filter values > 10"
   ]
  },
  {
   "cell_type": "code",
   "execution_count": null,
   "id": "ffce9b23",
   "metadata": {},
   "outputs": [],
   "source": []
  },
  {
   "cell_type": "markdown",
   "id": "b4c7c268",
   "metadata": {},
   "source": [
    "### 7. Combine two dictionaries"
   ]
  },
  {
   "cell_type": "code",
   "execution_count": null,
   "id": "46c99819",
   "metadata": {},
   "outputs": [],
   "source": []
  },
  {
   "cell_type": "markdown",
   "id": "3a8d877f",
   "metadata": {},
   "source": [
    "### 8. Create and access nested dictionary"
   ]
  },
  {
   "cell_type": "code",
   "execution_count": null,
   "id": "62a0b74e",
   "metadata": {},
   "outputs": [],
   "source": []
  },
  {
   "cell_type": "markdown",
   "id": "c5b7ce3f",
   "metadata": {},
   "source": [
    "### 9. Add a new customer to a list of dicts"
   ]
  },
  {
   "cell_type": "code",
   "execution_count": null,
   "id": "569f520b",
   "metadata": {},
   "outputs": [],
   "source": []
  },
  {
   "cell_type": "markdown",
   "id": "82674541",
   "metadata": {},
   "source": [
    "### 10. Create a frequency counter (manual)"
   ]
  },
  {
   "cell_type": "code",
   "execution_count": null,
   "id": "a1c984a6",
   "metadata": {},
   "outputs": [],
   "source": []
  },
  {
   "cell_type": "markdown",
   "id": "922b744f",
   "metadata": {},
   "source": [
    "### 11. Frequency Counter"
   ]
  },
  {
   "cell_type": "code",
   "execution_count": null,
   "id": "09af3c3f",
   "metadata": {},
   "outputs": [],
   "source": []
  },
  {
   "cell_type": "markdown",
   "id": "aa0186e3",
   "metadata": {},
   "source": [
    "### 12. Filter & Group Names by First Letter"
   ]
  },
  {
   "cell_type": "code",
   "execution_count": null,
   "id": "edc51e13",
   "metadata": {},
   "outputs": [],
   "source": []
  }
 ],
 "metadata": {
  "kernelspec": {
   "display_name": "venv",
   "language": "python",
   "name": "python3"
  },
  "language_info": {
   "codemirror_mode": {
    "name": "ipython",
    "version": 3
   },
   "file_extension": ".py",
   "mimetype": "text/x-python",
   "name": "python",
   "nbconvert_exporter": "python",
   "pygments_lexer": "ipython3",
   "version": "3.12.3"
  }
 },
 "nbformat": 4,
 "nbformat_minor": 5
}
