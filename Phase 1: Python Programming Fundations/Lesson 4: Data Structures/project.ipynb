{
 "cells": [
  {
   "cell_type": "markdown",
   "id": "8e8e1718",
   "metadata": {},
   "source": [
    "# Project\n",
    "---\n",
    "\n",
    "### Mini CRM System\n",
    "**Goal**\n",
    "\n",
    "Build a simple command-line customer tracking system using nested dictionaries/lists.\n",
    "\n",
    "### Features to Implement\n",
    "* Add a new customer (name, email, phone)\n",
    "* Search customer by name\n",
    "* Update customer email or phone\n",
    "* Delete a customer by name\n",
    "* List all customers"
   ]
  },
  {
   "cell_type": "code",
   "execution_count": null,
   "id": "fc6e9a05-cafc-448e-a1bf-ae0e86008c40",
   "metadata": {},
   "outputs": [],
   "source": []
  }
 ],
 "metadata": {
  "kernelspec": {
   "display_name": "Python 3 (ipykernel)",
   "language": "python",
   "name": "python3"
  },
  "language_info": {
   "codemirror_mode": {
    "name": "ipython",
    "version": 3
   },
   "file_extension": ".py",
   "mimetype": "text/x-python",
   "name": "python",
   "nbconvert_exporter": "python",
   "pygments_lexer": "ipython3",
   "version": "3.12.3"
  }
 },
 "nbformat": 4,
 "nbformat_minor": 5
}
