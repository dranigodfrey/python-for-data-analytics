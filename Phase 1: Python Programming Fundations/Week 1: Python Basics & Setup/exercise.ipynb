{
 "cells": [
  {
   "cell_type": "markdown",
   "id": "040ce1cc",
   "metadata": {},
   "source": [
    "# Exercises\n",
    "---"
   ]
  },
  {
   "cell_type": "markdown",
   "id": "9409507b",
   "metadata": {},
   "source": [
    "### BMI calculator "
   ]
  },
  {
   "cell_type": "code",
   "execution_count": null,
   "id": "9aac5abe-d502-40ba-91f3-a13c04adef62",
   "metadata": {},
   "outputs": [],
   "source": []
  },
  {
   "cell_type": "markdown",
   "id": "cb406592-0cb8-455b-b167-391f7c80d8fe",
   "metadata": {},
   "source": [
    "### Name Formatter"
   ]
  },
  {
   "cell_type": "code",
   "execution_count": null,
   "id": "7bb3c70f-4a80-4e7e-b9bd-314e4df21a8c",
   "metadata": {},
   "outputs": [],
   "source": []
  },
  {
   "cell_type": "markdown",
   "id": "9cfe0fa1",
   "metadata": {},
   "source": [
    "### Currency Convert "
   ]
  },
  {
   "cell_type": "code",
   "execution_count": null,
   "id": "c748875d",
   "metadata": {},
   "outputs": [],
   "source": []
  }
 ],
 "metadata": {
  "kernelspec": {
   "display_name": "Python 3 (ipykernel)",
   "language": "python",
   "name": "python3"
  },
  "language_info": {
   "codemirror_mode": {
    "name": "ipython",
    "version": 3
   },
   "file_extension": ".py",
   "mimetype": "text/x-python",
   "name": "python",
   "nbconvert_exporter": "python",
   "pygments_lexer": "ipython3",
   "version": "3.12.3"
  }
 },
 "nbformat": 4,
 "nbformat_minor": 5
}
