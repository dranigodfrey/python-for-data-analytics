{
 "cells": [
  {
   "cell_type": "markdown",
   "id": "6c74f969",
   "metadata": {},
   "source": [
    "# Week 1: Python Basics & Environment Setup\n",
    "---\n",
    "**Topics:**\n",
    "* Installing Python and Jupyter Notebooks\n",
    "* Data types, variables, inputs, outputs\n",
    "* Basic arithmetic and string formatting\n",
    "\n",
    "**Exercises:**\n",
    "* BMI calculator \n",
    "* Name Formatter\n",
    "* Currency Convert \n",
    "\n",
    "**Project:**\n",
    "* \"Data Entry Sanitizer\" Clean and format text inputs like phone numbers or names.\n",
    "\n",
    "**Learning Objectives**\n",
    "\n",
    "By the end of this week, you will be able to:\n",
    "- Set up Python and Jupyter notebooks on your system\n",
    "- Understand and use basic data types and variables\n",
    "- Perform arithmetic and format strings\n",
    "- Write small scripts that take user input and produce output\n"
   ]
  },
  {
   "cell_type": "markdown",
   "id": "76de89f0",
   "metadata": {},
   "source": [
    "## Setting Up Your Environment\n",
    "- Python: The programming language we'll use to write all our data analysis code.\n",
    "\n",
    "- Install Python: [https://www.python.org/downloads/](https://www.python.org/downloads/)\n",
    "\n",
    "- **Python virtual environment**\n",
    "    - an isolated environment on your computer, where you can run and test your Python projects.\n",
    "    - It allows you to manage project-specific dependencies without interfering with other projects or the original Python installation.\n",
    "\n",
    "    **Using virtual environments is important because:**\n",
    "\n",
    "    - It prevents package version conflicts between projects\n",
    "    - Makes projects more portable and reproducible\n",
    "    - Keeps your system Python installation clean\n",
    "    - Allows testing with different Python versions\n",
    "\n",
    "    **Creating Virtual Environment**\n",
    "\n",
    "    -  Python has the built-in venv module for creating virtual environments.\n",
    "    -  ```python -m venv /path/to/new/virtual/environment```\n",
    "\n",
    "#### JupyterLab\n",
    "- Install Jupyter using pip: [https://jupyter.org/install](https://jupyter.org/install)\n",
    "```python\n",
    "#Install JupyterLab with pip:\n",
    "pip install jupyterlab\n",
    "\n",
    "#launch jupyterlab\n",
    "jupyter lab \n",
    "\n",
    "```\n",
    "#### Jupyter Notebook\n",
    "- Jupyter Notebook: An interactive workspace to write, run, and document Python code easily.\n",
    "```python\n",
    "#Install the classic Jupyter Notebook with:\n",
    "pip install notebook\n",
    "\n",
    "#To run the notebook:\n",
    "jupyter notebook \n",
    "\n",
    "```"
   ]
  },
  {
   "cell_type": "markdown",
   "id": "1ace675e-fb59-4489-8846-1d02400452ad",
   "metadata": {},
   "source": [
    "## Markdown Basics\n",
    "\n",
    "Markdown is a lightweight markup language that uses characters like # for headings and * for emphasis to format text simply and intuitively.\n",
    "| Element        | Markdown Syntax                        |\n",
    "|----------------|----------------------------------------|\n",
    "| Heading        | `# H1`<br>`## H2`<br>`### H3`          |\n",
    "| Bold           | `**bold text**`                        |\n",
    "| Italic         | `*italicized text*`                    |\n",
    "| Blockquote     | `> blockquote`                         |\n",
    "| Ordered List   | `1. First item`<br>`2. Second item`<br>`3. Third item` |\n",
    "| Unordered List | `- First item`<br>`- Second item`<br>`- Third item`   |\n",
    "| Code           | `` `code` ``                           |\n",
    "| Horizontal Rule| `---`                                  |\n",
    "| Link           | `[title](https://www.example.com)`     |\n",
    "| Image          | `![alt text](image.jpg)`               |\n",
    "\n",
    "[Here is a more info on Markdown](https://www.markdownguide.org/basic-syntax/)\n",
    "\n",
    "# Syntax\n",
    "\n",
    "## Indentation\n",
    "- Indentation refers to the spaces at the beginning of a code line.\n",
    "- Python uses indentation to indicate a block of code.\n",
    "- Python will give you an error if you skip the indentation\n",
    "- The recommended number of spaces is four and have to be the same in a block of code, otherwise Python will give you an error.\n",
    "\n",
    "## Comments\n",
    "**Used to:**\n",
    "\n",
    "- Explain code.\n",
    "- Make the code more readable.\n",
    "- Prevent execution when testing code."
   ]
  },
  {
   "cell_type": "markdown",
   "id": "9f8fc843",
   "metadata": {},
   "source": [
    "# Data types, variables, inputs, outputs"
   ]
  },
  {
   "cell_type": "markdown",
   "id": "5431830e",
   "metadata": {},
   "source": [
    "### Data Types"
   ]
  },
  {
   "cell_type": "code",
   "execution_count": null,
   "id": "610fb2d6",
   "metadata": {},
   "outputs": [],
   "source": []
  },
  {
   "cell_type": "markdown",
   "id": "20127eea",
   "metadata": {},
   "source": [
    "### Variables"
   ]
  },
  {
   "cell_type": "code",
   "execution_count": null,
   "id": "a420773b",
   "metadata": {},
   "outputs": [],
   "source": []
  },
  {
   "cell_type": "markdown",
   "id": "b0132499",
   "metadata": {},
   "source": [
    "### Getting User Input & Displaying Output"
   ]
  },
  {
   "cell_type": "code",
   "execution_count": null,
   "id": "45f52924",
   "metadata": {},
   "outputs": [],
   "source": []
  },
  {
   "cell_type": "markdown",
   "id": "d2bd900c",
   "metadata": {},
   "source": [
    "### Arithmetic Operators"
   ]
  },
  {
   "cell_type": "code",
   "execution_count": null,
   "id": "92f6c47c",
   "metadata": {},
   "outputs": [],
   "source": []
  },
  {
   "cell_type": "markdown",
   "id": "77bf4d1a",
   "metadata": {},
   "source": [
    "### Strings"
   ]
  },
  {
   "cell_type": "code",
   "execution_count": null,
   "id": "5125f3a5",
   "metadata": {},
   "outputs": [],
   "source": []
  },
  {
   "cell_type": "markdown",
   "id": "6e059a68-cbc8-4b6e-ba9c-b2ff2cb87f05",
   "metadata": {},
   "source": [
    "### Case Methods"
   ]
  },
  {
   "cell_type": "code",
   "execution_count": null,
   "id": "f73557c1-82c6-4e96-bd96-06dd337ccab9",
   "metadata": {},
   "outputs": [],
   "source": []
  },
  {
   "cell_type": "markdown",
   "id": "dbaa6f1d-b80a-4ca4-9470-422819a678c3",
   "metadata": {},
   "source": [
    "### Whitespace & Trimming"
   ]
  },
  {
   "cell_type": "code",
   "execution_count": null,
   "id": "ec187bd2-dd38-40ce-a10b-aac23eb77596",
   "metadata": {},
   "outputs": [],
   "source": []
  },
  {
   "cell_type": "markdown",
   "id": "55407e39-fa21-4ec3-8fa0-b20e7fc17a93",
   "metadata": {},
   "source": [
    "### Searching & Replacing"
   ]
  },
  {
   "cell_type": "code",
   "execution_count": null,
   "id": "50f60c2e-724a-4d02-955b-7181f6903b2f",
   "metadata": {},
   "outputs": [],
   "source": []
  },
  {
   "cell_type": "markdown",
   "id": "469b2a05-126c-4dcf-bbfb-720f1be7a593",
   "metadata": {},
   "source": [
    "### Count & Starts/Ends"
   ]
  },
  {
   "cell_type": "code",
   "execution_count": null,
   "id": "3f530fdf-543e-44a6-9532-11eab7856fc0",
   "metadata": {},
   "outputs": [],
   "source": []
  },
  {
   "cell_type": "markdown",
   "id": "06cccac1-3527-4df9-abd7-5afa142aa8e2",
   "metadata": {},
   "source": [
    "### Strings Formating"
   ]
  },
  {
   "cell_type": "code",
   "execution_count": null,
   "id": "4479af05-2049-41c4-8d35-015edc5dd8d4",
   "metadata": {},
   "outputs": [],
   "source": []
  },
  {
   "cell_type": "markdown",
   "id": "8fa301b8-81c7-4a62-b72e-b79f7f2e78ee",
   "metadata": {},
   "source": [
    "### Splitting Strings"
   ]
  },
  {
   "cell_type": "code",
   "execution_count": null,
   "id": "e2d48c58-8cf3-46a8-83f6-d609e3c3e1a6",
   "metadata": {},
   "outputs": [],
   "source": []
  },
  {
   "cell_type": "markdown",
   "id": "c5fb0076-dad4-478c-a80f-36bba88e17d6",
   "metadata": {},
   "source": [
    "### Joining Strings"
   ]
  },
  {
   "cell_type": "code",
   "execution_count": null,
   "id": "e73fb096-53b6-4d8e-b972-0110a2aae054",
   "metadata": {},
   "outputs": [],
   "source": []
  }
 ],
 "metadata": {
  "kernelspec": {
   "display_name": "Python 3 (ipykernel)",
   "language": "python",
   "name": "python3"
  },
  "language_info": {
   "codemirror_mode": {
    "name": "ipython",
    "version": 3
   },
   "file_extension": ".py",
   "mimetype": "text/x-python",
   "name": "python",
   "nbconvert_exporter": "python",
   "pygments_lexer": "ipython3",
   "version": "3.12.3"
  }
 },
 "nbformat": 4,
 "nbformat_minor": 5
}
