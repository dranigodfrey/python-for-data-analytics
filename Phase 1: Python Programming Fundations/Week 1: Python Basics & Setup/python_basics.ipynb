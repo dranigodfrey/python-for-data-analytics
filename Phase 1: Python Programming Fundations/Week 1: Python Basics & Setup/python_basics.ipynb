{
 "cells": [
  {
   "cell_type": "markdown",
   "id": "6c74f969",
   "metadata": {},
   "source": [
    "# Week 1: Python Basics & Environment Setup\n",
    "---\n",
    "**Topics:**\n",
    "* Installing Python and Jupyter Notebooks\n",
    "* Data types, variables, inputs, outputs\n",
    "* Basic arithmetic and string formatting\n",
    "\n",
    "**Exercises:**\n",
    "* BMI calculator \n",
    "* Name Formatter\n",
    "* Currency Convert \n",
    "\n",
    "**Project:**\n",
    "* \"Data Entry Sanitizer\" Clean and format text inputs like phone numbers or names.\n",
    "\n",
    "**Learning Objectives**\n",
    "\n",
    "By the end of this week, you will be able to:\n",
    "- Set up Python and Jupyter notebooks on your system\n",
    "- Understand and use basic data types and variables\n",
    "- Perform arithmetic and format strings\n",
    "- Write small scripts that take user input and produce output\n"
   ]
  },
  {
   "cell_type": "markdown",
   "id": "76de89f0",
   "metadata": {},
   "source": [
    "## Setting Up Your Environment\n",
    "- Python: The programming language we'll use to write all our data analysis code.\n",
    "\n",
    "- Install Python: [https://www.python.org/downloads/](https://www.python.org/downloads/)\n",
    "\n",
    "- **Python virtual environment**\n",
    "    - an isolated environment on your computer, where you can run and test your Python projects.\n",
    "    - It allows you to manage project-specific dependencies without interfering with other projects or the original Python installation.\n",
    "\n",
    "    **Using virtual environments is important because:**\n",
    "\n",
    "    - It prevents package version conflicts between projects\n",
    "    - Makes projects more portable and reproducible\n",
    "    - Keeps your system Python installation clean\n",
    "    - Allows testing with different Python versions\n",
    "\n",
    "    **Creating Virtual Environment**\n",
    "\n",
    "    -  Python has the built-in venv module for creating virtual environments.\n",
    "    -  ```python -m venv /path/to/new/virtual/environment```\n",
    "\n",
    "#### JupyterLab\n",
    "- Install Jupyter using pip: [https://jupyter.org/install](https://jupyter.org/install)\n",
    "```python\n",
    "#Install JupyterLab with pip:\n",
    "pip install jupyterlab\n",
    "\n",
    "#launch jupyterlab\n",
    "jupyter lab \n",
    "\n",
    "```\n",
    "#### Jupyter Notebook\n",
    "- Jupyter Notebook: An interactive workspace to write, run, and document Python code easily.\n",
    "```python\n",
    "#Install the classic Jupyter Notebook with:\n",
    "pip install notebook\n",
    "\n",
    "#To run the notebook:\n",
    "jupyter notebook \n",
    "\n",
    "```"
   ]
  },
  {
   "cell_type": "markdown",
   "id": "1ace675e-fb59-4489-8846-1d02400452ad",
   "metadata": {},
   "source": [
    "# Syntax\n",
    "## Indentation\n",
    "- Indentation refers to the spaces at the beginning of a code line.\n",
    "- Python uses indentation to indicate a block of code.\n",
    "- Python will give you an error if you skip the indentation\n",
    "- The recommended number of spaces is four and have to be the same in a block of code, otherwise Python will give you an error.\n",
    "\n",
    "## Comments\n",
    "**Used to:**\n",
    "\n",
    "- Explain code.\n",
    "- Make the code more readable.\n",
    "- Prevent execution when testing code.\n",
    "\n",
    "## Markdown Basics\n",
    "\n",
    "Markdown is a lightweight markup language that uses characters like # for headings and * for emphasis to format text simply and intuitively.\n",
    "| Element        | Markdown Syntax                        |\n",
    "|----------------|----------------------------------------|\n",
    "| Heading        | `# H1`<br>`## H2`<br>`### H3`          |\n",
    "| Bold           | `**bold text**`                        |\n",
    "| Italic         | `*italicized text*`                    |\n",
    "| Blockquote     | `> blockquote`                         |\n",
    "| Ordered List   | `1. First item`<br>`2. Second item`<br>`3. Third item` |\n",
    "| Unordered List | `- First item`<br>`- Second item`<br>`- Third item`   |\n",
    "| Code           | `` `code` ``                           |\n",
    "| Horizontal Rule| `---`                                  |\n",
    "| Link           | `[title](https://www.example.com)`     |\n",
    "| Image          | `![alt text](image.jpg)`               |\n",
    "\n",
    "[Here is a more info on Markdown](https://www.markdownguide.org/basic-syntax/)"
   ]
  },
  {
   "cell_type": "markdown",
   "id": "9f8fc843",
   "metadata": {},
   "source": [
    "# Data types, variables, inputs, outputs"
   ]
  },
  {
   "cell_type": "markdown",
   "id": "5431830e",
   "metadata": {},
   "source": [
    "### Data Types"
   ]
  },
  {
   "cell_type": "code",
   "execution_count": null,
   "id": "610fb2d6",
   "metadata": {},
   "outputs": [],
   "source": []
  },
  {
   "cell_type": "markdown",
   "id": "20127eea",
   "metadata": {},
   "source": [
    "### Variables"
   ]
  },
  {
   "cell_type": "code",
   "execution_count": null,
   "id": "a420773b",
   "metadata": {},
   "outputs": [],
   "source": []
  },
  {
   "cell_type": "markdown",
   "id": "b0132499",
   "metadata": {},
   "source": [
    "### Getting User Input & Displaying Output"
   ]
  },
  {
   "cell_type": "code",
   "execution_count": null,
   "id": "45f52924",
   "metadata": {},
   "outputs": [],
   "source": []
  },
  {
   "cell_type": "markdown",
   "id": "d2bd900c",
   "metadata": {},
   "source": [
    "### Arithmetic Operators"
   ]
  },
  {
   "cell_type": "code",
   "execution_count": null,
   "id": "92f6c47c",
   "metadata": {},
   "outputs": [],
   "source": []
  },
  {
   "cell_type": "markdown",
   "id": "77bf4d1a",
   "metadata": {},
   "source": [
    "### String Formatting"
   ]
  },
  {
   "cell_type": "code",
   "execution_count": null,
   "id": "5125f3a5",
   "metadata": {},
   "outputs": [],
   "source": []
  }
 ],
 "metadata": {
  "kernelspec": {
   "display_name": "Python 3 (ipykernel)",
   "language": "python",
   "name": "python3"
  },
  "language_info": {
   "codemirror_mode": {
    "name": "ipython",
    "version": 3
   },
   "file_extension": ".py",
   "mimetype": "text/x-python",
   "name": "python",
   "nbconvert_exporter": "python",
   "pygments_lexer": "ipython3",
   "version": "3.12.3"
  }
 },
 "nbformat": 4,
 "nbformat_minor": 5
}
