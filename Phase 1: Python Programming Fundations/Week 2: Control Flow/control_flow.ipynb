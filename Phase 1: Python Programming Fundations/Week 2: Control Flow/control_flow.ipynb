{
 "cells": [
  {
   "cell_type": "markdown",
   "id": "92ab1d34",
   "metadata": {},
   "source": [
    "# Week 2: Control Flow & Logic in Data Contexts\n",
    "---\n",
    "**Topics:**\n",
    "* Conditional logic: if, elif, else logic\n",
    "* Loops: for, while, range()\n",
    "* Boolean expressions and comparison operators\n",
    "* Simple data validation (email, age, salary)\n",
    "\n",
    "**Project:** \n",
    "* \"Survey Quality Checker\" Write a script to flag bad entries in a mock survey dataset.\n",
    "\n",
    "**Learning Objectives**\n",
    "\n",
    "By the end of this week, you will be able to:\n",
    "- Use `if`, `elif`, and `else` for conditional logic\n",
    "- Apply `for` and `while` loops to iterate over data\n",
    "- Use comparison and boolean operators\n",
    "- Validate simple inputs like email, age, and salary using logic\n"
   ]
  },
  {
   "cell_type": "markdown",
   "id": "e48a7894",
   "metadata": {},
   "source": [
    "## Control Flow Basics\n",
    "### `if`, `elif`, `else`"
   ]
  },
  {
   "cell_type": "code",
   "execution_count": null,
   "id": "22d5e716-4514-4eaa-83e7-b0670831674a",
   "metadata": {},
   "outputs": [],
   "source": []
  },
  {
   "cell_type": "markdown",
   "id": "670419b0",
   "metadata": {},
   "source": [
    "# Loops\n",
    "### for Loop"
   ]
  },
  {
   "cell_type": "code",
   "execution_count": null,
   "id": "8245e448",
   "metadata": {},
   "outputs": [],
   "source": []
  },
  {
   "cell_type": "markdown",
   "id": "552a5b74",
   "metadata": {},
   "source": [
    "### while Loop"
   ]
  },
  {
   "cell_type": "code",
   "execution_count": null,
   "id": "547c75bc",
   "metadata": {},
   "outputs": [],
   "source": []
  },
  {
   "cell_type": "markdown",
   "id": "3ad4778d",
   "metadata": {},
   "source": [
    "### Boolean Operators\n",
    "\n",
    "| Operator | Description      | Example            |\n",
    "| -------- | ---------------- | ------------------ |\n",
    "| `==`     | Equal to         | `a == b`           |\n",
    "| `!=`     | Not equal to     | `a != b`           |\n",
    "| `>`      | Greater than     | `a > b`            |\n",
    "| `<`      | Less than        | `a < b`            |\n",
    "| `>=`     | Greater or equal | `a >= b`           |\n",
    "| `<=`     | Less or equal    | `a <= b`           |\n",
    "| `and`    | Logical AND      | `a > 5 and b < 10` |\n",
    "| `or`     | Logical OR       | `a > 5 or b < 10`  |\n",
    "| `not`    | Logical NOT      | `not True`         |"
   ]
  },
  {
   "cell_type": "markdown",
   "id": "533beabf",
   "metadata": {},
   "source": [
    "# Simple Data Validation\n",
    "### Email Checker"
   ]
  },
  {
   "cell_type": "code",
   "execution_count": null,
   "id": "d1b1d439",
   "metadata": {},
   "outputs": [],
   "source": []
  },
  {
   "cell_type": "markdown",
   "id": "304a8eba",
   "metadata": {},
   "source": [
    "### Age Validator"
   ]
  },
  {
   "cell_type": "code",
   "execution_count": null,
   "id": "0b93a094",
   "metadata": {},
   "outputs": [],
   "source": []
  },
  {
   "cell_type": "markdown",
   "id": "caee1a25",
   "metadata": {},
   "source": [
    "### Real-World Relevance\n",
    "\n",
    "Control flow is essential when: \n",
    "- filtering, validating, and processing data, critical for cleaning, building logic-based rules, and flagging inconsistencies in datasets."
   ]
  }
 ],
 "metadata": {
  "kernelspec": {
   "display_name": "Python 3 (ipykernel)",
   "language": "python",
   "name": "python3"
  },
  "language_info": {
   "codemirror_mode": {
    "name": "ipython",
    "version": 3
   },
   "file_extension": ".py",
   "mimetype": "text/x-python",
   "name": "python",
   "nbconvert_exporter": "python",
   "pygments_lexer": "ipython3",
   "version": "3.12.3"
  }
 },
 "nbformat": 4,
 "nbformat_minor": 5
}
