{
 "cells": [
  {
   "cell_type": "markdown",
   "id": "a7ea6786",
   "metadata": {},
   "source": [
    "# Project\n",
    "---"
   ]
  },
  {
   "cell_type": "markdown",
   "id": "2a35747d",
   "metadata": {},
   "source": [
    "# Survey Quality Checker\n",
    "\n",
    "### Goal\n",
    "Write a Python script that scans mock survey responses and **flags bad entries** based on:\n",
    "- Invalid emails\n",
    "- Age outside range (0–100)\n",
    "- Salary too low or negative\n",
    "\n",
    "\n",
    "### Sample Input (Mock Data)\n",
    "\n",
    "```python\n",
    "survey_responses = [\n",
    "    {\"email\": \"john@example.com\", \"age\": 28, \"salary\": 45000},\n",
    "    {\"email\": \"noatsymbol.com\", \"age\": 45, \"salary\": 65000},\n",
    "    {\"email\": \"sara@domain.com\", \"age\": -2, \"salary\": 50000},\n",
    "    {\"email\": \"mike@web.com\", \"age\": 33, \"salary\": -15000},\n",
    "]\n",
    "```\n",
    "### Task\n",
    "1. Loop through each dictionary in the list\n",
    "2. Check for:\n",
    "    * Valid email (@ and . present)\n",
    "    * Age between 0 and 100\n",
    "    * Salary >= 0\n",
    "3. Print invalid entries with the reason"
   ]
  },
  {
   "cell_type": "code",
   "execution_count": null,
   "id": "fc6e9a05-cafc-448e-a1bf-ae0e86008c40",
   "metadata": {},
   "outputs": [],
   "source": []
  }
 ],
 "metadata": {
  "kernelspec": {
   "display_name": "Python 3 (ipykernel)",
   "language": "python",
   "name": "python3"
  },
  "language_info": {
   "codemirror_mode": {
    "name": "ipython",
    "version": 3
   },
   "file_extension": ".py",
   "mimetype": "text/x-python",
   "name": "python",
   "nbconvert_exporter": "python",
   "pygments_lexer": "ipython3",
   "version": "3.12.3"
  }
 },
 "nbformat": 4,
 "nbformat_minor": 5
}
