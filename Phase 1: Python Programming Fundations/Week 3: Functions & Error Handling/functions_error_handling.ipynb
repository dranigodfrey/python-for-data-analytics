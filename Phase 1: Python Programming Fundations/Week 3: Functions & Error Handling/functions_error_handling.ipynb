{
 "cells": [
  {
   "cell_type": "markdown",
   "id": "0baa01f7",
   "metadata": {},
   "source": [
    "# Week 3: Functions, Reusability & Error Handling\n",
    "---\n",
    "**Topics:**\n",
    "\n",
    "* Defining functions (def)\n",
    "* Parameters, return, default values\n",
    "* Built-in functions vs user-defined\n",
    "* Default arguments, scope\n",
    "* Lambda expressions for quick filtering\n",
    "* Error handling: Try/except, assert, basic logging\n",
    "\n",
    "**Exercise:**\n",
    "* Reusable data cleaning and transformation functions\n",
    "\n",
    "**Project:** \n",
    "* \"Data Cleaning Toolbox\" – Build reusable functions for tasks like removing whitespace, fixing dates, capitalizing names.\n",
    "\n",
    "**Learning Objectives**\n",
    "\n",
    "By the end of this week, you will be able to:\n",
    "- Define and use custom functions\n",
    "- Use parameters, return values, and default arguments\n",
    "- Understand scope and lambda functions\n",
    "- Handle runtime errors using try/except\n",
    "- Use assertions and basic logging\n"
   ]
  },
  {
   "cell_type": "markdown",
   "id": "efdb7891",
   "metadata": {},
   "source": [
    "### Define a Function"
   ]
  },
  {
   "cell_type": "code",
   "execution_count": null,
   "id": "82c475c1",
   "metadata": {},
   "outputs": [],
   "source": []
  },
  {
   "cell_type": "markdown",
   "id": "1aac6842",
   "metadata": {},
   "source": [
    "### Parameters and Return"
   ]
  },
  {
   "cell_type": "code",
   "execution_count": null,
   "id": "22d5e716-4514-4eaa-83e7-b0670831674a",
   "metadata": {},
   "outputs": [],
   "source": []
  },
  {
   "cell_type": "markdown",
   "id": "36dcbd4b",
   "metadata": {},
   "source": [
    "### Default Arguments"
   ]
  },
  {
   "cell_type": "code",
   "execution_count": null,
   "id": "852fdb50",
   "metadata": {},
   "outputs": [],
   "source": []
  },
  {
   "cell_type": "markdown",
   "id": "f8f43916",
   "metadata": {},
   "source": [
    "### Reusability Example"
   ]
  },
  {
   "cell_type": "code",
   "execution_count": null,
   "id": "14c235da",
   "metadata": {},
   "outputs": [],
   "source": []
  },
  {
   "cell_type": "markdown",
   "id": "fab5b000",
   "metadata": {},
   "source": [
    "### Scope Basics"
   ]
  },
  {
   "cell_type": "code",
   "execution_count": null,
   "id": "703b584d",
   "metadata": {},
   "outputs": [],
   "source": []
  },
  {
   "cell_type": "markdown",
   "id": "8454b243",
   "metadata": {},
   "source": [
    "### Lambda Expressions\n",
    "\n",
    "Used for quick anonymous functions:"
   ]
  },
  {
   "cell_type": "code",
   "execution_count": null,
   "id": "c550ac3f",
   "metadata": {},
   "outputs": [],
   "source": []
  },
  {
   "cell_type": "markdown",
   "id": "6d3844d7",
   "metadata": {},
   "source": [
    "### Common use with filter() or map():"
   ]
  },
  {
   "cell_type": "code",
   "execution_count": null,
   "id": "c7d48a38",
   "metadata": {},
   "outputs": [],
   "source": []
  },
  {
   "cell_type": "markdown",
   "id": "65637700",
   "metadata": {},
   "source": [
    "### Error Handling\n",
    "Try / Except"
   ]
  },
  {
   "cell_type": "code",
   "execution_count": null,
   "id": "6dd5c6c9",
   "metadata": {},
   "outputs": [],
   "source": []
  },
  {
   "cell_type": "markdown",
   "id": "04426976",
   "metadata": {},
   "source": [
    "### Assert Statements"
   ]
  },
  {
   "cell_type": "code",
   "execution_count": null,
   "id": "ba67c2e3",
   "metadata": {},
   "outputs": [],
   "source": []
  },
  {
   "cell_type": "markdown",
   "id": "75be2623",
   "metadata": {},
   "source": [
    "### Basic Logging"
   ]
  },
  {
   "cell_type": "code",
   "execution_count": null,
   "id": "b551f061",
   "metadata": {},
   "outputs": [],
   "source": []
  },
  {
   "cell_type": "markdown",
   "id": "55110682",
   "metadata": {},
   "source": [
    "### Real-World Relevance\n",
    "\n",
    "Functions are the backbone of clean, reusable code. Error handling is vital when working with unpredictable data (e.g., user input, CSV files, APIs)."
   ]
  }
 ],
 "metadata": {
  "kernelspec": {
   "display_name": "Python 3 (ipykernel)",
   "language": "python",
   "name": "python3"
  },
  "language_info": {
   "codemirror_mode": {
    "name": "ipython",
    "version": 3
   },
   "file_extension": ".py",
   "mimetype": "text/x-python",
   "name": "python",
   "nbconvert_exporter": "python",
   "pygments_lexer": "ipython3",
   "version": "3.12.3"
  }
 },
 "nbformat": 4,
 "nbformat_minor": 5
}
