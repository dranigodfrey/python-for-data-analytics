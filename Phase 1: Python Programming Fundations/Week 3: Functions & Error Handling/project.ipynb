{
 "cells": [
  {
   "cell_type": "markdown",
   "id": "5da89fbf",
   "metadata": {},
   "source": [
    "# Project\n",
    "---\n",
    "### Data Cleaning Toolbox\n",
    "\n",
    "**Goal**\n",
    "\n",
    "Build a mini Python library of functions for cleaning user input and textual data.\n",
    "\n",
    "### Requirements\n",
    "\n",
    "1. Create at least 4 functions, e.g.:\n",
    "    * clean_name()\n",
    "    * validate_email()\n",
    "    * clean_date_string()\n",
    "    * fix_phone_format()\n",
    "2. Accept raw data from user or dictionary\n",
    "3. Return a cleaned version or report errors\n",
    "4. Use try/except where needed\n",
    "5. Use assert in at least one function"
   ]
  },
  {
   "cell_type": "code",
   "execution_count": null,
   "id": "fc6e9a05-cafc-448e-a1bf-ae0e86008c40",
   "metadata": {},
   "outputs": [],
   "source": []
  }
 ],
 "metadata": {
  "kernelspec": {
   "display_name": "Python 3 (ipykernel)",
   "language": "python",
   "name": "python3"
  },
  "language_info": {
   "codemirror_mode": {
    "name": "ipython",
    "version": 3
   },
   "file_extension": ".py",
   "mimetype": "text/x-python",
   "name": "python",
   "nbconvert_exporter": "python",
   "pygments_lexer": "ipython3",
   "version": "3.12.3"
  }
 },
 "nbformat": 4,
 "nbformat_minor": 5
}
