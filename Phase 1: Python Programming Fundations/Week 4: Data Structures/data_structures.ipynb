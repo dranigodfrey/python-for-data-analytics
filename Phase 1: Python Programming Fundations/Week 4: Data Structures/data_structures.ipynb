{
 "cells": [
  {
   "cell_type": "markdown",
   "id": "d8839e27",
   "metadata": {},
   "source": [
    "### Week 4: Lists, Dictionaries & Working with Nested Data\n",
    "---\n",
    "**Topics:**\n",
    "* Data structures: list, dict, tuple, set\n",
    "* Indexing, slicing, updating\n",
    "* Nested structures and Iteration\n",
    "* List comprehensions (intro)\n",
    "  \n",
    "**Exercises:**\n",
    "* Frequency counters\n",
    "* Filtering and grouping\n",
    "\n",
    "**Project:** \n",
    "* \"Mini CRM System\" – Store, search, and update mock customer records using nested dictionaries/lists.\n",
    "\n",
    "**Learning Objectives**\n",
    "\n",
    "By the end of this week, you will be able to:\n",
    "- Use Python's core data structures: `list`, `dict`, `tuple`, and `set`\n",
    "- Index, slice, update, and loop over these structures\n",
    "- Work with nested dictionaries/lists\n",
    "- Use list comprehensions for quick transformations\n"
   ]
  },
  {
   "cell_type": "markdown",
   "id": "07cc3474",
   "metadata": {},
   "source": [
    "# Lists"
   ]
  },
  {
   "cell_type": "markdown",
   "id": "29c8bf52",
   "metadata": {},
   "source": [
    "### Create and Access"
   ]
  },
  {
   "cell_type": "code",
   "execution_count": null,
   "id": "e5628a38",
   "metadata": {},
   "outputs": [],
   "source": []
  },
  {
   "cell_type": "markdown",
   "id": "cd919d32",
   "metadata": {},
   "source": [
    "### Add, Remove, Slice"
   ]
  },
  {
   "cell_type": "code",
   "execution_count": null,
   "id": "22d5e716-4514-4eaa-83e7-b0670831674a",
   "metadata": {},
   "outputs": [],
   "source": []
  },
  {
   "cell_type": "markdown",
   "id": "ab8b8069",
   "metadata": {},
   "source": [
    "# Dictionaries\n",
    "### Create and Access"
   ]
  },
  {
   "cell_type": "code",
   "execution_count": null,
   "id": "94682d60",
   "metadata": {},
   "outputs": [],
   "source": []
  },
  {
   "cell_type": "markdown",
   "id": "343ebb2c",
   "metadata": {},
   "source": [
    "### Add, Update, Delete"
   ]
  },
  {
   "cell_type": "code",
   "execution_count": null,
   "id": "3f51ec52",
   "metadata": {},
   "outputs": [],
   "source": []
  },
  {
   "cell_type": "markdown",
   "id": "08169999",
   "metadata": {},
   "source": [
    "### Nested Structures"
   ]
  },
  {
   "cell_type": "code",
   "execution_count": null,
   "id": "78dcdb5e",
   "metadata": {},
   "outputs": [],
   "source": []
  },
  {
   "cell_type": "markdown",
   "id": "8010b185",
   "metadata": {},
   "source": [
    "# Tuples & Sets\n",
    "### Tuple: Immutable"
   ]
  },
  {
   "cell_type": "code",
   "execution_count": null,
   "id": "9eb2bd4b",
   "metadata": {},
   "outputs": [],
   "source": []
  },
  {
   "cell_type": "markdown",
   "id": "9ae60dd6",
   "metadata": {},
   "source": [
    "# List Comprehensions"
   ]
  },
  {
   "cell_type": "code",
   "execution_count": null,
   "id": "8ab44875",
   "metadata": {},
   "outputs": [],
   "source": []
  },
  {
   "cell_type": "markdown",
   "id": "23ef740f",
   "metadata": {},
   "source": [
    "# Real-World Relevance\n",
    "\n",
    "Nested data is common in real-world datasets (e.g., JSON files, APIs, CRM systems). You'll use these patterns constantly in data cleaning, parsing, and storage tasks."
   ]
  }
 ],
 "metadata": {
  "kernelspec": {
   "display_name": "venv",
   "language": "python",
   "name": "python3"
  },
  "language_info": {
   "codemirror_mode": {
    "name": "ipython",
    "version": 3
   },
   "file_extension": ".py",
   "mimetype": "text/x-python",
   "name": "python",
   "nbconvert_exporter": "python",
   "pygments_lexer": "ipython3",
   "version": "3.12.3"
  }
 },
 "nbformat": 4,
 "nbformat_minor": 5
}
