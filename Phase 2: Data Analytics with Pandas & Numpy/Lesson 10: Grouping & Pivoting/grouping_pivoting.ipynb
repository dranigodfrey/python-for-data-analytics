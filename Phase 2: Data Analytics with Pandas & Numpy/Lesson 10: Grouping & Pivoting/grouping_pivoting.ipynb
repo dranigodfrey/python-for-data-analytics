{
 "cells": [
  {
   "cell_type": "markdown",
   "id": "96917a09",
   "metadata": {},
   "source": [
    "# Lesson 10: Aggregation, Grouping, and Pivoting\n",
    "---\n",
    "**Topics:**\n",
    "* Grouping with .groupby() and .agg()\n",
    "* Pivot tables with .pivot_table()\n",
    "* Sorting and filtering summaries\n",
    "* Multi-level aggregation\n",
    "\n",
    "**Project:** \n",
    "* “Revenue by Product Category” – Analyze revenue trends and generate pivot tables by region/month\n",
    "\n",
    "**Learning Objectives**\n",
    "\n",
    "By the end of this week, you will be able to:\n",
    "- Use `.groupby()` and `.agg()` to summarize data\n",
    "- Perform multi-level groupings\n",
    "- Create pivot tables using `.pivot_table()`\n",
    "- Sort and filter summary tables\n",
    "- Apply business thinking to summarize KPIs\n"
   ]
  },
  {
   "cell_type": "markdown",
   "id": "90e56a8b",
   "metadata": {},
   "source": [
    "### Grouping Data"
   ]
  },
  {
   "cell_type": "code",
   "execution_count": null,
   "id": "22d5e716-4514-4eaa-83e7-b0670831674a",
   "metadata": {},
   "outputs": [],
   "source": []
  },
  {
   "cell_type": "markdown",
   "id": "632a9b9b",
   "metadata": {},
   "source": [
    "### Aggregation with .agg()"
   ]
  },
  {
   "cell_type": "code",
   "execution_count": null,
   "id": "b6994c31",
   "metadata": {},
   "outputs": [],
   "source": []
  },
  {
   "cell_type": "markdown",
   "id": "62e3ca14",
   "metadata": {},
   "source": [
    "Use a dict to assign different aggregation methods\n",
    "\n",
    "More flexible than just .mean() or .sum()"
   ]
  },
  {
   "cell_type": "markdown",
   "id": "314d4a5e",
   "metadata": {},
   "source": [
    "### Multi-Level Grouping"
   ]
  },
  {
   "cell_type": "code",
   "execution_count": null,
   "id": "fc1ea7ef",
   "metadata": {},
   "outputs": [],
   "source": []
  },
  {
   "cell_type": "markdown",
   "id": "49a7df78",
   "metadata": {},
   "source": [
    "Group by multiple features for a detailed view\n",
    "Returns a MultiIndex DataFrame"
   ]
  },
  {
   "cell_type": "markdown",
   "id": "1485148c",
   "metadata": {},
   "source": [
    "### Pivot Tables with .pivot_table()"
   ]
  },
  {
   "cell_type": "code",
   "execution_count": null,
   "id": "c1b827c1",
   "metadata": {},
   "outputs": [],
   "source": []
  },
  {
   "cell_type": "markdown",
   "id": "5f9146b3",
   "metadata": {},
   "source": [
    "Like Excel pivots — reshape and summarize data\n",
    "aggfunc can be sum, mean, count, etc."
   ]
  },
  {
   "cell_type": "markdown",
   "id": "c0053167",
   "metadata": {},
   "source": [
    "### Sorting Summaries"
   ]
  },
  {
   "cell_type": "code",
   "execution_count": null,
   "id": "8fa5cf31",
   "metadata": {},
   "outputs": [],
   "source": []
  },
  {
   "cell_type": "markdown",
   "id": "af4a0b7f",
   "metadata": {},
   "source": [
    "### Use .sort_values() to highlight top performers"
   ]
  },
  {
   "cell_type": "markdown",
   "id": "33782cde",
   "metadata": {},
   "source": [
    "### When to Use What?\n",
    "| Task                          | Method           |\n",
    "| ----------------------------- | ---------------- |\n",
    "| Grouping + Summary            | `.groupby()`     |\n",
    "| Summary Across 2 Dimensions   | `.pivot_table()` |\n",
    "| Aggregation w/ multiple funcs | `.agg()`         |\n",
    "| Ranking results               | `.sort_values()` |\n"
   ]
  },
  {
   "cell_type": "markdown",
   "id": "647d23a9",
   "metadata": {},
   "source": [
    "### Real-World Relevance\n",
    "\n",
    "**Used in:**\n",
    "\n",
    "* Sales analysis by region/month\n",
    "* HR analytics by department/gender\n",
    "* Marketing conversion by channel/campaign"
   ]
  }
 ],
 "metadata": {
  "kernelspec": {
   "display_name": "Python 3 (ipykernel)",
   "language": "python",
   "name": "python3"
  },
  "language_info": {
   "codemirror_mode": {
    "name": "ipython",
    "version": 3
   },
   "file_extension": ".py",
   "mimetype": "text/x-python",
   "name": "python",
   "nbconvert_exporter": "python",
   "pygments_lexer": "ipython3",
   "version": "3.12.3"
  }
 },
 "nbformat": 4,
 "nbformat_minor": 5
}
