{
 "cells": [
  {
   "cell_type": "markdown",
   "id": "1e85f4cc",
   "metadata": {},
   "source": [
    "# Lesson 5: File I/O and Data Ingestion\n",
    "---\n",
    "**Topics:**\n",
    "* Reading/writing: .txt, .csv using open(), csv module\n",
    "* Working with file paths\n",
    "* JSON parsing with json module\n",
    "* Basic exception handling for file errors\n",
    "\n",
    "**Project:** \n",
    "\"Sales Data Summary\" - Load CSV and calculate totals, averages, handle missing/error rows.\n",
    "\n",
    "**Learning Objectives**\n",
    "By the end of this week, you will be able to:\n",
    "- Read from and write to `.txt`, `.csv`, and `.json` files\n",
    "- Use the built-in `open()`, `csv`, and `json` modules\n",
    "- Handle file paths properly\n",
    "- Apply basic exception handling for file errors"
   ]
  },
  {
   "cell_type": "markdown",
   "id": "773e03ab",
   "metadata": {},
   "source": [
    "### Reading & Writing Text Files"
   ]
  },
  {
   "cell_type": "code",
   "execution_count": null,
   "id": "22d5e716-4514-4eaa-83e7-b0670831674a",
   "metadata": {},
   "outputs": [],
   "source": []
  },
  {
   "cell_type": "markdown",
   "id": "14f92b7e",
   "metadata": {},
   "source": [
    "### Working with CSV Files"
   ]
  },
  {
   "cell_type": "code",
   "execution_count": null,
   "id": "74e8bbd1",
   "metadata": {},
   "outputs": [],
   "source": []
  },
  {
   "cell_type": "markdown",
   "id": "6076dd42",
   "metadata": {},
   "source": [
    "### Reading JSON Data"
   ]
  },
  {
   "cell_type": "code",
   "execution_count": null,
   "id": "1be7b137",
   "metadata": {},
   "outputs": [],
   "source": []
  },
  {
   "cell_type": "markdown",
   "id": "bdf6c48f",
   "metadata": {},
   "source": [
    "### Handling File Paths"
   ]
  },
  {
   "cell_type": "code",
   "execution_count": null,
   "id": "77b153c2",
   "metadata": {},
   "outputs": [],
   "source": []
  },
  {
   "cell_type": "markdown",
   "id": "5264bc9a",
   "metadata": {},
   "source": [
    "### File Error Handling"
   ]
  },
  {
   "cell_type": "code",
   "execution_count": null,
   "id": "deec955f",
   "metadata": {},
   "outputs": [],
   "source": []
  },
  {
   "cell_type": "markdown",
   "id": "0c106ea2",
   "metadata": {},
   "source": [
    "### Real-World Relevance\n",
    "\n",
    "Reading data from files is the first step in nearly every data project. You'll handle messy CSV exports, logs, and JSON from APIs all the time."
   ]
  }
 ],
 "metadata": {
  "kernelspec": {
   "display_name": "Python 3 (ipykernel)",
   "language": "python",
   "name": "python3"
  },
  "language_info": {
   "codemirror_mode": {
    "name": "ipython",
    "version": 3
   },
   "file_extension": ".py",
   "mimetype": "text/x-python",
   "name": "python",
   "nbconvert_exporter": "python",
   "pygments_lexer": "ipython3",
   "version": "3.12.3"
  }
 },
 "nbformat": 4,
 "nbformat_minor": 5
}
