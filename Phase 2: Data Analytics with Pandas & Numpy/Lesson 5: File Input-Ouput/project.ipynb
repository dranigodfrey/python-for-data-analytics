{
 "cells": [
  {
   "cell_type": "markdown",
   "id": "1b56c830",
   "metadata": {},
   "source": [
    "# Project: \n",
    "---\n",
    "# Sales Data Summary\n",
    "\n",
    "### Goal\n",
    "Load a CSV file of sales transactions and generate a basic report including:\n",
    "- Total transactions\n",
    "- Total revenue\n",
    "- Average sale\n",
    "- Flag rows with missing or invalid data\n",
    "  \n",
    "### Example CSV: `sales.csv`\n",
    "```python\n",
    "Date,Product,Quantity,Price\n",
    "2023-01-01,Phone,2,699.99\n",
    "2023-01-02,Laptop,1,1099.99\n",
    "2023-01-03,Tablet,,399.99\n",
    "2023-01-04,Monitor,1,abc\n",
    "```\n",
    "\n",
    "### Your Tasks\n",
    "\n",
    "- Read the CSV file\n",
    "- Skip header\n",
    "- Validate that `Quantity` and `Price` are numeric\n",
    "- Calculate:\n",
    "  - `total sales` = sum of `Quantity * Price`\n",
    "  - `average sale`\n",
    "- Print invalid rows with reasons"
   ]
  },
  {
   "cell_type": "code",
   "execution_count": null,
   "id": "fc6e9a05-cafc-448e-a1bf-ae0e86008c40",
   "metadata": {},
   "outputs": [],
   "source": []
  }
 ],
 "metadata": {
  "kernelspec": {
   "display_name": "Python 3 (ipykernel)",
   "language": "python",
   "name": "python3"
  },
  "language_info": {
   "codemirror_mode": {
    "name": "ipython",
    "version": 3
   },
   "file_extension": ".py",
   "mimetype": "text/x-python",
   "name": "python",
   "nbconvert_exporter": "python",
   "pygments_lexer": "ipython3",
   "version": "3.12.3"
  }
 },
 "nbformat": 4,
 "nbformat_minor": 5
}
