{
 "cells": [
  {
   "cell_type": "markdown",
   "id": "feeb8c3f",
   "metadata": {},
   "source": [
    "# Lesson 8: Data Cleaning with Pandas\n",
    "---\n",
    "**Topics:**\n",
    "* Handling nulls: isna( ), fillna( )\n",
    "* String operations: .str.lower( ), .strip( ), .replace( )\n",
    "* Date parsing and type conversion\n",
    "* Renaming columns, dropping duplicates\n",
    "\n",
    "**Project:** \n",
    "* “CRM Export Cleaner” – Clean a messy dataset for sales or marketing team\n",
    "\n",
    "**Learning Objectives**\n",
    "\n",
    "By the end of this week, you will be able to:\n",
    "- Identify and handle missing or duplicate data\n",
    "- Clean and standardize string values\n",
    "- Convert columns to proper data types (e.g., dates, numbers)\n",
    "- Rename columns, drop irrelevant data\n",
    "- Prepare raw exports for analysis or business use"
   ]
  },
  {
   "cell_type": "markdown",
   "id": "0ab52458",
   "metadata": {},
   "source": [
    "# Why Cleaning Matters\n",
    "\n",
    "- Raw data is messy: typos, empty cells, bad formats\n",
    "- Cleaning is 60–80% of real-world data work\n",
    "- Clean data = accurate insights\n"
   ]
  },
  {
   "cell_type": "markdown",
   "id": "b1d423ba",
   "metadata": {},
   "source": [
    "## Handling Missing Values"
   ]
  },
  {
   "cell_type": "code",
   "execution_count": null,
   "id": "22d5e716-4514-4eaa-83e7-b0670831674a",
   "metadata": {},
   "outputs": [],
   "source": []
  },
  {
   "cell_type": "markdown",
   "id": "8299803d",
   "metadata": {},
   "source": [
    "### String Cleaning (with .str)"
   ]
  },
  {
   "cell_type": "code",
   "execution_count": null,
   "id": "e964e0c7",
   "metadata": {},
   "outputs": [],
   "source": []
  },
  {
   "cell_type": "markdown",
   "id": "a2faebe9",
   "metadata": {},
   "source": [
    "### Data Type Conversion"
   ]
  },
  {
   "cell_type": "code",
   "execution_count": null,
   "id": "bffc39c2",
   "metadata": {},
   "outputs": [],
   "source": []
  },
  {
   "cell_type": "markdown",
   "id": "eb0c47e2",
   "metadata": {},
   "source": [
    "### Renaming & Dropping"
   ]
  },
  {
   "cell_type": "code",
   "execution_count": null,
   "id": "c3f1a9a5",
   "metadata": {},
   "outputs": [],
   "source": []
  },
  {
   "cell_type": "markdown",
   "id": "9998057b",
   "metadata": {},
   "source": [
    "### Dealing with Duplicates"
   ]
  },
  {
   "cell_type": "code",
   "execution_count": null,
   "id": "d058cf30",
   "metadata": {},
   "outputs": [],
   "source": []
  },
  {
   "cell_type": "markdown",
   "id": "d37e473b",
   "metadata": {},
   "source": [
    "### Tip: Chain Methods"
   ]
  },
  {
   "cell_type": "code",
   "execution_count": null,
   "id": "cb92ab05",
   "metadata": {},
   "outputs": [],
   "source": []
  },
  {
   "cell_type": "markdown",
   "id": "d43e21f2",
   "metadata": {},
   "source": [
    "### Real-World Relevance\n",
    "\n",
    "You'll clean CRM exports, HR spreadsheets, survey data, and scraped data all the time. It’s not glamorous — but it’s mission critical."
   ]
  }
 ],
 "metadata": {
  "kernelspec": {
   "display_name": "Python 3 (ipykernel)",
   "language": "python",
   "name": "python3"
  },
  "language_info": {
   "codemirror_mode": {
    "name": "ipython",
    "version": 3
   },
   "file_extension": ".py",
   "mimetype": "text/x-python",
   "name": "python",
   "nbconvert_exporter": "python",
   "pygments_lexer": "ipython3",
   "version": "3.12.3"
  }
 },
 "nbformat": 4,
 "nbformat_minor": 5
}
