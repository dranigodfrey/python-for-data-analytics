{
 "cells": [
  {
   "cell_type": "markdown",
   "id": "b1260530",
   "metadata": {},
   "source": [
    "# Project\n",
    "---\n",
    "# CRM Export Cleaner\n",
    "\n",
    "### Goal\n",
    "\n",
    "Take a messy customer export and clean it up for the marketing/sales team:\n",
    "- Standardize names, emails, and phone numbers\n",
    "- Remove duplicates\n",
    "- Convert types\n",
    "- Handle missing values\n",
    "\n",
    "### Sample Dataset: `crm_data.csv`\n",
    "\n",
    "```python\n",
    "Name,Email,Phone,SignupDate,Status\n",
    "alice ,ALICE@EXAMPLE.COM, 123-456-7890,2023/01/10,Active\n",
    "BOB,BOB@EMAIL.COM,1234567890,2023-02-12,Active\n",
    "alice,Alice@example.com,1234567890,2023-01-10,Active\n",
    "Charlie,,123.456.7890,,Inactive\n",
    "```\n",
    "### Tasks\n",
    "\n",
    "1. Remove duplicates (same Name + Phone)\n",
    "2. Strip/standardize Name and Email\n",
    "3. Convert phone numbers to consistent format (remove punctuation)\n",
    "4. Convert `SignupDate` to datetime\n",
    "5. Fill missing SignupDate with default\n",
    "6. Drop rows with missing emails\n",
    "7. Final cleaned dataset saved to `clean_crm.csv`"
   ]
  },
  {
   "cell_type": "code",
   "execution_count": null,
   "id": "fc6e9a05-cafc-448e-a1bf-ae0e86008c40",
   "metadata": {},
   "outputs": [],
   "source": []
  }
 ],
 "metadata": {
  "kernelspec": {
   "display_name": "Python 3 (ipykernel)",
   "language": "python",
   "name": "python3"
  },
  "language_info": {
   "codemirror_mode": {
    "name": "ipython",
    "version": 3
   },
   "file_extension": ".py",
   "mimetype": "text/x-python",
   "name": "python",
   "nbconvert_exporter": "python",
   "pygments_lexer": "ipython3",
   "version": "3.12.3"
  }
 },
 "nbformat": 4,
 "nbformat_minor": 5
}
