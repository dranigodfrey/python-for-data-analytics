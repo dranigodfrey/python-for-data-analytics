{
 "cells": [
  {
   "cell_type": "markdown",
   "id": "1d913d87",
   "metadata": {},
   "source": [
    "# Exercises\n",
    "---"
   ]
  },
  {
   "cell_type": "markdown",
   "id": "3560c36f",
   "metadata": {},
   "source": [
    "### 1. Group by Department and get average salary"
   ]
  },
  {
   "cell_type": "code",
   "execution_count": null,
   "id": "9aac5abe-d502-40ba-91f3-a13c04adef62",
   "metadata": {},
   "outputs": [],
   "source": []
  },
  {
   "cell_type": "markdown",
   "id": "8f79119e",
   "metadata": {},
   "source": [
    "### 2. Group by Gender and get employee count"
   ]
  },
  {
   "cell_type": "code",
   "execution_count": null,
   "id": "70351fd5",
   "metadata": {},
   "outputs": [],
   "source": []
  },
  {
   "cell_type": "markdown",
   "id": "7ce8b7ac",
   "metadata": {},
   "source": [
    "### 3. Sum sales by Region and Category"
   ]
  },
  {
   "cell_type": "code",
   "execution_count": null,
   "id": "fc57b212",
   "metadata": {},
   "outputs": [],
   "source": []
  },
  {
   "cell_type": "markdown",
   "id": "18a955e3",
   "metadata": {},
   "source": [
    "### 4. Aggregate sales (sum) and profit (mean) by Category"
   ]
  },
  {
   "cell_type": "code",
   "execution_count": null,
   "id": "578a1b53",
   "metadata": {},
   "outputs": [],
   "source": []
  },
  {
   "cell_type": "markdown",
   "id": "d4609e5b",
   "metadata": {},
   "source": [
    "### 5. Create a pivot table for total sales by Region and Month"
   ]
  },
  {
   "cell_type": "code",
   "execution_count": null,
   "id": "96bf0850",
   "metadata": {},
   "outputs": [],
   "source": []
  },
  {
   "cell_type": "markdown",
   "id": "97de8f44",
   "metadata": {},
   "source": [
    "### 6. Sort departments by total salary spent"
   ]
  },
  {
   "cell_type": "code",
   "execution_count": null,
   "id": "192f32c8",
   "metadata": {},
   "outputs": [],
   "source": []
  },
  {
   "cell_type": "markdown",
   "id": "8bf39bd6",
   "metadata": {},
   "source": [
    "### 7. Count employees per region and gender"
   ]
  },
  {
   "cell_type": "code",
   "execution_count": null,
   "id": "63eaef42",
   "metadata": {},
   "outputs": [],
   "source": []
  },
  {
   "cell_type": "markdown",
   "id": "e474f6e7",
   "metadata": {},
   "source": [
    "### 8. Create pivot table with average salary per Department and Gender"
   ]
  },
  {
   "cell_type": "code",
   "execution_count": null,
   "id": "436304be",
   "metadata": {},
   "outputs": [],
   "source": []
  },
  {
   "cell_type": "markdown",
   "id": "2bf036f9",
   "metadata": {},
   "source": [
    "### 9. Show top 3 categories by total revenue"
   ]
  },
  {
   "cell_type": "code",
   "execution_count": null,
   "id": "c8b1ac8c",
   "metadata": {},
   "outputs": [],
   "source": []
  },
  {
   "cell_type": "markdown",
   "id": "9b7c1994",
   "metadata": {},
   "source": [
    "### 10. Add new column \"Revenue\" = Price × Quantity, then group by Product"
   ]
  },
  {
   "cell_type": "code",
   "execution_count": null,
   "id": "fe62507d",
   "metadata": {},
   "outputs": [],
   "source": []
  }
 ],
 "metadata": {
  "kernelspec": {
   "display_name": "venv",
   "language": "python",
   "name": "python3"
  },
  "language_info": {
   "codemirror_mode": {
    "name": "ipython",
    "version": 3
   },
   "file_extension": ".py",
   "mimetype": "text/x-python",
   "name": "python",
   "nbconvert_exporter": "python",
   "pygments_lexer": "ipython3",
   "version": "3.12.3"
  }
 },
 "nbformat": 4,
 "nbformat_minor": 5
}
