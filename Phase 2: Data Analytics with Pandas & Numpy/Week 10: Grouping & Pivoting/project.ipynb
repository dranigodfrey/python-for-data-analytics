{
 "cells": [
  {
   "cell_type": "markdown",
   "id": "74e64a53",
   "metadata": {},
   "source": [
    "# Project \n",
    "---\n",
    "# Revenue by Product Category\n",
    "\n",
    "### Goal\n",
    "\n",
    "Use grouping and pivoting to analyze **sales performance** across products, categories, and regions.\n",
    "\n",
    "### Sample Dataset: `sales_data.csv`\n",
    "```python\n",
    "OrderID,Region,Category,Product,Price,Quantity,OrderDate\n",
    "1,West,Office Supplies,Pens,1.5,20,2023-01-12\n",
    "2,East,Furniture,Chair,85,2,2023-01-14\n",
    "3,South,Technology,Laptop,950,1,2023-02-02\n",
    "4,West,Furniture,Table,200,1,2023-02-11\n",
    "5,East,Office Supplies,Stapler,7.5,10,2023-03-05\n",
    "```\n",
    "### Tasks\n",
    "\n",
    "1. Create `Revenue` = Price × Quantity\n",
    "2. Group by `Category` and `Region` to get:\n",
    "   - Total Revenue\n",
    "   - Average Quantity per sale\n",
    "3. Create pivot table: Revenue by Category vs Region\n",
    "4. Extract `Month` from `OrderDate` and group by `Month` and `Category`\n",
    "5. Sort to find top-grossing categories by month"
   ]
  },
  {
   "cell_type": "code",
   "execution_count": null,
   "id": "fc6e9a05-cafc-448e-a1bf-ae0e86008c40",
   "metadata": {},
   "outputs": [],
   "source": []
  }
 ],
 "metadata": {
  "kernelspec": {
   "display_name": "venv",
   "language": "python",
   "name": "python3"
  },
  "language_info": {
   "codemirror_mode": {
    "name": "ipython",
    "version": 3
   },
   "file_extension": ".py",
   "mimetype": "text/x-python",
   "name": "python",
   "nbconvert_exporter": "python",
   "pygments_lexer": "ipython3",
   "version": "3.12.3"
  }
 },
 "nbformat": 4,
 "nbformat_minor": 5
}
