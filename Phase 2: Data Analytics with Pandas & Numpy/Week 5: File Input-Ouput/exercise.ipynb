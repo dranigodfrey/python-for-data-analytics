{
 "cells": [
  {
   "cell_type": "markdown",
   "id": "fdde0b16",
   "metadata": {},
   "source": [
    "# Exercises\n",
    "---"
   ]
  },
  {
   "cell_type": "markdown",
   "id": "c9753271",
   "metadata": {},
   "source": [
    "### 1. Write and read a short note to a text file"
   ]
  },
  {
   "cell_type": "code",
   "execution_count": null,
   "id": "9aac5abe-d502-40ba-91f3-a13c04adef62",
   "metadata": {},
   "outputs": [],
   "source": []
  },
  {
   "cell_type": "markdown",
   "id": "6b2179b7",
   "metadata": {},
   "source": [
    "### 2. Append to a file"
   ]
  },
  {
   "cell_type": "code",
   "execution_count": null,
   "id": "1bb9992c",
   "metadata": {},
   "outputs": [],
   "source": []
  },
  {
   "cell_type": "markdown",
   "id": "21c8fb64",
   "metadata": {},
   "source": [
    "### 3. Count number of lines in a text file"
   ]
  },
  {
   "cell_type": "code",
   "execution_count": null,
   "id": "beca99df",
   "metadata": {},
   "outputs": [],
   "source": []
  },
  {
   "cell_type": "markdown",
   "id": "3d0e0796",
   "metadata": {},
   "source": [
    "### 4. Write a list of names to a CSV file"
   ]
  },
  {
   "cell_type": "code",
   "execution_count": null,
   "id": "2dbbf285",
   "metadata": {},
   "outputs": [],
   "source": []
  },
  {
   "cell_type": "markdown",
   "id": "139503b2",
   "metadata": {},
   "source": [
    "### 5. Read and print names from CSV"
   ]
  },
  {
   "cell_type": "code",
   "execution_count": null,
   "id": "43f98c94",
   "metadata": {},
   "outputs": [],
   "source": []
  },
  {
   "cell_type": "markdown",
   "id": "0369fad9",
   "metadata": {},
   "source": [
    "### 6. Save a dictionary as JSON"
   ]
  },
  {
   "cell_type": "code",
   "execution_count": null,
   "id": "ddb635e1",
   "metadata": {},
   "outputs": [],
   "source": []
  },
  {
   "cell_type": "markdown",
   "id": "cc8b7105",
   "metadata": {},
   "source": [
    "### 7. Load and print data from JSON"
   ]
  },
  {
   "cell_type": "code",
   "execution_count": null,
   "id": "f5e8a4e1",
   "metadata": {},
   "outputs": [],
   "source": []
  },
  {
   "cell_type": "markdown",
   "id": "67c9fb6d",
   "metadata": {},
   "source": [
    "### 8. Gracefully handle missing file"
   ]
  },
  {
   "cell_type": "code",
   "execution_count": null,
   "id": "827de35b",
   "metadata": {},
   "outputs": [],
   "source": []
  },
  {
   "cell_type": "markdown",
   "id": "5dd7f5c5",
   "metadata": {},
   "source": [
    "### 9. Create a file path from folder + file"
   ]
  },
  {
   "cell_type": "code",
   "execution_count": null,
   "id": "f4f75295",
   "metadata": {},
   "outputs": [],
   "source": []
  }
 ],
 "metadata": {
  "kernelspec": {
   "display_name": "venv",
   "language": "python",
   "name": "python3"
  },
  "language_info": {
   "codemirror_mode": {
    "name": "ipython",
    "version": 3
   },
   "file_extension": ".py",
   "mimetype": "text/x-python",
   "name": "python",
   "nbconvert_exporter": "python",
   "pygments_lexer": "ipython3",
   "version": "3.12.3"
  }
 },
 "nbformat": 4,
 "nbformat_minor": 5
}
