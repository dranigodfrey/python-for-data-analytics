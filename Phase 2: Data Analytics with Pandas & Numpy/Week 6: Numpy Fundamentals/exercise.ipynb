{
 "cells": [
  {
   "cell_type": "markdown",
   "id": "ea188659",
   "metadata": {},
   "source": [
    "# Exercises\n",
    "---"
   ]
  },
  {
   "cell_type": "markdown",
   "id": "f02c3b91",
   "metadata": {},
   "source": [
    "### 1. Import numpy and create 1D array"
   ]
  },
  {
   "cell_type": "code",
   "execution_count": null,
   "id": "9aac5abe-d502-40ba-91f3-a13c04adef62",
   "metadata": {},
   "outputs": [],
   "source": []
  },
  {
   "cell_type": "markdown",
   "id": "2c471863",
   "metadata": {},
   "source": [
    "### 2. Create a 3x2 array of zeros"
   ]
  },
  {
   "cell_type": "code",
   "execution_count": null,
   "id": "bec7dfff",
   "metadata": {},
   "outputs": [],
   "source": []
  },
  {
   "cell_type": "markdown",
   "id": "0e3cf699",
   "metadata": {},
   "source": [
    "### 3. Multiply all elements by 10"
   ]
  },
  {
   "cell_type": "code",
   "execution_count": null,
   "id": "fd55ea85",
   "metadata": {},
   "outputs": [],
   "source": []
  },
  {
   "cell_type": "markdown",
   "id": "16f46534",
   "metadata": {},
   "source": [
    "### 4. Reshape a flat array into 2x3"
   ]
  },
  {
   "cell_type": "code",
   "execution_count": null,
   "id": "435c1b61",
   "metadata": {},
   "outputs": [],
   "source": []
  },
  {
   "cell_type": "markdown",
   "id": "74343184",
   "metadata": {},
   "source": [
    "### 5. Get mean and std of array"
   ]
  },
  {
   "cell_type": "code",
   "execution_count": null,
   "id": "98716890",
   "metadata": {},
   "outputs": [],
   "source": []
  },
  {
   "cell_type": "markdown",
   "id": "28748010",
   "metadata": {},
   "source": [
    "### 6. Slice a 2D array to get column 2"
   ]
  },
  {
   "cell_type": "code",
   "execution_count": null,
   "id": "712148b9",
   "metadata": {},
   "outputs": [],
   "source": []
  },
  {
   "cell_type": "markdown",
   "id": "f47c96ec",
   "metadata": {},
   "source": [
    "### 7. Filter values greater than 50"
   ]
  },
  {
   "cell_type": "code",
   "execution_count": null,
   "id": "4ae91bb2",
   "metadata": {},
   "outputs": [],
   "source": []
  },
  {
   "cell_type": "markdown",
   "id": "ad18c3c5",
   "metadata": {},
   "source": [
    "### 8. Create a range of even numbers"
   ]
  },
  {
   "cell_type": "code",
   "execution_count": null,
   "id": "17c56feb",
   "metadata": {},
   "outputs": [],
   "source": []
  },
  {
   "cell_type": "markdown",
   "id": "d3f2a1dc",
   "metadata": {},
   "source": [
    "### 9. Check shape and type"
   ]
  },
  {
   "cell_type": "code",
   "execution_count": null,
   "id": "20ef8cff",
   "metadata": {},
   "outputs": [],
   "source": []
  },
  {
   "cell_type": "markdown",
   "id": "f378dfaa",
   "metadata": {},
   "source": [
    "### 10. Add two arrays"
   ]
  },
  {
   "cell_type": "code",
   "execution_count": null,
   "id": "9ef25214",
   "metadata": {},
   "outputs": [],
   "source": []
  }
 ],
 "metadata": {
  "kernelspec": {
   "display_name": "venv",
   "language": "python",
   "name": "python3"
  },
  "language_info": {
   "codemirror_mode": {
    "name": "ipython",
    "version": 3
   },
   "file_extension": ".py",
   "mimetype": "text/x-python",
   "name": "python",
   "nbconvert_exporter": "python",
   "pygments_lexer": "ipython3",
   "version": "3.12.3"
  }
 },
 "nbformat": 4,
 "nbformat_minor": 5
}
