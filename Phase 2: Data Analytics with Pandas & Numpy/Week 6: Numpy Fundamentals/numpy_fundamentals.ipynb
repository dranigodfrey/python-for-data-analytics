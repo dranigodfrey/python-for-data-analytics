{
 "cells": [
  {
   "cell_type": "markdown",
   "id": "68bc9c42",
   "metadata": {},
   "source": [
    "# Week 6: NumPy for Efficient Numerical Computing\n",
    "---\n",
    "**Topics:**\n",
    "* Why Numpy: performance vs Lists\n",
    "* Arrays, slicing, reshaping\n",
    "* Element-wise operations and broadcasting\n",
    "* Aggregation: sum(), mean(), std()\n",
    "* Boolean indexing for filtering\n",
    "\n",
    "**Project:** \n",
    "\n",
    "* Analyze a small dataset using Numpy arrays for transformation and filtering\n",
    "\n",
    "**Learning Objectives**\n",
    "By the end of this week, you will be able to:\n",
    "- Understand why NumPy is used in data analysis\n",
    "- Create and manipulate NumPy arrays\n",
    "- Use slicing, reshaping, and broadcasting\n",
    "- Perform efficient numerical operations and filtering\n",
    "- Apply aggregation functions for insights"
   ]
  },
  {
   "cell_type": "markdown",
   "id": "e4273c17",
   "metadata": {},
   "source": [
    "### Why NumPy?\n",
    "\n",
    "- Lists are flexible but **slow** for numerical tasks\n",
    "- NumPy uses fixed-type arrays in **C-level memory** = blazing fast\n",
    "- Base for **Pandas**, **Scikit-learn**, **TensorFlow**, etc."
   ]
  },
  {
   "cell_type": "markdown",
   "id": "79423b25",
   "metadata": {},
   "source": [
    "### Creating Arrays"
   ]
  },
  {
   "cell_type": "code",
   "execution_count": null,
   "id": "22d5e716-4514-4eaa-83e7-b0670831674a",
   "metadata": {},
   "outputs": [],
   "source": []
  },
  {
   "cell_type": "markdown",
   "id": "45e48a8c",
   "metadata": {},
   "source": [
    "### Array Shapes & Types"
   ]
  },
  {
   "cell_type": "code",
   "execution_count": null,
   "id": "73d4f353",
   "metadata": {},
   "outputs": [],
   "source": []
  },
  {
   "cell_type": "markdown",
   "id": "bfc7a17b",
   "metadata": {},
   "source": [
    "### Reshaping Arrays"
   ]
  },
  {
   "cell_type": "code",
   "execution_count": null,
   "id": "f9adcdcb",
   "metadata": {},
   "outputs": [],
   "source": []
  },
  {
   "cell_type": "markdown",
   "id": "e5b51d69",
   "metadata": {},
   "source": [
    "### Slicing & Indexing"
   ]
  },
  {
   "cell_type": "code",
   "execution_count": null,
   "id": "3fbcbf44",
   "metadata": {},
   "outputs": [],
   "source": []
  },
  {
   "cell_type": "markdown",
   "id": "943e418c",
   "metadata": {},
   "source": [
    "### Vectorized Operations"
   ]
  },
  {
   "cell_type": "code",
   "execution_count": null,
   "id": "b10a7310",
   "metadata": {},
   "outputs": [],
   "source": []
  },
  {
   "cell_type": "markdown",
   "id": "81b8a0cd",
   "metadata": {},
   "source": [
    "### Aggregation"
   ]
  },
  {
   "cell_type": "code",
   "execution_count": null,
   "id": "db02099d",
   "metadata": {},
   "outputs": [],
   "source": []
  },
  {
   "cell_type": "markdown",
   "id": "bf833864",
   "metadata": {},
   "source": [
    "### Boolean Indexing"
   ]
  },
  {
   "cell_type": "code",
   "execution_count": null,
   "id": "1d859a9e",
   "metadata": {},
   "outputs": [],
   "source": []
  },
  {
   "cell_type": "markdown",
   "id": "6fa638a9",
   "metadata": {},
   "source": [
    "### Real-World Relevance\n",
    "\n",
    "NumPy makes bulk computation fast and memory-efficient — especially important in large datasets, feature engineering, matrix math (ML), and statistical analysis."
   ]
  }
 ],
 "metadata": {
  "kernelspec": {
   "display_name": "venv",
   "language": "python",
   "name": "python3"
  },
  "language_info": {
   "codemirror_mode": {
    "name": "ipython",
    "version": 3
   },
   "file_extension": ".py",
   "mimetype": "text/x-python",
   "name": "python",
   "nbconvert_exporter": "python",
   "pygments_lexer": "ipython3",
   "version": "3.12.3"
  }
 },
 "nbformat": 4,
 "nbformat_minor": 5
}
