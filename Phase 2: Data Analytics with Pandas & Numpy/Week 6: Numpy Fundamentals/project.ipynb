{
 "cells": [
  {
   "cell_type": "markdown",
   "id": "9e489f0d",
   "metadata": {},
   "source": [
    "\n",
    "# Project\n",
    "---\n",
    "\n",
    "# Analyze a Small Dataset with NumPy\n",
    "\n",
    "### Goal\n",
    "\n",
    "Use NumPy to:\n",
    "- Load numeric dataset (e.g., grades, sales, scores)\n",
    "- Perform analysis: total, mean, std, filtering\n",
    "- Print summary insights\n",
    "\n",
    "### Dataset: `scores.csv`\n",
    "```python\n",
    "Name,Math,Science,English\n",
    "Alice,85,90,88\n",
    "Bob,70,75,72\n",
    "Charlie,95,98,94\n",
    "```\n",
    "\n",
    "### Tasks\n",
    "\n",
    "- Load CSV (skip headers, use `np.loadtxt()` or `csv`)\n",
    "- Extract numerical values\n",
    "- Calculate:\n",
    "  - Mean score per student\n",
    "  - Mean score per subject\n",
    "  - Std deviation overall\n",
    "- Filter students with any score < 75"
   ]
  },
  {
   "cell_type": "code",
   "execution_count": null,
   "id": "fc6e9a05-cafc-448e-a1bf-ae0e86008c40",
   "metadata": {},
   "outputs": [],
   "source": []
  }
 ],
 "metadata": {
  "kernelspec": {
   "display_name": "Python 3 (ipykernel)",
   "language": "python",
   "name": "python3"
  },
  "language_info": {
   "codemirror_mode": {
    "name": "ipython",
    "version": 3
   },
   "file_extension": ".py",
   "mimetype": "text/x-python",
   "name": "python",
   "nbconvert_exporter": "python",
   "pygments_lexer": "ipython3",
   "version": "3.12.3"
  }
 },
 "nbformat": 4,
 "nbformat_minor": 5
}
