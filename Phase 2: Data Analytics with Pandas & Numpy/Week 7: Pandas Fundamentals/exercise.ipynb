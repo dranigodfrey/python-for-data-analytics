{
 "cells": [
  {
   "cell_type": "markdown",
   "id": "2d560f8f",
   "metadata": {},
   "source": [
    "# Exercises\n",
    "---"
   ]
  },
  {
   "cell_type": "markdown",
   "id": "2310d977",
   "metadata": {},
   "source": [
    "### 1. Import pandas and read a CSV"
   ]
  },
  {
   "cell_type": "code",
   "execution_count": null,
   "id": "9aac5abe-d502-40ba-91f3-a13c04adef62",
   "metadata": {},
   "outputs": [],
   "source": []
  },
  {
   "cell_type": "markdown",
   "id": "4440a466",
   "metadata": {},
   "source": [
    "### 2. View top and bottom rows"
   ]
  },
  {
   "cell_type": "code",
   "execution_count": null,
   "id": "8a59f75f",
   "metadata": {},
   "outputs": [],
   "source": []
  },
  {
   "cell_type": "markdown",
   "id": "f4e6b6bc",
   "metadata": {},
   "source": [
    "### 3. Check number of rows and columns"
   ]
  },
  {
   "cell_type": "code",
   "execution_count": null,
   "id": "b509b87e",
   "metadata": {},
   "outputs": [],
   "source": []
  },
  {
   "cell_type": "markdown",
   "id": "e0da9337",
   "metadata": {},
   "source": [
    "### 4. Get column names"
   ]
  },
  {
   "cell_type": "code",
   "execution_count": null,
   "id": "0f227200",
   "metadata": {},
   "outputs": [],
   "source": []
  },
  {
   "cell_type": "markdown",
   "id": "df7cf706",
   "metadata": {},
   "source": [
    "### 5. Summary statistics"
   ]
  },
  {
   "cell_type": "code",
   "execution_count": null,
   "id": "2d32effe",
   "metadata": {},
   "outputs": [],
   "source": []
  },
  {
   "cell_type": "markdown",
   "id": "62242373",
   "metadata": {},
   "source": [
    "### 6. Get all rows where salary > 50,000"
   ]
  },
  {
   "cell_type": "code",
   "execution_count": null,
   "id": "c7c4e164",
   "metadata": {},
   "outputs": [],
   "source": []
  },
  {
   "cell_type": "markdown",
   "id": "4cf849be",
   "metadata": {},
   "source": [
    "### 7. Select only Name and Department columns"
   ]
  },
  {
   "cell_type": "code",
   "execution_count": null,
   "id": "1b59bc9d",
   "metadata": {},
   "outputs": [],
   "source": []
  },
  {
   "cell_type": "markdown",
   "id": "f6d364a7",
   "metadata": {},
   "source": [
    "### 8. Sort by salary descending"
   ]
  },
  {
   "cell_type": "code",
   "execution_count": null,
   "id": "224e50b6",
   "metadata": {},
   "outputs": [],
   "source": []
  },
  {
   "cell_type": "markdown",
   "id": "bd974345",
   "metadata": {},
   "source": [
    "### 9. Count unique departments"
   ]
  },
  {
   "cell_type": "code",
   "execution_count": null,
   "id": "01241747",
   "metadata": {},
   "outputs": [],
   "source": []
  },
  {
   "cell_type": "markdown",
   "id": "5fd75231",
   "metadata": {},
   "source": [
    "### 10. Get row by index"
   ]
  },
  {
   "cell_type": "code",
   "execution_count": null,
   "id": "3e60206d",
   "metadata": {},
   "outputs": [],
   "source": []
  }
 ],
 "metadata": {
  "kernelspec": {
   "display_name": "venv",
   "language": "python",
   "name": "python3"
  },
  "language_info": {
   "codemirror_mode": {
    "name": "ipython",
    "version": 3
   },
   "file_extension": ".py",
   "mimetype": "text/x-python",
   "name": "python",
   "nbconvert_exporter": "python",
   "pygments_lexer": "ipython3",
   "version": "3.12.3"
  }
 },
 "nbformat": 4,
 "nbformat_minor": 5
}
