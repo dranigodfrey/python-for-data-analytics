{
 "cells": [
  {
   "cell_type": "markdown",
   "id": "a566a93f",
   "metadata": {},
   "source": [
    "### Week 7: Pandas Fundamentals\n",
    "---\n",
    "**Topics:**\n",
    "* DataFrame vs Series\n",
    "* Loading CSV/Excel data\n",
    "* Exploring datasets: .head( ), .info( ), .describe( )\n",
    "* Selecting/filtering with .loc[ ], .iloc[ ]\n",
    "\n",
    "**Min project:**\n",
    "* Filter high-value transactions or recent records\n",
    "\n",
    "**Main Project:** \n",
    "* “HR Analytics Explorer” – Analyze headcount, attrition rate, salary bands\n",
    "\n",
    "**Learning Objectives**\n",
    "\n",
    "By the end of this week, you will be able to:\n",
    "- Load CSV/Excel files into Pandas DataFrames\n",
    "- Understand the difference between Series and DataFrames\n",
    "- View and explore datasets (.head(), .info(), .describe())\n",
    "- Select rows/columns with .loc[], .iloc[], and filters\n",
    "- Apply basic filters to isolate key records"
   ]
  },
  {
   "cell_type": "markdown",
   "id": "60827d15",
   "metadata": {},
   "source": [
    "### What is Pandas?\n",
    "\n",
    "- High-level data analysis library\n",
    "- Built on top of NumPy\n",
    "- Supports table-like data (like Excel or SQL)\n",
    "- Core object: `DataFrame`"
   ]
  },
  {
   "cell_type": "markdown",
   "id": "4dabf73d",
   "metadata": {},
   "source": [
    "### DataFrame vs Series"
   ]
  },
  {
   "cell_type": "code",
   "execution_count": null,
   "id": "22d5e716-4514-4eaa-83e7-b0670831674a",
   "metadata": {},
   "outputs": [],
   "source": []
  },
  {
   "cell_type": "markdown",
   "id": "87df5a23",
   "metadata": {},
   "source": [
    "### Loading Data"
   ]
  },
  {
   "cell_type": "code",
   "execution_count": null,
   "id": "4877c9ef",
   "metadata": {},
   "outputs": [],
   "source": []
  },
  {
   "cell_type": "markdown",
   "id": "2ed11c5e",
   "metadata": {},
   "source": [
    "### Exploring Data"
   ]
  },
  {
   "cell_type": "code",
   "execution_count": null,
   "id": "cac3aaf0",
   "metadata": {},
   "outputs": [],
   "source": []
  },
  {
   "cell_type": "markdown",
   "id": "b75fdfba",
   "metadata": {},
   "source": [
    "### Selecting Data"
   ]
  },
  {
   "cell_type": "code",
   "execution_count": null,
   "id": "d4b9bc4d",
   "metadata": {},
   "outputs": [],
   "source": []
  },
  {
   "cell_type": "markdown",
   "id": "0898187d",
   "metadata": {},
   "source": [
    "### Common Operations"
   ]
  },
  {
   "cell_type": "code",
   "execution_count": null,
   "id": "697aaf30",
   "metadata": {},
   "outputs": [],
   "source": []
  },
  {
   "cell_type": "markdown",
   "id": "16a12bb3",
   "metadata": {},
   "source": [
    "### Real-World Relevance\n",
    "\n",
    "Pandas is your go-to tool for 80% of data wrangling tasks — Excel replacement, data cleaning, quick analysis, and prep for ML."
   ]
  }
 ],
 "metadata": {
  "kernelspec": {
   "display_name": "venv",
   "language": "python",
   "name": "python3"
  },
  "language_info": {
   "codemirror_mode": {
    "name": "ipython",
    "version": 3
   },
   "file_extension": ".py",
   "mimetype": "text/x-python",
   "name": "python",
   "nbconvert_exporter": "python",
   "pygments_lexer": "ipython3",
   "version": "3.12.3"
  }
 },
 "nbformat": 4,
 "nbformat_minor": 5
}
