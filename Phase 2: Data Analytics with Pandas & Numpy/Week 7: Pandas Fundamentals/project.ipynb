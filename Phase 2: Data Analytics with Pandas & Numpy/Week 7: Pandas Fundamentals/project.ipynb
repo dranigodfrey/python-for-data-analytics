{
 "cells": [
  {
   "cell_type": "markdown",
   "id": "e007478a",
   "metadata": {},
   "source": [
    "\n",
    "# Project\n",
    "---\n",
    "\n",
    "# HR Analytics Explorer\n",
    "\n",
    "### Goal\n",
    "\n",
    "Analyze a company’s employee dataset to answer key HR questions:\n",
    "- What’s the average salary by department?\n",
    "- Which departments have the most headcount?\n",
    "- What's the attrition rate?\n",
    "\n",
    "### Sample Dataset: `hr_data.csv`\n",
    "```python\n",
    "EmployeeID,Name,Department,Salary,Status\n",
    "1,Alice,Sales,70000,Active\n",
    "2,Bob,Engineering,90000,Active\n",
    "3,Charlie,Sales,65000,Left\n",
    "4,Dana,Engineering,85000,Active\n",
    "5,Eli,HR,60000,Left\n",
    "6,Faith,Sales,72000,Active\n",
    "```\n",
    "\n",
    "### Tasks\n",
    "\n",
    "1. Load CSV into DataFrame\n",
    "2. Use `.groupby()` to get:\n",
    "   - Avg salary by department\n",
    "   - Headcount by department\n",
    "   - Count of \"Left\" vs \"Active\"\n",
    "3. Use `.loc[]` to filter all employees who left\n",
    "4. Sort by salary\n",
    "5. Plot value counts (optional, next week)"
   ]
  },
  {
   "cell_type": "code",
   "execution_count": null,
   "id": "fc6e9a05-cafc-448e-a1bf-ae0e86008c40",
   "metadata": {},
   "outputs": [],
   "source": []
  }
 ],
 "metadata": {
  "kernelspec": {
   "display_name": "Python 3 (ipykernel)",
   "language": "python",
   "name": "python3"
  },
  "language_info": {
   "codemirror_mode": {
    "name": "ipython",
    "version": 3
   },
   "file_extension": ".py",
   "mimetype": "text/x-python",
   "name": "python",
   "nbconvert_exporter": "python",
   "pygments_lexer": "ipython3",
   "version": "3.12.3"
  }
 },
 "nbformat": 4,
 "nbformat_minor": 5
}
