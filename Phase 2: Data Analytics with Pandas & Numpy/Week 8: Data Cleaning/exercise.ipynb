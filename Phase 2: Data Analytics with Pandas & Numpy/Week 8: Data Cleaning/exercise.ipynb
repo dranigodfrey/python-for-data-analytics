{
 "cells": [
  {
   "cell_type": "markdown",
   "id": "2cbaf583",
   "metadata": {},
   "source": [
    "# Exercises\n",
    "---"
   ]
  },
  {
   "cell_type": "markdown",
   "id": "943771ed",
   "metadata": {},
   "source": [
    "## 1. Fill null salaries with 0"
   ]
  },
  {
   "cell_type": "code",
   "execution_count": null,
   "id": "9aac5abe-d502-40ba-91f3-a13c04adef62",
   "metadata": {},
   "outputs": [],
   "source": []
  },
  {
   "cell_type": "markdown",
   "id": "e674320e",
   "metadata": {},
   "source": [
    "### 2. Drop all rows with any nulls"
   ]
  },
  {
   "cell_type": "code",
   "execution_count": null,
   "id": "64e79598",
   "metadata": {},
   "outputs": [],
   "source": []
  },
  {
   "cell_type": "markdown",
   "id": "f273811e",
   "metadata": {},
   "source": [
    "### 3. Strip spaces from name field"
   ]
  },
  {
   "cell_type": "code",
   "execution_count": null,
   "id": "75c12dce",
   "metadata": {},
   "outputs": [],
   "source": []
  },
  {
   "cell_type": "markdown",
   "id": "f0cd75d2",
   "metadata": {},
   "source": [
    "### 4. Convert JoinDate to datetime"
   ]
  },
  {
   "cell_type": "code",
   "execution_count": null,
   "id": "0bac699e",
   "metadata": {},
   "outputs": [],
   "source": []
  },
  {
   "cell_type": "markdown",
   "id": "07437ef6",
   "metadata": {},
   "source": [
    "### 5. Capitalize names"
   ]
  },
  {
   "cell_type": "code",
   "execution_count": null,
   "id": "65e34e0c",
   "metadata": {},
   "outputs": [],
   "source": []
  },
  {
   "cell_type": "markdown",
   "id": "d913d2d5",
   "metadata": {},
   "source": [
    "### 6. Lowercase all emails"
   ]
  },
  {
   "cell_type": "code",
   "execution_count": null,
   "id": "d2190fb1",
   "metadata": {},
   "outputs": [],
   "source": []
  },
  {
   "cell_type": "markdown",
   "id": "03ae897f",
   "metadata": {},
   "source": [
    "### 7. Remove duplicates"
   ]
  },
  {
   "cell_type": "code",
   "execution_count": null,
   "id": "73b29486",
   "metadata": {},
   "outputs": [],
   "source": []
  },
  {
   "cell_type": "markdown",
   "id": "79e20307",
   "metadata": {},
   "source": [
    "### 8. Rename column \"emp_id\" to \"EmployeeID\""
   ]
  },
  {
   "cell_type": "code",
   "execution_count": null,
   "id": "beec836d",
   "metadata": {},
   "outputs": [],
   "source": []
  },
  {
   "cell_type": "markdown",
   "id": "6b738b7c",
   "metadata": {},
   "source": [
    "### 9. Remove column \"Notes\""
   ]
  },
  {
   "cell_type": "code",
   "execution_count": null,
   "id": "106fa84d",
   "metadata": {},
   "outputs": [],
   "source": []
  },
  {
   "cell_type": "markdown",
   "id": "cc515ee1",
   "metadata": {},
   "source": [
    "### 10. Fill missing values in \"Department\" with \"Unknown\""
   ]
  }
 ],
 "metadata": {
  "kernelspec": {
   "display_name": "venv",
   "language": "python",
   "name": "python3"
  },
  "language_info": {
   "codemirror_mode": {
    "name": "ipython",
    "version": 3
   },
   "file_extension": ".py",
   "mimetype": "text/x-python",
   "name": "python",
   "nbconvert_exporter": "python",
   "pygments_lexer": "ipython3",
   "version": "3.12.3"
  }
 },
 "nbformat": 4,
 "nbformat_minor": 5
}
