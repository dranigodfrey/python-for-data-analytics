{
 "cells": [
  {
   "cell_type": "markdown",
   "id": "7dcf5543",
   "metadata": {},
   "source": [
    "# Exercises\n",
    "---"
   ]
  },
  {
   "cell_type": "markdown",
   "id": "c345f34a",
   "metadata": {},
   "source": [
    "### 1. Create \"Revenue\" = Price × Quantity"
   ]
  },
  {
   "cell_type": "code",
   "execution_count": null,
   "id": "9aac5abe-d502-40ba-91f3-a13c04adef62",
   "metadata": {},
   "outputs": [],
   "source": []
  },
  {
   "cell_type": "markdown",
   "id": "ba542ec2",
   "metadata": {},
   "source": [
    "### 2. Combine First and Last Name into FullName"
   ]
  },
  {
   "cell_type": "code",
   "execution_count": null,
   "id": "d3d2bf42",
   "metadata": {},
   "outputs": [],
   "source": []
  },
  {
   "cell_type": "markdown",
   "id": "d00d721b",
   "metadata": {},
   "source": [
    "### 3. Calculate DiscountedPrice = Price * 0.9"
   ]
  },
  {
   "cell_type": "code",
   "execution_count": null,
   "id": "7d859d6a",
   "metadata": {},
   "outputs": [],
   "source": []
  },
  {
   "cell_type": "markdown",
   "id": "4251ed20",
   "metadata": {},
   "source": [
    "### 4. Create Age Groups with cut()"
   ]
  },
  {
   "cell_type": "code",
   "execution_count": null,
   "id": "0d13862a",
   "metadata": {},
   "outputs": [],
   "source": []
  },
  {
   "cell_type": "markdown",
   "id": "449c97f1",
   "metadata": {},
   "source": [
    "### 5. Score performance using map()"
   ]
  },
  {
   "cell_type": "code",
   "execution_count": null,
   "id": "edc249be",
   "metadata": {},
   "outputs": [],
   "source": []
  },
  {
   "cell_type": "markdown",
   "id": "9b65c991",
   "metadata": {},
   "source": [
    "### 6. Convert \"Category\" to dummy variables"
   ]
  },
  {
   "cell_type": "code",
   "execution_count": null,
   "id": "1a063aee",
   "metadata": {},
   "outputs": [],
   "source": []
  },
  {
   "cell_type": "markdown",
   "id": "1cf9f035",
   "metadata": {},
   "source": [
    "### 7. Normalize a column between 0 and 1"
   ]
  },
  {
   "cell_type": "code",
   "execution_count": null,
   "id": "665dc86f",
   "metadata": {},
   "outputs": [],
   "source": []
  },
  {
   "cell_type": "markdown",
   "id": "701e60af",
   "metadata": {},
   "source": [
    "### 8. Add “Spending Tier” using qcut()"
   ]
  },
  {
   "cell_type": "code",
   "execution_count": null,
   "id": "34bb5bd3",
   "metadata": {},
   "outputs": [],
   "source": []
  },
  {
   "cell_type": "markdown",
   "id": "049edde1",
   "metadata": {},
   "source": [
    "### 9. Extract domain from email"
   ]
  },
  {
   "cell_type": "code",
   "execution_count": null,
   "id": "4cc5293a",
   "metadata": {},
   "outputs": [],
   "source": []
  },
  {
   "cell_type": "markdown",
   "id": "fb460321",
   "metadata": {},
   "source": [
    "### 10. Create \"IsHighValue\" if Revenue > 1000"
   ]
  },
  {
   "cell_type": "code",
   "execution_count": null,
   "id": "590ce2d5",
   "metadata": {},
   "outputs": [],
   "source": []
  }
 ],
 "metadata": {
  "kernelspec": {
   "display_name": "venv",
   "language": "python",
   "name": "python3"
  },
  "language_info": {
   "codemirror_mode": {
    "name": "ipython",
    "version": 3
   },
   "file_extension": ".py",
   "mimetype": "text/x-python",
   "name": "python",
   "nbconvert_exporter": "python",
   "pygments_lexer": "ipython3",
   "version": "3.12.3"
  }
 },
 "nbformat": 4,
 "nbformat_minor": 5
}
