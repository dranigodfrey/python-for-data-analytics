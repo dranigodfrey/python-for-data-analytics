{
 "cells": [
  {
   "cell_type": "markdown",
   "id": "e4930f8d",
   "metadata": {},
   "source": [
    "# Project\n",
    "---\n",
    "# Customer Segmentation & Tiering\n",
    "\n",
    "### Goal\n",
    "\n",
    "Transform raw customer purchase data into **meaningful segments**:\n",
    "- Calculate total and average spend\n",
    "- Categorize customers into tiers\n",
    "- Add flags for high-value behavior\n",
    "\n",
    "### Sample Dataset: `customers.csv`\n",
    "\n",
    "```python\n",
    "CustomerID,Name,Age,TotalSpent,Transactions\n",
    "101,Alice,34,1200.50,12\n",
    "102,Bob,22,450.00,5\n",
    "103,Charlie,45,3000.00,18\n",
    "104,Dana,61,980.00,4\n",
    "105,Eli,28,1750.00,8\n",
    "```\n",
    "### Tasks\n",
    "\n",
    "1. Create `AvgSpend` = TotalSpent / Transactions\n",
    "2. Categorize customers into:\n",
    "   - Spending Tiers using `pd.qcut()`\n",
    "   - Age Groups using `pd.cut()`\n",
    "3. Create binary flag: `IsHighValue` if TotalSpent > 1000 and Transactions > 10\n",
    "4. One-hot encode age groups (optional)"
   ]
  },
  {
   "cell_type": "code",
   "execution_count": null,
   "id": "fc6e9a05-cafc-448e-a1bf-ae0e86008c40",
   "metadata": {},
   "outputs": [],
   "source": []
  }
 ],
 "metadata": {
  "kernelspec": {
   "display_name": "venv",
   "language": "python",
   "name": "python3"
  },
  "language_info": {
   "codemirror_mode": {
    "name": "ipython",
    "version": 3
   },
   "file_extension": ".py",
   "mimetype": "text/x-python",
   "name": "python",
   "nbconvert_exporter": "python",
   "pygments_lexer": "ipython3",
   "version": "3.12.3"
  }
 },
 "nbformat": 4,
 "nbformat_minor": 5
}
