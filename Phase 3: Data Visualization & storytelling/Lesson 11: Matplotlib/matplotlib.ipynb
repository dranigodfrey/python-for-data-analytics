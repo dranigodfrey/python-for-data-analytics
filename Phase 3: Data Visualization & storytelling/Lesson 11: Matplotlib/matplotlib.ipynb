{
 "cells": [
  {
   "cell_type": "markdown",
   "id": "d26a8631",
   "metadata": {},
   "source": [
    "# Lesson 11: Matplotlib Basics for Plotting\n",
    "---\n",
    "**Topics:**\n",
    "* Line, bar, scatter, histogram\n",
    "* Titles, labels, ticks, legends\n",
    "* Saving charts as images\n",
    "\n",
    "**Project:**\n",
    "* “Revenue Dashboard” – Visualize monthly revenue and product trends\n",
    "\n",
    "**Learning Objectives**\n",
    "\n",
    "By the end of this week, you will be able to:\n",
    "- Create common chart types: line, bar, scatter, histogram\n",
    "- Label your charts with titles, axes, legends\n",
    "- Adjust chart size, colors, and styles\n",
    "- Save plots as image files (e.g. PNG)\n",
    "- Understand basic chart use-cases in business contexts\n"
   ]
  },
  {
   "cell_type": "markdown",
   "id": "7a9efb0b",
   "metadata": {},
   "source": [
    "# What is Matplotlib?\n",
    "\n",
    "- Core plotting library in Python\n",
    "- Powers most data visuals in notebooks\n",
    "- Great for **custom**, **publication-quality** plots"
   ]
  },
  {
   "cell_type": "markdown",
   "id": "2fb63d08",
   "metadata": {},
   "source": [
    "### Line Plot"
   ]
  },
  {
   "cell_type": "code",
   "execution_count": null,
   "id": "22d5e716-4514-4eaa-83e7-b0670831674a",
   "metadata": {},
   "outputs": [],
   "source": []
  },
  {
   "cell_type": "markdown",
   "id": "65892694",
   "metadata": {},
   "source": [
    "### Bar Chart"
   ]
  },
  {
   "cell_type": "code",
   "execution_count": null,
   "id": "f09747a5",
   "metadata": {},
   "outputs": [],
   "source": []
  },
  {
   "cell_type": "markdown",
   "id": "ee99653a",
   "metadata": {},
   "source": [
    "# Scatter Plot"
   ]
  },
  {
   "cell_type": "code",
   "execution_count": null,
   "id": "4392f17d",
   "metadata": {},
   "outputs": [],
   "source": []
  },
  {
   "cell_type": "markdown",
   "id": "317e6a7d",
   "metadata": {},
   "source": [
    "### Histogram"
   ]
  },
  {
   "cell_type": "code",
   "execution_count": null,
   "id": "b5f27768",
   "metadata": {},
   "outputs": [],
   "source": []
  },
  {
   "cell_type": "markdown",
   "id": "96e5f658",
   "metadata": {},
   "source": [
    "### Save to File"
   ]
  },
  {
   "cell_type": "code",
   "execution_count": null,
   "id": "ab99b77d",
   "metadata": {},
   "outputs": [],
   "source": []
  },
  {
   "cell_type": "markdown",
   "id": "4ade33d3",
   "metadata": {},
   "source": [
    "### Chart Types & When to Use\n",
    "| Chart     | Use Case                           |\n",
    "| --------- | ---------------------------------- |\n",
    "| Line      | Trend over time                    |\n",
    "| Bar       | Compare values across categories   |\n",
    "| Scatter   | Relationship between two variables |\n",
    "| Histogram | Distribution of values             |\n"
   ]
  },
  {
   "cell_type": "markdown",
   "id": "2493d424",
   "metadata": {},
   "source": [
    "### Tips for Business Plots\n",
    "\n",
    "- Label clearly (titles, axes)\n",
    "- Avoid clutter (keep it simple)\n",
    "- Use consistent color schemes\n",
    "- Highlight what matters (e.g. outliers, trends)"
   ]
  }
 ],
 "metadata": {
  "kernelspec": {
   "display_name": "Python 3 (ipykernel)",
   "language": "python",
   "name": "python3"
  },
  "language_info": {
   "codemirror_mode": {
    "name": "ipython",
    "version": 3
   },
   "file_extension": ".py",
   "mimetype": "text/x-python",
   "name": "python",
   "nbconvert_exporter": "python",
   "pygments_lexer": "ipython3",
   "version": "3.12.3"
  }
 },
 "nbformat": 4,
 "nbformat_minor": 5
}
