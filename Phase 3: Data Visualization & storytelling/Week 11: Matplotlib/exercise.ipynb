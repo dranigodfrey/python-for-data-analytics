{
 "cells": [
  {
   "cell_type": "markdown",
   "id": "a9e1aa67",
   "metadata": {},
   "source": [
    "# Exercises\n",
    "___"
   ]
  },
  {
   "cell_type": "markdown",
   "id": "35e2be81",
   "metadata": {},
   "source": [
    "### 1. Plot revenue trend over 6 months"
   ]
  },
  {
   "cell_type": "code",
   "execution_count": null,
   "id": "9aac5abe-d502-40ba-91f3-a13c04adef62",
   "metadata": {},
   "outputs": [],
   "source": []
  },
  {
   "cell_type": "markdown",
   "id": "792cc59e",
   "metadata": {},
   "source": [
    "### 2. Bar chart for sales by product"
   ]
  },
  {
   "cell_type": "code",
   "execution_count": null,
   "id": "f937cb26",
   "metadata": {},
   "outputs": [],
   "source": []
  },
  {
   "cell_type": "markdown",
   "id": "10443762",
   "metadata": {},
   "source": [
    "### 3. Scatter plot of Hours Studied vs Score"
   ]
  },
  {
   "cell_type": "code",
   "execution_count": null,
   "id": "b0a3c578",
   "metadata": {},
   "outputs": [],
   "source": []
  },
  {
   "cell_type": "markdown",
   "id": "dcab0535",
   "metadata": {},
   "source": [
    "### 4. Histogram of customer ages"
   ]
  },
  {
   "cell_type": "code",
   "execution_count": null,
   "id": "a0274898",
   "metadata": {},
   "outputs": [],
   "source": []
  },
  {
   "cell_type": "markdown",
   "id": "a13039d4",
   "metadata": {},
   "source": [
    "### 5. Save chart to file"
   ]
  }
 ],
 "metadata": {
  "kernelspec": {
   "display_name": "venv",
   "language": "python",
   "name": "python3"
  },
  "language_info": {
   "codemirror_mode": {
    "name": "ipython",
    "version": 3
   },
   "file_extension": ".py",
   "mimetype": "text/x-python",
   "name": "python",
   "nbconvert_exporter": "python",
   "pygments_lexer": "ipython3",
   "version": "3.12.3"
  }
 },
 "nbformat": 4,
 "nbformat_minor": 5
}
