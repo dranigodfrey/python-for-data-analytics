{
 "cells": [
  {
   "cell_type": "markdown",
   "id": "63e792e6",
   "metadata": {},
   "source": [
    "# Project\n",
    "--- \n",
    "# Revenue Dashboard (Matplotlib Only)\n",
    "\n",
    "### Goal\n",
    "\n",
    "Create a basic **monthly revenue dashboard** showing:\n",
    "- Revenue trend over time\n",
    "- Revenue by product category\n",
    "- Customer volume by region\n",
    "- Save charts as images\n",
    "\n",
    "### Sample Dataset: `revenue_data.csv`\n",
    "```python\n",
    "Month,Category,Region,Revenue,Customers\n",
    "Jan,Office Supplies,East,1200,35\n",
    "Jan,Technology,West,2200,50\n",
    "Feb,Office Supplies,East,900,30\n",
    "Feb,Technology,West,2500,52\n",
    "Mar,Office Supplies,East,1100,40\n",
    "Mar,Technology,West,2800,60\n",
    "```\n",
    "### Tasks\n",
    "\n",
    "1. Load CSV into DataFrame\n",
    "2. Create:\n",
    "   - Line chart: Revenue over Months\n",
    "   - Bar chart: Total Revenue by Category\n",
    "   - Bar chart: Customers by Region\n",
    "3. Add labels and titles\n",
    "4. Save each chart as PNG\n"
   ]
  },
  {
   "cell_type": "code",
   "execution_count": null,
   "id": "fc6e9a05-cafc-448e-a1bf-ae0e86008c40",
   "metadata": {},
   "outputs": [],
   "source": []
  }
 ],
 "metadata": {
  "kernelspec": {
   "display_name": "venv",
   "language": "python",
   "name": "python3"
  },
  "language_info": {
   "codemirror_mode": {
    "name": "ipython",
    "version": 3
   },
   "file_extension": ".py",
   "mimetype": "text/x-python",
   "name": "python",
   "nbconvert_exporter": "python",
   "pygments_lexer": "ipython3",
   "version": "3.12.3"
  }
 },
 "nbformat": 4,
 "nbformat_minor": 5
}
