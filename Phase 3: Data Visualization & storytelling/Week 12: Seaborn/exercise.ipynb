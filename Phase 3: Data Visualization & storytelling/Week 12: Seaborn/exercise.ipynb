{
 "cells": [
  {
   "cell_type": "markdown",
   "id": "23d2a619",
   "metadata": {},
   "source": [
    "# Exercises\n",
    "___"
   ]
  },
  {
   "cell_type": "markdown",
   "id": "010eff7e",
   "metadata": {},
   "source": [
    "### 1. Plot distribution of ages"
   ]
  },
  {
   "cell_type": "code",
   "execution_count": null,
   "id": "9aac5abe-d502-40ba-91f3-a13c04adef62",
   "metadata": {},
   "outputs": [],
   "source": []
  },
  {
   "cell_type": "markdown",
   "id": "44b5f717",
   "metadata": {},
   "source": [
    "### 2. Compare Salary across Departments using Boxplot"
   ]
  },
  {
   "cell_type": "code",
   "execution_count": null,
   "id": "d3bd1d1e",
   "metadata": {},
   "outputs": [],
   "source": []
  },
  {
   "cell_type": "markdown",
   "id": "aa86c2f9",
   "metadata": {},
   "source": [
    "### 3. Scatterplot of Price vs Rating"
   ]
  },
  {
   "cell_type": "code",
   "execution_count": null,
   "id": "85d459b0",
   "metadata": {},
   "outputs": [],
   "source": []
  },
  {
   "cell_type": "markdown",
   "id": "cf998809",
   "metadata": {},
   "source": [
    "### 4. Regression line of Experience vs Salary"
   ]
  },
  {
   "cell_type": "code",
   "execution_count": null,
   "id": "c1e5085c",
   "metadata": {},
   "outputs": [],
   "source": []
  },
  {
   "cell_type": "markdown",
   "id": "ab45ebe9",
   "metadata": {},
   "source": [
    "### 5. Countplot of Product Categories"
   ]
  },
  {
   "cell_type": "code",
   "execution_count": null,
   "id": "b8155cee",
   "metadata": {},
   "outputs": [],
   "source": []
  },
  {
   "cell_type": "markdown",
   "id": "c9ecbbab",
   "metadata": {},
   "source": [
    "### 6. Heatmap of correlation matrix"
   ]
  },
  {
   "cell_type": "code",
   "execution_count": null,
   "id": "6411444f",
   "metadata": {},
   "outputs": [],
   "source": []
  },
  {
   "cell_type": "markdown",
   "id": "00b6f962",
   "metadata": {},
   "source": [
    "### 7. Violinplot of Revenue by Region"
   ]
  },
  {
   "cell_type": "code",
   "execution_count": null,
   "id": "4411bff2",
   "metadata": {},
   "outputs": [],
   "source": []
  },
  {
   "cell_type": "markdown",
   "id": "c04ec281",
   "metadata": {},
   "source": [
    "### 8. Set theme to whitegrid and palette to pastel"
   ]
  },
  {
   "cell_type": "code",
   "execution_count": null,
   "id": "7052ccaa",
   "metadata": {},
   "outputs": [],
   "source": []
  },
  {
   "cell_type": "markdown",
   "metadata": {},
   "source": [
    "### 9. Swarmplot of Scores by Group"
   ]
  },
  {
   "cell_type": "code",
   "execution_count": null,
   "id": "824a878a",
   "metadata": {},
   "outputs": [],
   "source": []
  },
  {
   "cell_type": "markdown",
   "id": "ca63b8cf",
   "metadata": {},
   "source": [
    "### 10. Save Seaborn chart to file"
   ]
  },
  {
   "cell_type": "code",
   "execution_count": null,
   "id": "147832e3",
   "metadata": {},
   "outputs": [],
   "source": []
  }
 ],
 "metadata": {
  "kernelspec": {
   "display_name": "venv",
   "language": "python",
   "name": "python3"
  },
  "language_info": {
   "codemirror_mode": {
    "name": "ipython",
    "version": 3
   },
   "file_extension": ".py",
   "mimetype": "text/x-python",
   "name": "python",
   "nbconvert_exporter": "python",
   "pygments_lexer": "ipython3",
   "version": "3.12.3"
  }
 },
 "nbformat": 4,
 "nbformat_minor": 5
}
