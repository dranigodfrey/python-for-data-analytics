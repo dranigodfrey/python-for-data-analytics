{
 "cells": [
  {
   "cell_type": "markdown",
   "id": "778bddfb",
   "metadata": {},
   "source": [
    "# Project: \n",
    "---\n",
    "# Product Analytics Visuals (Seaborn)\n",
    "\n",
    "### Goal\n",
    "\n",
    "Visualize product performance and customer behavior using:\n",
    "- Price vs Rating\n",
    "- Category distributions\n",
    "- Revenue vs Discount relationships\n",
    "- Correlations between metrics\n",
    "\n",
    "### Sample Dataset: `product_data.csv`\n",
    "```python\n",
    "Product,Category,Price,Discount,Rating,Revenue,Region\n",
    "Notebook,Office Supplies,15,0.1,4.2,3000,East\n",
    "Monitor,Technology,200,0.15,4.7,8000,West\n",
    "Chair,Furniture,85,0.2,4.0,5000,South\n",
    "Pen,Office Supplies,1.5,0.05,4.1,1200,East\n",
    "Desk,Furniture,250,0.25,4.5,9500,North\n",
    "```\n",
    "### Tasks\n",
    "\n",
    "1. Plot scatter of `Price vs Rating`\n",
    "2. Use `lmplot()` to show regression line (Price vs Rating)\n",
    "3. Boxplot: `Revenue by Category`\n",
    "4. Violinplot: `Discount by Region`\n",
    "5. Countplot: Number of products by Category\n",
    "6. Correlation heatmap for numeric columns"
   ]
  },
  {
   "cell_type": "code",
   "execution_count": null,
   "id": "fc6e9a05-cafc-448e-a1bf-ae0e86008c40",
   "metadata": {},
   "outputs": [],
   "source": []
  }
 ],
 "metadata": {
  "kernelspec": {
   "display_name": "venv",
   "language": "python",
   "name": "python3"
  },
  "language_info": {
   "codemirror_mode": {
    "name": "ipython",
    "version": 3
   },
   "file_extension": ".py",
   "mimetype": "text/x-python",
   "name": "python",
   "nbconvert_exporter": "python",
   "pygments_lexer": "ipython3",
   "version": "3.12.3"
  }
 },
 "nbformat": 4,
 "nbformat_minor": 5
}
