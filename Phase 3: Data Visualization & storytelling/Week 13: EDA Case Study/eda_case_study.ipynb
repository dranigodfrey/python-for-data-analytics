{
 "cells": [
  {
   "cell_type": "markdown",
   "id": "e9121b55",
   "metadata": {},
   "source": [
    "# Week 13: Exploratory Data Analysis (EDA) Projects\n",
    "---\n",
    "**Topics:**\n",
    "* Combining pandas + matplotlib/seaborn\n",
    "* Detect outliers, correlations, missing data\n",
    "* Business storytelling: crafting a data narrative\n",
    "\n",
    "**Capstone Project:**\n",
    "* “EDA Case Study” – Titanic dataset, HR dataset, or a Kaggle dataset Include:\n",
    "    * Data cleaning\n",
    "    * Visual exploration\n",
    "    * Insight summary in Markdown or slides\n",
    "      \n",
    "**Learning Objectives**\n",
    "\n",
    "By the end of this week, you will be able to:\n",
    "- Perform full EDA on a real dataset\n",
    "- Clean and prepare messy data\n",
    "- Visualize relationships, distributions, and patterns\n",
    "- Detect outliers, nulls, and trends\n",
    "- Craft an analytical narrative with visual support\n"
   ]
  },
  {
   "cell_type": "markdown",
   "id": "fce0b2e4",
   "metadata": {},
   "source": [
    "### What is EDA?\n",
    "\n",
    "EDA is the process of:\n",
    "- **Understanding** data: structure, types, quality\n",
    "- **Cleaning** data: handling nulls, outliers, formats\n",
    "- **Visualizing** distributions, trends, relationships\n",
    "- **Summarizing** insights for decisions\n",
    "  \n",
    "## Typical EDA Steps\n",
    "\n",
    "1. **Understand the Dataset**\n",
    "   - `.head()`, `.info()`, `.describe()`\n",
    "   - Check shapes, types, ranges\n",
    "\n",
    "2. **Clean the Data**\n",
    "   - Handle missing values\n",
    "   - Fix data types (e.g., dates)\n",
    "   - Rename columns\n",
    "\n",
    "3. **Explore Distributions**\n",
    "   - Histograms, boxplots, violinplots\n",
    "   - Summary stats (mean, median, outliers)\n",
    "\n",
    "4. **Explore Relationships**\n",
    "   - Scatterplots, heatmaps, grouped summaries\n",
    "\n",
    "5. **Group & Compare**\n",
    "   - `groupby()`, `pivot_table()`, aggregation\n",
    "\n",
    "6. **Tell a Story**\n",
    "   - Structure findings logically\n",
    "   - Use visuals to support each point\n",
    "\n",
    "## Key Questions to Ask in EDA\n",
    "\n",
    "- What variables are important? Why?\n",
    "- What patterns or anomalies exist?\n",
    "- Are there missing or extreme values?\n",
    "- How are groups different (e.g., by gender, region)?\n",
    "- What story can the data tell?\n",
    "\n",
    "## Tools Used\n",
    "\n",
    "- Pandas for data loading, cleaning, analysis\n",
    "- Seaborn/Matplotlib for visuals\n",
    "- Markdown/Slides for insights\n",
    "\n"
   ]
  },
  {
   "cell_type": "code",
   "execution_count": null,
   "id": "22d5e716-4514-4eaa-83e7-b0670831674a",
   "metadata": {},
   "outputs": [],
   "source": []
  }
 ],
 "metadata": {
  "kernelspec": {
   "display_name": "venv",
   "language": "python",
   "name": "python3"
  },
  "language_info": {
   "codemirror_mode": {
    "name": "ipython",
    "version": 3
   },
   "file_extension": ".py",
   "mimetype": "text/x-python",
   "name": "python",
   "nbconvert_exporter": "python",
   "pygments_lexer": "ipython3",
   "version": "3.12.3"
  }
 },
 "nbformat": 4,
 "nbformat_minor": 5
}
