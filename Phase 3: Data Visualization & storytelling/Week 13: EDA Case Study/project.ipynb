{
 "cells": [
  {
   "cell_type": "markdown",
   "id": "62639bb0",
   "metadata": {},
   "source": [
    "# Capstone Project\n",
    "---\n",
    "# EDA Case Study\n",
    "\n",
    "> Choose one dataset and conduct a **full EDA**, delivering your findings as a Jupyter Notebook or Markdown report.\n",
    "\n",
    "### Choose One Dataset:\n",
    "\n",
    "| Dataset                        | Description                                |\n",
    "|-------------------------------|--------------------------------------------|\n",
    "| Retail Sales                | Product, region, time, revenue             |\n",
    "| HR Attrition                | Employees, salary, department, attrition   |\n",
    "| Kaggle: Titanic             | Survival based on demographics             |\n",
    "| Marketing Campaign Funnel   | Clicks, conversions, revenue               |\n",
    "| Survey NPS Sentiment       | Text, scores, feedback sentiment           |\n",
    "\n",
    "### Requirements\n",
    "\n",
    "1. **Data Cleaning**\n",
    "   - Drop/fix nulls\n",
    "   - Convert data types\n",
    "   - Rename columns\n",
    "\n",
    "2. **Feature Engineering**\n",
    "   - Create derived columns (e.g. tenure, revenue)\n",
    "   - Bin or categorize (e.g., age groups)\n",
    "\n",
    "3. **Visualizations**\n",
    "   - 3–5 high-quality charts using Seaborn/Matplotlib\n",
    "   - Include:\n",
    "     - Distribution\n",
    "     - Relationship\n",
    "     - Grouped comparison\n",
    "     - Trend over time (if applicable)\n",
    "\n",
    "4. **Insight Summary**\n",
    "   - What did you learn from the data?\n",
    "   - What’s surprising or useful?\n",
    "   - Use Markdown or slides to communicate\n",
    "\n",
    "5. **Final Deliverables**\n",
    "   - `.ipynb` notebook with code + visuals\n",
    "   - Markdown summary OR exported slides\n",
    "   - Optional: GitHub repo or downloadable PDF"
   ]
  },
  {
   "cell_type": "code",
   "execution_count": null,
   "id": "fc6e9a05-cafc-448e-a1bf-ae0e86008c40",
   "metadata": {},
   "outputs": [],
   "source": []
  }
 ],
 "metadata": {
  "kernelspec": {
   "display_name": "venv",
   "language": "python",
   "name": "python3"
  },
  "language_info": {
   "codemirror_mode": {
    "name": "ipython",
    "version": 3
   },
   "file_extension": ".py",
   "mimetype": "text/x-python",
   "name": "python",
   "nbconvert_exporter": "python",
   "pygments_lexer": "ipython3",
   "version": "3.12.3"
  }
 },
 "nbformat": 4,
 "nbformat_minor": 5
}
