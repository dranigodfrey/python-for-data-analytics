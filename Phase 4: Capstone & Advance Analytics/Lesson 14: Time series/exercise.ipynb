{
 "cells": [
  {
   "cell_type": "markdown",
   "id": "a9456eb3",
   "metadata": {},
   "source": [
    "# Exercises\n",
    "---"
   ]
  },
  {
   "cell_type": "markdown",
   "id": "71bace30",
   "metadata": {},
   "source": [
    "### 1. Convert column to datetime"
   ]
  },
  {
   "cell_type": "code",
   "execution_count": null,
   "id": "9aac5abe-d502-40ba-91f3-a13c04adef62",
   "metadata": {},
   "outputs": [],
   "source": []
  },
  {
   "cell_type": "markdown",
   "id": "760db13a",
   "metadata": {},
   "source": [
    "### 2. Extract year, month, weekday"
   ]
  },
  {
   "cell_type": "code",
   "execution_count": null,
   "id": "900cffbf",
   "metadata": {},
   "outputs": [],
   "source": []
  },
  {
   "cell_type": "markdown",
   "id": "c4f3d9fd",
   "metadata": {},
   "source": [
    "### 3. Set date column as index"
   ]
  },
  {
   "cell_type": "code",
   "execution_count": null,
   "id": "bda3dfcd",
   "metadata": {},
   "outputs": [],
   "source": []
  },
  {
   "cell_type": "markdown",
   "id": "377e4e5e",
   "metadata": {},
   "source": [
    "### 4. Resample daily and plot"
   ]
  },
  {
   "cell_type": "code",
   "execution_count": null,
   "id": "95f946dd",
   "metadata": {},
   "outputs": [],
   "source": []
  },
  {
   "cell_type": "markdown",
   "id": "254d913b",
   "metadata": {},
   "source": [
    "### 5. Monthly average orders"
   ]
  },
  {
   "cell_type": "code",
   "execution_count": null,
   "id": "79142137",
   "metadata": {},
   "outputs": [],
   "source": []
  },
  {
   "cell_type": "markdown",
   "id": "bb51b094",
   "metadata": {},
   "source": [
    "### 6. Add 7-day moving average"
   ]
  },
  {
   "cell_type": "code",
   "execution_count": null,
   "id": "04469ea8",
   "metadata": {},
   "outputs": [],
   "source": []
  },
  {
   "cell_type": "markdown",
   "id": "c1b52b2f",
   "metadata": {},
   "source": [
    "### 7. Visualize trends with multiple series"
   ]
  },
  {
   "cell_type": "code",
   "execution_count": null,
   "id": "9e70bda3",
   "metadata": {},
   "outputs": [],
   "source": []
  },
  {
   "cell_type": "markdown",
   "id": "05098867",
   "metadata": {},
   "source": [
    "### 8. Create weekday heatmap"
   ]
  },
  {
   "cell_type": "code",
   "execution_count": null,
   "id": "4653489d",
   "metadata": {},
   "outputs": [],
   "source": []
  },
  {
   "cell_type": "markdown",
   "id": "a3096261",
   "metadata": {},
   "source": [
    "### 9. Plot total revenue by weekday"
   ]
  },
  {
   "cell_type": "code",
   "execution_count": null,
   "id": "2c53600d",
   "metadata": {},
   "outputs": [],
   "source": []
  },
  {
   "cell_type": "markdown",
   "id": "9362f780",
   "metadata": {},
   "source": [
    "### 10. Compare weekly revenue across categories"
   ]
  },
  {
   "cell_type": "code",
   "execution_count": null,
   "id": "018e01d6",
   "metadata": {},
   "outputs": [],
   "source": []
  }
 ],
 "metadata": {
  "kernelspec": {
   "display_name": "venv",
   "language": "python",
   "name": "python3"
  },
  "language_info": {
   "codemirror_mode": {
    "name": "ipython",
    "version": 3
   },
   "file_extension": ".py",
   "mimetype": "text/x-python",
   "name": "python",
   "nbconvert_exporter": "python",
   "pygments_lexer": "ipython3",
   "version": "3.12.3"
  }
 },
 "nbformat": 4,
 "nbformat_minor": 5
}
