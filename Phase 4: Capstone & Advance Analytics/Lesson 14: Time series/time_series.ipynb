{
 "cells": [
  {
   "cell_type": "markdown",
   "id": "db1153a2",
   "metadata": {},
   "source": [
    "# Lesson 14: Time Series & Date Analysis\n",
    "---\n",
    "* Using .dt accessor for date components\n",
    "* Resampling: daily, weekly, monthly\n",
    "* Rolling averages, time windowing\n",
    "\n",
    "**Project:**\n",
    "* Analyze and visualize website traffic or sales trends over time\n",
    "\n",
    "**Learning Objectives**\n",
    "\n",
    "By the end of this week, you will be able to:\n",
    "- Parse dates and extract time components\n",
    "- Use `.dt` accessor for time operations\n",
    "- Perform resampling (daily, weekly, monthly)\n",
    "- Calculate rolling statistics (moving averages)\n",
    "- Visualize time-based trends"
   ]
  },
  {
   "cell_type": "markdown",
   "id": "0542b08b",
   "metadata": {},
   "source": [
    "# Why Time Series?\n",
    "\n",
    "- Time is key in sales, finance, traffic, user activity\n",
    "- Many business questions are **time-dependent**:\n",
    "  - What’s the monthly growth?\n",
    "  - Are we improving year-over-year?\n",
    "  - What’s the 7-day average?"
   ]
  },
  {
   "cell_type": "markdown",
   "id": "490e1e10",
   "metadata": {},
   "source": [
    "### Working with Dates in Pandas"
   ]
  },
  {
   "cell_type": "code",
   "execution_count": null,
   "id": "c21f6889",
   "metadata": {},
   "outputs": [],
   "source": []
  },
  {
   "cell_type": "markdown",
   "id": "a31dafc9",
   "metadata": {},
   "source": [
    "### Ensures datetime format for plotting and resampling"
   ]
  },
  {
   "cell_type": "markdown",
   "id": "42190a41",
   "metadata": {},
   "source": [
    "### Extracting Date Parts"
   ]
  },
  {
   "cell_type": "code",
   "execution_count": null,
   "id": "22d5e716-4514-4eaa-83e7-b0670831674a",
   "metadata": {},
   "outputs": [],
   "source": []
  },
  {
   "cell_type": "markdown",
   "id": "e0229103",
   "metadata": {},
   "source": [
    "### Resampling (Daily, Monthly, etc.)"
   ]
  },
  {
   "cell_type": "code",
   "execution_count": null,
   "id": "e5c1c88a",
   "metadata": {},
   "outputs": [],
   "source": []
  },
  {
   "cell_type": "markdown",
   "id": "08ca6083",
   "metadata": {},
   "source": [
    "### Common frequency codes:\n",
    "\n",
    "- \"D\" – daily\n",
    "- \"W\" – weekly\n",
    "- \"M\" – month-end\n",
    "- \"MS\" – month start\n",
    "- \"Q\" – quarterly"
   ]
  },
  {
   "cell_type": "markdown",
   "id": "988af1a8",
   "metadata": {},
   "source": [
    "### Rolling Averages (Moving Window)"
   ]
  },
  {
   "cell_type": "code",
   "execution_count": null,
   "id": "6ce76570",
   "metadata": {},
   "outputs": [],
   "source": []
  },
  {
   "cell_type": "markdown",
   "id": "7f6ede15",
   "metadata": {},
   "source": [
    "Helps smooth volatility\n",
    "Great for trend detection"
   ]
  },
  {
   "cell_type": "markdown",
   "id": "4ee4b7ee",
   "metadata": {},
   "source": [
    "### Time Series Plots"
   ]
  },
  {
   "cell_type": "code",
   "execution_count": null,
   "id": "5f227a93",
   "metadata": {},
   "outputs": [],
   "source": []
  },
  {
   "cell_type": "markdown",
   "id": "c9aeaa65",
   "metadata": {},
   "source": [
    "### Common Use Cases\n",
    "\n",
    "- Website traffic over time\n",
    "- Sales performance by week/month\n",
    "- Employee churn trends\n",
    "-  Rolling KPIs for campaigns"
   ]
  }
 ],
 "metadata": {
  "kernelspec": {
   "display_name": "Python 3 (ipykernel)",
   "language": "python",
   "name": "python3"
  },
  "language_info": {
   "codemirror_mode": {
    "name": "ipython",
    "version": 3
   },
   "file_extension": ".py",
   "mimetype": "text/x-python",
   "name": "python",
   "nbconvert_exporter": "python",
   "pygments_lexer": "ipython3",
   "version": "3.12.3"
  }
 },
 "nbformat": 4,
 "nbformat_minor": 5
}
