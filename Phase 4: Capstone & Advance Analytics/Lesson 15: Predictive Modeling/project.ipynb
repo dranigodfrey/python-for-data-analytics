{
 "cells": [
  {
   "cell_type": "markdown",
   "id": "2951b71f",
   "metadata": {},
   "source": [
    "# Project\n",
    "---\n",
    "\n",
    "# Predict Sales or Attrition\n",
    "\n",
    "### Goal\n",
    "\n",
    "Use a real dataset to train and evaluate a simple linear regression model.\n",
    "\n",
    "### Dataset Ideas\n",
    "\n",
    "| Dataset         | Predict…                         |\n",
    "|----------------|-----------------------------------|\n",
    "| Marketing    | Revenue from ad spend             |\n",
    "| HR           | Salary from years of experience   |\n",
    "| Retail       | Sales from price/discount         |\n",
    "\n",
    "### Tasks\n",
    "\n",
    "1. Load and clean your dataset\n",
    "2. Choose numeric input features (X) and target (y)\n",
    "3. Split into train and test\n",
    "4. Train `LinearRegression()` model\n",
    "5. Evaluate using:\n",
    "   - R² Score\n",
    "   - MAE / RMSE\n",
    "6. Visualize predictions vs actual\n",
    "7. Bonus: Interpret coefficients"
   ]
  },
  {
   "cell_type": "code",
   "execution_count": null,
   "id": "fc6e9a05-cafc-448e-a1bf-ae0e86008c40",
   "metadata": {},
   "outputs": [],
   "source": []
  }
 ],
 "metadata": {
  "kernelspec": {
   "display_name": "Python 3 (ipykernel)",
   "language": "python",
   "name": "python3"
  },
  "language_info": {
   "codemirror_mode": {
    "name": "ipython",
    "version": 3
   },
   "file_extension": ".py",
   "mimetype": "text/x-python",
   "name": "python",
   "nbconvert_exporter": "python",
   "pygments_lexer": "ipython3",
   "version": "3.12.3"
  }
 },
 "nbformat": 4,
 "nbformat_minor": 5
}
