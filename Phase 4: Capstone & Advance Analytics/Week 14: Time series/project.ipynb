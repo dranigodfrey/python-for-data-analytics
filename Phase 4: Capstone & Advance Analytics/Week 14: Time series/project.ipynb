{
 "cells": [
  {
   "cell_type": "markdown",
   "id": "6e0589fa",
   "metadata": {},
   "source": [
    "# Project\n",
    "---\n",
    "# Website or Sales Trends Over Time\n",
    "\n",
    "### Goal\n",
    "\n",
    "Analyze and visualize trends over time using:\n",
    "- Resampling\n",
    "- Rolling averages\n",
    "- Date decomposition\n",
    "\n",
    "### Sample Dataset: `web_traffic.csv` or `sales_data.csv`\n",
    "\n",
    "```python \n",
    "Date,PageViews,Users,Revenue\n",
    "2023-01-01,1200,300,2500\n",
    "2023-01-02,1300,320,2600\n",
    "2023-01-03,1100,290,2400\n",
    "```\n",
    "### Tasks\n",
    "\n",
    "1. Convert `Date` column to datetime\n",
    "2. Set `Date` as index\n",
    "3. Plot:\n",
    "   - Daily revenue trend\n",
    "   - 7-day rolling average\n",
    "4. Resample by month and compare growth\n",
    "5. Add weekday column and visualize patterns\n",
    "6. Bonus: Heatmap of traffic by weekday & hour (if hour available)"
   ]
  },
  {
   "cell_type": "code",
   "execution_count": null,
   "id": "fc6e9a05-cafc-448e-a1bf-ae0e86008c40",
   "metadata": {},
   "outputs": [],
   "source": []
  }
 ],
 "metadata": {
  "kernelspec": {
   "display_name": "Python 3 (ipykernel)",
   "language": "python",
   "name": "python3"
  },
  "language_info": {
   "codemirror_mode": {
    "name": "ipython",
    "version": 3
   },
   "file_extension": ".py",
   "mimetype": "text/x-python",
   "name": "python",
   "nbconvert_exporter": "python",
   "pygments_lexer": "ipython3",
   "version": "3.12.3"
  }
 },
 "nbformat": 4,
 "nbformat_minor": 5
}
