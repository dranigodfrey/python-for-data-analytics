{
 "cells": [
  {
   "cell_type": "markdown",
   "id": "63d3848a",
   "metadata": {},
   "source": [
    "### Week 15: Intro to Predictive Modeling (Optional)\n",
    "---\n",
    "* Linear Regression with scikit-learn\n",
    "* Model training, evaluation basics\n",
    "* Avoiding overfitting, test/train split\n",
    "  \n",
    "**Project:** \n",
    "* Predict future sales or employee attrition using linear regression\n",
    "\n",
    "**Learning Objectives**\n",
    "\n",
    "By the end of this week, you will be able to:\n",
    "- Understand what a predictive model is\n",
    "- Build a simple linear regression model using `scikit-learn`\n",
    "- Split data into training and testing sets\n",
    "- Evaluate model performance (R², MAE, RMSE)\n",
    "- Use the model to make predictions\n"
   ]
  },
  {
   "cell_type": "markdown",
   "id": "4c464bd7",
   "metadata": {},
   "source": [
    "# What is Predictive Modeling?\n",
    "\n",
    "> Predictive modeling uses **historical data** to forecast **future outcomes**.\n",
    "\n",
    "Examples:\n",
    "- Predict next month’s sales\n",
    "- Predict employee attrition\n",
    "- Predict customer ratings or satisfaction\n",
    "\n",
    "## Linear Regression Overview\n",
    "\n",
    "- Simplest form of prediction\n",
    "- Assumes a **linear relationship** between input (X) and output (y)\n",
    "- Predicts **continuous** values\n",
    "\n",
    "\n",
    "## Modeling Workflow\n",
    "\n",
    "1. **Define X (features) and y (target)**\n",
    "2. **Split** the data into training and test sets\n",
    "3. **Train** the model using `.fit()`\n",
    "4. **Predict** on new data using `.predict()`\n",
    "5. **Evaluate** the model\n",
    "\n",
    "## Key Metrics\n",
    "\n",
    "| Metric | Use |\n",
    "|--------|-----|\n",
    "| R²     | How well model explains variance (closer to 1 = better) |\n",
    "| MAE    | Mean Absolute Error (lower = better) |\n",
    "| RMSE   | Root Mean Squared Error (lower = better) |\n",
    "\n",
    "\n",
    "### Tips for Good Predictions\n",
    "\n",
    "- Make sure your features (X) are numeric\n",
    "- Remove or fill missing values\n",
    "- Avoid using features that \"leak\" future information\n",
    "- Trai/test split is critical to avoid overfitting\n",
    "\n",
    "### scikit-learn Model Summary\n",
    "\n",
    "| Step        | Function                              |\n",
    "| ----------- | ------------------------------------- |\n",
    "| Split data  | `train_test_split()`                  |\n",
    "| Train model | `model.fit()`                         |\n",
    "| Predict     | `model.predict()`                     |\n",
    "| Evaluate    | `r2_score()`, `mean_absolute_error()` |\n"
   ]
  },
  {
   "cell_type": "code",
   "execution_count": null,
   "id": "22d5e716-4514-4eaa-83e7-b0670831674a",
   "metadata": {},
   "outputs": [],
   "source": []
  }
 ],
 "metadata": {
  "kernelspec": {
   "display_name": "venv",
   "language": "python",
   "name": "python3"
  },
  "language_info": {
   "codemirror_mode": {
    "name": "ipython",
    "version": 3
   },
   "file_extension": ".py",
   "mimetype": "text/x-python",
   "name": "python",
   "nbconvert_exporter": "python",
   "pygments_lexer": "ipython3",
   "version": "3.12.3"
  }
 },
 "nbformat": 4,
 "nbformat_minor": 5
}
