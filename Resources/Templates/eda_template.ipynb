{
 "cells": [
  {
   "cell_type": "markdown",
   "id": "ca3b2336",
   "metadata": {},
   "source": [
    "# Exploratory Data Analysis (EDA) – Template\n",
    "\n",
    "## 1. Load Data\n",
    "\n",
    "```python\n",
    "import pandas as pd\n",
    "\n",
    "df = pd.read_csv(\"your_dataset.csv\")\n",
    "df.head()\n",
    "```\n",
    "\n",
    "## 2. Inspect Dataset\n",
    "```python\n",
    "df.info()\n",
    "df.describe()\n",
    "df.isna().sum()\n",
    "df.dtypes\n",
    "```\n",
    "\n",
    "## 3. Clean Data\n",
    "# Handle missing values\n",
    "```python\n",
    "df = df.dropna()\n",
    "\n",
    "# Fix column names or formats\n",
    "df.columns = df.columns.str.lower().str.replace(\" \", \"_\")\n",
    "```\n",
    "\n",
    "## 4. Visual Exploration\n",
    "```python\n",
    "import matplotlib.pyplot as plt\n",
    "import seaborn as sns\n",
    "\n",
    "sns.histplot(df['column'])\n",
    "sns.boxplot(x='category', y='value', data=df)\n",
    "```\n",
    "\n",
    "## 5. Trends & Correlations\n",
    "```python\n",
    "sns.heatmap(df.corr(), annot=True)\n",
    "```\n",
    "\n",
    "## 6. Key Takeaways\n",
    "```python\n",
    "Insight 1:\n",
    "Insight 2:\n",
    "Insight 3:\n",
    "```\n"
   ]
  },
  {
   "cell_type": "code",
   "execution_count": null,
   "id": "8d7eec7e-c475-4da4-a7c5-5de22fb63da8",
   "metadata": {},
   "outputs": [],
   "source": []
  }
 ],
 "metadata": {
  "kernelspec": {
   "display_name": "Python 3 (ipykernel)",
   "language": "python",
   "name": "python3"
  },
  "language_info": {
   "codemirror_mode": {
    "name": "ipython",
    "version": 3
   },
   "file_extension": ".py",
   "mimetype": "text/x-python",
   "name": "python",
   "nbconvert_exporter": "python",
   "pygments_lexer": "ipython3",
   "version": "3.12.3"
  }
 },
 "nbformat": 4,
 "nbformat_minor": 5
}
