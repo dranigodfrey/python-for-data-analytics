{
 "cells": [
  {
   "cell_type": "markdown",
   "id": "b1a80cc5-6e0b-4bd1-a542-49c49d5f9d96",
   "metadata": {},
   "source": [
    "# Python for Data Analytics\n",
    "--- \n",
    "\n",
    "**Skill Level:** \n",
    "Absolute beginners to intermediate learners\n",
    "\n",
    "**Career Paths:** \n",
    "Data Analyst, Business Analyst, Junior Data Scientist.\n",
    "\n",
    "**Goal:** \n",
    "Equip learners with job-ready skills in Python for data analytics, from programming fundamentals to applied analytics, data wrangling, visualization, and storytelling.\n",
    "\n",
    "**Tools:** \n",
    "Jupyter Notebook, pandas, NumPy, matplotlib, seaborn, and scikit-learn.\n",
    "\n",
    "**Project Format:** \n",
    "Mini-projects, real-world datasets, code reviews"
   ]
  },
  {
   "cell_type": "markdown",
   "id": "1369b2ff-e2d3-4326-bcd7-cf5fd787d71b",
   "metadata": {},
   "source": [
    "## Phase 1: Python Programming Foundations\n",
    "***(Weeks 1–4)-Build foundational Python skills for data work.***\n"
   ]
  },
  {
   "cell_type": "markdown",
   "id": "8a5ec278-1294-4e03-aee9-51c20f12c3f1",
   "metadata": {},
   "source": [
    "### Week 1: Python Basics & Environment Setup\n",
    "**Topics:**\n",
    "* Installing Python and Jupyter Notebooks\n",
    "* Data types, variables, inputs, outputs\n",
    "* Basic arithmetic and string formatting\n",
    "\n",
    "**Mini Project:**\n",
    "* BMI calculator \n",
    "* Name Formatter\n",
    "* Currency Convert \n",
    "\n",
    "**Project:**\n",
    "* “Data Entry Sanitizer\" Clean and format text inputs like phone numbers or names.\n"
   ]
  },
  {
   "cell_type": "markdown",
   "id": "fa297ad7-9d5b-4b1d-9086-9a2794e1999c",
   "metadata": {},
   "source": [
    "### Installing Python and Jupyter Notebooks\n",
    "\n",
    "To begin Python programming, you need:\n",
    "\n",
    "Python: Install from https://python.org\n",
    "\n",
    "**JupyterLab**\n",
    "```python\n",
    "#Install JupyterLab with pip:\n",
    "pip install jupyterlab\n",
    "\n",
    "#launch jupyterlab\n",
    "jupyter lab \n",
    "\n",
    "```\n",
    "**Jupyter Notebook**\n",
    "```python\n",
    "#Install the classic Jupyter Notebook with:\n",
    "pip install notebook\n",
    "\n",
    "#To run the notebook:\n",
    "jupyter notebook \n",
    "\n",
    "```"
   ]
  },
  {
   "cell_type": "markdown",
   "id": "064fb4da-36ef-4e7f-ad86-69d85462de24",
   "metadata": {},
   "source": [
    "## Markdown Basics\n",
    "\n",
    "Markdown is a lightweight markup language that uses characters like # for headings and * for emphasis to format text simply and intuitively."
   ]
  },
  {
   "cell_type": "markdown",
   "id": "f262df05-c922-49c7-aef7-2fe9193ca66a",
   "metadata": {},
   "source": [
    "| Element        | Markdown Syntax                        |\n",
    "|----------------|----------------------------------------|\n",
    "| Heading        | `# H1`<br>`## H2`<br>`### H3`          |\n",
    "| Bold           | `**bold text**`                        |\n",
    "| Italic         | `*italicized text*`                    |\n",
    "| Blockquote     | `> blockquote`                         |\n",
    "| Ordered List   | `1. First item`<br>`2. Second item`<br>`3. Third item` |\n",
    "| Unordered List | `- First item`<br>`- Second item`<br>`- Third item`   |\n",
    "| Code           | `` `code` ``                           |\n",
    "| Horizontal Rule| `---`                                  |\n",
    "| Link           | `[title](https://www.example.com)`     |\n",
    "| Image          | `![alt text](image.jpg)`               |\n",
    "\n",
    "[Here is a more info on Markdown](https://www.markdownguide.org/basic-syntax/)"
   ]
  },
  {
   "cell_type": "markdown",
   "id": "2e4bb529-f4f7-4807-99bd-1885f6429ae5",
   "metadata": {},
   "source": [
    "# Data types, variables, inputs, outputs"
   ]
  },
  {
   "cell_type": "markdown",
   "id": "990cad16-b275-4ddc-96ad-ee192aaaf860",
   "metadata": {},
   "source": [
    "### Common Data Types"
   ]
  },
  {
   "cell_type": "code",
   "execution_count": 5,
   "id": "c27e7b72-ba08-4d5f-8c1f-326f0c30c176",
   "metadata": {},
   "outputs": [],
   "source": [
    "# Integer\n",
    "age = 25\n",
    "\n",
    "# Float\n",
    "height = 5.9\n",
    "\n",
    "# String\n",
    "name = \"Alice\"\n",
    "\n",
    "# Boolean\n",
    "is_student = True\n"
   ]
  },
  {
   "cell_type": "markdown",
   "id": "00793793-5efb-4cf5-b7fb-d1b3a956e706",
   "metadata": {},
   "source": [
    "### Getting User Input & Displaying Output"
   ]
  },
  {
   "cell_type": "code",
   "execution_count": null,
   "id": "5b7113e1-b66d-4c8f-87b5-40d7aa289f1b",
   "metadata": {},
   "outputs": [],
   "source": [
    "# Input\n",
    "user_name = input(\"Enter your name: \")\n",
    "\n",
    "# Output\n",
    "print(\"Hello,\", user_name)\n"
   ]
  },
  {
   "cell_type": "markdown",
   "id": "b30b7ac3-8ab0-429a-9381-b179f859ae98",
   "metadata": {},
   "source": [
    "# Basic arithmetic and string formatting"
   ]
  },
  {
   "cell_type": "markdown",
   "id": "37b4be4a-4ed2-4cfb-829b-c95adaa63d8e",
   "metadata": {},
   "source": [
    "### Arithmetic Operators"
   ]
  },
  {
   "cell_type": "code",
   "execution_count": null,
   "id": "5965425f-2035-4653-a278-ee334a5774ed",
   "metadata": {},
   "outputs": [],
   "source": [
    "a = 10\n",
    "b = 3\n",
    "\n",
    "print(\"Addition:\", a + b)\n",
    "print(\"Subtraction:\", a - b)\n",
    "print(\"Multiplication:\", a * b)\n",
    "print(\"Division:\", a / b)\n",
    "print(\"Modulus:\", a % b)\n",
    "print(\"Exponent:\", a ** b)\n"
   ]
  },
  {
   "cell_type": "markdown",
   "id": "2bb04d82-726b-4061-b5ba-f55bd39b3af5",
   "metadata": {},
   "source": [
    "### String Formatting"
   ]
  },
  {
   "cell_type": "code",
   "execution_count": null,
   "id": "fc511181-9374-4537-9a22-df25528a5788",
   "metadata": {},
   "outputs": [],
   "source": [
    "name = \"Alex\"\n",
    "age = 30\n",
    "\n",
    "# Using f-strings\n",
    "print(f\"My name is {name} and I am {age} years old.\")\n"
   ]
  },
  {
   "cell_type": "markdown",
   "id": "c9e62b19-ba3e-489a-b1db-9947cc9db59b",
   "metadata": {},
   "source": [
    "# Mini Project:"
   ]
  },
  {
   "cell_type": "markdown",
   "id": "6c1f73a9-eae7-480d-89e7-ea92c5c9d5b0",
   "metadata": {},
   "source": [
    "### 1. BMI calculator "
   ]
  },
  {
   "cell_type": "code",
   "execution_count": 1,
   "id": "9e2130d4-ca22-4a62-8e46-36d1c7ae6ecc",
   "metadata": {},
   "outputs": [],
   "source": [
    "# BMI = weight (kg) / height (m)^2\n",
    "\n",
    "weight = float(input(\"Enter your weight in kg: \"))\n",
    "height = float(input(\"Enter your height in meters: \"))\n",
    "\n",
    "bmi = weight / (height ** 2)\n",
    "\n",
    "print(f\"Your BMI is {bmi:.2f}\")\n"
   ]
  },
  {
   "cell_type": "markdown",
   "id": "165169e0-87a9-4728-bad2-f16a71ab7e81",
   "metadata": {},
   "source": [
    "### 2. Name Formatter"
   ]
  },
  {
   "cell_type": "code",
   "execution_count": 2,
   "id": "e1f08f8d-69c2-4042-80ae-6f4baa1408f8",
   "metadata": {},
   "outputs": [],
   "source": [
    "full_name = input(\"Enter your full name: \")\n",
    "\n",
    "# Clean and format\n",
    "clean_name = full_name.strip().title()\n",
    "\n",
    "print(f\"Formatted Name: {clean_name}\")\n"
   ]
  },
  {
   "cell_type": "markdown",
   "id": "dd0ae061-8a1d-4b43-8032-124af49d8e35",
   "metadata": {},
   "source": [
    "### 3. Currency Convert "
   ]
  },
  {
   "cell_type": "code",
   "execution_count": 3,
   "id": "42ba8486-d31f-4312-b2e8-7f31e2cc4fab",
   "metadata": {},
   "outputs": [],
   "source": [
    "\n",
    "usd = float(input(\"Enter amount in USD: \"))\n",
    "exchange_rate = 75  # Example: 1 USD = 75 INR\n",
    "\n",
    "inr = usd * exchange_rate\n",
    "\n",
    "print(f\"{usd} USD = {inr:.2f} INR\")\n"
   ]
  },
  {
   "cell_type": "markdown",
   "id": "a985f3fe-5aff-484c-a6c2-3ffa774af8e5",
   "metadata": {},
   "source": [
    "# Project:\n",
    "“Data Entry Sanitizer\" Clean and format text inputs like phone numbers or names.\n"
   ]
  },
  {
   "cell_type": "code",
   "execution_count": 8,
   "id": "982c301a-07c3-4b0f-8711-484bae3b9fb4",
   "metadata": {},
   "outputs": [
    {
     "name": "stdin",
     "output_type": "stream",
     "text": [
      "Enter a name:  drani Godfrey \n"
     ]
    },
    {
     "name": "stdout",
     "output_type": "stream",
     "text": [
      "Sanitized Name: Drani Godfrey\n"
     ]
    }
   ],
   "source": [
    "# Names (remove extra spaces, capitalize properly)\n",
    "def sanitize_name(name):\n",
    "    return name.strip().title()\n",
    "\n",
    "# Example\n",
    "raw_name = input(\"Enter a name: \")\n",
    "cleaned_name = sanitize_name(raw_name)\n",
    "print(f\"Sanitized Name: {cleaned_name}\")\n"
   ]
  },
  {
   "cell_type": "code",
   "execution_count": 10,
   "id": "5e08fbdc-d85b-411d-822e-6bc4dae0b121",
   "metadata": {},
   "outputs": [
    {
     "name": "stdin",
     "output_type": "stream",
     "text": [
      "Enter phone number:  242342432423r23434r234r234r324\n"
     ]
    },
    {
     "name": "stdout",
     "output_type": "stream",
     "text": [
      "Sanitized Phone Number: +242342432423r23434r234r234r324\n"
     ]
    }
   ],
   "source": [
    "# Phone numbers (remove dashes/spaces, ensure valid format)\n",
    "def sanitize_phone_number(phone):\n",
    "    # Remove spaces, dashes, parentheses\n",
    "    phone = phone.replace(\" \", \"\").replace(\"-\", \"\").replace(\"(\", \"\").replace(\")\", \"\")\n",
    "    \n",
    "    # Check if starts with country code; if not, add one\n",
    "    if len(phone) == 10:\n",
    "        phone = \"+256\" + phone  # Example for India\n",
    "    elif not phone.startswith(\"+\"):\n",
    "        phone = \"+\" + phone\n",
    "    \n",
    "    return phone\n",
    "\n",
    "# Example\n",
    "raw_phone = input(\"Enter phone number: \")\n",
    "clean_phone = sanitize_phone_number(raw_phone)\n",
    "print(f\"Sanitized Phone Number: {clean_phone}\")\n"
   ]
  },
  {
   "cell_type": "code",
   "execution_count": null,
   "id": "487f24b2-e76f-4568-bd16-283290b7932f",
   "metadata": {},
   "outputs": [],
   "source": [
    "name = input(\"Enter your name: \")\n",
    "phone = input(\"Enter your phone number: \")\n",
    "\n",
    "print(\"\\nSanitized Outputs:\")\n",
    "print(\"Name:\", sanitize_name(name))\n",
    "print(\"Phone:\", sanitize_phone_number(phone))\n"
   ]
  },
  {
   "cell_type": "markdown",
   "id": "74227b9f-cb4a-4e33-abe3-ba1c67f0b1de",
   "metadata": {},
   "source": [
    "### Week 2: Control Flow & Logic in Data Contexts\n",
    "**Topics:**\n",
    "* Conditional logic: if, elif, else logic\n",
    "* Loops: for, while, range()\n",
    "* Boolean expressions and comparison operators\n",
    "* Simple data validation (email, age, salary)\n",
    "\n",
    "**Project:** \n",
    "* \"Survey Quality Checker\" Write a script to flag bad entries in a mock survey dataset.\n"
   ]
  },
  {
   "cell_type": "markdown",
   "id": "9bfeff10-dabe-425a-8a94-bdda1690bf73",
   "metadata": {},
   "source": [
    "### Week 3: Functions, Reusability & Error Handling\n",
    "**Key concepts:**\n",
    "\n",
    "* Defining functions (def)\n",
    "* Parameters, return, default values\n",
    "* Built-in functions vs user-defined\n",
    "* Default arguments, scope\n",
    "* Lambda expressions for quick filtering\n",
    "* Error handling: Try/except, assert, basic logging\n",
    "\n",
    "**Mini Project:**\n",
    "* Reusable data cleaning and transformation functions\n",
    "\n",
    "**Project:** \n",
    "* \"Data Cleaning Toolbox\" – Build reusable functions for tasks like removing whitespace, fixing dates, capitalizing names.\n"
   ]
  },
  {
   "cell_type": "markdown",
   "id": "3fd3fdba-9c26-48b2-bc2b-8f80297584cb",
   "metadata": {},
   "source": [
    "### Week 4: Lists, Dictionaries & Working with Nested Data\n",
    "**Topics:**\n",
    "* Data structures: list, dict, tuple, set\n",
    "* Indexing, slicing, updating\n",
    "* Nested structures and Iteration\n",
    "* List comprehensions (intro)\n",
    "  \n",
    "**Mini Project:**\n",
    "* Frequency counters\n",
    "* Filtering and grouping\n",
    "\n",
    "**Project:** \n",
    "* \"Mini CRM System\" – Store, search, and update mock customer records using nested dictionaries/lists.\n"
   ]
  },
  {
   "cell_type": "markdown",
   "id": "b5dda2b2-5f4e-48d1-807e-83694c638dda",
   "metadata": {},
   "source": [
    "## Phase 2: Data Analytics With Python\n",
    "**(Weeks 5–10) - Hands-on with real-World Data Workflows**"
   ]
  },
  {
   "cell_type": "markdown",
   "id": "e3e087e6-ff4c-401a-aca4-9e1fbab8f09e",
   "metadata": {},
   "source": [
    "### Week 5: File I/O and Data Ingestion\n",
    "**Topics:**\n",
    "* Reading/writing: .txt, .csv using open(), csv module\n",
    "* Working with file paths\n",
    "* JSON parsing with json module\n",
    "* Basic exception handling for file errors\n",
    "\n",
    "**Project:** \n",
    "\"Sales Data Summary\" - Load CSV and calculate totals, averages, handle missing/error rows.\n"
   ]
  },
  {
   "cell_type": "markdown",
   "id": "0fbc336e-b3e0-4c19-9dbd-f6021a779821",
   "metadata": {},
   "source": [
    "### Week 6: NumPy for Efficient Numerical Computing\n",
    "**Topics:**\n",
    "* Why Numpy: performance vs Lists\n",
    "* Arrays, slicing, reshaping\n",
    "* Element-wise operations and broadcasting\n",
    "* Aggregation: sum(), mean(), std()\n",
    "* Boolean indexing for filtering\n",
    "\n",
    "**Project:** \n",
    "*Analyze a small dataset using Numpy arrays for transformation and filtering\n"
   ]
  },
  {
   "cell_type": "markdown",
   "id": "14bf981a-848f-43c5-bc15-06bafc551080",
   "metadata": {},
   "source": [
    "### Week 7: Pandas Fundamentals\n",
    "**Topics:**\n",
    "* DataFrame vs Series\n",
    "* Loading CSV/Excel data\n",
    "* Exploring datasets: .head( ), .info( ), .describe( )\n",
    "* Selecting/filtering with .loc[ ], .iloc[ ]\n",
    "\n",
    "**Min project:**\n",
    "* Filter high-value transactions or recent records\n",
    "\n",
    "**Project:** \n",
    "* “HR Analytics Explorer” – Analyze headcount, attrition rate, salary bands\n"
   ]
  },
  {
   "cell_type": "markdown",
   "id": "49cff604-898e-47ce-92f6-8ccb4f66faa2",
   "metadata": {},
   "source": [
    "### Week 8: Data Cleaning with Pandas\n",
    "**Topics:**\n",
    "* Handling nulls: isna( ), fillna( )\n",
    "* String operations: .str.lower( ), .strip( ), .replace( )\n",
    "* Date parsing and type conversion\n",
    "* Renaming columns, dropping duplicates\n",
    "\n",
    "**Project:** \n",
    "* “CRM Export Cleaner” – Clean a messy dataset for sales or marketing team\n"
   ]
  },
  {
   "cell_type": "markdown",
   "id": "41f6567d-22d6-4c00-adbc-e64baed5c852",
   "metadata": {},
   "source": [
    "### Week 9: Data Transformation & Feature Engineering\n",
    "**Topics:**\n",
    "* Creating new columns with apply() & lambda\n",
    "* Binning & categorization (pd.cut(), qcut())\n",
    "* Dummy variables (get_dummies)\n",
    "* Mapping values (e.g., scoring systems)\n",
    "\n",
    "*Project:* \n",
    "* Customer segmentation or performance tiering (e.g., \"Gold\", \"Silver\", \"Bronze\")\n"
   ]
  },
  {
   "cell_type": "markdown",
   "id": "5a147599-9b52-44e2-ba33-98f87f0e5947",
   "metadata": {},
   "source": [
    "### Week 10: Aggregation, Grouping, and Pivoting\n",
    "**Topics:**\n",
    "* Grouping with .groupby() and .agg()\n",
    "* Pivot tables with .pivot_table()\n",
    "* Sorting and filtering summaries\n",
    "* Multi-level aggregation\n",
    "\n",
    "**Project:** \n",
    "* “Revenue by Product Category” – Analyze revenue trends and generate pivot tables by region/month\n"
   ]
  },
  {
   "cell_type": "markdown",
   "id": "d398a030-fbdc-4481-b985-1b68661a0fd6",
   "metadata": {},
   "source": [
    "### Phase 3: Visualization & Analytical Storytelling\n",
    "***(Weeks 11–13)-Communicate insights through data visuals***\n"
   ]
  },
  {
   "cell_type": "markdown",
   "id": "a359db11-ffc1-4f0e-8618-053fb5580f3f",
   "metadata": {},
   "source": [
    "### Week 11: Matplotlib Basics for Plotting\n",
    "**Topics:**\n",
    "* Line, bar, scatter, histogram\n",
    "* Titles, labels, ticks, legends\n",
    "* Saving charts as images\n",
    "\n",
    "**Project:**\n",
    "* “Revenue Dashboard” – Visualize monthly revenue and product trends\n"
   ]
  },
  {
   "cell_type": "markdown",
   "id": "35992df6-811a-461d-a717-6c645ccae9d0",
   "metadata": {},
   "source": [
    "### Week 12: Seaborn for Statistical Visualization\n",
    "**Topics:**\n",
    "* Distribution plots: distplot, boxplot, violinplot\n",
    "* Relationship plots: scatterplot, pairplot, heatmap\n",
    "* Themes and color palettes\n",
    "\n",
    "**Project:** \n",
    "* “Product Analytics Visuals” – Visualize sales vs pricing vs customer rating\n"
   ]
  },
  {
   "cell_type": "markdown",
   "id": "5a1cf660-aea1-40a7-a5bd-f36058c32c19",
   "metadata": {},
   "source": [
    "### Week 13: Exploratory Data Analysis (EDA) Projects\n",
    "**Topics:**\n",
    "* Combining pandas + matplotlib/seaborn\n",
    "* Detect outliers, correlations, missing data\n",
    "* Business storytelling: crafting a data narrative\n",
    "\n",
    "**Capstone Project:**\n",
    "* “EDA Case Study” – Titanic dataset, HR dataset, or a Kaggle dataset Include:\n",
    "    * Data cleaning\n",
    "    * Visual exploration\n",
    "    * Insight summary in Markdown or slides\n"
   ]
  },
  {
   "cell_type": "markdown",
   "id": "c501dc01-4f5c-487c-b140-88cacc9effeb",
   "metadata": {},
   "source": [
    "# Phase 4: Advanced Analytics & Projects \n",
    "**(Weeks 14–16)-Apply complete workflow and optionally explore ML**\n"
   ]
  },
  {
   "cell_type": "markdown",
   "id": "6a708e31-f2cb-4fec-a82e-c4320ef8bf12",
   "metadata": {},
   "source": [
    "### Week 14: Time Series & Date Analysis\n",
    "* Using .dt accessor for date components\n",
    "* Resampling: daily, weekly, monthly\n",
    "* Rolling averages, time windowing\n",
    "\n",
    "**Mini-Project:**\n",
    "* Analyze and visualize website traffic or sales trends over time\n"
   ]
  },
  {
   "cell_type": "markdown",
   "id": "e313e6e9-a62d-4bac-a42a-98cdf83a734f",
   "metadata": {},
   "source": [
    "### Week 15: Intro to Predictive Modeling (Optional)\n",
    "* Linear Regression with scikit-learn\n",
    "* Model training, evaluation basics\n",
    "* Avoiding overfitting, test/train split\n",
    "  \n",
    "**Mini-Project:** \n",
    "* Predict future sales or employee attrition using linear regression\n"
   ]
  },
  {
   "cell_type": "markdown",
   "id": "af31e630-ee48-41bb-b57c-b548aadce382",
   "metadata": {},
   "source": [
    "### Week 16: Final Capstone Project\n",
    "**Choose one real dataset and business problem:**\n",
    "* Retail Sales Dashboard\n",
    "* HR Attrition Analysis\n",
    "* Marketing Funnel Performance\n",
    "* Financial KPIs Tracker\n",
    "* Survey Sentiment and NPS Analysis\n",
    "\n",
    "**Deliverables:**\n",
    "* Cleaned dataset\n",
    "* Data transformation notebook\n",
    "* 3–5 meaningful visualizations\n",
    "* Insightful summary (Markdown / PowerPoint)\n",
    "* GitHub repo or downloadable PDF\n"
   ]
  },
  {
   "cell_type": "code",
   "execution_count": null,
   "id": "00caed78-a0e4-4700-80e0-d99fd202ca3f",
   "metadata": {},
   "outputs": [],
   "source": []
  }
 ],
 "metadata": {
  "kernelspec": {
   "display_name": "Python 3 (ipykernel)",
   "language": "python",
   "name": "python3"
  },
  "language_info": {
   "codemirror_mode": {
    "name": "ipython",
    "version": 3
   },
   "file_extension": ".py",
   "mimetype": "text/x-python",
   "name": "python",
   "nbconvert_exporter": "python",
   "pygments_lexer": "ipython3",
   "version": "3.12.3"
  }
 },
 "nbformat": 4,
 "nbformat_minor": 5
}
