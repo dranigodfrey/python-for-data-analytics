{
 "cells": [
  {
   "cell_type": "markdown",
   "id": "b1a80cc5-6e0b-4bd1-a542-49c49d5f9d96",
   "metadata": {},
   "source": [
    "# Python for Data Analytics\n",
    "--- \n",
    "\n",
    "**Skill Level:** \n",
    "Absolute beginners to intermediate learners\n",
    "\n",
    "**Career Paths:** \n",
    "Data Analyst, Business Analyst, Junior Data Scientist.\n",
    "\n",
    "**Goal:** \n",
    "Equip learners with job-ready skills in Python for data analytics, from programming fundamentals to applied analytics, data wrangling, visualization, and storytelling.\n",
    "\n",
    "**Tools:** \n",
    "Jupyter Notebook, pandas, NumPy, matplotlib, seaborn, and scikit-learn.\n",
    "\n",
    "**Project Format:** \n",
    "Mini-projects, real-world datasets, code reviews"
   ]
  },
  {
   "cell_type": "markdown",
   "id": "1369b2ff-e2d3-4326-bcd7-cf5fd787d71b",
   "metadata": {},
   "source": [
    "---\n",
    "# Phase 1: Python Programming Foundations\n",
    "***(Weeks 1–4)-Build foundational Python skills for data work.***\n"
   ]
  },
  {
   "cell_type": "markdown",
   "id": "8a5ec278-1294-4e03-aee9-51c20f12c3f1",
   "metadata": {},
   "source": [
    "# Week 1: Python Basics & Environment Setup\n",
    "**Topics:**\n",
    "* Installing Python and Jupyter Notebooks\n",
    "* Data types, variables, inputs, outputs\n",
    "* Basic arithmetic and string formatting\n",
    "\n",
    "**Exercises:**\n",
    "* BMI calculator \n",
    "* Name Formatter\n",
    "* Currency Convert \n",
    "\n",
    "**Project:**\n",
    "* “Data Entry Sanitizer\" Clean and format text inputs like phone numbers or names.\n",
    "\n",
    "**Learning Objectives**\n",
    "\n",
    "By the end of this week, you will be able to:\n",
    "- Set up Python and Jupyter notebooks on your system\n",
    "- Understand and use basic data types and variables\n",
    "- Perform arithmetic and format strings\n",
    "- Write small scripts that take user input and produce output\n"
   ]
  },
  {
   "cell_type": "markdown",
   "id": "8c377a64-0b2f-4283-b3d2-20b3bc0b641a",
   "metadata": {},
   "source": [
    "## Setting Up Your Environment\n",
    "- Python: The programming language we'll use to write all our data analysis code.\n",
    "- Jupyter Notebook: An interactive workspace to write, run, and document Python code easily.\n",
    "  \n",
    "### Local Setup\n",
    "- Install Python: [https://www.python.org/downloads/](https://www.python.org/downloads/)\n",
    "- Install Jupyter using pip: [https://jupyter.org/install](https://jupyter.org/install)\n",
    "- Understanding python virtual environment\n",
    "    - an isolated environment on your computer, where you can run and test your Python projects.\n",
    "    - It allows you to manage project-specific dependencies without interfering with other projects or the original Python installation.\n",
    "\n",
    "#### JupyterLab\n",
    "```python\n",
    "#Install JupyterLab with pip:\n",
    "pip install jupyterlab\n",
    "\n",
    "#launch jupyterlab\n",
    "jupyter lab \n",
    "\n",
    "```\n",
    "#### Jupyter Notebook\n",
    "```python\n",
    "#Install the classic Jupyter Notebook with:\n",
    "pip install notebook\n",
    "\n",
    "#To run the notebook:\n",
    "jupyter notebook \n",
    "\n",
    "```"
   ]
  },
  {
   "cell_type": "markdown",
   "id": "064fb4da-36ef-4e7f-ad86-69d85462de24",
   "metadata": {},
   "source": [
    "## Markdown Basics\n",
    "\n",
    "Markdown is a lightweight markup language that uses characters like # for headings and * for emphasis to format text simply and intuitively."
   ]
  },
  {
   "cell_type": "markdown",
   "id": "f262df05-c922-49c7-aef7-2fe9193ca66a",
   "metadata": {},
   "source": [
    "| Element        | Markdown Syntax                        |\n",
    "|----------------|----------------------------------------|\n",
    "| Heading        | `# H1`<br>`## H2`<br>`### H3`          |\n",
    "| Bold           | `**bold text**`                        |\n",
    "| Italic         | `*italicized text*`                    |\n",
    "| Blockquote     | `> blockquote`                         |\n",
    "| Ordered List   | `1. First item`<br>`2. Second item`<br>`3. Third item` |\n",
    "| Unordered List | `- First item`<br>`- Second item`<br>`- Third item`   |\n",
    "| Code           | `` `code` ``                           |\n",
    "| Horizontal Rule| `---`                                  |\n",
    "| Link           | `[title](https://www.example.com)`     |\n",
    "| Image          | `![alt text](image.jpg)`               |\n",
    "\n",
    "[Here is a more info on Markdown](https://www.markdownguide.org/basic-syntax/)"
   ]
  },
  {
   "cell_type": "markdown",
   "id": "fcd3f4dd-0e02-46bb-b029-ba90c9dfe411",
   "metadata": {},
   "source": [
    "# Data types, variables, inputs, outputs\n",
    "\n",
    "## Key Concepts:\n",
    "\n",
    "- **Variable:** A named container to store data.\n",
    "- **Data types:** Types of data like numbers, text (strings), and True/False (booleans).\n",
    "- **Input:** Getting data from the user.\n",
    "- **Output:** Displaying information back to the user."
   ]
  },
  {
   "cell_type": "markdown",
   "id": "990cad16-b275-4ddc-96ad-ee192aaaf860",
   "metadata": {},
   "source": [
    "### Data Types\n",
    "- define what kind of data a variable holds:"
   ]
  },
  {
   "cell_type": "code",
   "execution_count": 1,
   "id": "c27e7b72-ba08-4d5f-8c1f-326f0c30c176",
   "metadata": {},
   "outputs": [],
   "source": [
    "# Integer\n",
    "age = 25\n",
    "\n",
    "# Float\n",
    "height = 5.9\n",
    "\n",
    "# String\n",
    "name = \"Alice\"\n",
    "\n",
    "# Boolean\n",
    "is_student = True"
   ]
  },
  {
   "cell_type": "markdown",
   "id": "c0b26a5f-050d-4a6e-ab84-b9f913a4152d",
   "metadata": {},
   "source": [
    "### Variables\n",
    "- Variables are temporary storage locations that hold data during a program’s execution.\n",
    "- Think of them as labeled boxes where we can store information like a name, number, or result."
   ]
  },
  {
   "cell_type": "code",
   "execution_count": 2,
   "id": "63538853-2cd6-48eb-8d03-4e4c981e459e",
   "metadata": {},
   "outputs": [],
   "source": [
    "name:str = \"Alice\"\n",
    "age:int = 25\n",
    "pi:float = 3.1415"
   ]
  },
  {
   "cell_type": "markdown",
   "id": "00793793-5efb-4cf5-b7fb-d1b3a956e706",
   "metadata": {},
   "source": [
    "### Getting User Input & Displaying Output\n",
    "- **input()** lets users type data into the program.\n",
    "- **print()** displays output or messages on the screen."
   ]
  },
  {
   "cell_type": "code",
   "execution_count": 7,
   "id": "5b7113e1-b66d-4c8f-87b5-40d7aa289f1b",
   "metadata": {},
   "outputs": [
    {
     "name": "stdout",
     "output_type": "stream",
     "text": [
      "Enter your name:  ee\n"
     ]
    },
    {
     "name": "stdout",
     "output_type": "stream",
     "text": [
      "Hello, ee\n"
     ]
    }
   ],
   "source": [
    "# Input\n",
    "user_name = str(input(\"Enter your name: \"))\n",
    "\n",
    "# Output\n",
    "print(\"Hello,\", user_name)"
   ]
  },
  {
   "cell_type": "markdown",
   "id": "b30b7ac3-8ab0-429a-9381-b179f859ae98",
   "metadata": {},
   "source": [
    "# Basic arithmetic and string formatting\n",
    "\n",
    "## Key Concepts:\n",
    "\n",
    "* Arithmetic operators: +, -, *, / for math operations.\n",
    "* String formatting: Inserting variables inside text cleanly for messages."
   ]
  },
  {
   "cell_type": "markdown",
   "id": "37b4be4a-4ed2-4cfb-829b-c95adaa63d8e",
   "metadata": {},
   "source": [
    "### Arithmetic Operators\n",
    "- Used to compute values or process numeric data."
   ]
  },
  {
   "cell_type": "code",
   "execution_count": 6,
   "id": "5965425f-2035-4653-a278-ee334a5774ed",
   "metadata": {},
   "outputs": [
    {
     "name": "stdout",
     "output_type": "stream",
     "text": [
      "Addition: 13\n",
      "Subtraction: 7\n",
      "Multiplication: 30\n",
      "Division: 3.3333333333333335\n",
      "Modulus: 1\n",
      "Exponent: 1000\n",
      "Floor division: 3\n"
     ]
    }
   ],
   "source": [
    "a = 10\n",
    "b = 3\n",
    "\n",
    "print(\"Addition:\", a + b)\n",
    "print(\"Subtraction:\", a - b)\n",
    "print(\"Multiplication:\", a * b)\n",
    "print(\"Division:\", a / b)\n",
    "print(\"Modulus:\", a % b)\n",
    "print(\"Exponent:\", a ** b)\n",
    "print(\"Floor division:\", a // b)"
   ]
  },
  {
   "cell_type": "code",
   "execution_count": 5,
   "id": "4db71114-92d4-4df7-9ebb-dae896f1885c",
   "metadata": {},
   "outputs": [
    {
     "data": {
      "text/plain": [
       "3"
      ]
     },
     "execution_count": 5,
     "metadata": {},
     "output_type": "execute_result"
    }
   ],
   "source": [
    "a//b"
   ]
  },
  {
   "cell_type": "markdown",
   "id": "2bb04d82-726b-4061-b5ba-f55bd39b3af5",
   "metadata": {},
   "source": [
    "### String Formatting\n",
    "- Used to build readable messages or combine text and variables"
   ]
  },
  {
   "cell_type": "code",
   "execution_count": null,
   "id": "fc511181-9374-4537-9a22-df25528a5788",
   "metadata": {},
   "outputs": [],
   "source": [
    "name = \"Alex\"\n",
    "age = 30\n",
    "\n",
    "# Using f-strings\n",
    "print(f\"My name is {name} and I am {age} years old.\")"
   ]
  },
  {
   "cell_type": "markdown",
   "id": "c9e62b19-ba3e-489a-b1db-9947cc9db59b",
   "metadata": {},
   "source": [
    "# Exercises:"
   ]
  },
  {
   "cell_type": "markdown",
   "id": "6c1f73a9-eae7-480d-89e7-ea92c5c9d5b0",
   "metadata": {},
   "source": [
    "### BMI calculator "
   ]
  },
  {
   "cell_type": "code",
   "execution_count": null,
   "id": "9e2130d4-ca22-4a62-8e46-36d1c7ae6ecc",
   "metadata": {},
   "outputs": [],
   "source": [
    "# BMI = weight (kg) / height (m)^2\n",
    "\n",
    "weight = float(input(\"Enter your weight in kg: \"))\n",
    "height = float(input(\"Enter your height in meters: \"))\n",
    "\n",
    "bmi = weight / (height ** 2)\n",
    "\n",
    "print(f\"Your BMI is {bmi:.2f}\")"
   ]
  },
  {
   "cell_type": "markdown",
   "id": "165169e0-87a9-4728-bad2-f16a71ab7e81",
   "metadata": {},
   "source": [
    "### Name Formatter"
   ]
  },
  {
   "cell_type": "code",
   "execution_count": null,
   "id": "e1f08f8d-69c2-4042-80ae-6f4baa1408f8",
   "metadata": {},
   "outputs": [],
   "source": [
    "print(\"Name Formatter\")\n",
    "\n",
    "first = input(\"Enter first name: \").strip()\n",
    "last = input(\"Enter last name: \").strip()\n",
    "\n",
    "formatted_name = f\"{first.capitalize()} {last.upper()}\"\n",
    "print(f\"Formatted Name: {formatted_name}\")"
   ]
  },
  {
   "cell_type": "markdown",
   "id": "dd0ae061-8a1d-4b43-8032-124af49d8e35",
   "metadata": {},
   "source": [
    "### Currency Convert "
   ]
  },
  {
   "cell_type": "code",
   "execution_count": null,
   "id": "42ba8486-d31f-4312-b2e8-7f31e2cc4fab",
   "metadata": {},
   "outputs": [],
   "source": [
    "\n",
    "usd = float(input(\"Enter amount in USD: \"))\n",
    "exchange_rate = 75  # Example: 1 USD = 75 INR\n",
    "\n",
    "inr = usd * exchange_rate\n",
    "\n",
    "print(f\"{usd} USD = {inr:.2f} INR\")"
   ]
  },
  {
   "cell_type": "markdown",
   "id": "a985f3fe-5aff-484c-a6c2-3ffa774af8e5",
   "metadata": {},
   "source": [
    "# Project:\n",
    "### Data Entry Sanitizer\n",
    "\n",
    "**Goal**\n",
    "\n",
    "Write a Python script that takes in raw text input (like names or phone numbers) and cleans/formats them for consistent data entry.\n",
    "\n",
    "**Requirements**\n",
    "* Accept a full name (e.g., \" john DOE \") → Output: \"John Doe\"\n",
    "* Accept a phone number (e.g., \" (123) 456-7890 \" or \"1234567890\") → Output: +1-123-456-7890\n",
    "* Accept an email address and lowercase it\n"
   ]
  },
  {
   "cell_type": "code",
   "execution_count": null,
   "id": "b54e9de2-3ec4-491b-b750-01b43a55f9ab",
   "metadata": {},
   "outputs": [],
   "source": [
    "def clean_name(name):\n",
    "    parts = name.strip().split()\n",
    "    return \" \".join([part.capitalize() for part in parts])\n",
    "\n",
    "def format_phone(phone):\n",
    "    digits = ''.join(filter(str.isdigit, phone))\n",
    "    if len(digits) == 10:\n",
    "        return f\"+1-{digits[:3]}-{digits[3:6]}-{digits[6:]}\"\n",
    "    return \"Invalid number\"\n",
    "\n",
    "def clean_email(email):\n",
    "    return email.strip().lower()\n",
    "\n",
    "# User Input\n",
    "raw_name = input(\"Enter full name: \")\n",
    "raw_phone = input(\"Enter phone number: \")\n",
    "raw_email = input(\"Enter email address: \")\n",
    "\n",
    "# Cleaned Output\n",
    "print(\"\\n--- Cleaned Entry ---\")\n",
    "print(f\"Name: {clean_name(raw_name)}\")\n",
    "print(f\"Phone: {format_phone(raw_phone)}\")\n",
    "print(f\"Email: {clean_email(raw_email)}\")"
   ]
  },
  {
   "cell_type": "code",
   "execution_count": null,
   "id": "982c301a-07c3-4b0f-8711-484bae3b9fb4",
   "metadata": {},
   "outputs": [],
   "source": [
    "# Names (remove extra spaces, capitalize properly)\n",
    "def sanitize_name(name):\n",
    "    return name.strip().title()\n",
    "\n",
    "# Example\n",
    "raw_name = input(\"Enter a name: \")\n",
    "cleaned_name = sanitize_name(raw_name)\n",
    "print(f\"Sanitized Name: {cleaned_name}\")"
   ]
  },
  {
   "cell_type": "code",
   "execution_count": null,
   "id": "5e08fbdc-d85b-411d-822e-6bc4dae0b121",
   "metadata": {},
   "outputs": [],
   "source": [
    "# Phone numbers (remove dashes/spaces, ensure valid format)\n",
    "def sanitize_phone_number(phone):\n",
    "    # Remove spaces, dashes, parentheses\n",
    "    phone = phone.replace(\" \", \"\").replace(\"-\", \"\").replace(\"(\", \"\").replace(\")\", \"\")\n",
    "    \n",
    "    # Check if starts with country code; if not, add one\n",
    "    if len(phone) == 10:\n",
    "        phone = \"+256\" + phone  # Example for India\n",
    "    elif not phone.startswith(\"+\"):\n",
    "        phone = \"+\" + phone\n",
    "    \n",
    "    return phone\n",
    "\n",
    "# Example\n",
    "raw_phone = input(\"Enter phone number: \")\n",
    "clean_phone = sanitize_phone_number(raw_phone)\n",
    "print(f\"Sanitized Phone Number: {clean_phone}\")"
   ]
  },
  {
   "cell_type": "code",
   "execution_count": null,
   "id": "487f24b2-e76f-4568-bd16-283290b7932f",
   "metadata": {},
   "outputs": [],
   "source": [
    "name = input(\"Enter your name: \")\n",
    "phone = input(\"Enter your phone number: \")\n",
    "\n",
    "print(\"\\nSanitized Outputs:\")\n",
    "print(\"Name:\", sanitize_name(name))\n",
    "print(\"Phone:\", sanitize_phone_number(phone))"
   ]
  },
  {
   "cell_type": "markdown",
   "id": "74227b9f-cb4a-4e33-abe3-ba1c67f0b1de",
   "metadata": {},
   "source": [
    "# Week 2: Control Flow & Logic in Data Contexts\n",
    "**Topics:**\n",
    "* Conditional logic: if, elif, else logic\n",
    "* Loops: for, while, range()\n",
    "* Boolean expressions and comparison operators\n",
    "* Simple data validation (email, age, salary)\n",
    "\n",
    "**Project:** \n",
    "* \"Survey Quality Checker\" Write a script to flag bad entries in a mock survey dataset.\n",
    "\n",
    "**Learning Objectives**\n",
    "\n",
    "By the end of this week, you will be able to:\n",
    "- Use `if`, `elif`, and `else` for conditional logic\n",
    "- Apply `for` and `while` loops to iterate over data\n",
    "- Use comparison and boolean operators\n",
    "- Validate simple inputs like email, age, and salary using logic\n"
   ]
  },
  {
   "cell_type": "markdown",
   "id": "f90f9145-e455-495a-aeb9-c5e6be3901d1",
   "metadata": {},
   "source": [
    "## Control Flow Basics\n",
    "\n",
    "**How to make decisions in code.**\n",
    "\n",
    "## Key Concepts:\n",
    "\n",
    "- if checks a condition to see if it’s true.\n",
    "- elif (else if) checks another condition if the first was false.\n",
    "- else runs if none of the above were true.\n"
   ]
  },
  {
   "cell_type": "markdown",
   "id": "91b5e0eb-74b1-4ad1-bc1e-185332ac1d1d",
   "metadata": {},
   "source": [
    "### `if`, `elif`, `else`\n",
    "- Used to make decisions in code.\n",
    "- The program runs certain code blocks only if conditions are met."
   ]
  },
  {
   "cell_type": "code",
   "execution_count": null,
   "id": "32bb7193-2667-4100-8079-65d54477bf2a",
   "metadata": {},
   "outputs": [],
   "source": [
    "age = 18\n",
    "\n",
    "if age >= 18:\n",
    "    print(\"You can vote.\")\n",
    "elif age == 17:\n",
    "    print(\"Almost there!\")\n",
    "else:\n",
    "    print(\"Too young to vote.\")"
   ]
  },
  {
   "cell_type": "markdown",
   "id": "2b9d847d-4599-4bc7-8fce-b5aec063434f",
   "metadata": {},
   "source": [
    "# Loops\n",
    "**Repeating actions multiple times.**\n",
    "\n",
    "## Key Concepts:\n",
    "\n",
    "**for loops** run once for each item in a list or range.\n",
    "\n",
    "**while loops** run as long as a condition stays true.\n",
    "\n",
    "**range()** creates a sequence of numbers to loop over.\n"
   ]
  },
  {
   "cell_type": "markdown",
   "id": "63232af9-1613-4ccc-ab8b-6bc191dd746e",
   "metadata": {},
   "source": [
    "### for Loop\n",
    "- iterates over a sequence (e.g., list of names)."
   ]
  },
  {
   "cell_type": "code",
   "execution_count": null,
   "id": "5abcfa88-591f-484c-8520-9ce4604d4942",
   "metadata": {},
   "outputs": [],
   "source": [
    "for i in range(5):\n",
    "    print(i)"
   ]
  },
  {
   "cell_type": "markdown",
   "id": "686f8479-d0f8-4626-a68f-783543219840",
   "metadata": {},
   "source": [
    "### while Loop\n",
    "- runs as long as a condition is true."
   ]
  },
  {
   "cell_type": "code",
   "execution_count": null,
   "id": "9699919a-c734-407e-bf5d-7bfb69e5da8f",
   "metadata": {},
   "outputs": [],
   "source": [
    "count = 0\n",
    "while count < 5:\n",
    "    print(count)\n",
    "    count += 1"
   ]
  },
  {
   "cell_type": "markdown",
   "id": "68222aa1-4af4-4385-952a-42ed63291d66",
   "metadata": {},
   "source": [
    "### Boolean Operators\n",
    "**Checking conditions and making decisions.**\n",
    "\n",
    "## Key Concepts:\n",
    "\n",
    "- Boolean values are True or False.\n",
    "- Comparison operators: ==, !=, >, <, >=, <= to compare values.\n"
   ]
  },
  {
   "cell_type": "markdown",
   "id": "b5829fa5-927c-44aa-b9d5-1cd4e53c9be7",
   "metadata": {},
   "source": [
    "| Operator | Description      | Example            |\n",
    "| -------- | ---------------- | ------------------ |\n",
    "| `==`     | Equal to         | `a == b`           |\n",
    "| `!=`     | Not equal to     | `a != b`           |\n",
    "| `>`      | Greater than     | `a > b`            |\n",
    "| `<`      | Less than        | `a < b`            |\n",
    "| `>=`     | Greater or equal | `a >= b`           |\n",
    "| `<=`     | Less or equal    | `a <= b`           |\n",
    "| `and`    | Logical AND      | `a > 5 and b < 10` |\n",
    "| `or`     | Logical OR       | `a > 5 or b < 10`  |\n",
    "| `not`    | Logical NOT      | `not True`         |\n"
   ]
  },
  {
   "cell_type": "markdown",
   "id": "ab80264d-cd06-4d8d-b827-41d0dcc730e5",
   "metadata": {},
   "source": [
    "# Simple Data Validation\n",
    "### Making sure data makes sense before using it.\n",
    "\n",
    "- Validating if inputs meet rules (e.g., email contains “@”, age is positive).\n",
    "- Using conditions and logic to check data quality.\n"
   ]
  },
  {
   "cell_type": "markdown",
   "id": "f176060b-6bd4-45b5-8cea-97aac24be24e",
   "metadata": {},
   "source": [
    "### Email Checker"
   ]
  },
  {
   "cell_type": "code",
   "execution_count": null,
   "id": "3b0cb7f9-b113-4d62-886a-284edc2f77f7",
   "metadata": {},
   "outputs": [],
   "source": [
    "email = input(\"Enter email: \")\n",
    "\n",
    "if \"@\" in email and \".\" in email:\n",
    "    print(\"Looks like a valid email.\")\n",
    "else:\n",
    "    print(\"Invalid email.\")"
   ]
  },
  {
   "cell_type": "markdown",
   "id": "3771de59-5718-4bf8-855d-7a845f033cea",
   "metadata": {},
   "source": [
    "### Age Validator"
   ]
  },
  {
   "cell_type": "code",
   "execution_count": null,
   "id": "112dd834-d60c-4656-b006-790facdd18a2",
   "metadata": {},
   "outputs": [],
   "source": [
    "age = int(input(\"Enter your age: \"))\n",
    "\n",
    "if age <= 0:\n",
    "    print(\"Invalid age.\")\n",
    "elif age < 18:\n",
    "    print(\"Underage\")\n",
    "else:\n",
    "    print(\"Eligible\")"
   ]
  },
  {
   "cell_type": "markdown",
   "id": "0f203892-1621-4b4b-bfc1-6e9f94c8984f",
   "metadata": {},
   "source": [
    "### Real-World Relevance\n",
    "\n",
    "Control flow is essential when: \n",
    "- filtering, validating, and processing data, critical for cleaning, building logic-based rules, and flagging inconsistencies in datasets."
   ]
  },
  {
   "cell_type": "markdown",
   "id": "7a5bd577-1ba5-4fd6-ab5f-7f823f873de8",
   "metadata": {},
   "source": [
    "# Practice Exercises"
   ]
  },
  {
   "cell_type": "markdown",
   "id": "9769b9e5-f80d-4ec1-ba5c-9c85b3fd5114",
   "metadata": {},
   "source": [
    "### 1. Check if number is even or odd"
   ]
  },
  {
   "cell_type": "code",
   "execution_count": null,
   "id": "9bbb1693-f691-405c-bfcd-3d00a30a734e",
   "metadata": {},
   "outputs": [],
   "source": [
    "num = int(input(\"Enter a number: \"))\n",
    "if num % 2 == 0:\n",
    "    print(\"Even\")\n",
    "else:\n",
    "    print(\"Odd\")"
   ]
  },
  {
   "cell_type": "markdown",
   "id": "11ffb21a-9af1-4aba-9078-a61dc3565733",
   "metadata": {},
   "source": [
    "### 2. Grade Checker"
   ]
  },
  {
   "cell_type": "code",
   "execution_count": null,
   "id": "c0f603c0-6264-4fe5-a8da-31208826ba83",
   "metadata": {},
   "outputs": [],
   "source": [
    "score = int(input(\"Enter your score: \"))\n",
    "if score >= 90:\n",
    "    print(\"Grade: A\")\n",
    "elif score >= 75:\n",
    "    print(\"Grade: B\")\n",
    "elif score >= 60:\n",
    "    print(\"Grade: C\")\n",
    "else:\n",
    "    print(\"Grade: F\")"
   ]
  },
  {
   "cell_type": "markdown",
   "id": "7d46e5de-4912-4cc3-9e27-42436bec7363",
   "metadata": {},
   "source": [
    "### 3. Password Length Validator"
   ]
  },
  {
   "cell_type": "code",
   "execution_count": null,
   "id": "ce1a4448-deeb-4000-8ab3-4eb2211fd55f",
   "metadata": {},
   "outputs": [],
   "source": [
    "password = input(\"Enter password: \")\n",
    "if len(password) < 8:\n",
    "    print(\"Password too short\")\n",
    "else:\n",
    "    print(\"Password accepted\")"
   ]
  },
  {
   "cell_type": "markdown",
   "id": "45a8900f-6f49-4274-99e2-e144005bec6d",
   "metadata": {},
   "source": [
    "### 4. Loop through a list of numbers and print only positives"
   ]
  },
  {
   "cell_type": "code",
   "execution_count": null,
   "id": "b625c246-32d7-4ae4-8625-252d91ba78b3",
   "metadata": {},
   "outputs": [],
   "source": [
    "nums = [10, -5, 0, 22, -3]\n",
    "for n in nums:\n",
    "    if n > 0:\n",
    "        print(n)"
   ]
  },
  {
   "cell_type": "markdown",
   "id": "4a63ecb4-f1b4-42ea-8c43-3fe0d1b1f05b",
   "metadata": {},
   "source": [
    "### 5. Count how many even numbers in a list"
   ]
  },
  {
   "cell_type": "code",
   "execution_count": null,
   "id": "c465e254-97be-408b-bfdf-f8529b9ae091",
   "metadata": {},
   "outputs": [],
   "source": [
    "nums = [1, 2, 3, 4, 5, 6]\n",
    "count = 0\n",
    "for n in nums:\n",
    "    if n % 2 == 0:\n",
    "        count += 1\n",
    "print(f\"{count} even numbers\")\n"
   ]
  },
  {
   "cell_type": "markdown",
   "id": "8ee6dc9f-b428-4282-bd4d-4107084f7f16",
   "metadata": {},
   "source": [
    "### 6. Ask for input until user types \"exit\""
   ]
  },
  {
   "cell_type": "code",
   "execution_count": null,
   "id": "b4605b3f-1bac-4713-ab55-2ff60a97cc05",
   "metadata": {},
   "outputs": [],
   "source": [
    "while True:\n",
    "    cmd = input(\"Type something (or 'exit'): \")\n",
    "    if cmd == \"exit\":\n",
    "        break\n"
   ]
  },
  {
   "cell_type": "markdown",
   "id": "5a40fdff-207f-4ece-aab6-f0ee98a73561",
   "metadata": {},
   "source": [
    "### 7. Salary filter"
   ]
  },
  {
   "cell_type": "code",
   "execution_count": null,
   "id": "fe9a4aad-7767-4b58-b493-28761c66106d",
   "metadata": {},
   "outputs": [],
   "source": [
    "salary = float(input(\"Enter salary: \"))\n",
    "if salary < 30000:\n",
    "    print(\"Below threshold\")\n",
    "elif salary < 70000:\n",
    "    print(\"Mid-range\")\n",
    "else:\n",
    "    print(\"High salary\")\n"
   ]
  },
  {
   "cell_type": "markdown",
   "id": "377dcd84-1ec1-45a1-ad46-542e9ff5dbea",
   "metadata": {},
   "source": [
    "### 8. Email domain extractor"
   ]
  },
  {
   "cell_type": "code",
   "execution_count": null,
   "id": "046e13a8-ec27-46ce-adb2-4036c2e936d4",
   "metadata": {},
   "outputs": [],
   "source": [
    "email = input(\"Enter email: \")\n",
    "if \"@\" in email:\n",
    "    domain = email.split(\"@\")[1]\n",
    "    print(f\"Domain: {domain}\")\n",
    "else:\n",
    "    print(\"Invalid email\")\n"
   ]
  },
  {
   "cell_type": "markdown",
   "id": "83beb267-8875-4084-9282-3af559874a1d",
   "metadata": {},
   "source": [
    "\n",
    "# Project: \n",
    "\n",
    "### Survey Quality Checker\n",
    "\n",
    "### Goal\n",
    "Write a Python script that scans mock survey responses and **flags bad entries** based on:\n",
    "- Invalid emails\n",
    "- Age outside range (0–100)\n",
    "- Salary too low or negative\n",
    "\n",
    "\n",
    "### Sample Input (Mock Data)\n",
    "\n",
    "```python\n",
    "survey_responses = [\n",
    "    {\"email\": \"john@example.com\", \"age\": 28, \"salary\": 45000},\n",
    "    {\"email\": \"noatsymbol.com\", \"age\": 45, \"salary\": 65000},\n",
    "    {\"email\": \"sara@domain.com\", \"age\": -2, \"salary\": 50000},\n",
    "    {\"email\": \"mike@web.com\", \"age\": 33, \"salary\": -15000},\n",
    "]\n",
    "```\n",
    "### Your Task\n",
    "1. Loop through each dictionary in the list\n",
    "2. Check for:\n",
    "    * Valid email (@ and . present)\n",
    "    * Age between 0 and 100\n",
    "    * Salary >= 0\n",
    "3. Print invalid entries with the reason"
   ]
  },
  {
   "cell_type": "markdown",
   "id": "228f5751-c6f9-41a3-85fd-1de34e88a313",
   "metadata": {},
   "source": [
    "### Starter Code"
   ]
  },
  {
   "cell_type": "code",
   "execution_count": null,
   "id": "043f3e50-2de1-4908-bc36-9cc4f500e672",
   "metadata": {},
   "outputs": [],
   "source": [
    "def is_valid_email(email):\n",
    "    return \"@\" in email and \".\" in email\n",
    "\n",
    "def is_valid_age(age):\n",
    "    return 0 <= age <= 100\n",
    "\n",
    "def is_valid_salary(salary):\n",
    "    return salary >= 0\n",
    "\n",
    "# Data\n",
    "survey_responses = [\n",
    "    {\"email\": \"john@example.com\", \"age\": 28, \"salary\": 45000},\n",
    "    {\"email\": \"noatsymbol.com\", \"age\": 45, \"salary\": 65000},\n",
    "    {\"email\": \"sara@domain.com\", \"age\": -2, \"salary\": 50000},\n",
    "    {\"email\": \"mike@web.com\", \"age\": 33, \"salary\": -15000},\n",
    "]\n",
    "\n",
    "# Check each entry\n",
    "for response in survey_responses:\n",
    "    errors = []\n",
    "    if not is_valid_email(response[\"email\"]):\n",
    "        errors.append(\"Invalid email\")\n",
    "    if not is_valid_age(response[\"age\"]):\n",
    "        errors.append(\"Invalid age\")\n",
    "    if not is_valid_salary(response[\"salary\"]):\n",
    "        errors.append(\"Invalid salary\")\n",
    "    \n",
    "    if errors:\n",
    "        print(f\"Bad entry: {response}\")\n",
    "        for err in errors:\n",
    "            print(f\"  {err}\")\n"
   ]
  },
  {
   "cell_type": "markdown",
   "id": "40c490ae-058a-4bd2-b0bc-6dd271a2407e",
   "metadata": {},
   "source": [
    "# Stretch Goals\n",
    "\n",
    "- Collect valid entries into a clean list\n",
    "- Save invalid entries to a text file\n",
    "- Build a function clean_survey_data() to reuse this logic"
   ]
  },
  {
   "cell_type": "markdown",
   "id": "9bfeff10-dabe-425a-8a94-bdda1690bf73",
   "metadata": {},
   "source": [
    "# Week 3: Functions, Reusability & Error Handling\n",
    "**Topics:**\n",
    "\n",
    "* Defining functions (def)\n",
    "* Parameters, return, default values\n",
    "* Built-in functions vs user-defined\n",
    "* Default arguments, scope\n",
    "* Lambda expressions for quick filtering\n",
    "* Error handling: Try/except, assert, basic logging\n",
    "\n",
    "**Exercise:**\n",
    "* Reusable data cleaning and transformation functions\n",
    "\n",
    "**Project:** \n",
    "* \"Data Cleaning Toolbox\" – Build reusable functions for tasks like removing whitespace, fixing dates, capitalizing names.\n",
    "\n",
    "**Learning Objectives**\n",
    "\n",
    "By the end of this week, you will be able to:\n",
    "- Define and use custom functions\n",
    "- Use parameters, return values, and default arguments\n",
    "- Understand scope and lambda functions\n",
    "- Handle runtime errors using try/except\n",
    "- Use assertions and basic logging\n"
   ]
  },
  {
   "cell_type": "markdown",
   "id": "4f89ed5c-2dfd-4be4-8a94-1e461cebf508",
   "metadata": {},
   "source": [
    "### Define a Function\n",
    "\n",
    "- Functions are blocks of reusable code.\n",
    "- Defined using def keyword.\n",
    "- Can take inputs (parameters) and return results.\n",
    "- Built-in functions come with Python (e.g., print(), len()).\n",
    "- User-defined functions are created by you.\n"
   ]
  },
  {
   "cell_type": "code",
   "execution_count": null,
   "id": "a4ce0073-e65d-40c4-a3c3-be6c0ea86ced",
   "metadata": {},
   "outputs": [],
   "source": [
    "def greet(name):\n",
    "    return f\"Hello, {name}!\""
   ]
  },
  {
   "cell_type": "markdown",
   "id": "2f4c4d47-236d-4e6e-940b-3cec630014ce",
   "metadata": {},
   "source": [
    "### Parameters and Return\n",
    "\n",
    "- Parameters are inputs to functions.\n",
    "- return sends output back.\n",
    "- Default values provide fallback inputs."
   ]
  },
  {
   "cell_type": "code",
   "execution_count": null,
   "id": "8788e4f8-7faf-43f5-831f-9a0e66e82b7e",
   "metadata": {},
   "outputs": [],
   "source": [
    "def add(a, b):\n",
    "    return a + b\n",
    "\n",
    "result = add(5, 3)  # 8"
   ]
  },
  {
   "cell_type": "markdown",
   "id": "64b95335-3010-4dd4-896f-d5015f9ef103",
   "metadata": {},
   "source": [
    "### Default Arguments\n",
    "- Default arguments let you call functions without always specifying all inputs."
   ]
  },
  {
   "cell_type": "code",
   "execution_count": null,
   "id": "20663895-9bfd-4845-b621-7d4948b4d4d3",
   "metadata": {},
   "outputs": [],
   "source": [
    "def greet(name=\"Guest\"):\n",
    "    return f\"Hello, {name}\""
   ]
  },
  {
   "cell_type": "markdown",
   "id": "23a5d7ad-7bfc-48aa-ac48-302866b188b2",
   "metadata": {},
   "source": [
    "### Reusability Example"
   ]
  },
  {
   "cell_type": "code",
   "execution_count": null,
   "id": "5ab8d646-f26b-4c7b-a550-d82a2a364ff0",
   "metadata": {},
   "outputs": [],
   "source": [
    "def format_name(name):\n",
    "    return name.strip().title()\n",
    "\n",
    "def validate_age(age):\n",
    "    return age >= 0 and age <= 120"
   ]
  },
  {
   "cell_type": "markdown",
   "id": "955b52ec-d8d7-4a80-9755-5f9f51f4d6fe",
   "metadata": {},
   "source": [
    "### Scope Basics\n",
    "- Scope means where variables exist and can be accessed.\n",
    "## Simple Analogy:\n",
    "Scope is like rooms in a house you can only use what’s inside the room you're in.\n",
    "Variables inside a function are local; they don’t affect code outside unless returned."
   ]
  },
  {
   "cell_type": "code",
   "execution_count": null,
   "id": "999b2ae3-e3f1-43b3-b71c-e94e3fc7f86c",
   "metadata": {},
   "outputs": [],
   "source": [
    "x = 5\n",
    "\n",
    "def print_number():\n",
    "    x = 10\n",
    "    print(x)  # local x\n",
    "\n",
    "print_number()\n",
    "print(x)  # global x"
   ]
  },
  {
   "cell_type": "markdown",
   "id": "5b0f696b-66bd-454c-b103-25ed47521033",
   "metadata": {},
   "source": [
    "### Lambda Expressions\n",
    "\n",
    "- Lambda expressions for quick filtering\n",
    "- Small, one-line functions for quick jobs.\n",
    "- Lambda creates anonymous functions.\n",
    "- Useful for short, simple operations.\n"
   ]
  },
  {
   "cell_type": "code",
   "execution_count": null,
   "id": "7a5d09e1-9fb0-4a02-939f-72c8d84f5906",
   "metadata": {},
   "outputs": [],
   "source": [
    "double = lambda x: x * 2\n",
    "print(double(4))  # 8"
   ]
  },
  {
   "cell_type": "markdown",
   "id": "b3b28d4c-f7e1-492e-a401-45c9506c8a63",
   "metadata": {},
   "source": [
    "### Common use with filter() or map():"
   ]
  },
  {
   "cell_type": "code",
   "execution_count": null,
   "id": "178b0aae-cf94-47db-bf3d-26c13ea3ef65",
   "metadata": {},
   "outputs": [],
   "source": [
    "nums = [1, 2, 3, 4]\n",
    "squared = list(map(lambda x: x**2, nums))"
   ]
  },
  {
   "cell_type": "markdown",
   "id": "819418c9-6315-43fa-82b0-543204d3d263",
   "metadata": {},
   "source": [
    "### Error Handling\n",
    "**Making programs robust and handling errors gracefully.**\n",
    "\n",
    "- try/except to catch and handle errors without crashing.\n",
    "- assert to check assumptions.\n",
    "- Logging to record events/errors.\n"
   ]
  },
  {
   "cell_type": "code",
   "execution_count": null,
   "id": "68560312-db64-4bc1-a681-bf46c6110ccb",
   "metadata": {},
   "outputs": [],
   "source": [
    "try:\n",
    "    value = int(input(\"Enter a number: \"))\n",
    "except ValueError:\n",
    "    print(\"That's not a number!\")"
   ]
  },
  {
   "cell_type": "markdown",
   "id": "e0053bb0-a70f-40da-a869-bd4e07a274fd",
   "metadata": {},
   "source": [
    "### Assert Statements"
   ]
  },
  {
   "cell_type": "code",
   "execution_count": null,
   "id": "2d4148c5-0591-42b4-91a8-f7eccaa651d3",
   "metadata": {},
   "outputs": [],
   "source": [
    "def divide(a, b):\n",
    "    assert b != 0, \"Division by zero!\"\n",
    "    return a / b"
   ]
  },
  {
   "cell_type": "markdown",
   "id": "e590c95d-f2bc-44b2-96e7-9091068dc6cc",
   "metadata": {},
   "source": [
    "### Basic Logging"
   ]
  },
  {
   "cell_type": "code",
   "execution_count": null,
   "id": "56fd4586-6db9-4bc4-8e4f-9d3a8dd8ab66",
   "metadata": {},
   "outputs": [],
   "source": [
    "import logging\n",
    "logging.basicConfig(level=logging.INFO)\n",
    "logging.info(\"Process started\")"
   ]
  },
  {
   "cell_type": "markdown",
   "id": "34bb4e74-2ede-4a72-a851-0f50d6a33acc",
   "metadata": {},
   "source": [
    "### Real-World Relevance\n",
    "\n",
    "Functions are the backbone of clean, reusable code. Error handling is vital when working with unpredictable data (e.g., user input, CSV files, APIs)."
   ]
  },
  {
   "cell_type": "markdown",
   "id": "00ae5011-d50c-48d2-af46-872df53fef98",
   "metadata": {},
   "source": [
    "# Practice Exercises"
   ]
  },
  {
   "cell_type": "markdown",
   "id": "f1bad60e-d9a4-46da-95d4-dfdc45747add",
   "metadata": {},
   "source": [
    "### 1. Function to square a number"
   ]
  },
  {
   "cell_type": "code",
   "execution_count": null,
   "id": "678e140f-8523-41aa-807d-c9db39aec1fb",
   "metadata": {},
   "outputs": [],
   "source": [
    "def square(n):\n",
    "    return n ** 2"
   ]
  },
  {
   "cell_type": "markdown",
   "id": "eda1e842-9a87-4d4c-8c98-0a83ecb8bc6d",
   "metadata": {},
   "source": [
    "### 2. Greet with default"
   ]
  },
  {
   "cell_type": "code",
   "execution_count": null,
   "id": "2353afae-bf12-4d8f-8a2c-7fc2e612f8ab",
   "metadata": {},
   "outputs": [],
   "source": [
    "def greet(name=\"friend\"):\n",
    "    return f\"Hello, {name}\""
   ]
  },
  {
   "cell_type": "markdown",
   "id": "300ca465-337b-4049-affe-6d7c8bc92eaa",
   "metadata": {},
   "source": [
    "### 3. Convert Celsius to Fahrenheit"
   ]
  },
  {
   "cell_type": "code",
   "execution_count": null,
   "id": "fca1b5c4-8fb7-43ca-9951-84166956e7ba",
   "metadata": {},
   "outputs": [],
   "source": [
    "def to_fahrenheit(celsius):\n",
    "    return (celsius * 9/5) + 32"
   ]
  },
  {
   "cell_type": "markdown",
   "id": "fb11e0db-8317-423e-bf50-ca1e4e029211",
   "metadata": {},
   "source": [
    "### 4. Safe Division with Try/Except"
   ]
  },
  {
   "cell_type": "code",
   "execution_count": null,
   "id": "d23be199-b7f7-4169-96b4-ac3f40c2a7cb",
   "metadata": {},
   "outputs": [],
   "source": [
    "def safe_divide(a, b):\n",
    "    try:\n",
    "        return a / b\n",
    "    except ZeroDivisionError:\n",
    "        return \"Cannot divide by zero\""
   ]
  },
  {
   "cell_type": "markdown",
   "id": "6efd5ea8-dc0c-4bfd-9888-5c33c76a0831",
   "metadata": {},
   "source": [
    "### 5. Capitalize all names in a list"
   ]
  },
  {
   "cell_type": "code",
   "execution_count": null,
   "id": "089ff402-1b6c-4b28-93fb-063d1de43405",
   "metadata": {},
   "outputs": [],
   "source": [
    "names = [\"alice\", \"BOB\", \"CharLie\"]\n",
    "\n",
    "def format_names(name_list):\n",
    "    return [name.title() for name in name_list]"
   ]
  },
  {
   "cell_type": "markdown",
   "id": "43bf2ae4-bc3d-4130-ad55-6bcfe5699cb5",
   "metadata": {},
   "source": [
    "### 6. Validate email with assert"
   ]
  },
  {
   "cell_type": "code",
   "execution_count": null,
   "id": "426738d0-293a-4e0a-917f-0ebedf125cdb",
   "metadata": {},
   "outputs": [],
   "source": [
    "def check_email(email):\n",
    "    assert \"@\" in email and \".\" in email, \"Invalid email\""
   ]
  },
  {
   "cell_type": "markdown",
   "id": "23068154-8c0a-41f7-8835-5c640d6828ac",
   "metadata": {},
   "source": [
    "### 7. Use lambda to triple a number"
   ]
  },
  {
   "cell_type": "code",
   "execution_count": null,
   "id": "5c0fa8fd-5e52-461b-a51d-4a4c9073ddd4",
   "metadata": {},
   "outputs": [],
   "source": [
    "triple = lambda x: x * 3"
   ]
  },
  {
   "cell_type": "markdown",
   "id": "973bdcaa-bd1f-4e8b-8de0-d41fe506c840",
   "metadata": {},
   "source": [
    "### 8. Create logger that prints success message"
   ]
  },
  {
   "cell_type": "code",
   "execution_count": null,
   "id": "28c29096-3466-4777-835b-61a378fe8a19",
   "metadata": {},
   "outputs": [],
   "source": [
    "import logging\n",
    "logging.basicConfig(level=logging.INFO)\n",
    "\n",
    "def run_task():\n",
    "    logging.info(\"Task completed!\")"
   ]
  },
  {
   "cell_type": "markdown",
   "id": "74cd93fe-b6e8-4c09-8ad2-e6b179b22bd6",
   "metadata": {},
   "source": [
    "\n",
    "# Exercises: \n",
    "### Reusable Data Cleaning Functions\n",
    "\n",
    "### Goal\n",
    "Create small, reusable functions that clean common types of messy data.\n",
    "\n",
    "### Tasks\n",
    "Write and test these functions:\n",
    "\n",
    "- `clean_whitespace(text)`: removes leading/trailing spaces\n",
    "- `fix_case(name)`: capitalizes names\n",
    "- `remove_special_chars(text)`: removes symbols like `@#!`\n",
    "- `validate_email(email)`: returns True/False"
   ]
  },
  {
   "cell_type": "markdown",
   "id": "d9dd84c1-f075-4169-8c77-e0352d6c4a1e",
   "metadata": {},
   "source": [
    "### Sample Code"
   ]
  },
  {
   "cell_type": "code",
   "execution_count": null,
   "id": "3d038e8a-8c58-4297-9458-a4fea7ad8c92",
   "metadata": {},
   "outputs": [],
   "source": [
    "import re\n",
    "\n",
    "def clean_whitespace(text):\n",
    "    return text.strip()\n",
    "\n",
    "def fix_case(name):\n",
    "    return name.title()\n",
    "\n",
    "def remove_special_chars(text):\n",
    "    return re.sub(r'[^a-zA-Z0-9\\s]', '', text)\n",
    "\n",
    "def validate_email(email):\n",
    "    return \"@\" in email and \".\" in email\n",
    "\n",
    "# Demo\n",
    "dirty_name = \"  jOhN doE@@ \"\n",
    "clean_name = fix_case(remove_special_chars(clean_whitespace(dirty_name)))\n",
    "\n",
    "print(\"Cleaned Name:\", clean_name)"
   ]
  },
  {
   "cell_type": "markdown",
   "id": "50bfa909-1973-42de-a7a6-f4962d7e5bdf",
   "metadata": {},
   "source": [
    "# Project: \n",
    "### Data Cleaning Toolbox\n",
    "\n",
    "**Goal**\n",
    "\n",
    "Build a mini Python library of functions for cleaning user input and textual data.\n",
    "\n",
    "### Requirements\n",
    "\n",
    "1. Create at least 4 functions, e.g.:\n",
    "    * clean_name()\n",
    "    * validate_email()\n",
    "    * clean_date_string()\n",
    "    * fix_phone_format()\n",
    "2. Accept raw data from user or dictionary\n",
    "3. Return a cleaned version or report errors\n",
    "4. Use try/except where needed\n",
    "5. Use assert in at least one function"
   ]
  },
  {
   "cell_type": "markdown",
   "id": "ff186089-af65-439b-9a8a-4cc0c5a68c3e",
   "metadata": {},
   "source": [
    "### Sample Code"
   ]
  },
  {
   "cell_type": "code",
   "execution_count": null,
   "id": "d9b285eb-7bca-4843-ad97-ba85e852063e",
   "metadata": {},
   "outputs": [],
   "source": [
    "def clean_name(name):\n",
    "    assert isinstance(name, str), \"Name must be a string\"\n",
    "    return name.strip().title()\n",
    "\n",
    "def validate_email(email):\n",
    "    return \"@\" in email and \".\" in email\n",
    "\n",
    "def clean_date_string(date_str):\n",
    "    try:\n",
    "        parts = date_str.split(\"/\")\n",
    "        if len(parts) == 3:\n",
    "            return f\"{parts[2]}-{parts[1].zfill(2)}-{parts[0].zfill(2)}\"\n",
    "        return \"Invalid format\"\n",
    "    except Exception:\n",
    "        return \"Error parsing date\"\n",
    "\n",
    "def fix_phone(phone):\n",
    "    digits = ''.join(filter(str.isdigit, phone))\n",
    "    if len(digits) == 10:\n",
    "        return f\"+1-{digits[:3]}-{digits[3:6]}-{digits[6:]}\"\n",
    "    return \"Invalid phone\"\n",
    "\n",
    "# Test\n",
    "raw = {\n",
    "    \"name\": \"  aLiCe JoNEs \",\n",
    "    \"email\": \"ALICE@Example.COM\",\n",
    "    \"dob\": \"12/5/1990\",\n",
    "    \"phone\": \" (123) 456-7890 \"\n",
    "}\n",
    "\n",
    "cleaned = {\n",
    "    \"name\": clean_name(raw[\"name\"]),\n",
    "    \"email\": validate_email(raw[\"email\"]),\n",
    "    \"dob\": clean_date_string(raw[\"dob\"]),\n",
    "    \"phone\": fix_phone(raw[\"phone\"])\n",
    "}\n",
    "\n",
    "print(cleaned)\n"
   ]
  },
  {
   "cell_type": "markdown",
   "id": "647e71fa-0f54-4920-8d5a-5c7d6524858a",
   "metadata": {},
   "source": [
    "### Stretch Goals\n",
    "\n",
    "* Wrap your functions into a Python module\n",
    "* Handle missing keys with .get()\n",
    "* Add logging to track processing"
   ]
  },
  {
   "cell_type": "markdown",
   "id": "3fd3fdba-9c26-48b2-bc2b-8f80297584cb",
   "metadata": {},
   "source": [
    "### Week 4: Lists, Dictionaries & Working with Nested Data\n",
    "**Topics:**\n",
    "* Data structures: list, dict, tuple, set\n",
    "* Indexing, slicing, updating\n",
    "* Nested structures and Iteration\n",
    "* List comprehensions (intro)\n",
    "  \n",
    "**Exercises:**\n",
    "* Frequency counters\n",
    "* Filtering and grouping\n",
    "\n",
    "**Project:** \n",
    "* \"Mini CRM System\" – Store, search, and update mock customer records using nested dictionaries/lists.\n",
    "\n",
    "**Learning Objectives**\n",
    "\n",
    "By the end of this week, you will be able to:\n",
    "- Use Python's core data structures: `list`, `dict`, `tuple`, and `set`\n",
    "- Index, slice, update, and loop over these structures\n",
    "- Work with nested dictionaries/lists\n",
    "- Use list comprehensions for quick transformations\n"
   ]
  },
  {
   "cell_type": "markdown",
   "id": "eb76e9c2-10e9-4c8f-bca8-17cfc859f158",
   "metadata": {},
   "source": [
    "# Data structures: list, dict, tuple, set\n",
    "\n",
    "### Storing multiple items efficiently.\n",
    "\n",
    "####  Key Concepts:\n",
    "\n",
    "- **List:** Ordered, changeable collection.\n",
    "- **Dictionary:** Key-value pairs.\n",
    "- **Tuple:** Ordered, unchangeable collection.\n",
    "- **Set:** Unordered collection with no duplicates.\n",
    "- **Indexing, slicing, updating**\n",
    "    - Accessing and modifying data inside structures.\n",
    "    - Indexing means picking one item by position.\n",
    "    - Slicing picks a range.\n",
    "    - Updating changes values.\n"
   ]
  },
  {
   "cell_type": "markdown",
   "id": "42a340ef-f78b-4241-a9e8-d897cc320438",
   "metadata": {},
   "source": [
    "# Lists"
   ]
  },
  {
   "cell_type": "markdown",
   "id": "d1b7c3d3-4207-40d8-84e0-1f85b8d7136d",
   "metadata": {},
   "source": [
    "### Create and Access"
   ]
  },
  {
   "cell_type": "code",
   "execution_count": null,
   "id": "f4dc23fd-a640-456b-858c-c20f7e930a5e",
   "metadata": {},
   "outputs": [],
   "source": [
    "fruits = [\"apple\", \"banana\", \"cherry\"]\n",
    "print(fruits[1])  # \"banana\""
   ]
  },
  {
   "cell_type": "markdown",
   "id": "5460a3c8-bcb3-43c1-b23c-66769c180728",
   "metadata": {},
   "source": [
    "### Add, Remove, Slice"
   ]
  },
  {
   "cell_type": "code",
   "execution_count": null,
   "id": "61a76568-770c-464c-aa99-d6350476f9ac",
   "metadata": {},
   "outputs": [],
   "source": [
    "fruits.append(\"orange\")\n",
    "fruits.remove(\"banana\")\n",
    "print(fruits[1:3])  # slice\n"
   ]
  },
  {
   "cell_type": "markdown",
   "id": "d9f5b6e7-1c5e-4d4e-bd89-c93773f9b443",
   "metadata": {},
   "source": [
    "# Dictionaries\n",
    "### Create and Access"
   ]
  },
  {
   "cell_type": "code",
   "execution_count": null,
   "id": "c1930031-8356-466e-8e5c-1a1d6dc65153",
   "metadata": {},
   "outputs": [],
   "source": [
    "person = {\"name\": \"Alice\", \"age\": 30}\n",
    "print(person[\"name\"])  # Alice"
   ]
  },
  {
   "cell_type": "markdown",
   "id": "4a576455-8f1e-4166-9439-2d2c32cec5a3",
   "metadata": {},
   "source": [
    "### Add, Update, Delete"
   ]
  },
  {
   "cell_type": "code",
   "execution_count": null,
   "id": "c27b3e18-4291-43bc-9d51-55e19f50a36b",
   "metadata": {},
   "outputs": [],
   "source": [
    "person[\"email\"] = \"alice@example.com\"\n",
    "person[\"age\"] = 31\n",
    "del person[\"email\"]"
   ]
  },
  {
   "cell_type": "markdown",
   "id": "3c5f8d9d-6ce2-4a3c-bc9e-20c057583164",
   "metadata": {},
   "source": [
    "### Nested Structures\n",
    "- Storing data inside data and looping through it.\n",
    "- Lists/dicts can contain other lists/dicts.\n",
    "- Use loops to go through nested data."
   ]
  },
  {
   "cell_type": "code",
   "execution_count": null,
   "id": "8987e0aa-27ca-4ab2-a974-7fe8f4058f71",
   "metadata": {},
   "outputs": [],
   "source": [
    "customers = [\n",
    "    {\"name\": \"Alice\", \"email\": \"alice@email.com\"},\n",
    "    {\"name\": \"Bob\", \"email\": \"bob@email.com\"}\n",
    "]\n",
    "\n",
    "for c in customers:\n",
    "    print(c[\"name\"], c[\"email\"])"
   ]
  },
  {
   "cell_type": "markdown",
   "id": "350c74dc-e506-45af-bcfc-60467163d76b",
   "metadata": {},
   "source": [
    "# Tuples & Sets\n",
    "### Tuple: Immutable"
   ]
  },
  {
   "cell_type": "code",
   "execution_count": null,
   "id": "b027b046-7c4d-45dc-8b3f-04064f5ea7d9",
   "metadata": {},
   "outputs": [],
   "source": [
    "t = (1, 2, 3)"
   ]
  },
  {
   "cell_type": "markdown",
   "id": "9b84b8b2-87a2-4fa9-856d-36edd185a6dc",
   "metadata": {},
   "source": [
    "### Set: Unique values"
   ]
  },
  {
   "cell_type": "code",
   "execution_count": null,
   "id": "edb71427-2dd5-4502-bb56-97f76a288556",
   "metadata": {},
   "outputs": [],
   "source": [
    "s = {1, 2, 2, 3}\n",
    "print(s)  # {1, 2, 3}"
   ]
  },
  {
   "cell_type": "markdown",
   "id": "99f4ba3b-cfcf-4b53-8d01-999b42b03ac8",
   "metadata": {},
   "source": [
    "# List Comprehensions\n",
    "- Shortcuts to create lists quickly.\n",
    "- Compact syntax to build lists using loops and conditions."
   ]
  },
  {
   "cell_type": "code",
   "execution_count": null,
   "id": "aebb1692-91dd-4bf0-9f0e-1fac3e8da8ee",
   "metadata": {},
   "outputs": [],
   "source": [
    "numbers = [1, 2, 3, 4]\n",
    "squared = [x**2 for x in numbers]"
   ]
  },
  {
   "cell_type": "markdown",
   "id": "3c73a546-d29b-40d2-991d-f901c5ceebe3",
   "metadata": {},
   "source": [
    "### Real-World Relevance\n",
    "\n",
    "Nested data is common in real-world datasets (e.g., JSON files, APIs, CRM systems). You'll use these patterns constantly in data cleaning, parsing, and storage tasks."
   ]
  },
  {
   "cell_type": "markdown",
   "id": "74b86877-a810-4d59-b5bb-1bd918aadabd",
   "metadata": {},
   "source": [
    "## Practice Exercises"
   ]
  },
  {
   "cell_type": "markdown",
   "id": "8d7cbb30-c905-4a7c-8107-99b72684d386",
   "metadata": {},
   "source": [
    "### 1. Create a list of 5 cities and print each"
   ]
  },
  {
   "cell_type": "code",
   "execution_count": null,
   "id": "157f15bb-827d-40ef-8dce-c50e37c2c51a",
   "metadata": {},
   "outputs": [],
   "source": [
    "cities = [\"Kampala\", \"Nairobi\", \"Tokyo\", \"New York\", \"lagos\"]\n",
    "for city in cities:\n",
    "    print(city)"
   ]
  },
  {
   "cell_type": "markdown",
   "id": "09ab7ce6-0dfc-4b60-a275-6ec387c0c6c2",
   "metadata": {},
   "source": [
    "### 2. Get the last 3 elements from a list"
   ]
  },
  {
   "cell_type": "code",
   "execution_count": null,
   "id": "b1c62899-299c-470f-8a05-8549a7d03b6b",
   "metadata": {},
   "outputs": [],
   "source": [
    "nums = [10, 20, 30, 40, 50]\n",
    "print(nums[-3:])"
   ]
  },
  {
   "cell_type": "markdown",
   "id": "ce10d46f-24e5-4b34-9283-5119108f6067",
   "metadata": {},
   "source": [
    "### 3. Create a dictionary of a product"
   ]
  },
  {
   "cell_type": "code",
   "execution_count": null,
   "id": "faf3193d-7b93-463d-80c3-c33be57b1385",
   "metadata": {},
   "outputs": [],
   "source": [
    "product = {\"name\": \"Laptop\", \"price\": 999.99, \"stock\": 20}\n",
    "print(product[\"price\"])"
   ]
  },
  {
   "cell_type": "markdown",
   "id": "3f0bf7fa-2992-4f16-bd35-c787d1398a19",
   "metadata": {},
   "source": [
    "### 4. Loop through dictionary keys and values"
   ]
  },
  {
   "cell_type": "code",
   "execution_count": null,
   "id": "69557841-b541-48c5-871c-c6e29f5ff00c",
   "metadata": {},
   "outputs": [],
   "source": [
    "for key, value in product.items():\n",
    "    print(f\"{key}: {value}\")"
   ]
  },
  {
   "cell_type": "markdown",
   "id": "3245a8a8-2bd9-4a4f-afb1-0dd083df3c2b",
   "metadata": {},
   "source": [
    "### 5. Count how many times a word appears in a list"
   ]
  },
  {
   "cell_type": "code",
   "execution_count": null,
   "id": "a39cc7b9-b56b-4a8d-b3c3-fdd8fb855042",
   "metadata": {},
   "outputs": [],
   "source": [
    "words = [\"yes\", \"no\", \"yes\", \"maybe\", \"yes\"]\n",
    "print(words.count(\"yes\"))"
   ]
  },
  {
   "cell_type": "markdown",
   "id": "bece078e-e3d1-4e58-ab3d-45fe5c11b256",
   "metadata": {},
   "source": [
    "### 6. Use list comprehension to filter values > 10"
   ]
  },
  {
   "cell_type": "code",
   "execution_count": null,
   "id": "0d49412a-bfdc-4ae5-8df7-3fdc3c590920",
   "metadata": {},
   "outputs": [],
   "source": [
    "nums = [3, 12, 7, 25, 5]\n",
    "filtered = [x for x in nums if x > 10]"
   ]
  },
  {
   "cell_type": "markdown",
   "id": "9a4be2b8-be02-4b7b-8202-4cc131ef4e78",
   "metadata": {},
   "source": [
    "### 7. Combine two dictionaries"
   ]
  },
  {
   "cell_type": "code",
   "execution_count": 1,
   "id": "2a3c0349-0153-4e9f-bf23-281939bca087",
   "metadata": {},
   "outputs": [],
   "source": [
    "a = {\"x\": 1}\n",
    "b = {\"y\": 2}\n",
    "merged = {**a, **b}"
   ]
  },
  {
   "cell_type": "markdown",
   "id": "d67bbde7-44c0-4969-aa9d-822b1839470e",
   "metadata": {},
   "source": [
    "### 8. Create and access nested dictionary"
   ]
  },
  {
   "cell_type": "code",
   "execution_count": null,
   "id": "fc087d2b-8119-4737-bb39-c53000cb6252",
   "metadata": {},
   "outputs": [],
   "source": [
    "users = {\n",
    "    \"user1\": {\"name\": \"Alice\", \"email\": \"alice@email.com\"},\n",
    "    \"user2\": {\"name\": \"Bob\", \"email\": \"bob@email.com\"}\n",
    "}\n",
    "print(users[\"user2\"][\"email\"])"
   ]
  },
  {
   "cell_type": "markdown",
   "id": "af14dfa4-ccba-4b7b-90d5-896858787ec2",
   "metadata": {},
   "source": [
    "### 9. Add a new customer to a list of dicts"
   ]
  },
  {
   "cell_type": "code",
   "execution_count": null,
   "id": "b4ba46ee-c6b6-4341-a660-a81111ee9210",
   "metadata": {},
   "outputs": [],
   "source": [
    "customers = []\n",
    "new_customer = {\"name\": \"Charlie\", \"email\": \"charlie@email.com\"}\n",
    "customers.append(new_customer)"
   ]
  },
  {
   "cell_type": "markdown",
   "id": "cb7de040-29f2-46ea-80c7-0fd9d3c722fa",
   "metadata": {},
   "source": [
    "### 10. Create a frequency counter (manual)"
   ]
  },
  {
   "cell_type": "code",
   "execution_count": null,
   "id": "e3735fbe-ab72-475f-8ae9-4a33e220f74c",
   "metadata": {},
   "outputs": [],
   "source": [
    "nums = [1, 2, 2, 3, 3, 3]\n",
    "counter = {}\n",
    "for n in nums:\n",
    "    counter[n] = counter.get(n, 0) + 1\n",
    "print(counter)"
   ]
  },
  {
   "cell_type": "markdown",
   "id": "719828ef-d06f-4d30-94fd-39868b8a287b",
   "metadata": {},
   "source": [
    "# Exercises"
   ]
  },
  {
   "cell_type": "markdown",
   "id": "fbe4ec9a-f7e1-488d-a4cd-93cdae26586a",
   "metadata": {},
   "source": [
    "### Frequency Counter"
   ]
  },
  {
   "cell_type": "code",
   "execution_count": null,
   "id": "00fb31b2-6bfa-4611-97b3-752bc32290a1",
   "metadata": {},
   "outputs": [],
   "source": [
    "text = \"banana\"\n",
    "counter = {}\n",
    "\n",
    "for char in text:\n",
    "    counter[char] = counter.get(char, 0) + 1\n",
    "\n",
    "print(counter)\n",
    "# Output: {'b': 1, 'a': 3, 'n': 2}"
   ]
  },
  {
   "cell_type": "markdown",
   "id": "3d855a3d-e4fb-4cd3-a40c-62c29fce2aa7",
   "metadata": {},
   "source": [
    "### Filter & Group Names by First Letter"
   ]
  },
  {
   "cell_type": "code",
   "execution_count": null,
   "id": "e25ec7ce-85c0-48b7-a9b4-5563d4ba7124",
   "metadata": {},
   "outputs": [],
   "source": [
    "names = [\"Alice\", \"Amanda\", \"Bob\", \"Brian\", \"Cathy\"]\n",
    "grouped = {}\n",
    "\n",
    "for name in names:\n",
    "    key = name[0].upper()\n",
    "    grouped.setdefault(key, []).append(name)\n",
    "\n",
    "print(grouped)\n",
    "# Output: {'A': ['Alice', 'Amanda'], 'B': ['Bob', 'Brian'], 'C': ['Cathy']}\n"
   ]
  },
  {
   "cell_type": "markdown",
   "id": "ad0e8c0a-271d-44ca-ae31-6ab2ab39c5b1",
   "metadata": {},
   "source": [
    "# Project: \n",
    "\n",
    "### Mini CRM System\n",
    "**Goal**\n",
    "\n",
    "Build a simple command-line customer tracking system using nested dictionaries/lists.\n",
    "\n",
    "### Features to Implement\n",
    "* Add a new customer (name, email, phone)\n",
    "* Search customer by name\n",
    "* Update customer email or phone\n",
    "* Delete a customer by name\n",
    "* List all customers"
   ]
  },
  {
   "cell_type": "markdown",
   "id": "63bd8d58-c80b-419b-af0d-4dad995dfa02",
   "metadata": {},
   "source": [
    "### Starter Code"
   ]
  },
  {
   "cell_type": "code",
   "execution_count": null,
   "id": "6f15db58-713b-45b0-9685-fdd86b7e1aef",
   "metadata": {},
   "outputs": [],
   "source": [
    "crm = []\n",
    "\n",
    "def add_customer(name, email, phone):\n",
    "    crm.append({\"name\": name, \"email\": email, \"phone\": phone})\n",
    "\n",
    "def find_customer(name):\n",
    "    for c in crm:\n",
    "        if c[\"name\"].lower() == name.lower():\n",
    "            return c\n",
    "    return None\n",
    "\n",
    "def update_customer(name, email=None, phone=None):\n",
    "    c = find_customer(name)\n",
    "    if c:\n",
    "        if email:\n",
    "            c[\"email\"] = email\n",
    "        if phone:\n",
    "            c[\"phone\"] = phone\n",
    "        return True\n",
    "    return False\n",
    "\n",
    "def delete_customer(name):\n",
    "    global crm\n",
    "    crm = [c for c in crm if c[\"name\"].lower() != name.lower()]\n",
    "\n",
    "def list_customers():\n",
    "    for c in crm:\n",
    "        print(f\"{c['name']} - {c['email']} - {c['phone']}\")\n",
    "\n",
    "# Example Usage\n",
    "add_customer(\"Alice\", \"alice@email.com\", \"1234567890\")\n",
    "add_customer(\"Bob\", \"bob@email.com\", \"9876543210\")\n",
    "list_customers()\n"
   ]
  },
  {
   "cell_type": "markdown",
   "id": "b3bfa877-7e6e-4e8d-9a85-a16a235679d7",
   "metadata": {},
   "source": [
    "### Stretch Goals\n",
    "\n",
    "Add command-line menu to interact with system\n",
    "\n",
    "Save/load data from a .json file\n",
    "\n",
    "Validate email and phone formats"
   ]
  },
  {
   "cell_type": "markdown",
   "id": "b5dda2b2-5f4e-48d1-807e-83694c638dda",
   "metadata": {},
   "source": [
    "---\n",
    "# Phase 2: Data Analytics With Python\n",
    "**(Weeks 5–10) - Hands-on with real-World Data Workflows**"
   ]
  },
  {
   "cell_type": "markdown",
   "id": "e3e087e6-ff4c-401a-aca4-9e1fbab8f09e",
   "metadata": {},
   "source": [
    "### Week 5: File I/O and Data Ingestion\n",
    "**Topics:**\n",
    "* Reading/writing: .txt, .csv using open(), csv module\n",
    "* Working with file paths\n",
    "* JSON parsing with json module\n",
    "* Basic exception handling for file errors\n",
    "\n",
    "**Project:** \n",
    "\"Sales Data Summary\" - Load CSV and calculate totals, averages, handle missing/error rows.\n",
    "\n",
    "**Learning Objectives**\n",
    "By the end of this week, you will be able to:\n",
    "- Read from and write to `.txt`, `.csv`, and `.json` files\n",
    "- Use the built-in `open()`, `csv`, and `json` modules\n",
    "- Handle file paths properly\n",
    "- Apply basic exception handling for file errors\n"
   ]
  },
  {
   "cell_type": "markdown",
   "id": "d28e2b5b-31cd-47f4-9142-96001f957996",
   "metadata": {},
   "source": [
    "### Reading & Writing Text Files\n",
    "Computers store data in files. To work with data in Python, we need to load it from these files into our programs.\n",
    "\n",
    "You can read from or write to files using Python’s built-in functions like open() or using modules like csv.\n",
    "\n"
   ]
  },
  {
   "cell_type": "code",
   "execution_count": null,
   "id": "0a1f0110-3874-4791-9215-52858167660d",
   "metadata": {},
   "outputs": [],
   "source": [
    "# Write\n",
    "with open(\"notes.txt\", \"w\") as f:\n",
    "    f.write(\"This is a line of text.\")\n",
    "\n",
    "# Read\n",
    "with open(\"notes.txt\", \"r\") as f:\n",
    "    content = f.read()\n",
    "    print(content)"
   ]
  },
  {
   "cell_type": "markdown",
   "id": "f94483bc-c2ab-4983-bf12-d405d3af6bb4",
   "metadata": {},
   "source": [
    "### Working with CSV Files\n",
    "- CSV (Comma-Separated Values) files are common for storing spreadsheet-style data.\n",
    "- Think of a CSV like a digital version of an Excel sheet, where each row is a record and each column is a variable."
   ]
  },
  {
   "cell_type": "code",
   "execution_count": null,
   "id": "ca2094ef-623b-4947-b142-21692036a535",
   "metadata": {},
   "outputs": [],
   "source": [
    "import csv\n",
    "\n",
    "# Writing CSV\n",
    "with open(\"data.csv\", \"w\", newline=\"\") as file:\n",
    "    writer = csv.writer(file)\n",
    "    writer.writerow([\"Name\", \"Age\"])\n",
    "    writer.writerow([\"Alice\", 30])\n",
    "\n",
    "# Reading CSV\n",
    "with open(\"data.csv\", \"r\") as file:\n",
    "    reader = csv.reader(file)\n",
    "    for row in reader:\n",
    "        print(row)"
   ]
  },
  {
   "cell_type": "markdown",
   "id": "2924d930-bc2c-4d7a-9753-d139e2d45d4c",
   "metadata": {},
   "source": [
    "### Reading JSON Data\n",
    "- JSON is a data format used for structured data.\n",
    "- Python’s json module converts JSON data to Python dictionaries and back."
   ]
  },
  {
   "cell_type": "code",
   "execution_count": null,
   "id": "50023cf5-2da1-4c7c-afc9-a735d0ec9fe8",
   "metadata": {},
   "outputs": [],
   "source": [
    "import json\n",
    "\n",
    "# Save JSON\n",
    "data = {\"name\": \"Alice\", \"age\": 30}\n",
    "with open(\"data.json\", \"w\") as f:\n",
    "    json.dump(data, f)\n",
    "\n",
    "# Load JSON\n",
    "with open(\"data.json\", \"r\") as f:\n",
    "    loaded = json.load(f)\n",
    "    print(loaded[\"name\"])"
   ]
  },
  {
   "cell_type": "markdown",
   "id": "a37a0a69-185e-4e9d-ac7e-eee8bf66fcfe",
   "metadata": {},
   "source": [
    "### Handling File Paths"
   ]
  },
  {
   "cell_type": "code",
   "execution_count": null,
   "id": "63688219-3898-42fb-93f0-8b077d0d5f51",
   "metadata": {},
   "outputs": [],
   "source": [
    "import os\n",
    "\n",
    "folder = \"data\"\n",
    "filename = \"example.txt\"\n",
    "path = os.path.join(folder, filename)\n",
    "print(path)  # 'data/example.txt'"
   ]
  },
  {
   "cell_type": "markdown",
   "id": "84e26ea2-0abd-4212-bf60-4fcd1efd0f9a",
   "metadata": {},
   "source": [
    "### File Error Handling\n",
    "- When working with files, things can go wrong the file might not exist, or be unreadable.\n",
    "- Using try/except lets your program fail gracefully:"
   ]
  },
  {
   "cell_type": "code",
   "execution_count": null,
   "id": "0188ee7b-bc0f-4f9a-be05-c2ec9b8f1784",
   "metadata": {},
   "outputs": [],
   "source": [
    "try:\n",
    "    with open(\"missing.txt\", \"r\") as f:\n",
    "        content = f.read()\n",
    "except FileNotFoundError:\n",
    "    print(\"File not found!\")"
   ]
  },
  {
   "cell_type": "markdown",
   "id": "de5c4d7e-4beb-4878-a756-a06aea568ab9",
   "metadata": {},
   "source": [
    "### Real-World Relevance\n",
    "\n",
    "Reading data from files is the first step in nearly every data project. You'll handle messy CSV exports, logs, and JSON from APIs all the time."
   ]
  },
  {
   "cell_type": "markdown",
   "id": "2b29a89f-9901-41f8-92f1-1c405b52c18e",
   "metadata": {},
   "source": [
    "# Practice Exercises"
   ]
  },
  {
   "cell_type": "markdown",
   "id": "5e10b933-87b5-437f-bdef-5bf7e2ecc37b",
   "metadata": {},
   "source": [
    "## 1. Write and read a short note to a text file"
   ]
  },
  {
   "cell_type": "code",
   "execution_count": null,
   "id": "972eaca6-d6fa-42d7-85d8-4de2739263e6",
   "metadata": {},
   "outputs": [],
   "source": [
    "with open(\"note.txt\", \"w\") as f:\n",
    "    f.write(\"Don't forget to check the data.\")\n",
    "\n",
    "with open(\"note.txt\", \"r\") as f:\n",
    "    print(f.read())"
   ]
  },
  {
   "cell_type": "markdown",
   "id": "4fce516c-23f1-43d5-a0a4-497168c4a2b1",
   "metadata": {},
   "source": [
    "### 2. Append to a file"
   ]
  },
  {
   "cell_type": "code",
   "execution_count": null,
   "id": "37ce5f3f-7bb0-4b89-8527-1352a864853f",
   "metadata": {},
   "outputs": [],
   "source": [
    "with open(\"log.txt\", \"a\") as f:\n",
    "    f.write(\"New log entry\\n\")\n"
   ]
  },
  {
   "cell_type": "markdown",
   "id": "c5d530a6-5a0f-49fd-aeea-cf273b5b1926",
   "metadata": {},
   "source": [
    "### 3. Count number of lines in a text file"
   ]
  },
  {
   "cell_type": "code",
   "execution_count": null,
   "id": "1920c6b6-43e0-4f79-86b4-5fd20d15539a",
   "metadata": {},
   "outputs": [],
   "source": [
    "with open(\"note.txt\") as f:\n",
    "    lines = f.readlines()\n",
    "    print(len(lines))"
   ]
  },
  {
   "cell_type": "markdown",
   "id": "dbd96930-77a7-4ed4-8a86-d6f1d09da1e8",
   "metadata": {},
   "source": [
    "### 4. Write a list of names to a CSV file"
   ]
  },
  {
   "cell_type": "code",
   "execution_count": null,
   "id": "38454b62-7d7a-48f7-976e-c97cd155b005",
   "metadata": {},
   "outputs": [],
   "source": [
    "names = [[\"Name\"], [\"Alice\"], [\"Bob\"]]\n",
    "with open(\"names.csv\", \"w\", newline=\"\") as f:\n",
    "    writer = csv.writer(f)\n",
    "    writer.writerows(names)"
   ]
  },
  {
   "cell_type": "markdown",
   "id": "dda65842-cb78-4778-939b-645f76d91cef",
   "metadata": {},
   "source": [
    "### 5. Read and print names from CSV"
   ]
  },
  {
   "cell_type": "code",
   "execution_count": null,
   "id": "ac6d3819-08ab-43e4-957a-b0026c791d89",
   "metadata": {},
   "outputs": [],
   "source": [
    "with open(\"names.csv\", \"r\") as f:\n",
    "    reader = csv.reader(f)\n",
    "    for row in reader:\n",
    "        print(row[0])"
   ]
  },
  {
   "cell_type": "markdown",
   "id": "a5faa6e2-f9fa-4ade-bd58-a5acce63b45c",
   "metadata": {},
   "source": [
    "### 6. Save a dictionary as JSON"
   ]
  },
  {
   "cell_type": "code",
   "execution_count": null,
   "id": "2768ac22-b8b0-4717-b71c-14cb10856906",
   "metadata": {},
   "outputs": [],
   "source": [
    "profile = {\"user\": \"john\", \"age\": 29}\n",
    "with open(\"profile.json\", \"w\") as f:\n",
    "    json.dump(profile, f)"
   ]
  },
  {
   "cell_type": "markdown",
   "id": "56230436-3d0d-425b-b6f9-de736ddcd986",
   "metadata": {},
   "source": [
    "### 7. Load and print data from JSON"
   ]
  },
  {
   "cell_type": "code",
   "execution_count": null,
   "id": "7cda05bc-eaa2-4d02-841a-9c9970af9886",
   "metadata": {},
   "outputs": [],
   "source": [
    "with open(\"profile.json\") as f:\n",
    "    data = json.load(f)\n",
    "    print(data[\"user\"])"
   ]
  },
  {
   "cell_type": "markdown",
   "id": "e93e329b-1efb-47e7-9609-5c1516283c80",
   "metadata": {},
   "source": [
    "### 8. Gracefully handle missing file"
   ]
  },
  {
   "cell_type": "code",
   "execution_count": null,
   "id": "30b4ec07-8257-4fda-a249-ea40ab082220",
   "metadata": {},
   "outputs": [],
   "source": [
    "try:\n",
    "    with open(\"ghost.txt\") as f:\n",
    "        print(f.read())\n",
    "except FileNotFoundError:\n",
    "    print(\"File doesn't exist.\")"
   ]
  },
  {
   "cell_type": "markdown",
   "id": "7a128b87-7e1f-4f64-a39c-b917eb9da315",
   "metadata": {},
   "source": [
    "### 9. Create a file path from folder + file"
   ]
  },
  {
   "cell_type": "code",
   "execution_count": null,
   "id": "bec59ca7-604b-4365-afb3-86309765398d",
   "metadata": {},
   "outputs": [],
   "source": [
    "path = os.path.join(\"data\", \"sales.csv\")"
   ]
  },
  {
   "cell_type": "markdown",
   "id": "d07eff5c-37de-45b2-9646-de524646aa7e",
   "metadata": {},
   "source": [
    "\n",
    "# Project: \n",
    "\n",
    "### Sales Data Summary\n",
    "\n",
    "### Goal\n",
    "Load a CSV file of sales transactions and generate a basic report including:\n",
    "- Total transactions\n",
    "- Total revenue\n",
    "- Average sale\n",
    "- Flag rows with missing or invalid data\n",
    "  \n",
    "### Example CSV: `sales.csv`\n",
    "```python\n",
    "Date,Product,Quantity,Price\n",
    "2023-01-01,Phone,2,699.99\n",
    "2023-01-02,Laptop,1,1099.99\n",
    "2023-01-03,Tablet,,399.99\n",
    "2023-01-04,Monitor,1,abc\n",
    "```\n",
    "\n",
    "### Your Tasks\n",
    "\n",
    "- Read the CSV file\n",
    "- Skip header\n",
    "- Validate that `Quantity` and `Price` are numeric\n",
    "- Calculate:\n",
    "  - `total sales` = sum of `Quantity * Price`\n",
    "  - `average sale`\n",
    "- Print invalid rows with reasons"
   ]
  },
  {
   "cell_type": "markdown",
   "id": "38388473-8fe8-4aba-a084-e64da9fcac25",
   "metadata": {},
   "source": [
    "### Starter Code"
   ]
  },
  {
   "cell_type": "code",
   "execution_count": null,
   "id": "c2972be8-6b4c-4c1f-8229-5cd1220aa4a8",
   "metadata": {},
   "outputs": [],
   "source": [
    "import csv\n",
    "\n",
    "total_sales = 0\n",
    "valid_rows = 0\n",
    "invalid_rows = []\n",
    "\n",
    "with open(\"sales.csv\", \"r\") as f:\n",
    "    reader = csv.DictReader(f)\n",
    "    for row in reader:\n",
    "        try:\n",
    "            qty = int(row[\"Quantity\"])\n",
    "            price = float(row[\"Price\"])\n",
    "            total_sales += qty * price\n",
    "            valid_rows += 1\n",
    "        except (ValueError, TypeError):\n",
    "            invalid_rows.append(row)\n",
    "\n",
    "print(f\"Total Valid Transactions: {valid_rows}\")\n",
    "print(f\"Total Revenue: ${total_sales:.2f}\")\n",
    "print(f\"Average Sale: ${total_sales / valid_rows:.2f}\")\n",
    "print(\"\\nInvalid Rows:\")\n",
    "for row in invalid_rows:\n",
    "    print(row)"
   ]
  },
  {
   "cell_type": "code",
   "execution_count": null,
   "id": "797b9074-8bf9-4196-9f55-4bb663370701",
   "metadata": {},
   "outputs": [],
   "source": [
    "Total Valid Transactions: 2  \n",
    "Total Revenue: $2499.97  \n",
    "Average Sale: $1249.99  \n",
    "\n",
    "Invalid Rows:\n",
    "{'Date': '2023-01-03', 'Product': 'Tablet', 'Quantity': '', 'Price': '399.99'}\n",
    "{'Date': '2023-01-04', 'Product': 'Monitor', 'Quantity': '1', 'Price': 'abc'}\n"
   ]
  },
  {
   "cell_type": "markdown",
   "id": "65585b0d-d2d0-4489-a27f-07275e4bb206",
   "metadata": {},
   "source": [
    "### Stretch Goals\n",
    "\n",
    "Add date range filter\n",
    "\n",
    "Write summary to a text or JSON report\n",
    "\n",
    "Save invalid rows to a separate CSV"
   ]
  },
  {
   "cell_type": "markdown",
   "id": "0fbc336e-b3e0-4c19-9dbd-f6021a779821",
   "metadata": {},
   "source": [
    "# Week 6: NumPy for Efficient Numerical Computing\n",
    "**Topics:**\n",
    "* Why Numpy: performance vs Lists\n",
    "* Arrays, slicing, reshaping\n",
    "* Element-wise operations and broadcasting\n",
    "* Aggregation: sum(), mean(), std()\n",
    "* Boolean indexing for filtering\n",
    "\n",
    "**Project:** \n",
    "\n",
    "* Analyze a small dataset using Numpy arrays for transformation and filtering\n",
    "\n",
    "**Learning Objectives**\n",
    "By the end of this week, you will be able to:\n",
    "- Understand why NumPy is used in data analysis\n",
    "- Create and manipulate NumPy arrays\n",
    "- Use slicing, reshaping, and broadcasting\n",
    "- Perform efficient numerical operations and filtering\n",
    "- Apply aggregation functions for insights"
   ]
  },
  {
   "cell_type": "markdown",
   "id": "a54c28d1-3c72-41e9-a4d7-062595c9f0f3",
   "metadata": {},
   "source": [
    "### Why NumPy?\n",
    "\n",
    "- Lists are flexible but **slow** for numerical tasks\n",
    "- NumPy uses fixed-type arrays in **C-level memory** = blazing fast\n",
    "- Base for **Pandas**, **Scikit-learn**, **TensorFlow**, etc."
   ]
  },
  {
   "cell_type": "markdown",
   "id": "b71add4b-9d7b-4797-a450-95e3872ff99d",
   "metadata": {},
   "source": [
    "### Creating Arrays\n",
    "- Arrays are like grid-shaped containers that store numbers.\n",
    "- You can cut arrays into pieces (slicing) or change their shape (e.g., from rows to columns).\n",
    "\n",
    "arr[1:3] gives part of the array.\n",
    "\n",
    "reshape(3, 2) changes a flat array into 3 rows, 2 columns."
   ]
  },
  {
   "cell_type": "code",
   "execution_count": null,
   "id": "44059cea-a67e-40c2-a234-3aa24958d95a",
   "metadata": {},
   "outputs": [],
   "source": [
    "import numpy as np\n",
    "\n",
    "a = np.array([1, 2, 3])\n",
    "b = np.array([[1, 2], [3, 4]])"
   ]
  },
  {
   "cell_type": "markdown",
   "id": "8d17c9e8-a2a0-4a01-a5fe-d8d10f809800",
   "metadata": {},
   "source": [
    "### Array Shapes & Types"
   ]
  },
  {
   "cell_type": "code",
   "execution_count": null,
   "id": "580da12a-0b57-4726-bfa6-83a43a2b128c",
   "metadata": {},
   "outputs": [],
   "source": [
    "print(a.shape)       # (3,)\n",
    "print(b.shape)       # (2, 2)\n",
    "print(a.dtype)       # int64"
   ]
  },
  {
   "cell_type": "markdown",
   "id": "abff1a7c-2b0c-4c09-9941-2d0ac9b00520",
   "metadata": {},
   "source": [
    "### Reshaping Arrays"
   ]
  },
  {
   "cell_type": "code",
   "execution_count": null,
   "id": "93b594e9-cf00-4e1a-8462-6d7ba6bea162",
   "metadata": {},
   "outputs": [],
   "source": [
    "x = np.array([1, 2, 3, 4, 5, 6])\n",
    "x = x.reshape((2, 3))  # 2 rows, 3 columns"
   ]
  },
  {
   "cell_type": "markdown",
   "id": "17665e9d-230c-4911-aed2-67a008d8b71d",
   "metadata": {},
   "source": [
    "### Slicing & Indexing"
   ]
  },
  {
   "cell_type": "code",
   "execution_count": null,
   "id": "85c9801b-f88b-4839-823c-15a902b20f0a",
   "metadata": {},
   "outputs": [],
   "source": [
    "a = np.array([[10, 20], [30, 40]])\n",
    "print(a[0, 1])     # 20\n",
    "print(a[:, 1])     # column 1"
   ]
  },
  {
   "cell_type": "markdown",
   "id": "79bc8afb-ea69-4489-bc72-ec158ded47ec",
   "metadata": {},
   "source": [
    "### Vectorized Operations"
   ]
  },
  {
   "cell_type": "code",
   "execution_count": null,
   "id": "bd0dda4a-acf0-442e-ad11-b207f5d4ed90",
   "metadata": {},
   "outputs": [],
   "source": [
    "x = np.array([1, 2, 3])\n",
    "y = np.array([10, 20, 30])\n",
    "print(x + y)       # [11, 22, 33]\n",
    "print(x * 2)       # [2, 4, 6]"
   ]
  },
  {
   "cell_type": "markdown",
   "id": "48cafc30-af93-4fb3-9b78-e8415c0119dd",
   "metadata": {},
   "source": [
    "### Aggregation"
   ]
  },
  {
   "cell_type": "code",
   "execution_count": null,
   "id": "9590a897-3019-4bfe-a327-f506066badd7",
   "metadata": {},
   "outputs": [],
   "source": [
    "a = np.array([[1, 2], [3, 4]])\n",
    "print(np.sum(a))         # 10\n",
    "print(np.mean(a))        # 2.5\n",
    "print(np.std(a))         # 1.118"
   ]
  },
  {
   "cell_type": "markdown",
   "id": "5e7b4fcc-3dba-4eaf-a584-59864cfc17ea",
   "metadata": {},
   "source": [
    "### Boolean Indexing"
   ]
  },
  {
   "cell_type": "code",
   "execution_count": null,
   "id": "d4b6c65c-0e70-422c-9f6d-0eae30e0ff27",
   "metadata": {},
   "outputs": [],
   "source": [
    "x = np.array([5, 10, 15, 20])\n",
    "mask = x > 10\n",
    "print(x[mask])           # [15 20]"
   ]
  },
  {
   "cell_type": "markdown",
   "id": "7ebfedfb-10ef-4fad-8724-b679df024581",
   "metadata": {},
   "source": [
    "### Real-World Relevance\n",
    "\n",
    "NumPy makes bulk computation fast and memory-efficient — especially important in large datasets, feature engineering, matrix math (ML), and statistical analysis."
   ]
  },
  {
   "cell_type": "markdown",
   "id": "0c4a482f-2e99-410f-8a22-3292fd284142",
   "metadata": {},
   "source": [
    "# Practice Exercises"
   ]
  },
  {
   "cell_type": "markdown",
   "id": "1e89cfa0-f8ec-4170-9621-187624603ade",
   "metadata": {},
   "source": [
    "### 1. Import numpy and create 1D array"
   ]
  },
  {
   "cell_type": "code",
   "execution_count": null,
   "id": "4b92e795-fca9-49b9-88e9-bcb332ef45da",
   "metadata": {},
   "outputs": [],
   "source": [
    "import numpy as np\n",
    "a = np.array([1, 2, 3, 4])"
   ]
  },
  {
   "cell_type": "markdown",
   "id": "2e57e384-86cf-43d9-b938-115c79076a43",
   "metadata": {},
   "source": [
    "### 2. Create a 3x2 array of zeros"
   ]
  },
  {
   "cell_type": "code",
   "execution_count": null,
   "id": "67717bc6-8836-4f41-a8a6-9ab1df1c21a1",
   "metadata": {},
   "outputs": [],
   "source": [
    "z = np.zeros((3, 2))"
   ]
  },
  {
   "cell_type": "markdown",
   "id": "876ecd74-d760-4944-8a1c-13fbba272f73",
   "metadata": {},
   "source": [
    "### 3. Multiply all elements by 10"
   ]
  },
  {
   "cell_type": "code",
   "execution_count": null,
   "id": "c9edb452-2b02-4275-819a-6ed2472f0f69",
   "metadata": {},
   "outputs": [],
   "source": [
    "a = np.array([1, 2, 3])\n",
    "print(a * 10)"
   ]
  },
  {
   "cell_type": "markdown",
   "id": "eaeda49b-2d77-4012-9641-c662be4f0ac3",
   "metadata": {},
   "source": [
    "### 4. Reshape a flat array into 2x3"
   ]
  },
  {
   "cell_type": "code",
   "execution_count": null,
   "id": "18c610e4-0af3-46bf-9533-22980a1cb4c5",
   "metadata": {},
   "outputs": [],
   "source": [
    "x = np.array([1, 2, 3, 4, 5, 6])\n",
    "x = x.reshape((2, 3))"
   ]
  },
  {
   "cell_type": "markdown",
   "id": "b42aa410-c282-4e4d-985d-d4a0ea059f4e",
   "metadata": {},
   "source": [
    "### 5. Get mean and std of array"
   ]
  },
  {
   "cell_type": "code",
   "execution_count": null,
   "id": "a51e56bf-1a54-4458-8583-209634c6c529",
   "metadata": {},
   "outputs": [],
   "source": [
    "x = np.array([10, 20, 30])\n",
    "print(np.mean(x), np.std(x))"
   ]
  },
  {
   "cell_type": "markdown",
   "id": "666dd7f8-2b20-4035-8ece-53433a4bf2d4",
   "metadata": {},
   "source": [
    "### 6. Slice a 2D array to get column 2"
   ]
  },
  {
   "cell_type": "code",
   "execution_count": null,
   "id": "52817041-e78b-446c-aa4e-18b6e48b42e4",
   "metadata": {},
   "outputs": [],
   "source": [
    "a = np.array([[1, 2], [3, 4], [5, 6]])\n",
    "print(a[:, 1])"
   ]
  },
  {
   "cell_type": "markdown",
   "id": "51108db2-e72f-4fcd-b194-9671801d6544",
   "metadata": {},
   "source": [
    "### 7. Filter values greater than 50"
   ]
  },
  {
   "cell_type": "code",
   "execution_count": null,
   "id": "87ac94fb-e92d-4910-8e3a-bef6465d38c8",
   "metadata": {},
   "outputs": [],
   "source": [
    "data = np.array([45, 55, 60, 40])\n",
    "print(data[data > 50])"
   ]
  },
  {
   "cell_type": "markdown",
   "id": "1f5621a4-3fe9-44a8-81c0-e6c95e0fde95",
   "metadata": {},
   "source": [
    "### 8. Create a range of even numbers"
   ]
  },
  {
   "cell_type": "code",
   "execution_count": null,
   "id": "8509de14-4482-4e58-b07f-64e49414d64c",
   "metadata": {},
   "outputs": [],
   "source": [
    "evens = np.arange(0, 20, 2)"
   ]
  },
  {
   "cell_type": "markdown",
   "id": "878c3d77-3c35-4aad-9740-746f968c6555",
   "metadata": {},
   "source": [
    "### 9. Check shape and type"
   ]
  },
  {
   "cell_type": "code",
   "execution_count": null,
   "id": "4651e11e-90f0-4ca0-9244-4387c5079081",
   "metadata": {},
   "outputs": [],
   "source": [
    "x = np.array([[1, 2], [3, 4]])\n",
    "print(x.shape, x.dtype)"
   ]
  },
  {
   "cell_type": "markdown",
   "id": "8dbb3991-ebf9-4b78-b766-16149f42c30b",
   "metadata": {},
   "source": [
    "### 10. Add two arrays"
   ]
  },
  {
   "cell_type": "code",
   "execution_count": null,
   "id": "947fd1a6-9b72-4d1e-8d3a-60e9f47b66c7",
   "metadata": {},
   "outputs": [],
   "source": []
  },
  {
   "cell_type": "markdown",
   "id": "4bef7a56-f76d-432b-bc13-29bfb4a50f59",
   "metadata": {},
   "source": [
    "\n",
    "## Project: \n",
    "\n",
    "### Analyze a Small Dataset with NumPy\n",
    "\n",
    "### Goal\n",
    "\n",
    "Use NumPy to:\n",
    "- Load numeric dataset (e.g., grades, sales, scores)\n",
    "- Perform analysis: total, mean, std, filtering\n",
    "- Print summary insights\n",
    "\n",
    "### Dataset: `scores.csv`\n",
    "```python\n",
    "Name,Math,Science,English\n",
    "Alice,85,90,88\n",
    "Bob,70,75,72\n",
    "Charlie,95,98,94\n",
    "```\n",
    "\n",
    "### Tasks\n",
    "\n",
    "- Load CSV (skip headers, use `np.loadtxt()` or `csv`)\n",
    "- Extract numerical values\n",
    "- Calculate:\n",
    "  - Mean score per student\n",
    "  - Mean score per subject\n",
    "  - Std deviation overall\n",
    "- Filter students with any score < 75"
   ]
  },
  {
   "cell_type": "markdown",
   "id": "6275d3b5-04d5-4497-bf1b-b7d65dec79a9",
   "metadata": {},
   "source": [
    "### Example Code"
   ]
  },
  {
   "cell_type": "code",
   "execution_count": null,
   "id": "60ff2640-2f40-4f4e-acee-517624e504ae",
   "metadata": {},
   "outputs": [],
   "source": [
    "import numpy as np\n",
    "import csv\n",
    "\n",
    "# Load manually to skip names\n",
    "scores = []\n",
    "\n",
    "with open(\"scores.csv\", \"r\") as f:\n",
    "    reader = csv.reader(f)\n",
    "    next(reader)  # skip header\n",
    "    for row in reader:\n",
    "        scores.append([int(row[1]), int(row[2]), int(row[3])])\n",
    "\n",
    "arr = np.array(scores)\n",
    "\n",
    "# Per-student average\n",
    "student_means = np.mean(arr, axis=1)\n",
    "print(\"Student Averages:\", student_means)\n",
    "\n",
    "# Per-subject average\n",
    "subject_means = np.mean(arr, axis=0)\n",
    "print(\"Subject Averages:\", subject_means)\n",
    "\n",
    "# Overall stats\n",
    "print(\"Overall Std Dev:\", np.std(arr))\n",
    "\n",
    "# Filter students with low scores\n",
    "print(\"Any score < 75:\")\n",
    "print(arr[np.any(arr < 75, axis=1)])\n"
   ]
  },
  {
   "cell_type": "code",
   "execution_count": null,
   "id": "90db611c-1496-420b-bf9a-52634d04567e",
   "metadata": {},
   "outputs": [],
   "source": [
    "Student Averages: [87.666 72.333 95.666]\n",
    "Subject Averages: [83.33 87.66 84.66]\n",
    "Overall Std Dev: 9.73\n",
    "Any score < 75:\n",
    "[[70 75 72]]\n"
   ]
  },
  {
   "cell_type": "markdown",
   "id": "2b23028e-e1a5-41ac-99ae-d2177ddbc9cd",
   "metadata": {},
   "source": [
    "### Stretch Goals\n",
    "\n",
    "Normalize all scores (e.g., to 0–1 scale)\n",
    "Add names and link stats back to each student\n",
    "Plot histograms using matplotlib (next week)"
   ]
  },
  {
   "cell_type": "markdown",
   "id": "14bf981a-848f-43c5-bc15-06bafc551080",
   "metadata": {},
   "source": [
    "### Week 7: Pandas Fundamentals\n",
    "**Topics:**\n",
    "* DataFrame vs Series\n",
    "* Loading CSV/Excel data\n",
    "* Exploring datasets: .head( ), .info( ), .describe( )\n",
    "* Selecting/filtering with .loc[ ], .iloc[ ]\n",
    "\n",
    "**Min project:**\n",
    "* Filter high-value transactions or recent records\n",
    "\n",
    "**Main Project:** \n",
    "* “HR Analytics Explorer” – Analyze headcount, attrition rate, salary bands\n",
    "\n",
    "**Learning Objectives**\n",
    "\n",
    "By the end of this week, you will be able to:\n",
    "- Load CSV/Excel files into Pandas DataFrames\n",
    "- Understand the difference between Series and DataFrames\n",
    "- View and explore datasets (.head(), .info(), .describe())\n",
    "- Select rows/columns with .loc[], .iloc[], and filters\n",
    "- Apply basic filters to isolate key records"
   ]
  },
  {
   "cell_type": "markdown",
   "id": "b77061f1-eb6b-451d-b3c0-61dc16e0288f",
   "metadata": {},
   "source": [
    "### What is Pandas?\n",
    "\n",
    "- High-level data analysis library\n",
    "- Built on top of NumPy\n",
    "- Supports table-like data (like Excel or SQL)\n",
    "- Core object: `DataFrame`"
   ]
  },
  {
   "cell_type": "markdown",
   "id": "289c6d21-d93e-4c6c-8359-dba06207e2f3",
   "metadata": {},
   "source": [
    "### DataFrame vs Series\n",
    "- DataFrame: Think of it as an Excel sheet — rows and columns.\n",
    "- Series: A single column of data (like a list with labels)."
   ]
  },
  {
   "cell_type": "code",
   "execution_count": null,
   "id": "8b53c0b7-adeb-4097-91b3-06a4ab63edc8",
   "metadata": {},
   "outputs": [],
   "source": [
    "import pandas as pd\n",
    "\n",
    "# Series: 1D\n",
    "s = pd.Series([1, 2, 3])\n",
    "\n",
    "# DataFrame: 2D table\n",
    "df = pd.DataFrame({\n",
    "    \"Name\": [\"Alice\", \"Bob\"],\n",
    "    \"Age\": [25, 30]\n",
    "})\n"
   ]
  },
  {
   "cell_type": "markdown",
   "id": "8be2ac13-dade-4f5c-8871-d60638b2e7a9",
   "metadata": {},
   "source": [
    "### Loading Data\n",
    "You can load data from CSV, Excel, SQL, etc."
   ]
  },
  {
   "cell_type": "code",
   "execution_count": null,
   "id": "ac5c3175-721f-4b2a-9aaf-93e8262b5b58",
   "metadata": {},
   "outputs": [],
   "source": [
    "df = pd.read_csv(\"sales.csv\")\n",
    "df = pd.read_excel(\"data.xlsx\")  # needs openpyxl"
   ]
  },
  {
   "cell_type": "markdown",
   "id": "226aaa27-36c5-44a3-ba7b-f99c61fc37e3",
   "metadata": {},
   "source": [
    "### Exploring Data\n",
    "First step in data analysis is understanding what you're working with:\n",
    "\n",
    ".head() shows the first few rows\n",
    "\n",
    ".info() shows column names, types, and missing data\n",
    "\n",
    ".describe() gives stats like mean, min, max, etc."
   ]
  },
  {
   "cell_type": "code",
   "execution_count": null,
   "id": "f12cd181-d0f8-4334-8169-239193d3878d",
   "metadata": {},
   "outputs": [],
   "source": [
    "df.head()       # first 5 rows\n",
    "df.info()       # column types & nulls\n",
    "df.describe()   # basic stats"
   ]
  },
  {
   "cell_type": "markdown",
   "id": "7fd0c8c3-bffd-4194-b06a-20f543aecf4a",
   "metadata": {},
   "source": [
    "### Selecting Data"
   ]
  },
  {
   "cell_type": "code",
   "execution_count": null,
   "id": "1661b374-9885-4510-b8be-1c747e960db4",
   "metadata": {},
   "outputs": [],
   "source": [
    "# Columns\n",
    "df[\"Age\"]\n",
    "df[[\"Name\", \"Age\"]]\n",
    "\n",
    "# Rows by index\n",
    "df.loc[0]           # by label\n",
    "df.iloc[0]          # by position\n",
    "\n",
    "# Filter rows\n",
    "df[df[\"Age\"] > 30]"
   ]
  },
  {
   "cell_type": "markdown",
   "id": "d6ff253a-5d19-4b2e-9c04-f45844f9b9fa",
   "metadata": {},
   "source": [
    "### Common Operations"
   ]
  },
  {
   "cell_type": "code",
   "execution_count": null,
   "id": "5b18716f-0184-40c8-b815-fd7375434db2",
   "metadata": {},
   "outputs": [],
   "source": [
    "df[\"Salary\"].mean()\n",
    "df[\"City\"].value_counts()\n",
    "df.sort_values(\"Salary\", ascending=False)"
   ]
  },
  {
   "cell_type": "markdown",
   "id": "8c35c35f-8cb4-4eb2-80aa-df4fddad2ab8",
   "metadata": {},
   "source": [
    "### Real-World Relevance\n",
    "\n",
    "Pandas is your go-to tool for 80% of data wrangling tasks — Excel replacement, data cleaning, quick analysis, and prep for ML."
   ]
  },
  {
   "cell_type": "markdown",
   "id": "9f4b685e-ea2c-4330-ae38-23abe99ef52b",
   "metadata": {},
   "source": [
    "# Practice Exercises"
   ]
  },
  {
   "cell_type": "markdown",
   "id": "8a1c3697-7f45-4e34-a8f7-af2013096301",
   "metadata": {},
   "source": [
    "### 1. Import pandas and read a CSV"
   ]
  },
  {
   "cell_type": "code",
   "execution_count": null,
   "id": "da6abd71-ab2d-44be-a9fb-23d6dfcef03b",
   "metadata": {},
   "outputs": [],
   "source": [
    "import pandas as pd\n",
    "df = pd.read_csv(\"employees.csv\")"
   ]
  },
  {
   "cell_type": "markdown",
   "id": "ece94b4d-9f02-4505-abeb-06d28f606286",
   "metadata": {},
   "source": [
    "### 2. View top and bottom rows"
   ]
  },
  {
   "cell_type": "code",
   "execution_count": null,
   "id": "fbedbe11-9e60-49b1-b7e3-e576212942db",
   "metadata": {},
   "outputs": [],
   "source": [
    "print(df.head())\n",
    "print(df.tail())"
   ]
  },
  {
   "cell_type": "markdown",
   "id": "822403b2-7d9c-4baf-bafd-155072d1b18e",
   "metadata": {},
   "source": [
    "### 3. Check number of rows and columns"
   ]
  },
  {
   "cell_type": "code",
   "execution_count": null,
   "id": "3439cec6-8f1a-4928-9981-5b30e55332bb",
   "metadata": {},
   "outputs": [],
   "source": [
    "print(df.shape)"
   ]
  },
  {
   "cell_type": "markdown",
   "id": "2eff4916-ef9b-4ce1-bb28-85a01a15b8bd",
   "metadata": {},
   "source": [
    "### 4. Get column names"
   ]
  },
  {
   "cell_type": "code",
   "execution_count": null,
   "id": "66dfc7f4-e673-4dd1-9771-09d13bd3e6f4",
   "metadata": {},
   "outputs": [],
   "source": [
    "print(df.columns)"
   ]
  },
  {
   "cell_type": "markdown",
   "id": "26b8c77b-3a29-4b93-bc4a-bdcac40ce3fa",
   "metadata": {},
   "source": [
    "### 5. Summary statistics"
   ]
  },
  {
   "cell_type": "code",
   "execution_count": null,
   "id": "257620cb-32c2-4b82-85de-99e2e52c5a74",
   "metadata": {},
   "outputs": [],
   "source": [
    "print(df.describe())"
   ]
  },
  {
   "cell_type": "markdown",
   "id": "875465a2-a8e6-450d-a316-fa94d27383d5",
   "metadata": {},
   "source": [
    "### 6. Get all rows where salary > 50,000"
   ]
  },
  {
   "cell_type": "code",
   "execution_count": null,
   "id": "1701a637-2611-4ba3-b045-d3f1863d10e4",
   "metadata": {},
   "outputs": [],
   "source": [
    "df[df[\"Salary\"] > 50000]"
   ]
  },
  {
   "cell_type": "markdown",
   "id": "99a2f04e-5aee-4785-a6d7-6a9cdfba3d29",
   "metadata": {},
   "source": [
    "### 7. Select only Name and Department columns"
   ]
  },
  {
   "cell_type": "code",
   "execution_count": null,
   "id": "4c613a85-441b-4dae-9aba-ffa09ff7cf1d",
   "metadata": {},
   "outputs": [],
   "source": [
    "df[[\"Name\", \"Department\"]]"
   ]
  },
  {
   "cell_type": "markdown",
   "id": "2bc3008b-4e43-499d-9e3f-657837f2617d",
   "metadata": {},
   "source": [
    "### 8. Sort by salary descending"
   ]
  },
  {
   "cell_type": "code",
   "execution_count": null,
   "id": "28bc0dfd-d036-4112-a4ec-92eb4ea938ba",
   "metadata": {},
   "outputs": [],
   "source": [
    "df.sort_values(\"Salary\", ascending=False)"
   ]
  },
  {
   "cell_type": "markdown",
   "id": "f109f06d-d763-43cb-a00f-cf9e91965a58",
   "metadata": {},
   "source": [
    "### 9. Count unique departments"
   ]
  },
  {
   "cell_type": "code",
   "execution_count": null,
   "id": "c5e2e365-6c21-4421-b6a4-4ce36344fb2e",
   "metadata": {},
   "outputs": [],
   "source": [
    "df[\"Department\"].value_counts()"
   ]
  },
  {
   "cell_type": "markdown",
   "id": "b056b1f4-01a1-4351-9f35-05546da3548d",
   "metadata": {},
   "source": [
    "### 10. Get row by index"
   ]
  },
  {
   "cell_type": "code",
   "execution_count": null,
   "id": "b63980b0-4cf1-47ae-b8c4-8644707db7da",
   "metadata": {},
   "outputs": [],
   "source": [
    "df.iloc[2]  # 3rd row"
   ]
  },
  {
   "cell_type": "markdown",
   "id": "4f3be570-cb5e-419f-a06f-76959687f4c3",
   "metadata": {},
   "source": [
    "\n",
    "# Project: \n",
    "\n",
    "### HR Analytics Explorer\n",
    "\n",
    "### Goal\n",
    "\n",
    "Analyze a company’s employee dataset to answer key HR questions:\n",
    "- What’s the average salary by department?\n",
    "- Which departments have the most headcount?\n",
    "- What's the attrition rate?\n",
    "\n",
    "### Sample Dataset: `hr_data.csv`\n",
    "```python\n",
    "EmployeeID,Name,Department,Salary,Status\n",
    "1,Alice,Sales,70000,Active\n",
    "2,Bob,Engineering,90000,Active\n",
    "3,Charlie,Sales,65000,Left\n",
    "4,Dana,Engineering,85000,Active\n",
    "5,Eli,HR,60000,Left\n",
    "6,Faith,Sales,72000,Active\n",
    "```\n",
    "\n",
    "### Tasks\n",
    "\n",
    "1. Load CSV into DataFrame\n",
    "2. Use `.groupby()` to get:\n",
    "   - Avg salary by department\n",
    "   - Headcount by department\n",
    "   - Count of \"Left\" vs \"Active\"\n",
    "3. Use `.loc[]` to filter all employees who left\n",
    "4. Sort by salary\n",
    "5. Plot value counts (optional, next week)"
   ]
  },
  {
   "cell_type": "markdown",
   "id": "c7627691-00d6-4d2c-b4db-3c2c0422a93a",
   "metadata": {},
   "source": [
    "### Starter Code"
   ]
  },
  {
   "cell_type": "code",
   "execution_count": null,
   "id": "5e71ff9f-b0e0-4cfb-8ae2-f60620fdf36c",
   "metadata": {},
   "outputs": [],
   "source": [
    "import pandas as pd\n",
    "\n",
    "df = pd.read_csv(\"hr_data.csv\")\n",
    "\n",
    "# Average salary per department\n",
    "avg_salary = df.groupby(\"Department\")[\"Salary\"].mean()\n",
    "print(\"Average Salary:\\n\", avg_salary)\n",
    "\n",
    "# Headcount by department\n",
    "headcount = df[\"Department\"].value_counts()\n",
    "print(\"Headcount:\\n\", headcount)\n",
    "\n",
    "# Attrition counts\n",
    "status_counts = df[\"Status\"].value_counts()\n",
    "print(\"Status Counts:\\n\", status_counts)\n",
    "\n",
    "# List employees who left\n",
    "left = df[df[\"Status\"] == \"Left\"]\n",
    "print(\"Employees who left:\\n\", left[[\"Name\", \"Department\"]])\n"
   ]
  },
  {
   "cell_type": "code",
   "execution_count": null,
   "id": "13e5b204-78ac-421f-b05d-0ed9bdc7bf58",
   "metadata": {},
   "outputs": [],
   "source": [
    "Average Salary:\n",
    "Department\n",
    "Engineering    87500.0\n",
    "HR             60000.0\n",
    "Sales          69000.0\n",
    "\n",
    "Headcount:\n",
    "Sales          3\n",
    "Engineering    2\n",
    "HR             1\n",
    "\n",
    "Status Counts:\n",
    "Active    4\n",
    "Left      2\n"
   ]
  },
  {
   "cell_type": "markdown",
   "id": "685b4f1c-dc97-4239-8998-d97f17e60e08",
   "metadata": {},
   "source": [
    "### Stretch Goals\n",
    "\n",
    "Create a new column: “Seniority Level” based on salary\n",
    "\n",
    "Save summaries to a new Excel or CSV file\n",
    "\n",
    "Combine this with data from another department next week"
   ]
  },
  {
   "cell_type": "markdown",
   "id": "49cff604-898e-47ce-92f6-8ccb4f66faa2",
   "metadata": {},
   "source": [
    "# Week 8: Data Cleaning with Pandas\n",
    "**Topics:**\n",
    "* Handling nulls: isna( ), fillna( )\n",
    "* String operations: .str.lower( ), .strip( ), .replace( )\n",
    "* Date parsing and type conversion\n",
    "* Renaming columns, dropping duplicates\n",
    "\n",
    "**Project:** \n",
    "* “CRM Export Cleaner” – Clean a messy dataset for sales or marketing team\n",
    "\n",
    "**Learning Objectives**\n",
    "\n",
    "By the end of this week, you will be able to:\n",
    "- Identify and handle missing or duplicate data\n",
    "- Clean and standardize string values\n",
    "- Convert columns to proper data types (e.g., dates, numbers)\n",
    "- Rename columns, drop irrelevant data\n",
    "- Prepare raw exports for analysis or business use"
   ]
  },
  {
   "cell_type": "markdown",
   "id": "131197c7-221b-4f5a-94b4-f21b4a4cb92c",
   "metadata": {},
   "source": [
    "### Why Cleaning Matters\n",
    "\n",
    "- Raw data is messy: typos, empty cells, bad formats\n",
    "- Cleaning is 60–80% of real-world data work\n",
    "- Clean data = accurate insights\n"
   ]
  },
  {
   "cell_type": "markdown",
   "id": "c2b3d48d-d6eb-4080-b33d-386b1f87bda5",
   "metadata": {},
   "source": [
    "## Handling Missing Values"
   ]
  },
  {
   "cell_type": "code",
   "execution_count": null,
   "id": "2775540e-cd2d-4463-a796-48f615c6fa8a",
   "metadata": {},
   "outputs": [],
   "source": [
    "df.isna().sum()               # Count nulls\n",
    "df.dropna()                   # Remove rows with nulls\n",
    "df.fillna(0)                  # Fill nulls with 0\n",
    "df[\"col\"].fillna(\"Unknown\")   # Fill specific column"
   ]
  },
  {
   "cell_type": "markdown",
   "id": "50ae6c66-929d-41c8-aa41-c728c0059f0d",
   "metadata": {},
   "source": [
    "### String Cleaning (with .str)"
   ]
  },
  {
   "cell_type": "code",
   "execution_count": null,
   "id": "1ebc8e2c-95f8-4d37-a7d6-4336f5107d62",
   "metadata": {},
   "outputs": [],
   "source": [
    "df[\"Name\"] = df[\"Name\"].str.strip()        # Remove spaces\n",
    "df[\"Name\"] = df[\"Name\"].str.title()        # Capitalize\n",
    "df[\"Email\"] = df[\"Email\"].str.lower()      # Lowercase\n",
    "df[\"Phone\"] = df[\"Phone\"].str.replace(\"-\", \"\")"
   ]
  },
  {
   "cell_type": "markdown",
   "id": "94717a76-b047-42e9-986d-4e76f69d7aa0",
   "metadata": {},
   "source": [
    "### Data Type Conversion"
   ]
  },
  {
   "cell_type": "code",
   "execution_count": null,
   "id": "1ea24462-5e07-4a36-a71a-18d38c8ec65b",
   "metadata": {},
   "outputs": [],
   "source": [
    "df[\"Salary\"] = pd.to_numeric(df[\"Salary\"], errors=\"coerce\")\n",
    "df[\"JoinDate\"] = pd.to_datetime(df[\"JoinDate\"], errors=\"coerce\")"
   ]
  },
  {
   "cell_type": "markdown",
   "id": "dff4da98-3a3c-40c4-907a-a66a773ce5c0",
   "metadata": {},
   "source": [
    "### Renaming & Dropping"
   ]
  },
  {
   "cell_type": "code",
   "execution_count": null,
   "id": "939664d1-6e8d-4c89-9a7d-5bb2bb86841a",
   "metadata": {},
   "outputs": [],
   "source": [
    "df = df.rename(columns={\"emp_id\": \"EmployeeID\"})\n",
    "df = df.drop(columns=[\"TempNotes\"])"
   ]
  },
  {
   "cell_type": "markdown",
   "id": "af05dce9-9a76-483a-81f9-6f8b9775946e",
   "metadata": {},
   "source": [
    "### Dealing with Duplicates"
   ]
  },
  {
   "cell_type": "code",
   "execution_count": null,
   "id": "d9148043-ab6e-4df9-8d7d-dbf8591e567b",
   "metadata": {},
   "outputs": [],
   "source": [
    "df.duplicated().sum()\n",
    "df = df.drop_duplicates()"
   ]
  },
  {
   "cell_type": "markdown",
   "id": "39c4ee8e-84de-4fdc-9ec6-ca25490ba7fd",
   "metadata": {},
   "source": [
    "### Tip: Chain Methods"
   ]
  },
  {
   "cell_type": "code",
   "execution_count": null,
   "id": "ebc73f53-15f7-4209-8203-15a901c0245a",
   "metadata": {},
   "outputs": [],
   "source": [
    "df[\"Name\"] = df[\"Name\"].str.strip().str.title()"
   ]
  },
  {
   "cell_type": "markdown",
   "id": "db304b26-9c2c-4766-a16d-af36d2c2ff63",
   "metadata": {},
   "source": [
    "### Real-World Relevance\n",
    "\n",
    "You'll clean CRM exports, HR spreadsheets, survey data, and scraped data all the time. It’s not glamorous — but it’s mission critical."
   ]
  },
  {
   "cell_type": "markdown",
   "id": "d626e2ed-f466-4cd2-bc2f-96ef36393ac1",
   "metadata": {},
   "source": [
    "### Practice Exercises"
   ]
  },
  {
   "cell_type": "markdown",
   "id": "986aa224-71c8-4304-95eb-d850efc9fbe7",
   "metadata": {},
   "source": [
    "## 1. Fill null salaries with 0"
   ]
  },
  {
   "cell_type": "code",
   "execution_count": null,
   "id": "33584dff-8513-4b50-a127-02b50c5200e3",
   "metadata": {},
   "outputs": [],
   "source": [
    "df[\"Salary\"] = df[\"Salary\"].fillna(0)"
   ]
  },
  {
   "cell_type": "markdown",
   "id": "3cc6af81-59f8-4718-b686-ac66349e2c42",
   "metadata": {},
   "source": [
    "### 2. Drop all rows with any nulls"
   ]
  },
  {
   "cell_type": "code",
   "execution_count": null,
   "id": "c012c3b8-3c10-4170-af69-c8ab9458e305",
   "metadata": {},
   "outputs": [],
   "source": [
    "df = df.dropna()"
   ]
  },
  {
   "cell_type": "markdown",
   "id": "9c95b658-deb6-4013-a02f-7271c6d22d60",
   "metadata": {},
   "source": [
    "### 3. Strip spaces from name field"
   ]
  },
  {
   "cell_type": "code",
   "execution_count": null,
   "id": "93af2f4f-ca79-4e5f-9371-6e186d99897c",
   "metadata": {},
   "outputs": [],
   "source": [
    "df[\"Name\"] = df[\"Name\"].str.strip()"
   ]
  },
  {
   "cell_type": "markdown",
   "id": "73cb967b-466c-479f-a2da-696bfe5ce5ae",
   "metadata": {},
   "source": [
    "### 4. Convert JoinDate to datetime"
   ]
  },
  {
   "cell_type": "code",
   "execution_count": null,
   "id": "bf1a6899-c939-48a2-bca0-9a8b1186021d",
   "metadata": {},
   "outputs": [],
   "source": [
    "df[\"JoinDate\"] = pd.to_datetime(df[\"JoinDate\"])"
   ]
  },
  {
   "cell_type": "markdown",
   "id": "aaa76db9-ed51-4ca1-906f-d6752a11772e",
   "metadata": {},
   "source": [
    "### 5. Capitalize names"
   ]
  },
  {
   "cell_type": "code",
   "execution_count": null,
   "id": "9107a7d3-f02e-45d5-9109-51f3d0b52460",
   "metadata": {},
   "outputs": [],
   "source": [
    "df[\"Name\"] = df[\"Name\"].str.title()"
   ]
  },
  {
   "cell_type": "markdown",
   "id": "313e2a54-ce2a-4207-9acf-a3c140b4ff09",
   "metadata": {},
   "source": [
    "### 6. Lowercase all emails"
   ]
  },
  {
   "cell_type": "code",
   "execution_count": null,
   "id": "55230ceb-8c64-4b50-9db4-651092526f84",
   "metadata": {},
   "outputs": [],
   "source": [
    "df[\"Email\"] = df[\"Email\"].str.lower()"
   ]
  },
  {
   "cell_type": "markdown",
   "id": "363b89c5-11a5-4365-83bf-25a9ac75f6c6",
   "metadata": {},
   "source": [
    "### 7. Remove duplicates"
   ]
  },
  {
   "cell_type": "code",
   "execution_count": null,
   "id": "8c26f61f-26c4-4517-ac2e-c66fb5278708",
   "metadata": {},
   "outputs": [],
   "source": [
    "df = df.drop_duplicates()"
   ]
  },
  {
   "cell_type": "markdown",
   "id": "6129f413-2d3c-431c-9659-3c7abc289d7f",
   "metadata": {},
   "source": [
    "### 8. Rename column \"emp_id\" to \"EmployeeID\""
   ]
  },
  {
   "cell_type": "code",
   "execution_count": null,
   "id": "3d724c84-e23a-48f8-8102-4db01d4f7bee",
   "metadata": {},
   "outputs": [],
   "source": [
    "df = df.rename(columns={\"emp_id\": \"EmployeeID\"})"
   ]
  },
  {
   "cell_type": "markdown",
   "id": "ae859e55-3450-45ba-94b2-a14da1d8d1f9",
   "metadata": {},
   "source": [
    "### 9. Remove column \"Notes\""
   ]
  },
  {
   "cell_type": "code",
   "execution_count": null,
   "id": "8ab31e10-602f-4dea-9e36-f9792a05b4f5",
   "metadata": {},
   "outputs": [],
   "source": [
    "df = df.drop(columns=[\"Notes\"])"
   ]
  },
  {
   "cell_type": "markdown",
   "id": "54a3107c-0563-4832-b2d8-6955ab25d718",
   "metadata": {},
   "source": [
    "### 10. Fill missing values in \"Department\" with \"Unknown\""
   ]
  },
  {
   "cell_type": "code",
   "execution_count": null,
   "id": "f2327861-c55b-4dc3-9685-4b6b1937f1f5",
   "metadata": {},
   "outputs": [],
   "source": [
    "df[\"Department\"] = df[\"Department\"].fillna(\"Unknown\")"
   ]
  },
  {
   "cell_type": "markdown",
   "id": "0659ebde-f281-47a5-b241-ac185911ee72",
   "metadata": {},
   "source": [
    "# Project: \n",
    "\n",
    "### CRM Export Cleaner\n",
    "\n",
    "### Goal\n",
    "\n",
    "Take a messy customer export and clean it up for the marketing/sales team:\n",
    "- Standardize names, emails, and phone numbers\n",
    "- Remove duplicates\n",
    "- Convert types\n",
    "- Handle missing values\n",
    "\n",
    "### Sample Dataset: `crm_data.csv`\n",
    "\n",
    "```python\n",
    "Name,Email,Phone,SignupDate,Status\n",
    "alice ,ALICE@EXAMPLE.COM, 123-456-7890,2023/01/10,Active\n",
    "BOB,BOB@EMAIL.COM,1234567890,2023-02-12,Active\n",
    "alice,Alice@example.com,1234567890,2023-01-10,Active\n",
    "Charlie,,123.456.7890,,Inactive\n",
    "```\n",
    "### Tasks\n",
    "\n",
    "1. Remove duplicates (same Name + Phone)\n",
    "2. Strip/standardize Name and Email\n",
    "3. Convert phone numbers to consistent format (remove punctuation)\n",
    "4. Convert `SignupDate` to datetime\n",
    "5. Fill missing SignupDate with default\n",
    "6. Drop rows with missing emails\n",
    "7. Final cleaned dataset saved to `clean_crm.csv`"
   ]
  },
  {
   "cell_type": "markdown",
   "id": "5beeb589-a601-4f86-8076-69bb30e65ae8",
   "metadata": {},
   "source": [
    "### Starter Code"
   ]
  },
  {
   "cell_type": "code",
   "execution_count": null,
   "id": "c28d2ff1-b835-47e6-9852-344386f0cfc4",
   "metadata": {},
   "outputs": [],
   "source": [
    "import pandas as pd\n",
    "\n",
    "df = pd.read_csv(\"crm_data.csv\")\n",
    "\n",
    "# Strip and standardize strings\n",
    "df[\"Name\"] = df[\"Name\"].str.strip().str.title()\n",
    "df[\"Email\"] = df[\"Email\"].str.strip().str.lower()\n",
    "df[\"Phone\"] = df[\"Phone\"].str.replace(r\"\\D\", \"\", regex=True)\n",
    "\n",
    "# Remove duplicates (same Name + Phone)\n",
    "df = df.drop_duplicates(subset=[\"Name\", \"Phone\"])\n",
    "\n",
    "# Convert date\n",
    "df[\"SignupDate\"] = pd.to_datetime(df[\"SignupDate\"], errors=\"coerce\")\n",
    "\n",
    "# Fill missing dates\n",
    "df[\"SignupDate\"] = df[\"SignupDate\"].fillna(pd.Timestamp(\"2023-01-01\"))\n",
    "\n",
    "# Drop rows with missing email\n",
    "df = df.dropna(subset=[\"Email\"])\n",
    "\n",
    "# Save cleaned version\n",
    "df.to_csv(\"clean_crm.csv\", index=False)\n",
    "\n",
    "print(df)\n"
   ]
  },
  {
   "cell_type": "markdown",
   "id": "d564fc97-ccf9-4c36-939e-edd50df3583b",
   "metadata": {},
   "source": [
    "### Sample Output"
   ]
  },
  {
   "cell_type": "code",
   "execution_count": null,
   "id": "233bf295-9414-4506-95d6-23c95f5dec22",
   "metadata": {},
   "outputs": [],
   "source": [
    "     Name             Email        Phone SignupDate   Status\n",
    "0   Alice  alice@example.com  1234567890  2023-01-10   Active\n",
    "1     Bob     bob@email.com  1234567890  2023-02-12   Active\n",
    "3 Charlie  charlie@email.com 1234567890  2023-01-01  Inactive\n"
   ]
  },
  {
   "cell_type": "markdown",
   "id": "890ecd39-4820-4bb9-bf3f-4c5986b867c4",
   "metadata": {},
   "source": [
    "### Stretch Goals\n",
    "\n",
    "Validate emails using regex\n",
    "\n",
    "Add a “SignupMonth” column\n",
    "\n",
    "Save final summary to Excel"
   ]
  },
  {
   "cell_type": "markdown",
   "id": "41f6567d-22d6-4c00-adbc-e64baed5c852",
   "metadata": {},
   "source": [
    "# Week 9: Data Transformation & Feature Engineering\n",
    "**Topics:**\n",
    "* Creating new columns with apply() & lambda\n",
    "* Binning & categorization (pd.cut(), qcut())\n",
    "* Dummy variables (get_dummies)\n",
    "* Mapping values (e.g., scoring systems)\n",
    "\n",
    "*Project:* \n",
    "* Customer segmentation or performance tiering (e.g., \"Gold\", \"Silver\", \"Bronze\")\n",
    "\n",
    "**Learning Objectives**\n",
    "\n",
    "By the end of this week, you will be able to:\n",
    "- Create new columns using `apply()` and `lambda`\n",
    "- Perform binning and categorization (e.g., age groups, spend tiers)\n",
    "- Convert categorical variables using dummy/one-hot encoding\n",
    "- Map and transform column values with dictionaries\n",
    "- Prepare datasets for downstream modeling or analysis"
   ]
  },
  {
   "cell_type": "markdown",
   "id": "e3195994-71fe-4359-a643-889947119586",
   "metadata": {},
   "source": [
    "## Creating New Columns"
   ]
  },
  {
   "cell_type": "code",
   "execution_count": null,
   "id": "26228da2-4467-401f-a44b-e798b1fbed92",
   "metadata": {},
   "outputs": [],
   "source": [
    "# Using arithmetic\n",
    "df[\"Revenue\"] = df[\"Price\"] * df[\"Quantity\"]\n",
    "\n",
    "# Using apply + lambda\n",
    "df[\"FullName\"] = df[\"First\"] + \" \" + df[\"Last\"]\n",
    "df[\"Tax\"] = df[\"Price\"].apply(lambda x: x * 0.07)"
   ]
  },
  {
   "cell_type": "markdown",
   "id": "b8457315-c317-4d32-bd0c-5f5ea597e1c1",
   "metadata": {},
   "source": [
    "### Feature Binning with pd.cut() or pd.qcut()"
   ]
  },
  {
   "cell_type": "code",
   "execution_count": null,
   "id": "024a1f7c-4451-46be-8251-94cf7a9faee0",
   "metadata": {},
   "outputs": [],
   "source": [
    "# Fixed bins\n",
    "df[\"AgeGroup\"] = pd.cut(df[\"Age\"], bins=[0, 18, 35, 60, 100], labels=[\"Teen\", \"Young Adult\", \"Adult\", \"Senior\"])\n",
    "\n",
    "# Quantile-based bins\n",
    "df[\"SpendingTier\"] = pd.qcut(df[\"TotalSpent\"], q=3, labels=[\"Low\", \"Medium\", \"High\"])"
   ]
  },
  {
   "cell_type": "markdown",
   "id": "2c6aa80a-2231-47a5-9795-20458b5ecde1",
   "metadata": {},
   "source": [
    "### Mapping Categorical Values"
   ]
  },
  {
   "cell_type": "code",
   "execution_count": null,
   "id": "be0b12d0-5e23-428d-855c-cb13bdcd23c8",
   "metadata": {},
   "outputs": [],
   "source": [
    "rating_map = {\"Poor\": 1, \"Average\": 2, \"Good\": 3, \"Excellent\": 4}\n",
    "df[\"RatingScore\"] = df[\"Rating\"].map(rating_map)"
   ]
  },
  {
   "cell_type": "markdown",
   "id": "ffc7786d-6b8a-471f-8738-3f739c78a7dc",
   "metadata": {},
   "source": [
    "### One-Hot Encoding (Dummy Variables)"
   ]
  },
  {
   "cell_type": "code",
   "execution_count": null,
   "id": "b6e738f4-987d-4ae2-a146-37bac5ea25f2",
   "metadata": {},
   "outputs": [],
   "source": [
    "pd.get_dummies(df[\"Department\"])\n",
    "\n",
    "# Or include in main DataFrame\n",
    "df = pd.get_dummies(df, columns=[\"Department\"])"
   ]
  },
  {
   "cell_type": "markdown",
   "id": "795c14a8-2529-47e2-90b4-1f97e32b6f4c",
   "metadata": {},
   "source": [
    "### Why Feature Engineering?\n",
    "\n",
    "Key step before modeling or deeper analysis\n",
    "\n",
    "Allows you to capture patterns (segments, tiers, scores)\n",
    "\n",
    "Helps convert messy real-world data into structured features"
   ]
  },
  {
   "cell_type": "markdown",
   "id": "56328805-d8d2-4cc7-929b-680ba9978459",
   "metadata": {},
   "source": [
    "### Tip: Avoid modifying original column unless intended"
   ]
  },
  {
   "cell_type": "code",
   "execution_count": null,
   "id": "1d33217b-d090-4887-be32-2144e4f13e28",
   "metadata": {},
   "outputs": [],
   "source": [
    "# Don’t overwrite your raw data unless you're sure\n",
    "df[\"Normalized\"] = df[\"Score\"] / df[\"Score\"].max()"
   ]
  },
  {
   "cell_type": "markdown",
   "id": "21542657-4011-4ad8-ba0d-f5d8f4ac65d3",
   "metadata": {},
   "source": [
    "# Practice Exercises"
   ]
  },
  {
   "cell_type": "markdown",
   "id": "ebc6f044-0d0a-4910-b2c0-d355bbb238b3",
   "metadata": {},
   "source": [
    "### 1. Create \"Revenue\" = Price × Quantity"
   ]
  },
  {
   "cell_type": "code",
   "execution_count": null,
   "id": "ee65c6db-23fe-47b3-ab69-e368f71a8e4b",
   "metadata": {},
   "outputs": [],
   "source": [
    "df[\"Revenue\"] = df[\"Price\"] * df[\"Quantity\"]"
   ]
  },
  {
   "cell_type": "markdown",
   "id": "876972eb-d80c-491a-afb0-958bd1948643",
   "metadata": {},
   "source": [
    "### 2. Combine First and Last Name into FullName"
   ]
  },
  {
   "cell_type": "code",
   "execution_count": null,
   "id": "df119d11-4874-4acc-bcb3-62cf69132e2c",
   "metadata": {},
   "outputs": [],
   "source": [
    "df[\"FullName\"] = df[\"First\"] + \" \" + df[\"Last\"]"
   ]
  },
  {
   "cell_type": "markdown",
   "id": "63faffd9-d4a7-48cb-b7d8-8d337ee98448",
   "metadata": {},
   "source": [
    "### 3. Calculate DiscountedPrice = Price * 0.9"
   ]
  },
  {
   "cell_type": "code",
   "execution_count": null,
   "id": "2f9f5eae-d7f3-43f8-855f-5bda0e76c2e4",
   "metadata": {},
   "outputs": [],
   "source": [
    "df[\"DiscountedPrice\"] = df[\"Price\"].apply(lambda x: x * 0.9)"
   ]
  },
  {
   "cell_type": "markdown",
   "id": "e347494f-459f-4b44-b3d2-68ffe2dca367",
   "metadata": {},
   "source": [
    "### 4. Create Age Groups with cut()"
   ]
  },
  {
   "cell_type": "code",
   "execution_count": null,
   "id": "5b91aacd-8a1a-4eb7-a260-76fc2e23974a",
   "metadata": {},
   "outputs": [],
   "source": [
    "df[\"AgeGroup\"] = pd.cut(df[\"Age\"], [0, 18, 35, 60, 100], labels=[\"Teen\", \"Young Adult\", \"Adult\", \"Senior\"])"
   ]
  },
  {
   "cell_type": "markdown",
   "id": "b9313987-1712-44e1-8e7e-440bb83b45a0",
   "metadata": {},
   "source": [
    "### 5. Score performance using map()"
   ]
  },
  {
   "cell_type": "code",
   "execution_count": null,
   "id": "868b479a-44c6-4fa0-979e-c9cb13bb5a79",
   "metadata": {},
   "outputs": [],
   "source": [
    "map_dict = {\"Low\": 1, \"Medium\": 2, \"High\": 3}\n",
    "df[\"Score\"] = df[\"Performance\"].map(map_dict)"
   ]
  },
  {
   "cell_type": "markdown",
   "id": "707f43e8-e1a6-4279-900f-70cd6ac31383",
   "metadata": {},
   "source": [
    "### 6. Convert \"Category\" to dummy variables"
   ]
  },
  {
   "cell_type": "code",
   "execution_count": null,
   "id": "2d33eeb1-a650-4ecd-aeb8-02681b541f50",
   "metadata": {},
   "outputs": [],
   "source": [
    "pd.get_dummies(df[\"Category\"])"
   ]
  },
  {
   "cell_type": "markdown",
   "id": "a8027ed5-a246-4fe5-bf23-945a9f764b63",
   "metadata": {},
   "source": [
    "### 7. Normalize a column between 0 and 1"
   ]
  },
  {
   "cell_type": "code",
   "execution_count": null,
   "id": "f900060f-f2ca-445f-ab7f-08564a696255",
   "metadata": {},
   "outputs": [],
   "source": [
    "df[\"Normalized\"] = df[\"Score\"] / df[\"Score\"].max()"
   ]
  },
  {
   "cell_type": "markdown",
   "id": "9ecdb676-236c-4a18-9215-2efc636d2577",
   "metadata": {},
   "source": [
    "### 8. Add “Spending Tier” using qcut()"
   ]
  },
  {
   "cell_type": "code",
   "execution_count": null,
   "id": "4fa43932-dcf7-414d-b001-97676fe135de",
   "metadata": {},
   "outputs": [],
   "source": [
    "df[\"Tier\"] = pd.qcut(df[\"Spending\"], 3, labels=[\"Low\", \"Medium\", \"High\"])"
   ]
  },
  {
   "cell_type": "markdown",
   "id": "57d7f679-33f0-4475-8635-85ef16182ba2",
   "metadata": {},
   "source": [
    "### 9. Extract domain from email"
   ]
  },
  {
   "cell_type": "code",
   "execution_count": null,
   "id": "c77e4949-de40-4f49-9bb0-5ba53d867b1e",
   "metadata": {},
   "outputs": [],
   "source": [
    "df[\"Domain\"] = df[\"Email\"].apply(lambda x: x.split(\"@\")[1])"
   ]
  },
  {
   "cell_type": "markdown",
   "id": "dc8afd53-16b6-4a69-97d8-f45408c53c14",
   "metadata": {},
   "source": [
    "### 10. Create \"IsHighValue\" if Revenue > 1000"
   ]
  },
  {
   "cell_type": "code",
   "execution_count": null,
   "id": "cd75c7fc-e934-40c5-82e5-13044a39667b",
   "metadata": {},
   "outputs": [],
   "source": [
    "df[\"IsHighValue\"] = df[\"Revenue\"] > 1000"
   ]
  },
  {
   "cell_type": "markdown",
   "id": "e486e3ec-be1d-45c5-b491-e4b3c8fb2e80",
   "metadata": {},
   "source": [
    "## Project: **Customer Segmentation & Tiering**\n",
    "\n",
    "### Goal\n",
    "\n",
    "Transform raw customer purchase data into **meaningful segments**:\n",
    "- Calculate total and average spend\n",
    "- Categorize customers into tiers\n",
    "- Add flags for high-value behavior\n",
    "\n",
    "### Sample Dataset: `customers.csv`\n",
    "\n",
    "```python\n",
    "CustomerID,Name,Age,TotalSpent,Transactions\n",
    "101,Alice,34,1200.50,12\n",
    "102,Bob,22,450.00,5\n",
    "103,Charlie,45,3000.00,18\n",
    "104,Dana,61,980.00,4\n",
    "105,Eli,28,1750.00,8\n",
    "```\n",
    "### Tasks\n",
    "\n",
    "1. Create `AvgSpend` = TotalSpent / Transactions\n",
    "2. Categorize customers into:\n",
    "   - Spending Tiers using `pd.qcut()`\n",
    "   - Age Groups using `pd.cut()`\n",
    "3. Create binary flag: `IsHighValue` if TotalSpent > 1000 and Transactions > 10\n",
    "4. One-hot encode age groups (optional)"
   ]
  },
  {
   "cell_type": "markdown",
   "id": "191867cb-90c7-4562-ae68-dd58aaeb7b4c",
   "metadata": {},
   "source": [
    "### Starter Code"
   ]
  },
  {
   "cell_type": "code",
   "execution_count": null,
   "id": "fb38ebcc-31d5-4ef9-8fce-ceaee3539509",
   "metadata": {},
   "outputs": [],
   "source": [
    "import pandas as pd\n",
    "\n",
    "df = pd.read_csv(\"customers.csv\")\n",
    "\n",
    "# Average Spend\n",
    "df[\"AvgSpend\"] = df[\"TotalSpent\"] / df[\"Transactions\"]\n",
    "\n",
    "# Spending Tier (3 equal-sized groups)\n",
    "df[\"SpendingTier\"] = pd.qcut(df[\"TotalSpent\"], 3, labels=[\"Low\", \"Medium\", \"High\"])\n",
    "\n",
    "# Age Group\n",
    "df[\"AgeGroup\"] = pd.cut(df[\"Age\"], bins=[0, 25, 45, 100], labels=[\"Young\", \"Middle\", \"Senior\"])\n",
    "\n",
    "# High Value Flag\n",
    "df[\"IsHighValue\"] = (df[\"TotalSpent\"] > 1000) & (df[\"Transactions\"] > 10)\n",
    "\n",
    "print(df)"
   ]
  },
  {
   "cell_type": "markdown",
   "id": "7aff3413-4f8a-4027-bfd3-d8ec3475c1c5",
   "metadata": {},
   "source": [
    "### Sample Output"
   ]
  },
  {
   "cell_type": "code",
   "execution_count": null,
   "id": "daa31d71-7b94-4260-8ad1-017916059d3b",
   "metadata": {},
   "outputs": [],
   "source": [
    "  Name   Age  TotalSpent  Transactions  AvgSpend SpendingTier AgeGroup  IsHighValue\n",
    "0 Alice   34     1200.5            12      100.0       Medium   Middle         True\n",
    "1 Bob     22      450.0             5       90.0          Low    Young        False\n",
    "2 Charlie 45     3000.0            18      166.6         High   Middle         True\n",
    "3 Dana    61      980.0             4      245.0          Low   Senior        False\n",
    "4 Eli     28     1750.0             8      218.7       Medium   Middle        False\n"
   ]
  },
  {
   "cell_type": "markdown",
   "id": "f902305a-f8fa-471d-87b4-4ba21890af7e",
   "metadata": {},
   "source": [
    "### Stretch Goals\n",
    "\n",
    "Add normalized “AvgSpend”\n",
    "\n",
    "Create cohort labels (e.g. Young-HighSpender)\n",
    "\n",
    "Export tier summary by group to Excel or PDF"
   ]
  },
  {
   "cell_type": "markdown",
   "id": "5a147599-9b52-44e2-ba33-98f87f0e5947",
   "metadata": {},
   "source": [
    "# Week 10: Aggregation, Grouping, and Pivoting\n",
    "**Topics:**\n",
    "* Grouping with .groupby() and .agg()\n",
    "* Pivot tables with .pivot_table()\n",
    "* Sorting and filtering summaries\n",
    "* Multi-level aggregation\n",
    "\n",
    "**Project:** \n",
    "* “Revenue by Product Category” – Analyze revenue trends and generate pivot tables by region/month\n",
    "\n",
    "**Learning Objectives**\n",
    "\n",
    "By the end of this week, you will be able to:\n",
    "- Use `.groupby()` and `.agg()` to summarize data\n",
    "- Perform multi-level groupings\n",
    "- Create pivot tables using `.pivot_table()`\n",
    "- Sort and filter summary tables\n",
    "- Apply business thinking to summarize KPIs\n"
   ]
  },
  {
   "cell_type": "markdown",
   "id": "2a2025c8-7563-4f81-8e9c-4632d8b85ed7",
   "metadata": {},
   "source": [
    "## Grouping Data"
   ]
  },
  {
   "cell_type": "code",
   "execution_count": null,
   "id": "c6fb3836-633f-4548-a8f6-d2d4bd7abad6",
   "metadata": {},
   "outputs": [],
   "source": [
    "df.groupby(\"Department\")[\"Salary\"].mean()\n",
    "df.groupby(\"Region\")[[\"Sales\", \"Profit\"]].sum()"
   ]
  },
  {
   "cell_type": "markdown",
   "id": "305c7702-85c5-495c-9795-7567711b64c7",
   "metadata": {},
   "source": [
    "### Aggregation with .agg()"
   ]
  },
  {
   "cell_type": "code",
   "execution_count": null,
   "id": "2bead827-01e6-4cb3-85fb-b7adcf51606a",
   "metadata": {},
   "outputs": [],
   "source": [
    "df.groupby(\"Region\").agg({\n",
    "    \"Sales\": \"sum\",\n",
    "    \"Profit\": \"mean\",\n",
    "    \"Discount\": \"max\"\n",
    "})"
   ]
  },
  {
   "cell_type": "markdown",
   "id": "bdecf08c-9abb-45c4-923f-640d3601f4ce",
   "metadata": {},
   "source": [
    "Use a dict to assign different aggregation methods\n",
    "\n",
    "More flexible than just .mean() or .sum()"
   ]
  },
  {
   "cell_type": "markdown",
   "id": "2baa213c-c148-4630-b13b-52ed16c06d95",
   "metadata": {},
   "source": [
    "### Multi-Level Grouping"
   ]
  },
  {
   "cell_type": "code",
   "execution_count": null,
   "id": "4920eba5-4da0-4100-a6ff-e5208ccaac09",
   "metadata": {},
   "outputs": [],
   "source": [
    "df.groupby([\"Region\", \"Category\"])[\"Sales\"].sum()"
   ]
  },
  {
   "cell_type": "markdown",
   "id": "c2bd9d62-66fb-425d-bc57-906ee94e735a",
   "metadata": {},
   "source": [
    "Group by multiple features for a detailed view\n",
    "Returns a MultiIndex DataFrame"
   ]
  },
  {
   "cell_type": "markdown",
   "id": "ccdf58e8-a60d-4865-af12-9cf190458f60",
   "metadata": {},
   "source": [
    "### Pivot Tables with .pivot_table()"
   ]
  },
  {
   "cell_type": "code",
   "execution_count": null,
   "id": "3c3abc3f-5519-4fa6-b0bf-e3155da6bded",
   "metadata": {},
   "outputs": [],
   "source": [
    "df.pivot_table(index=\"Region\", columns=\"Category\", values=\"Sales\", aggfunc=\"sum\")"
   ]
  },
  {
   "cell_type": "markdown",
   "id": "a7a94826-f74e-4b0e-b257-006f8ae21579",
   "metadata": {},
   "source": [
    "Like Excel pivots — reshape and summarize data\n",
    "aggfunc can be sum, mean, count, etc."
   ]
  },
  {
   "cell_type": "markdown",
   "id": "23884f11-96cc-4728-b7b8-fa0a4f716b82",
   "metadata": {},
   "source": [
    "### Sorting Summaries"
   ]
  },
  {
   "cell_type": "code",
   "execution_count": null,
   "id": "d54711df-75cb-4e38-bff5-5ea4c6e06b89",
   "metadata": {},
   "outputs": [],
   "source": [
    "summary = df.groupby(\"Category\")[\"Sales\"].sum()\n",
    "summary.sort_values(ascending=False)"
   ]
  },
  {
   "cell_type": "markdown",
   "id": "af9f8bf0-3bf1-4d52-88f1-8096fbacbba5",
   "metadata": {},
   "source": [
    "### Use .sort_values() to highlight top performers"
   ]
  },
  {
   "cell_type": "markdown",
   "id": "dcd02846-cbbc-4781-acbd-e9656b056ee7",
   "metadata": {},
   "source": [
    "### When to Use What?"
   ]
  },
  {
   "cell_type": "markdown",
   "id": "5bb0362b-0806-498e-bc72-dfca348995ba",
   "metadata": {},
   "source": [
    "| Task                          | Method           |\n",
    "| ----------------------------- | ---------------- |\n",
    "| Grouping + Summary            | `.groupby()`     |\n",
    "| Summary Across 2 Dimensions   | `.pivot_table()` |\n",
    "| Aggregation w/ multiple funcs | `.agg()`         |\n",
    "| Ranking results               | `.sort_values()` |\n"
   ]
  },
  {
   "cell_type": "markdown",
   "id": "53ac482c-25f3-4db4-8fb9-c6710fbce455",
   "metadata": {},
   "source": [
    "### Real-World Relevance\n",
    "\n",
    "Used in:\n",
    "\n",
    "Sales analysis by region/month\n",
    "\n",
    "HR analytics by department/gender\n",
    "\n",
    "Marketing conversion by channel/campaign"
   ]
  },
  {
   "cell_type": "markdown",
   "id": "16bee761-d7e8-49aa-a207-1704d3b478fd",
   "metadata": {},
   "source": [
    "# Practice Exercises"
   ]
  },
  {
   "cell_type": "markdown",
   "id": "3afda380-4dc8-4a54-926d-cb531ffcb887",
   "metadata": {},
   "source": [
    "### 1. Group by Department and get average salary"
   ]
  },
  {
   "cell_type": "code",
   "execution_count": null,
   "id": "7988d1d1-576f-4a34-912d-45bbb97860c3",
   "metadata": {},
   "outputs": [],
   "source": [
    "df.groupby(\"Department\")[\"Salary\"].mean()"
   ]
  },
  {
   "cell_type": "markdown",
   "id": "b30fa594-36fe-4b3e-be75-a8018e1d7f50",
   "metadata": {},
   "source": [
    "### 2. Group by Gender and get employee count"
   ]
  },
  {
   "cell_type": "code",
   "execution_count": null,
   "id": "5a6550b2-69bf-448f-9544-9e8b780bb304",
   "metadata": {},
   "outputs": [],
   "source": [
    "df.groupby(\"Gender\")[\"EmployeeID\"].count()\n"
   ]
  },
  {
   "cell_type": "markdown",
   "id": "470ed4f1-a788-43f9-9262-6afe1e5b7277",
   "metadata": {},
   "source": [
    "### 3. Sum sales by Region and Category"
   ]
  },
  {
   "cell_type": "code",
   "execution_count": null,
   "id": "9b3c7a41-f768-4cbc-9aca-ef9a946cdec0",
   "metadata": {},
   "outputs": [],
   "source": [
    "df.groupby([\"Region\", \"Category\"])[\"Sales\"].sum()\n"
   ]
  },
  {
   "cell_type": "markdown",
   "id": "85f83073-8997-4307-b76f-249c427befc4",
   "metadata": {},
   "source": [
    "### 4. Aggregate sales (sum) and profit (mean) by Category"
   ]
  },
  {
   "cell_type": "code",
   "execution_count": null,
   "id": "000b0ff5-e2ab-4537-a015-0adf6953a4b1",
   "metadata": {},
   "outputs": [],
   "source": [
    "df.groupby(\"Category\").agg({\n",
    "    \"Sales\": \"sum\",\n",
    "    \"Profit\": \"mean\"\n",
    "})"
   ]
  },
  {
   "cell_type": "markdown",
   "id": "b3c718c5-0f8f-4618-9d73-70cafb3983cd",
   "metadata": {},
   "source": [
    "### 5. Create a pivot table for total sales by Region and Month"
   ]
  },
  {
   "cell_type": "code",
   "execution_count": null,
   "id": "ee765a2b-67d4-4ed7-8d12-e95ac60e8cd7",
   "metadata": {},
   "outputs": [],
   "source": [
    "df.pivot_table(index=\"Region\", columns=\"Month\", values=\"Sales\", aggfunc=\"sum\")"
   ]
  },
  {
   "cell_type": "markdown",
   "id": "ffc01f7b-4e7f-4e66-ad35-a1b09ff8bdb0",
   "metadata": {},
   "source": [
    "### 6. Sort departments by total salary spent"
   ]
  },
  {
   "cell_type": "code",
   "execution_count": null,
   "id": "d241970f-02ab-4e8a-b653-166da62e4ef8",
   "metadata": {},
   "outputs": [],
   "source": [
    "df.groupby(\"Department\")[\"Salary\"].sum().sort_values(ascending=False)"
   ]
  },
  {
   "cell_type": "markdown",
   "id": "b0eed12d-0de0-4f93-b004-d55478febcbb",
   "metadata": {},
   "source": [
    "### 7. Count employees per region and gender"
   ]
  },
  {
   "cell_type": "code",
   "execution_count": null,
   "id": "74363162-55a9-4d77-919c-15b5cf3e8a33",
   "metadata": {},
   "outputs": [],
   "source": [
    "df.groupby([\"Region\", \"Gender\"])[\"EmployeeID\"].count()"
   ]
  },
  {
   "cell_type": "markdown",
   "id": "2d6e3350-d2d3-4cfe-a900-01331297075d",
   "metadata": {},
   "source": [
    "### 8. Create pivot table with average salary per Department and Gender"
   ]
  },
  {
   "cell_type": "code",
   "execution_count": null,
   "id": "c1a57272-1446-4602-8b0b-2635f178fb98",
   "metadata": {},
   "outputs": [],
   "source": [
    "df.pivot_table(index=\"Department\", columns=\"Gender\", values=\"Salary\", aggfunc=\"mean\")"
   ]
  },
  {
   "cell_type": "markdown",
   "id": "88e23b00-a1dd-4a65-a134-2af948e7babb",
   "metadata": {},
   "source": [
    "### 9. Show top 3 categories by total revenue"
   ]
  },
  {
   "cell_type": "code",
   "execution_count": null,
   "id": "facf2cf4-fd93-4541-a023-e81478439d8f",
   "metadata": {},
   "outputs": [],
   "source": [
    "df.groupby(\"Category\")[\"Revenue\"].sum().sort_values(ascending=False).head(3)"
   ]
  },
  {
   "cell_type": "markdown",
   "id": "0d136dd4-10fd-4129-80b3-adb0685e8004",
   "metadata": {},
   "source": [
    "### 10. Add new column \"Revenue\" = Price × Quantity, then group by Product"
   ]
  },
  {
   "cell_type": "code",
   "execution_count": null,
   "id": "dd26d1c9-39d4-4731-b664-83c5543c28dc",
   "metadata": {},
   "outputs": [],
   "source": [
    "df[\"Revenue\"] = df[\"Price\"] * df[\"Quantity\"]\n",
    "df.groupby(\"Product\")[\"Revenue\"].sum()"
   ]
  },
  {
   "cell_type": "markdown",
   "id": "132c3a03-66ef-41b5-af2c-0485bb33d4e2",
   "metadata": {},
   "source": [
    "# Project: \n",
    "### Revenue by Product Category\n",
    "\n",
    "### Goal\n",
    "\n",
    "Use grouping and pivoting to analyze **sales performance** across products, categories, and regions.\n",
    "\n",
    "### Sample Dataset: `sales_data.csv`\n",
    "```python\n",
    "OrderID,Region,Category,Product,Price,Quantity,OrderDate\n",
    "1,West,Office Supplies,Pens,1.5,20,2023-01-12\n",
    "2,East,Furniture,Chair,85,2,2023-01-14\n",
    "3,South,Technology,Laptop,950,1,2023-02-02\n",
    "4,West,Furniture,Table,200,1,2023-02-11\n",
    "5,East,Office Supplies,Stapler,7.5,10,2023-03-05\n",
    "```\n",
    "### Tasks\n",
    "\n",
    "1. Create `Revenue` = Price × Quantity\n",
    "2. Group by `Category` and `Region` to get:\n",
    "   - Total Revenue\n",
    "   - Average Quantity per sale\n",
    "3. Create pivot table: Revenue by Category vs Region\n",
    "4. Extract `Month` from `OrderDate` and group by `Month` and `Category`\n",
    "5. Sort to find top-grossing categories by month"
   ]
  },
  {
   "cell_type": "markdown",
   "id": "92957805-efc9-4653-9572-1f9a9262983f",
   "metadata": {},
   "source": [
    "### Starter Code"
   ]
  },
  {
   "cell_type": "code",
   "execution_count": 6,
   "id": "810e4bc9-695e-4559-a7b0-6d00c422828c",
   "metadata": {},
   "outputs": [
    {
     "ename": "FileNotFoundError",
     "evalue": "[Errno 2] No such file or directory: 'sales_data.csv'",
     "output_type": "error",
     "traceback": [
      "\u001b[31m---------------------------------------------------------------------------\u001b[39m",
      "\u001b[31mFileNotFoundError\u001b[39m                         Traceback (most recent call last)",
      "\u001b[36mCell\u001b[39m\u001b[36m \u001b[39m\u001b[32mIn[6]\u001b[39m\u001b[32m, line 3\u001b[39m\n\u001b[32m      1\u001b[39m \u001b[38;5;66;03m# import pandas as pd\u001b[39;00m\n\u001b[32m----> \u001b[39m\u001b[32m3\u001b[39m df = \u001b[43mpd\u001b[49m\u001b[43m.\u001b[49m\u001b[43mread_csv\u001b[49m\u001b[43m(\u001b[49m\u001b[33;43m\"\u001b[39;49m\u001b[33;43msales_data.csv\u001b[39;49m\u001b[33;43m\"\u001b[39;49m\u001b[43m)\u001b[49m\n\u001b[32m      5\u001b[39m \u001b[38;5;66;03m# Revenue Column\u001b[39;00m\n\u001b[32m      6\u001b[39m df[\u001b[33m\"\u001b[39m\u001b[33mRevenue\u001b[39m\u001b[33m\"\u001b[39m] = df[\u001b[33m\"\u001b[39m\u001b[33mPrice\u001b[39m\u001b[33m\"\u001b[39m] * df[\u001b[33m\"\u001b[39m\u001b[33mQuantity\u001b[39m\u001b[33m\"\u001b[39m]\n",
      "\u001b[36mFile \u001b[39m\u001b[32m~/dev-projects/python-for-data-analytics/venv/lib/python3.12/site-packages/pandas/io/parsers/readers.py:1026\u001b[39m, in \u001b[36mread_csv\u001b[39m\u001b[34m(filepath_or_buffer, sep, delimiter, header, names, index_col, usecols, dtype, engine, converters, true_values, false_values, skipinitialspace, skiprows, skipfooter, nrows, na_values, keep_default_na, na_filter, verbose, skip_blank_lines, parse_dates, infer_datetime_format, keep_date_col, date_parser, date_format, dayfirst, cache_dates, iterator, chunksize, compression, thousands, decimal, lineterminator, quotechar, quoting, doublequote, escapechar, comment, encoding, encoding_errors, dialect, on_bad_lines, delim_whitespace, low_memory, memory_map, float_precision, storage_options, dtype_backend)\u001b[39m\n\u001b[32m   1013\u001b[39m kwds_defaults = _refine_defaults_read(\n\u001b[32m   1014\u001b[39m     dialect,\n\u001b[32m   1015\u001b[39m     delimiter,\n\u001b[32m   (...)\u001b[39m\u001b[32m   1022\u001b[39m     dtype_backend=dtype_backend,\n\u001b[32m   1023\u001b[39m )\n\u001b[32m   1024\u001b[39m kwds.update(kwds_defaults)\n\u001b[32m-> \u001b[39m\u001b[32m1026\u001b[39m \u001b[38;5;28;01mreturn\u001b[39;00m \u001b[43m_read\u001b[49m\u001b[43m(\u001b[49m\u001b[43mfilepath_or_buffer\u001b[49m\u001b[43m,\u001b[49m\u001b[43m \u001b[49m\u001b[43mkwds\u001b[49m\u001b[43m)\u001b[49m\n",
      "\u001b[36mFile \u001b[39m\u001b[32m~/dev-projects/python-for-data-analytics/venv/lib/python3.12/site-packages/pandas/io/parsers/readers.py:620\u001b[39m, in \u001b[36m_read\u001b[39m\u001b[34m(filepath_or_buffer, kwds)\u001b[39m\n\u001b[32m    617\u001b[39m _validate_names(kwds.get(\u001b[33m\"\u001b[39m\u001b[33mnames\u001b[39m\u001b[33m\"\u001b[39m, \u001b[38;5;28;01mNone\u001b[39;00m))\n\u001b[32m    619\u001b[39m \u001b[38;5;66;03m# Create the parser.\u001b[39;00m\n\u001b[32m--> \u001b[39m\u001b[32m620\u001b[39m parser = \u001b[43mTextFileReader\u001b[49m\u001b[43m(\u001b[49m\u001b[43mfilepath_or_buffer\u001b[49m\u001b[43m,\u001b[49m\u001b[43m \u001b[49m\u001b[43m*\u001b[49m\u001b[43m*\u001b[49m\u001b[43mkwds\u001b[49m\u001b[43m)\u001b[49m\n\u001b[32m    622\u001b[39m \u001b[38;5;28;01mif\u001b[39;00m chunksize \u001b[38;5;129;01mor\u001b[39;00m iterator:\n\u001b[32m    623\u001b[39m     \u001b[38;5;28;01mreturn\u001b[39;00m parser\n",
      "\u001b[36mFile \u001b[39m\u001b[32m~/dev-projects/python-for-data-analytics/venv/lib/python3.12/site-packages/pandas/io/parsers/readers.py:1620\u001b[39m, in \u001b[36mTextFileReader.__init__\u001b[39m\u001b[34m(self, f, engine, **kwds)\u001b[39m\n\u001b[32m   1617\u001b[39m     \u001b[38;5;28mself\u001b[39m.options[\u001b[33m\"\u001b[39m\u001b[33mhas_index_names\u001b[39m\u001b[33m\"\u001b[39m] = kwds[\u001b[33m\"\u001b[39m\u001b[33mhas_index_names\u001b[39m\u001b[33m\"\u001b[39m]\n\u001b[32m   1619\u001b[39m \u001b[38;5;28mself\u001b[39m.handles: IOHandles | \u001b[38;5;28;01mNone\u001b[39;00m = \u001b[38;5;28;01mNone\u001b[39;00m\n\u001b[32m-> \u001b[39m\u001b[32m1620\u001b[39m \u001b[38;5;28mself\u001b[39m._engine = \u001b[38;5;28;43mself\u001b[39;49m\u001b[43m.\u001b[49m\u001b[43m_make_engine\u001b[49m\u001b[43m(\u001b[49m\u001b[43mf\u001b[49m\u001b[43m,\u001b[49m\u001b[43m \u001b[49m\u001b[38;5;28;43mself\u001b[39;49m\u001b[43m.\u001b[49m\u001b[43mengine\u001b[49m\u001b[43m)\u001b[49m\n",
      "\u001b[36mFile \u001b[39m\u001b[32m~/dev-projects/python-for-data-analytics/venv/lib/python3.12/site-packages/pandas/io/parsers/readers.py:1880\u001b[39m, in \u001b[36mTextFileReader._make_engine\u001b[39m\u001b[34m(self, f, engine)\u001b[39m\n\u001b[32m   1878\u001b[39m     \u001b[38;5;28;01mif\u001b[39;00m \u001b[33m\"\u001b[39m\u001b[33mb\u001b[39m\u001b[33m\"\u001b[39m \u001b[38;5;129;01mnot\u001b[39;00m \u001b[38;5;129;01min\u001b[39;00m mode:\n\u001b[32m   1879\u001b[39m         mode += \u001b[33m\"\u001b[39m\u001b[33mb\u001b[39m\u001b[33m\"\u001b[39m\n\u001b[32m-> \u001b[39m\u001b[32m1880\u001b[39m \u001b[38;5;28mself\u001b[39m.handles = \u001b[43mget_handle\u001b[49m\u001b[43m(\u001b[49m\n\u001b[32m   1881\u001b[39m \u001b[43m    \u001b[49m\u001b[43mf\u001b[49m\u001b[43m,\u001b[49m\n\u001b[32m   1882\u001b[39m \u001b[43m    \u001b[49m\u001b[43mmode\u001b[49m\u001b[43m,\u001b[49m\n\u001b[32m   1883\u001b[39m \u001b[43m    \u001b[49m\u001b[43mencoding\u001b[49m\u001b[43m=\u001b[49m\u001b[38;5;28;43mself\u001b[39;49m\u001b[43m.\u001b[49m\u001b[43moptions\u001b[49m\u001b[43m.\u001b[49m\u001b[43mget\u001b[49m\u001b[43m(\u001b[49m\u001b[33;43m\"\u001b[39;49m\u001b[33;43mencoding\u001b[39;49m\u001b[33;43m\"\u001b[39;49m\u001b[43m,\u001b[49m\u001b[43m \u001b[49m\u001b[38;5;28;43;01mNone\u001b[39;49;00m\u001b[43m)\u001b[49m\u001b[43m,\u001b[49m\n\u001b[32m   1884\u001b[39m \u001b[43m    \u001b[49m\u001b[43mcompression\u001b[49m\u001b[43m=\u001b[49m\u001b[38;5;28;43mself\u001b[39;49m\u001b[43m.\u001b[49m\u001b[43moptions\u001b[49m\u001b[43m.\u001b[49m\u001b[43mget\u001b[49m\u001b[43m(\u001b[49m\u001b[33;43m\"\u001b[39;49m\u001b[33;43mcompression\u001b[39;49m\u001b[33;43m\"\u001b[39;49m\u001b[43m,\u001b[49m\u001b[43m \u001b[49m\u001b[38;5;28;43;01mNone\u001b[39;49;00m\u001b[43m)\u001b[49m\u001b[43m,\u001b[49m\n\u001b[32m   1885\u001b[39m \u001b[43m    \u001b[49m\u001b[43mmemory_map\u001b[49m\u001b[43m=\u001b[49m\u001b[38;5;28;43mself\u001b[39;49m\u001b[43m.\u001b[49m\u001b[43moptions\u001b[49m\u001b[43m.\u001b[49m\u001b[43mget\u001b[49m\u001b[43m(\u001b[49m\u001b[33;43m\"\u001b[39;49m\u001b[33;43mmemory_map\u001b[39;49m\u001b[33;43m\"\u001b[39;49m\u001b[43m,\u001b[49m\u001b[43m \u001b[49m\u001b[38;5;28;43;01mFalse\u001b[39;49;00m\u001b[43m)\u001b[49m\u001b[43m,\u001b[49m\n\u001b[32m   1886\u001b[39m \u001b[43m    \u001b[49m\u001b[43mis_text\u001b[49m\u001b[43m=\u001b[49m\u001b[43mis_text\u001b[49m\u001b[43m,\u001b[49m\n\u001b[32m   1887\u001b[39m \u001b[43m    \u001b[49m\u001b[43merrors\u001b[49m\u001b[43m=\u001b[49m\u001b[38;5;28;43mself\u001b[39;49m\u001b[43m.\u001b[49m\u001b[43moptions\u001b[49m\u001b[43m.\u001b[49m\u001b[43mget\u001b[49m\u001b[43m(\u001b[49m\u001b[33;43m\"\u001b[39;49m\u001b[33;43mencoding_errors\u001b[39;49m\u001b[33;43m\"\u001b[39;49m\u001b[43m,\u001b[49m\u001b[43m \u001b[49m\u001b[33;43m\"\u001b[39;49m\u001b[33;43mstrict\u001b[39;49m\u001b[33;43m\"\u001b[39;49m\u001b[43m)\u001b[49m\u001b[43m,\u001b[49m\n\u001b[32m   1888\u001b[39m \u001b[43m    \u001b[49m\u001b[43mstorage_options\u001b[49m\u001b[43m=\u001b[49m\u001b[38;5;28;43mself\u001b[39;49m\u001b[43m.\u001b[49m\u001b[43moptions\u001b[49m\u001b[43m.\u001b[49m\u001b[43mget\u001b[49m\u001b[43m(\u001b[49m\u001b[33;43m\"\u001b[39;49m\u001b[33;43mstorage_options\u001b[39;49m\u001b[33;43m\"\u001b[39;49m\u001b[43m,\u001b[49m\u001b[43m \u001b[49m\u001b[38;5;28;43;01mNone\u001b[39;49;00m\u001b[43m)\u001b[49m\u001b[43m,\u001b[49m\n\u001b[32m   1889\u001b[39m \u001b[43m\u001b[49m\u001b[43m)\u001b[49m\n\u001b[32m   1890\u001b[39m \u001b[38;5;28;01massert\u001b[39;00m \u001b[38;5;28mself\u001b[39m.handles \u001b[38;5;129;01mis\u001b[39;00m \u001b[38;5;129;01mnot\u001b[39;00m \u001b[38;5;28;01mNone\u001b[39;00m\n\u001b[32m   1891\u001b[39m f = \u001b[38;5;28mself\u001b[39m.handles.handle\n",
      "\u001b[36mFile \u001b[39m\u001b[32m~/dev-projects/python-for-data-analytics/venv/lib/python3.12/site-packages/pandas/io/common.py:873\u001b[39m, in \u001b[36mget_handle\u001b[39m\u001b[34m(path_or_buf, mode, encoding, compression, memory_map, is_text, errors, storage_options)\u001b[39m\n\u001b[32m    868\u001b[39m \u001b[38;5;28;01melif\u001b[39;00m \u001b[38;5;28misinstance\u001b[39m(handle, \u001b[38;5;28mstr\u001b[39m):\n\u001b[32m    869\u001b[39m     \u001b[38;5;66;03m# Check whether the filename is to be opened in binary mode.\u001b[39;00m\n\u001b[32m    870\u001b[39m     \u001b[38;5;66;03m# Binary mode does not support 'encoding' and 'newline'.\u001b[39;00m\n\u001b[32m    871\u001b[39m     \u001b[38;5;28;01mif\u001b[39;00m ioargs.encoding \u001b[38;5;129;01mand\u001b[39;00m \u001b[33m\"\u001b[39m\u001b[33mb\u001b[39m\u001b[33m\"\u001b[39m \u001b[38;5;129;01mnot\u001b[39;00m \u001b[38;5;129;01min\u001b[39;00m ioargs.mode:\n\u001b[32m    872\u001b[39m         \u001b[38;5;66;03m# Encoding\u001b[39;00m\n\u001b[32m--> \u001b[39m\u001b[32m873\u001b[39m         handle = \u001b[38;5;28;43mopen\u001b[39;49m\u001b[43m(\u001b[49m\n\u001b[32m    874\u001b[39m \u001b[43m            \u001b[49m\u001b[43mhandle\u001b[49m\u001b[43m,\u001b[49m\n\u001b[32m    875\u001b[39m \u001b[43m            \u001b[49m\u001b[43mioargs\u001b[49m\u001b[43m.\u001b[49m\u001b[43mmode\u001b[49m\u001b[43m,\u001b[49m\n\u001b[32m    876\u001b[39m \u001b[43m            \u001b[49m\u001b[43mencoding\u001b[49m\u001b[43m=\u001b[49m\u001b[43mioargs\u001b[49m\u001b[43m.\u001b[49m\u001b[43mencoding\u001b[49m\u001b[43m,\u001b[49m\n\u001b[32m    877\u001b[39m \u001b[43m            \u001b[49m\u001b[43merrors\u001b[49m\u001b[43m=\u001b[49m\u001b[43merrors\u001b[49m\u001b[43m,\u001b[49m\n\u001b[32m    878\u001b[39m \u001b[43m            \u001b[49m\u001b[43mnewline\u001b[49m\u001b[43m=\u001b[49m\u001b[33;43m\"\u001b[39;49m\u001b[33;43m\"\u001b[39;49m\u001b[43m,\u001b[49m\n\u001b[32m    879\u001b[39m \u001b[43m        \u001b[49m\u001b[43m)\u001b[49m\n\u001b[32m    880\u001b[39m     \u001b[38;5;28;01melse\u001b[39;00m:\n\u001b[32m    881\u001b[39m         \u001b[38;5;66;03m# Binary mode\u001b[39;00m\n\u001b[32m    882\u001b[39m         handle = \u001b[38;5;28mopen\u001b[39m(handle, ioargs.mode)\n",
      "\u001b[31mFileNotFoundError\u001b[39m: [Errno 2] No such file or directory: 'sales_data.csv'"
     ]
    }
   ],
   "source": [
    "\n",
    "import pandas as pd\n",
    "\n",
    "df = pd.read_csv(\"sales_data.csv\")\n",
    "\n",
    "# Revenue Column\n",
    "df[\"Revenue\"] = df[\"Price\"] * df[\"Quantity\"]\n",
    "\n",
    "# Group by Category + Region\n",
    "summary = df.groupby([\"Category\", \"Region\"]).agg({\n",
    "    \"Revenue\": \"sum\",\n",
    "    \"Quantity\": \"mean\"\n",
    "})\n",
    "print(summary)\n",
    "\n",
    "# Pivot Table\n",
    "pivot = df.pivot_table(index=\"Category\", columns=\"Region\", values=\"Revenue\", aggfunc=\"sum\")\n",
    "print(pivot)\n",
    "\n",
    "# Extract Month\n",
    "df[\"Month\"] = pd.to_datetime(df[\"OrderDate\"]).dt.month\n",
    "\n",
    "# Monthly Revenue by Category\n",
    "monthly = df.groupby([\"Month\", \"Category\"])[\"Revenue\"].sum().unstack()\n",
    "print(monthly)\n"
   ]
  },
  {
   "cell_type": "markdown",
   "id": "e50afd1a-1f51-47da-9dee-cc30e25d5bd7",
   "metadata": {},
   "source": [
    "### Sample Output (Pivot)"
   ]
  },
  {
   "cell_type": "code",
   "execution_count": null,
   "id": "35a241e7-cb28-4200-8711-e9a47280b168",
   "metadata": {},
   "outputs": [],
   "source": [
    "Region           East   South   West\n",
    "Category                            \n",
    "Furniture        540    0      1200\n",
    "Office Supplies  250    0       180\n",
    "Technology       950    1100     0\n"
   ]
  },
  {
   "cell_type": "markdown",
   "id": "38345d97-c2f2-4e7d-a2de-9d8335bac79a",
   "metadata": {},
   "source": [
    "### Stretch Goals\n",
    "\n",
    "Create a bar chart from the pivot table (using matplotlib)\n",
    "\n",
    "Export summaries to Excel (multiple sheets)\n",
    "\n",
    "Highlight top revenue category per region"
   ]
  },
  {
   "cell_type": "markdown",
   "id": "d398a030-fbdc-4481-b985-1b68661a0fd6",
   "metadata": {},
   "source": [
    "---\n",
    "### Phase 3: Visualization & Analytical Storytelling\n",
    "***(Weeks 11–13)-Communicate insights through data visuals***\n"
   ]
  },
  {
   "cell_type": "markdown",
   "id": "a359db11-ffc1-4f0e-8618-053fb5580f3f",
   "metadata": {},
   "source": [
    "# Week 11: Matplotlib Basics for Plotting\n",
    "**Topics:**\n",
    "* Line, bar, scatter, histogram\n",
    "* Titles, labels, ticks, legends\n",
    "* Saving charts as images\n",
    "\n",
    "**Project:**\n",
    "* “Revenue Dashboard” – Visualize monthly revenue and product trends\n",
    "\n",
    "**Learning Objectives**\n",
    "\n",
    "By the end of this week, you will be able to:\n",
    "- Create common chart types: line, bar, scatter, histogram\n",
    "- Label your charts with titles, axes, legends\n",
    "- Adjust chart size, colors, and styles\n",
    "- Save plots as image files (e.g. PNG)\n",
    "- Understand basic chart use-cases in business contexts\n"
   ]
  },
  {
   "cell_type": "markdown",
   "id": "2a8af51c-a2b0-434f-8341-fcb63870d764",
   "metadata": {},
   "source": [
    "## What is Matplotlib?\n",
    "\n",
    "- Core plotting library in Python\n",
    "- Powers most data visuals in notebooks\n",
    "- Great for **custom**, **publication-quality** plots"
   ]
  },
  {
   "cell_type": "markdown",
   "id": "da17581a-274e-4465-8f8b-4c3d41616f1e",
   "metadata": {},
   "source": [
    "### Line Plot"
   ]
  },
  {
   "cell_type": "code",
   "execution_count": null,
   "id": "955ac720-2b04-415c-a4f9-3729ee46f416",
   "metadata": {},
   "outputs": [],
   "source": [
    "import matplotlib.pyplot as plt\n",
    "\n",
    "months = [\"Jan\", \"Feb\", \"Mar\", \"Apr\"]\n",
    "sales = [1000, 1200, 900, 1400]\n",
    "\n",
    "plt.plot(months, sales)\n",
    "plt.title(\"Monthly Sales\")\n",
    "plt.xlabel(\"Month\")\n",
    "plt.ylabel(\"Sales ($)\")\n",
    "plt.show()\n"
   ]
  },
  {
   "cell_type": "markdown",
   "id": "678bfcbc-9c0c-47ce-86d3-d1a4e0587ce1",
   "metadata": {},
   "source": [
    "### Bar Chart"
   ]
  },
  {
   "cell_type": "code",
   "execution_count": null,
   "id": "f502a441-6fba-4883-88cb-348576a790e5",
   "metadata": {},
   "outputs": [],
   "source": [
    "categories = [\"A\", \"B\", \"C\"]\n",
    "values = [10, 30, 20]\n",
    "\n",
    "plt.bar(categories, values, color=\"skyblue\")\n",
    "plt.title(\"Category Performance\")\n",
    "plt.show()\n"
   ]
  },
  {
   "cell_type": "markdown",
   "id": "e589a14e-3fdd-42ee-84b9-c1b64c45b488",
   "metadata": {},
   "source": [
    "# Scatter Plot"
   ]
  },
  {
   "cell_type": "code",
   "execution_count": null,
   "id": "99397f94-db31-478a-8cdd-d92a6a2e35ac",
   "metadata": {},
   "outputs": [],
   "source": [
    "x = [1, 2, 3, 4]\n",
    "y = [2, 4, 1, 3]\n",
    "\n",
    "plt.scatter(x, y, color=\"green\")\n",
    "plt.title(\"Relationship Example\")\n",
    "plt.xlabel(\"X\")\n",
    "plt.ylabel(\"Y\")\n",
    "plt.show()\n"
   ]
  },
  {
   "cell_type": "markdown",
   "id": "26e2c9b7-396e-4f38-b517-069bcae08964",
   "metadata": {},
   "source": [
    "### Histogram"
   ]
  },
  {
   "cell_type": "code",
   "execution_count": null,
   "id": "fe12f7be-62cd-47d3-84bf-e820b65d89d1",
   "metadata": {},
   "outputs": [],
   "source": [
    "ages = [22, 25, 27, 30, 25, 35, 40, 42, 50, 23]\n",
    "plt.hist(ages, bins=5, color=\"orange\")\n",
    "plt.title(\"Age Distribution\")\n",
    "plt.xlabel(\"Age\")\n",
    "plt.ylabel(\"Count\")\n",
    "plt.show()\n"
   ]
  },
  {
   "cell_type": "markdown",
   "id": "4c8fe9ee-99c0-4cf7-820e-0a27bdb478ab",
   "metadata": {},
   "source": [
    "### Save to File"
   ]
  },
  {
   "cell_type": "code",
   "execution_count": null,
   "id": "90044282-7de2-4416-8f4a-498c95244e3b",
   "metadata": {},
   "outputs": [],
   "source": [
    "plt.savefig(\"sales_chart.png\")\n"
   ]
  },
  {
   "cell_type": "markdown",
   "id": "ab50be55-7650-4e74-956e-3f89b9553c43",
   "metadata": {},
   "source": [
    "### Chart Types & When to Use"
   ]
  },
  {
   "cell_type": "markdown",
   "id": "99c673a1-94be-468e-901f-278f2fa9a403",
   "metadata": {},
   "source": [
    "| Chart     | Use Case                           |\n",
    "| --------- | ---------------------------------- |\n",
    "| Line      | Trend over time                    |\n",
    "| Bar       | Compare values across categories   |\n",
    "| Scatter   | Relationship between two variables |\n",
    "| Histogram | Distribution of values             |\n"
   ]
  },
  {
   "cell_type": "markdown",
   "id": "e0196ac1-ea19-4501-93ab-ff57a92c4f59",
   "metadata": {},
   "source": [
    "### Tips for Business Plots\n",
    "\n",
    "Label clearly (titles, axes)\n",
    "\n",
    "Avoid clutter (keep it simple)\n",
    "\n",
    "Use consistent color schemes\n",
    "\n",
    "Highlight what matters (e.g. outliers, trends)"
   ]
  },
  {
   "cell_type": "markdown",
   "id": "c56efbd8-1354-4580-9dc1-1f6c7f1aa1e6",
   "metadata": {},
   "source": [
    "# Practice Exercises"
   ]
  },
  {
   "cell_type": "markdown",
   "id": "218e1c9a-963c-429e-b08a-a44bb6c9723e",
   "metadata": {},
   "source": [
    "### 1. Plot revenue trend over 6 months"
   ]
  },
  {
   "cell_type": "code",
   "execution_count": null,
   "id": "0aa916c9-421a-4af2-b6b9-361bdc29eb18",
   "metadata": {},
   "outputs": [],
   "source": [
    "months = [\"Jan\", \"Feb\", \"Mar\", \"Apr\", \"May\", \"Jun\"]\n",
    "revenue = [1000, 1100, 1200, 900, 1400, 1500]\n",
    "\n",
    "plt.plot(months, revenue)\n",
    "plt.title(\"Monthly Revenue\")\n",
    "plt.xlabel(\"Month\")\n",
    "plt.ylabel(\"Revenue ($)\")\n",
    "plt.show()\n"
   ]
  },
  {
   "cell_type": "markdown",
   "id": "0f0e938f-8608-4c99-9b32-e7bf26479d2f",
   "metadata": {},
   "source": [
    "### 2. Bar chart for sales by product"
   ]
  },
  {
   "cell_type": "code",
   "execution_count": null,
   "id": "3d79ae9e-f45d-4fac-8101-79cd18d3e7e7",
   "metadata": {},
   "outputs": [],
   "source": [
    "products = [\"Pen\", \"Notebook\", \"Stapler\"]\n",
    "sales = [120, 90, 60]\n",
    "\n",
    "plt.bar(products, sales, color=\"purple\")\n",
    "plt.title(\"Product Sales\")\n",
    "plt.show()\n"
   ]
  },
  {
   "cell_type": "markdown",
   "id": "d89224d4-aff6-4585-b7f1-e021d78dfd9e",
   "metadata": {},
   "source": [
    "### 3. Scatter plot of Hours Studied vs Score"
   ]
  },
  {
   "cell_type": "code",
   "execution_count": null,
   "id": "0797a07c-7878-4f24-acc2-a5e296525a2a",
   "metadata": {},
   "outputs": [],
   "source": [
    "hours = [1, 2, 3, 4, 5]\n",
    "scores = [50, 60, 65, 75, 80]\n",
    "\n",
    "plt.scatter(hours, scores)\n",
    "plt.title(\"Study Hours vs Exam Score\")\n",
    "plt.xlabel(\"Hours Studied\")\n",
    "plt.ylabel(\"Score\")\n",
    "plt.show()\n"
   ]
  },
  {
   "cell_type": "markdown",
   "id": "3ad3478d-631d-418c-afdc-976d8eeca259",
   "metadata": {},
   "source": [
    "### 4. Histogram of customer ages"
   ]
  },
  {
   "cell_type": "code",
   "execution_count": null,
   "id": "a4a9e23f-7b29-49b1-a6cf-bcad4d4ca0ce",
   "metadata": {},
   "outputs": [],
   "source": [
    "ages = [22, 25, 30, 32, 35, 40, 42, 44, 45, 50, 55, 60]\n",
    "\n",
    "plt.hist(ages, bins=6, color=\"teal\")\n",
    "plt.title(\"Customer Age Distribution\")\n",
    "plt.xlabel(\"Age\")\n",
    "plt.ylabel(\"Count\")\n",
    "plt.show()\n"
   ]
  },
  {
   "cell_type": "markdown",
   "id": "07f461ec-8839-4b03-977e-bfad2b2b03d5",
   "metadata": {},
   "source": [
    "### 5. Save chart to file"
   ]
  },
  {
   "cell_type": "code",
   "execution_count": null,
   "id": "388a3648-0188-4f7e-9c96-04c59b13ee77",
   "metadata": {},
   "outputs": [],
   "source": [
    "plt.plot([1, 2, 3], [3, 1, 4])\n",
    "plt.title(\"Demo Plot\")\n",
    "plt.savefig(\"demo_plot.png\")\n"
   ]
  },
  {
   "cell_type": "markdown",
   "id": "a239ffa4-a275-4e46-bdc9-3809c999bee4",
   "metadata": {},
   "source": [
    "## Project: **Revenue Dashboard (Matplotlib Only)**\n",
    "\n",
    "### Goal\n",
    "\n",
    "Create a basic **monthly revenue dashboard** showing:\n",
    "- Revenue trend over time\n",
    "- Revenue by product category\n",
    "- Customer volume by region\n",
    "- Save charts as images\n",
    "\n",
    "### Sample Dataset: `revenue_data.csv`\n",
    "```python\n",
    "Month,Category,Region,Revenue,Customers\n",
    "Jan,Office Supplies,East,1200,35\n",
    "Jan,Technology,West,2200,50\n",
    "Feb,Office Supplies,East,900,30\n",
    "Feb,Technology,West,2500,52\n",
    "Mar,Office Supplies,East,1100,40\n",
    "Mar,Technology,West,2800,60\n",
    "```\n",
    "### Tasks\n",
    "\n",
    "1. Load CSV into DataFrame\n",
    "2. Create:\n",
    "   - Line chart: Revenue over Months\n",
    "   - Bar chart: Total Revenue by Category\n",
    "   - Bar chart: Customers by Region\n",
    "3. Add labels and titles\n",
    "4. Save each chart as PNG\n"
   ]
  },
  {
   "cell_type": "markdown",
   "id": "5fc37dfd-097d-4273-a748-95b42e60eaf7",
   "metadata": {},
   "source": [
    "### Starter Code"
   ]
  },
  {
   "cell_type": "code",
   "execution_count": null,
   "id": "69c13e30-94f2-44c3-801a-00f88fc9c52a",
   "metadata": {},
   "outputs": [],
   "source": [
    "import pandas as pd\n",
    "import matplotlib.pyplot as plt\n",
    "\n",
    "df = pd.read_csv(\"revenue_data.csv\")\n",
    "\n",
    "# Revenue trend\n",
    "monthly = df.groupby(\"Month\")[\"Revenue\"].sum()\n",
    "monthly.plot(kind=\"line\", title=\"Monthly Revenue\", xlabel=\"Month\", ylabel=\"Revenue\")\n",
    "plt.savefig(\"monthly_revenue.png\")\n",
    "plt.clf()\n",
    "\n",
    "# Revenue by category\n",
    "category = df.groupby(\"Category\")[\"Revenue\"].sum()\n",
    "category.plot(kind=\"bar\", title=\"Revenue by Category\", color=\"skyblue\")\n",
    "plt.ylabel(\"Revenue\")\n",
    "plt.savefig(\"revenue_by_category.png\")\n",
    "plt.clf()\n",
    "\n",
    "# Customers by region\n",
    "region = df.groupby(\"Region\")[\"Customers\"].sum()\n",
    "region.plot(kind=\"bar\", title=\"Customers by Region\", color=\"green\")\n",
    "plt.ylabel(\"Customers\")\n",
    "plt.savefig(\"customers_by_region.png\")\n"
   ]
  },
  {
   "cell_type": "markdown",
   "id": "85c4c708-24b2-4b77-bda9-6ca040bfb237",
   "metadata": {},
   "source": [
    "### Sample Output (Charts)"
   ]
  },
  {
   "cell_type": "code",
   "execution_count": null,
   "id": "6a7f20e6-6b2f-4746-a548-6dc342752349",
   "metadata": {},
   "outputs": [],
   "source": [
    "monthly_revenue.png\n",
    "revenue_by_category.png\n",
    "customers_by_region.png"
   ]
  },
  {
   "cell_type": "markdown",
   "id": "35992df6-811a-461d-a717-6c645ccae9d0",
   "metadata": {},
   "source": [
    "# Week 12: Seaborn for Statistical Visualization\n",
    "**Topics:**\n",
    "* Distribution plots: distplot, boxplot, violinplot\n",
    "* Relationship plots: scatterplot, pairplot, heatmap\n",
    "* Themes and color palettes\n",
    "\n",
    "**Project:** \n",
    "* “Product Analytics Visuals” – Visualize sales vs pricing vs customer rating\n",
    "  \n",
    "**Learning Objectives**\n",
    "\n",
    "By the end of this week, you will be able to:\n",
    "- Create statistical plots using Seaborn\n",
    "- Visualize distributions and relationships\n",
    "- Apply built-in themes and color palettes\n",
    "- Combine categorical and numeric insights in one chart\n",
    "- Make better visual decisions using Seaborn's expressiveness\n"
   ]
  },
  {
   "cell_type": "markdown",
   "id": "0e9ba7e1-43bb-4bc7-ac8b-8b6f57dc9f7d",
   "metadata": {},
   "source": [
    "## What is Seaborn?\n",
    "\n",
    "- Built on top of Matplotlib\n",
    "- High-level, easy-to-use API\n",
    "- Better defaults, cleaner charts"
   ]
  },
  {
   "cell_type": "code",
   "execution_count": null,
   "id": "9934c457-4ac4-40e7-8076-de0ec414495c",
   "metadata": {},
   "outputs": [],
   "source": [
    "import seaborn as sns\n",
    "import matplotlib.pyplot as plt"
   ]
  },
  {
   "cell_type": "markdown",
   "id": "7608e529-133b-4b7e-b5cd-84031a487ca6",
   "metadata": {},
   "source": [
    "### Distribution Plots"
   ]
  },
  {
   "cell_type": "code",
   "execution_count": null,
   "id": "89a72854-aec9-4433-9a39-a3397537a3d3",
   "metadata": {},
   "outputs": [],
   "source": [
    "# Histogram + KDE\n",
    "sns.histplot(data=df, x=\"Age\", kde=True)\n",
    "\n",
    "# Boxplot\n",
    "sns.boxplot(data=df, x=\"Department\", y=\"Salary\")\n",
    "\n",
    "# Violin plot\n",
    "sns.violinplot(data=df, x=\"Region\", y=\"Revenue\")\n"
   ]
  },
  {
   "cell_type": "markdown",
   "id": "16cd7c8e-aba7-454b-b573-8c0729669927",
   "metadata": {},
   "source": [
    "### Relationship Plots"
   ]
  },
  {
   "cell_type": "code",
   "execution_count": null,
   "id": "aec2dc5b-2d20-4166-8341-780b6164819f",
   "metadata": {},
   "outputs": [],
   "source": [
    "# Scatter + trend line\n",
    "sns.scatterplot(data=df, x=\"Price\", y=\"Rating\")\n",
    "\n",
    "# Add regression line\n",
    "sns.lmplot(data=df, x=\"Experience\", y=\"Salary\")\n"
   ]
  },
  {
   "cell_type": "markdown",
   "id": "97dd2a4e-6384-4015-96ad-7b21aa9c09da",
   "metadata": {},
   "source": [
    "### Heatmaps (Correlation or Pivot Tables)"
   ]
  },
  {
   "cell_type": "code",
   "execution_count": null,
   "id": "2e67fc63-12a9-4d89-9c59-05a5c914b66c",
   "metadata": {},
   "outputs": [],
   "source": [
    "# Correlation matrix\n",
    "sns.heatmap(df.corr(), annot=True, cmap=\"coolwarm\")\n"
   ]
  },
  {
   "cell_type": "markdown",
   "id": "12cac15f-af0d-42a2-b877-075bed2b8f7d",
   "metadata": {},
   "source": [
    "### Categorical Visuals"
   ]
  },
  {
   "cell_type": "code",
   "execution_count": null,
   "id": "08f44a8c-6bac-4d0f-b256-1369f217379d",
   "metadata": {},
   "outputs": [],
   "source": [
    "# Count of categories\n",
    "sns.countplot(data=df, x=\"Category\")\n",
    "\n",
    "# Swarm for distribution per group\n",
    "sns.swarmplot(data=df, x=\"Category\", y=\"Score\")\n"
   ]
  },
  {
   "cell_type": "markdown",
   "id": "27058ce1-cd00-47ec-9592-e0ab4dbd2325",
   "metadata": {},
   "source": [
    "### Themes & Styles"
   ]
  },
  {
   "cell_type": "code",
   "execution_count": null,
   "id": "98b89762-be72-4567-a167-ffad9a4c0a52",
   "metadata": {},
   "outputs": [],
   "source": [
    "sns.set_style(\"whitegrid\")  # options: white, darkgrid, ticks\n",
    "sns.set_palette(\"pastel\")   # or \"deep\", \"muted\", \"Set2\"\n"
   ]
  },
  {
   "cell_type": "markdown",
   "id": "87e3dd00-2743-484f-a544-3f2b8184ed57",
   "metadata": {},
   "source": [
    "### Seaborn Use Cases\n",
    "\n",
    "| Visual     | Use Case                                |\n",
    "| ---------- | --------------------------------------- |\n",
    "| Boxplot    | Compare distribution across categories  |\n",
    "| Heatmap    | Show correlation or pivot summary       |\n",
    "| Scatter/LM | Relationship between numeric variables  |\n",
    "| Countplot  | Distribution of categories              |\n",
    "| Violinplot | Mix of box + KDE (good for skewed data) |\n"
   ]
  },
  {
   "cell_type": "markdown",
   "id": "f63e977c-2561-45d2-9598-f521ca05329c",
   "metadata": {},
   "source": [
    "### Seaborn vs Matplotlib\n",
    "\n",
    "| Feature         | Matplotlib     | Seaborn             |\n",
    "| --------------- | -------------- | ------------------- |\n",
    "| Flexibility     | High           | Medium (high-level) |\n",
    "| Aesthetics      | Manual styling | Great by default    |\n",
    "| Stats Awareness | No             | Yes                 |\n"
   ]
  },
  {
   "cell_type": "markdown",
   "id": "e3d019e5-0348-4281-add6-30ce7b82fb88",
   "metadata": {},
   "source": [
    "# Practice Exercises"
   ]
  },
  {
   "cell_type": "markdown",
   "id": "175901e9-d324-45f9-85b1-de0c7fb2cc43",
   "metadata": {},
   "source": [
    "### 1. Plot distribution of ages"
   ]
  },
  {
   "cell_type": "code",
   "execution_count": null,
   "id": "77eded8c-0b39-4c86-a9b0-a16472cbcdcc",
   "metadata": {},
   "outputs": [],
   "source": [
    "sns.histplot(df[\"Age\"], kde=True)"
   ]
  },
  {
   "cell_type": "markdown",
   "id": "a075450d-cf1d-4002-8d00-dd5cca79c905",
   "metadata": {},
   "source": [
    "### 2. Compare Salary across Departments using Boxplot"
   ]
  },
  {
   "cell_type": "code",
   "execution_count": null,
   "id": "b6e65c45-de0b-46bd-bcb7-86b43ce02b51",
   "metadata": {},
   "outputs": [],
   "source": [
    "sns.boxplot(data=df, x=\"Department\", y=\"Salary\")\n"
   ]
  },
  {
   "cell_type": "markdown",
   "id": "0d683d28-8914-4dda-9ca5-68f5d86d3c35",
   "metadata": {},
   "source": [
    "### 3. Scatterplot of Price vs Rating"
   ]
  },
  {
   "cell_type": "code",
   "execution_count": null,
   "id": "ffcce126-b5ad-414a-937e-df42124a6593",
   "metadata": {},
   "outputs": [],
   "source": [
    "sns.scatterplot(data=df, x=\"Price\", y=\"Rating\")\n"
   ]
  },
  {
   "cell_type": "markdown",
   "id": "d119b04b-16d0-43a1-a97c-2327c1a5dbb0",
   "metadata": {},
   "source": [
    "### 4. Regression line of Experience vs Salary"
   ]
  },
  {
   "cell_type": "code",
   "execution_count": null,
   "id": "e4eb61bb-1a42-4592-9dc3-d4a82ba8ca39",
   "metadata": {},
   "outputs": [],
   "source": [
    "sns.lmplot(data=df, x=\"Experience\", y=\"Salary\")\n"
   ]
  },
  {
   "cell_type": "markdown",
   "id": "83c3c7c9-967b-4ca4-aeee-658824a36aba",
   "metadata": {},
   "source": [
    "### 5. Countplot of Product Categories"
   ]
  },
  {
   "cell_type": "code",
   "execution_count": null,
   "id": "24899d7a-0370-4b9e-9db1-de46683e8cad",
   "metadata": {},
   "outputs": [],
   "source": [
    "sns.countplot(data=df, x=\"Category\")\n"
   ]
  },
  {
   "cell_type": "markdown",
   "id": "264696ea-7289-460e-88f0-a10b21052f1a",
   "metadata": {},
   "source": [
    "### 6. Heatmap of correlation matrix"
   ]
  },
  {
   "cell_type": "code",
   "execution_count": null,
   "id": "765462cb-0ea8-43e4-b7c3-0f3681857fc2",
   "metadata": {},
   "outputs": [],
   "source": [
    "sns.heatmap(df.corr(), annot=True)\n"
   ]
  },
  {
   "cell_type": "markdown",
   "id": "0c51b76e-ad51-4e9a-98fb-245a0603b67b",
   "metadata": {},
   "source": [
    "### 7. Violinplot of Revenue by Region\n"
   ]
  },
  {
   "cell_type": "code",
   "execution_count": null,
   "id": "c58da721-b31f-4b73-be15-9cac88a35a3c",
   "metadata": {},
   "outputs": [],
   "source": [
    "sns.violinplot(data=df, x=\"Region\", y=\"Revenue\")\n"
   ]
  },
  {
   "cell_type": "markdown",
   "id": "fa1c636c-2594-4f84-a9b9-5ad96be31794",
   "metadata": {},
   "source": [
    "### 8. Set theme to whitegrid and palette to pastel"
   ]
  },
  {
   "cell_type": "code",
   "execution_count": null,
   "id": "b416949e-d990-4330-8f96-1cb936ead320",
   "metadata": {},
   "outputs": [],
   "source": [
    "sns.set_style(\"whitegrid\")\n",
    "sns.set_palette(\"pastel\")\n"
   ]
  },
  {
   "cell_type": "markdown",
   "id": "2a1d4f6d-2fb3-4aac-ba12-28e444615f63",
   "metadata": {},
   "source": [
    "### 9. Swarmplot of Scores by Group"
   ]
  },
  {
   "cell_type": "code",
   "execution_count": null,
   "id": "4f2f7eb1-f8d1-40aa-9c27-438e070b156e",
   "metadata": {},
   "outputs": [],
   "source": [
    "sns.swarmplot(data=df, x=\"Group\", y=\"Score\")\n"
   ]
  },
  {
   "cell_type": "markdown",
   "id": "d27e7063-e4ec-4b9b-a1b8-90b85e937dd1",
   "metadata": {},
   "source": [
    "### 10. Save Seaborn chart to file"
   ]
  },
  {
   "cell_type": "code",
   "execution_count": null,
   "id": "59e8569f-d5bb-4322-a684-7b1e18e3f89c",
   "metadata": {},
   "outputs": [],
   "source": [
    "plot = sns.boxplot(data=df, x=\"Category\", y=\"Sales\")\n",
    "plot.figure.savefig(\"boxplot_output.png\")\n"
   ]
  },
  {
   "cell_type": "markdown",
   "id": "6b4e3586-16b5-445b-9693-7a3044a22f3f",
   "metadata": {},
   "source": [
    "# Project: \n",
    "\n",
    "### Product Analytics Visuals (Seaborn)\n",
    "\n",
    "### Goal\n",
    "\n",
    "Visualize product performance and customer behavior using:\n",
    "- Price vs Rating\n",
    "- Category distributions\n",
    "- Revenue vs Discount relationships\n",
    "- Correlations between metrics\n",
    "\n",
    "### Sample Dataset: `product_data.csv`\n",
    "```python\n",
    "Product,Category,Price,Discount,Rating,Revenue,Region\n",
    "Notebook,Office Supplies,15,0.1,4.2,3000,East\n",
    "Monitor,Technology,200,0.15,4.7,8000,West\n",
    "Chair,Furniture,85,0.2,4.0,5000,South\n",
    "Pen,Office Supplies,1.5,0.05,4.1,1200,East\n",
    "Desk,Furniture,250,0.25,4.5,9500,North\n",
    "```\n",
    "### Tasks\n",
    "\n",
    "1. Plot scatter of `Price vs Rating`\n",
    "2. Use `lmplot()` to show regression line (Price vs Rating)\n",
    "3. Boxplot: `Revenue by Category`\n",
    "4. Violinplot: `Discount by Region`\n",
    "5. Countplot: Number of products by Category\n",
    "6. Correlation heatmap for numeric columns"
   ]
  },
  {
   "cell_type": "markdown",
   "id": "d5670677-ba4a-44d9-8351-456aec66107c",
   "metadata": {},
   "source": [
    "### Starter Code"
   ]
  },
  {
   "cell_type": "code",
   "execution_count": null,
   "id": "4a6a731b-6fe9-427a-bb20-25af4edcca08",
   "metadata": {},
   "outputs": [],
   "source": [
    "import pandas as pd\n",
    "import seaborn as sns\n",
    "import matplotlib.pyplot as plt\n",
    "\n",
    "sns.set_style(\"whitegrid\")\n",
    "sns.set_palette(\"Set2\")\n",
    "\n",
    "df = pd.read_csv(\"product_data.csv\")\n",
    "\n",
    "# 1. Price vs Rating\n",
    "sns.scatterplot(data=df, x=\"Price\", y=\"Rating\")\n",
    "plt.title(\"Price vs Customer Rating\")\n",
    "plt.show()\n",
    "\n",
    "# 2. Regression Line\n",
    "sns.lmplot(data=df, x=\"Price\", y=\"Rating\")\n",
    "\n",
    "# 3. Revenue by Category\n",
    "sns.boxplot(data=df, x=\"Category\", y=\"Revenue\")\n",
    "plt.title(\"Revenue Distribution by Category\")\n",
    "plt.show()\n",
    "\n",
    "# 4. Violinplot: Discount by Region\n",
    "sns.violinplot(data=df, x=\"Region\", y=\"Discount\")\n",
    "plt.title(\"Discount Range by Region\")\n",
    "plt.show()\n",
    "\n",
    "# 5. Count of Products\n",
    "sns.countplot(data=df, x=\"Category\")\n",
    "plt.title(\"Product Count by Category\")\n",
    "plt.show()\n",
    "\n",
    "# 6. Heatmap of numeric correlation\n",
    "sns.heatmap(df.corr(numeric_only=True), annot=True, cmap=\"coolwarm\")\n",
    "plt.title(\"Correlation Matrix\")\n",
    "plt.show()\n"
   ]
  },
  {
   "cell_type": "markdown",
   "id": "94ac31d9-7bb5-4406-aebc-e5940eb69309",
   "metadata": {},
   "source": [
    "### Sample Output (Charts)\n",
    "\n",
    "- Price vs Rating (scatter + trend)\n",
    "- Revenue by Category (boxplot)\n",
    "- Discount by Region (violin)\n",
    "- Count of Products (bar)\n",
    "- Correlation Heatmap"
   ]
  },
  {
   "cell_type": "markdown",
   "id": "48e05d69-a85a-4797-bb6f-dbecd0061042",
   "metadata": {},
   "source": [
    "### Stretch Goals\n",
    "\n",
    "- Create a Seaborn pairplot across Price, Revenue, Rating\n",
    "- Annotate highest-rated product\n",
    "- Save all charts to files"
   ]
  },
  {
   "cell_type": "markdown",
   "id": "5a1cf660-aea1-40a7-a5bd-f36058c32c19",
   "metadata": {},
   "source": [
    "# Week 13: Exploratory Data Analysis (EDA) Projects\n",
    "**Topics:**\n",
    "* Combining pandas + matplotlib/seaborn\n",
    "* Detect outliers, correlations, missing data\n",
    "* Business storytelling: crafting a data narrative\n",
    "\n",
    "**Capstone Project:**\n",
    "* “EDA Case Study” – Titanic dataset, HR dataset, or a Kaggle dataset Include:\n",
    "    * Data cleaning\n",
    "    * Visual exploration\n",
    "    * Insight summary in Markdown or slides\n",
    "      \n",
    "**Learning Objectives**\n",
    "\n",
    "By the end of this week, you will be able to:\n",
    "- Perform full EDA on a real dataset\n",
    "- Clean and prepare messy data\n",
    "- Visualize relationships, distributions, and patterns\n",
    "- Detect outliers, nulls, and trends\n",
    "- Craft an analytical narrative with visual support\n"
   ]
  },
  {
   "cell_type": "markdown",
   "id": "addc87a2-be23-4fee-9cf7-a2ca369e2c3e",
   "metadata": {},
   "source": [
    "### What is EDA?\n",
    "\n",
    "EDA is the process of:\n",
    "- **Understanding** data: structure, types, quality\n",
    "- **Cleaning** data: handling nulls, outliers, formats\n",
    "- **Visualizing** distributions, trends, relationships\n",
    "- **Summarizing** insights for decisions\n",
    "  \n",
    "## Typical EDA Steps\n",
    "\n",
    "1. **Understand the Dataset**\n",
    "   - `.head()`, `.info()`, `.describe()`\n",
    "   - Check shapes, types, ranges\n",
    "\n",
    "2. **Clean the Data**\n",
    "   - Handle missing values\n",
    "   - Fix data types (e.g., dates)\n",
    "   - Rename columns\n",
    "\n",
    "3. **Explore Distributions**\n",
    "   - Histograms, boxplots, violinplots\n",
    "   - Summary stats (mean, median, outliers)\n",
    "\n",
    "4. **Explore Relationships**\n",
    "   - Scatterplots, heatmaps, grouped summaries\n",
    "\n",
    "5. **Group & Compare**\n",
    "   - `groupby()`, `pivot_table()`, aggregation\n",
    "\n",
    "6. **Tell a Story**\n",
    "   - Structure findings logically\n",
    "   - Use visuals to support each point\n",
    "\n",
    "## Key Questions to Ask in EDA\n",
    "\n",
    "- What variables are important? Why?\n",
    "- What patterns or anomalies exist?\n",
    "- Are there missing or extreme values?\n",
    "- How are groups different (e.g., by gender, region)?\n",
    "- What story can the data tell?\n",
    "\n",
    "## Tools Used\n",
    "\n",
    "- Pandas for data loading, cleaning, analysis\n",
    "- Seaborn/Matplotlib for visuals\n",
    "- Markdown/Slides for insights\n",
    "\n"
   ]
  },
  {
   "cell_type": "markdown",
   "id": "d0966aef-aff3-4160-ad1a-72d76d1051fe",
   "metadata": {},
   "source": [
    "### Practice: Mini-EDA"
   ]
  },
  {
   "cell_type": "markdown",
   "id": "e718647b-6912-48a7-a56c-3a263b70ca7a",
   "metadata": {},
   "source": [
    "# Mini-EDA: HR Attrition Dataset\n",
    "\n",
    "```python\n",
    "import pandas as pd\n",
    "import seaborn as sns\n",
    "import matplotlib.pyplot as plt\n",
    "\n",
    "df = pd.read_csv(\"hr_data.csv\")\n",
    "\n",
    "# Basic checks\n",
    "print(df.head())\n",
    "print(df.info())\n",
    "print(df.describe())\n",
    "\n",
    "# Null values\n",
    "print(df.isna().sum())\n",
    "\n",
    "# Turn 'HireDate' into datetime\n",
    "df[\"HireDate\"] = pd.to_datetime(df[\"HireDate\"])\n",
    "\n",
    "# Add tenure\n",
    "df[\"Tenure\"] = (pd.to_datetime(\"2025-01-01\") - df[\"HireDate\"]).dt.days // 365\n",
    "\n",
    "# Histogram of Age\n",
    "sns.histplot(df[\"Age\"], bins=10)\n",
    "plt.title(\"Age Distribution\")\n",
    "plt.show()\n",
    "\n",
    "# Boxplot Salary by Department\n",
    "sns.boxplot(data=df, x=\"Department\", y=\"Salary\")\n",
    "plt.title(\"Salary by Department\")\n",
    "plt.show()\n",
    "\n",
    "# Countplot of Attrition\n",
    "sns.countplot(data=df, x=\"Attrition\")\n",
    "plt.title(\"Attrition Distribution\")\n",
    "plt.show()\n",
    "\n",
    "# Correlation\n",
    "sns.heatmap(df.corr(numeric_only=True), annot=True)\n",
    "plt.title(\"Correlation Matrix\")\n",
    "plt.show()\n"
   ]
  },
  {
   "cell_type": "markdown",
   "id": "994af912-9018-4725-81b3-ce229d92dec7",
   "metadata": {},
   "source": [
    "## Capstone Project: **EDA Case Study**\n",
    "\n",
    "> Choose one dataset and conduct a **full EDA**, delivering your findings as a Jupyter Notebook or Markdown report.\n",
    "\n",
    "### Choose One Dataset:\n",
    "\n",
    "| Dataset                        | Description                                |\n",
    "|-------------------------------|--------------------------------------------|\n",
    "| Retail Sales                | Product, region, time, revenue             |\n",
    "| HR Attrition                | Employees, salary, department, attrition   |\n",
    "| Kaggle: Titanic             | Survival based on demographics             |\n",
    "| Marketing Campaign Funnel   | Clicks, conversions, revenue               |\n",
    "| Survey NPS Sentiment       | Text, scores, feedback sentiment           |\n",
    "\n",
    "### Requirements\n",
    "\n",
    "1. **Data Cleaning**\n",
    "   - Drop/fix nulls\n",
    "   - Convert data types\n",
    "   - Rename columns\n",
    "\n",
    "2. **Feature Engineering**\n",
    "   - Create derived columns (e.g. tenure, revenue)\n",
    "   - Bin or categorize (e.g., age groups)\n",
    "\n",
    "3. **Visualizations**\n",
    "   - 3–5 high-quality charts using Seaborn/Matplotlib\n",
    "   - Include:\n",
    "     - Distribution\n",
    "     - Relationship\n",
    "     - Grouped comparison\n",
    "     - Trend over time (if applicable)\n",
    "\n",
    "4. **Insight Summary**\n",
    "   - What did you learn from the data?\n",
    "   - What’s surprising or useful?\n",
    "   - Use Markdown or slides to communicate\n",
    "\n",
    "5. **Final Deliverables**\n",
    "   - `.ipynb` notebook with code + visuals\n",
    "   - Markdown summary OR exported slides\n",
    "   - Optional: GitHub repo or downloadable PDF\n"
   ]
  },
  {
   "cell_type": "markdown",
   "id": "0822f200-1a56-43a1-b342-873b01dab19e",
   "metadata": {},
   "source": [
    "### Starter Template"
   ]
  },
  {
   "cell_type": "code",
   "execution_count": 1,
   "id": "1ecddf1d-ca93-4388-8ca5-3d900efdd9f4",
   "metadata": {},
   "outputs": [
    {
     "name": "stdout",
     "output_type": "stream",
     "text": [
      "The history saving thread hit an unexpected error (OperationalError('attempt to write a readonly database')).History will not be written to the database.\n"
     ]
    },
    {
     "ename": "ModuleNotFoundError",
     "evalue": "No module named 'seaborn'",
     "output_type": "error",
     "traceback": [
      "\u001b[31m---------------------------------------------------------------------------\u001b[39m",
      "\u001b[31mModuleNotFoundError\u001b[39m                       Traceback (most recent call last)",
      "\u001b[36mCell\u001b[39m\u001b[36m \u001b[39m\u001b[32mIn[1]\u001b[39m\u001b[32m, line 3\u001b[39m\n\u001b[32m      1\u001b[39m \u001b[38;5;66;03m# Load data\u001b[39;00m\n\u001b[32m      2\u001b[39m \u001b[38;5;28;01mimport\u001b[39;00m\u001b[38;5;250m \u001b[39m\u001b[34;01mpandas\u001b[39;00m\u001b[38;5;250m \u001b[39m\u001b[38;5;28;01mas\u001b[39;00m\u001b[38;5;250m \u001b[39m\u001b[34;01mpd\u001b[39;00m\n\u001b[32m----> \u001b[39m\u001b[32m3\u001b[39m \u001b[38;5;28;01mimport\u001b[39;00m\u001b[38;5;250m \u001b[39m\u001b[34;01mseaborn\u001b[39;00m\u001b[38;5;250m \u001b[39m\u001b[38;5;28;01mas\u001b[39;00m\u001b[38;5;250m \u001b[39m\u001b[34;01msns\u001b[39;00m\n\u001b[32m      4\u001b[39m \u001b[38;5;28;01mimport\u001b[39;00m\u001b[38;5;250m \u001b[39m\u001b[34;01mmatplotlib\u001b[39;00m\u001b[34;01m.\u001b[39;00m\u001b[34;01mpyplot\u001b[39;00m\u001b[38;5;250m \u001b[39m\u001b[38;5;28;01mas\u001b[39;00m\u001b[38;5;250m \u001b[39m\u001b[34;01mplt\u001b[39;00m\n\u001b[32m      6\u001b[39m df = pd.read_csv(\u001b[33m\"\u001b[39m\u001b[33myour_dataset.csv\u001b[39m\u001b[33m\"\u001b[39m)\n",
      "\u001b[31mModuleNotFoundError\u001b[39m: No module named 'seaborn'"
     ]
    }
   ],
   "source": [
    "# Load data\n",
    "import pandas as pd\n",
    "import seaborn as sns\n",
    "import matplotlib.pyplot as plt\n",
    "\n",
    "df = pd.read_csv(\"your_dataset.csv\")\n",
    "\n",
    "# Initial check\n",
    "df.info()\n",
    "df.head()\n",
    "\n",
    "# Cleaning steps...\n",
    "\n",
    "# Feature Engineering...\n",
    "\n",
    "# Visuals\n",
    "sns.histplot(df[\"SomeColumn\"])\n",
    "# Add 3–5 relevant plots\n",
    "\n",
    "# Markdown Summary:\n",
    "# - Key insights\n",
    "# - Issues or gaps\n",
    "# - Business relevance\n"
   ]
  },
  {
   "cell_type": "markdown",
   "id": "bff46326-f55f-42f1-bfbd-d3c6c4ddc410",
   "metadata": {},
   "source": [
    "### Stretch Goals\n",
    "\n",
    "Use pairplot or FacetGrid for multi-view plots\n",
    "\n",
    "Add interactivity with Plotly (optional)\n",
    "\n",
    "Compare insights across groups (e.g., attrition by gender + department)"
   ]
  },
  {
   "cell_type": "markdown",
   "id": "c501dc01-4f5c-487c-b140-88cacc9effeb",
   "metadata": {},
   "source": [
    "# Phase 4: Advanced Analytics & Projects \n",
    "**(Weeks 14–16)-Apply complete workflow and optionally explore ML**\n"
   ]
  },
  {
   "cell_type": "markdown",
   "id": "6a708e31-f2cb-4fec-a82e-c4320ef8bf12",
   "metadata": {},
   "source": [
    "### Week 14: Time Series & Date Analysis\n",
    "* Using .dt accessor for date components\n",
    "* Resampling: daily, weekly, monthly\n",
    "* Rolling averages, time windowing\n",
    "\n",
    "**Project:**\n",
    "* Analyze and visualize website traffic or sales trends over time\n",
    "\n",
    "**Learning Objectives**\n",
    "\n",
    "By the end of this week, you will be able to:\n",
    "- Parse dates and extract time components\n",
    "- Use `.dt` accessor for time operations\n",
    "- Perform resampling (daily, weekly, monthly)\n",
    "- Calculate rolling statistics (moving averages)\n",
    "- Visualize time-based trends"
   ]
  },
  {
   "cell_type": "markdown",
   "id": "a7d12780-5aa5-4595-a003-a20c794b1b21",
   "metadata": {},
   "source": [
    "## Why Time Series?\n",
    "\n",
    "- Time is key in sales, finance, traffic, user activity\n",
    "- Many business questions are **time-dependent**:\n",
    "  - What’s the monthly growth?\n",
    "  - Are we improving year-over-year?\n",
    "  - What’s the 7-day average?"
   ]
  },
  {
   "cell_type": "markdown",
   "id": "1cdef6b6-2991-45f3-8d78-cb92804bd807",
   "metadata": {},
   "source": [
    "### Working with Dates in Pandas"
   ]
  },
  {
   "cell_type": "code",
   "execution_count": null,
   "id": "64cdb9c9-c2ff-4997-a168-13c3f9b674fd",
   "metadata": {},
   "outputs": [],
   "source": [
    "df[\"OrderDate\"] = pd.to_datetime(df[\"OrderDate\"])"
   ]
  },
  {
   "cell_type": "markdown",
   "id": "eef37e44-1057-49dd-af9c-aeb4db2d6eab",
   "metadata": {},
   "source": [
    "Ensures datetime format for plotting and resampling"
   ]
  },
  {
   "cell_type": "markdown",
   "id": "d106148c-e6ac-4d03-b731-fc0f99bafd89",
   "metadata": {},
   "source": [
    "### Extracting Date Parts"
   ]
  },
  {
   "cell_type": "code",
   "execution_count": null,
   "id": "1e0dc915-153b-44a2-8482-3ea9d164a624",
   "metadata": {},
   "outputs": [],
   "source": [
    "df[\"Year\"] = df[\"OrderDate\"].dt.year\n",
    "df[\"Month\"] = df[\"OrderDate\"].dt.month\n",
    "df[\"Weekday\"] = df[\"OrderDate\"].dt.day_name()\n",
    "df[\"Hour\"] = df[\"OrderDate\"].dt.hour\n"
   ]
  },
  {
   "cell_type": "markdown",
   "id": "394e2a52-7f08-4c88-b654-e322a815ffcf",
   "metadata": {},
   "source": [
    "### Resampling (Daily, Monthly, etc.)"
   ]
  },
  {
   "cell_type": "code",
   "execution_count": null,
   "id": "45478820-a879-494e-a0b8-8d8646848613",
   "metadata": {},
   "outputs": [],
   "source": [
    "df.set_index(\"OrderDate\", inplace=True)\n",
    "\n",
    "# Monthly sales\n",
    "monthly = df[\"Revenue\"].resample(\"M\").sum()\n",
    "\n",
    "# Weekly average\n",
    "weekly = df[\"Visits\"].resample(\"W\").mean()\n"
   ]
  },
  {
   "cell_type": "markdown",
   "id": "0b365cd1-62ea-4625-9843-716d17326974",
   "metadata": {},
   "source": [
    "### Common frequency codes:\n",
    "\n",
    "- \"D\" – daily\n",
    "- \"W\" – weekly\n",
    "- \"M\" – month-end\n",
    "- \"MS\" – month start\n",
    "- \"Q\" – quarterly"
   ]
  },
  {
   "cell_type": "markdown",
   "id": "5cf489fa-55bb-4be4-81b5-0c76c1d2a363",
   "metadata": {},
   "source": [
    "### Rolling Averages (Moving Window)"
   ]
  },
  {
   "cell_type": "code",
   "execution_count": null,
   "id": "4ac7263e-9d14-4251-a781-07e07d2bd505",
   "metadata": {},
   "outputs": [],
   "source": [
    "monthly[\"7-day\"] = monthly.rolling(window=7).mean()"
   ]
  },
  {
   "cell_type": "markdown",
   "id": "a1292bfa-03e6-493b-862d-13e4ad7d649c",
   "metadata": {},
   "source": [
    "Helps smooth volatility\n",
    "Great for trend detection"
   ]
  },
  {
   "cell_type": "markdown",
   "id": "0ae3f265-17a2-40b5-ab22-dd1e34dcfc78",
   "metadata": {},
   "source": [
    "### Time Series Plots"
   ]
  },
  {
   "cell_type": "code",
   "execution_count": null,
   "id": "a4db165e-3171-4aa8-a90d-d86a168efdeb",
   "metadata": {},
   "outputs": [],
   "source": [
    "import matplotlib.pyplot as plt\n",
    "\n",
    "monthly.plot(title=\"Monthly Revenue Trend\")\n",
    "plt.ylabel(\"Revenue\")\n",
    "plt.show()\n"
   ]
  },
  {
   "cell_type": "markdown",
   "id": "09e07dd5-3b7c-4b65-a995-58f238198c72",
   "metadata": {},
   "source": [
    "### Common Use Cases\n",
    "\n",
    "- Website traffic over time\n",
    "- Sales performance by week/month\n",
    "- Employee churn trends\n",
    "-  Rolling KPIs for campaigns"
   ]
  },
  {
   "cell_type": "markdown",
   "id": "fa3689d3-e1d4-4f10-bb7a-09daf346a148",
   "metadata": {},
   "source": [
    "# Practice Exercises"
   ]
  },
  {
   "cell_type": "markdown",
   "id": "5ff555f9-c63b-4645-95a0-365e3f8e9f7a",
   "metadata": {},
   "source": [
    "### 1. Convert column to datetime"
   ]
  },
  {
   "cell_type": "code",
   "execution_count": null,
   "id": "f233bc1d-a74a-4020-8aa1-4ca650b30aa6",
   "metadata": {},
   "outputs": [],
   "source": [
    "df[\"Date\"] = pd.to_datetime(df[\"Date\"])"
   ]
  },
  {
   "cell_type": "markdown",
   "id": "d73eba49-673a-43a9-ae09-a28ea97997d0",
   "metadata": {},
   "source": [
    "### 2. Extract year, month, weekday"
   ]
  },
  {
   "cell_type": "code",
   "execution_count": null,
   "id": "d9e357d1-0d80-4544-a3f1-01c0269a8777",
   "metadata": {},
   "outputs": [],
   "source": [
    "df[\"Year\"] = df[\"Date\"].dt.year\n",
    "df[\"Month\"] = df[\"Date\"].dt.month\n",
    "df[\"Weekday\"] = df[\"Date\"].dt.day_name()\n"
   ]
  },
  {
   "cell_type": "markdown",
   "id": "35048fd4-46ee-4c7c-aa3b-14beed3e0121",
   "metadata": {},
   "source": [
    "### 3. Set date column as index"
   ]
  },
  {
   "cell_type": "code",
   "execution_count": null,
   "id": "e36e5561-21c4-42be-8d40-a6958e7c656d",
   "metadata": {},
   "outputs": [],
   "source": [
    "df.set_index(\"Date\", inplace=True)\n"
   ]
  },
  {
   "cell_type": "markdown",
   "id": "a5152fca-1fbd-4e1b-8631-e49b4d4513b0",
   "metadata": {},
   "source": [
    "### 4. Resample daily and plot"
   ]
  },
  {
   "cell_type": "code",
   "execution_count": null,
   "id": "fe80eb5d-473f-4c74-9bd5-11601a2597e5",
   "metadata": {},
   "outputs": [],
   "source": [
    "df[\"Revenue\"].resample(\"D\").sum().plot()\n"
   ]
  },
  {
   "cell_type": "markdown",
   "id": "7029726d-5df9-4dbc-94e2-a2e5eceafc9c",
   "metadata": {},
   "source": [
    "### 5. Monthly average orders"
   ]
  },
  {
   "cell_type": "code",
   "execution_count": null,
   "id": "3ed7bbe8-1027-4005-8131-8022c5fe580f",
   "metadata": {},
   "outputs": [],
   "source": [
    "df[\"Orders\"].resample(\"M\").mean()\n"
   ]
  },
  {
   "cell_type": "markdown",
   "id": "e34cfeb7-5da4-4efa-a537-f4670dd8df05",
   "metadata": {},
   "source": [
    "### 6. Add 7-day moving average"
   ]
  },
  {
   "cell_type": "code",
   "execution_count": null,
   "id": "7fb76598-e8a2-4dd4-a2a5-28968542ec43",
   "metadata": {},
   "outputs": [],
   "source": [
    "df[\"Revenue\"].rolling(7).mean().plot()\n"
   ]
  },
  {
   "cell_type": "markdown",
   "id": "4648af8d-45e9-4f0d-b795-c6c7ac635f31",
   "metadata": {},
   "source": [
    "### 7. Visualize trends with multiple series"
   ]
  },
  {
   "cell_type": "code",
   "execution_count": null,
   "id": "cfcd15e2-2fef-4e2c-b6d1-b0fa207b26ce",
   "metadata": {},
   "outputs": [],
   "source": [
    "df[[\"Revenue\", \"7-day\"]].plot()\n"
   ]
  },
  {
   "cell_type": "markdown",
   "id": "52c63212-45b9-4b23-a6c2-5ea86ac6e143",
   "metadata": {},
   "source": [
    "### 8. Create weekday heatmap"
   ]
  },
  {
   "cell_type": "code",
   "execution_count": null,
   "id": "f5765c87-98d7-4753-ae29-d0ec6aa8a2bb",
   "metadata": {},
   "outputs": [],
   "source": [
    "df[\"Weekday\"] = df.index.day_name()\n",
    "df[\"Hour\"] = df.index.hour\n",
    "pivot = df.pivot_table(index=\"Weekday\", columns=\"Hour\", values=\"Sessions\", aggfunc=\"sum\")\n",
    "sns.heatmap(pivot)\n"
   ]
  },
  {
   "cell_type": "markdown",
   "id": "dba8033f-2985-4ef4-af79-e9ead389f8a2",
   "metadata": {},
   "source": [
    "### 9. Plot total revenue by weekday"
   ]
  },
  {
   "cell_type": "code",
   "execution_count": null,
   "id": "ce05e5d8-42a8-45eb-ad43-58f75059db52",
   "metadata": {},
   "outputs": [],
   "source": [
    "df.groupby(\"Weekday\")[\"Revenue\"].sum().plot(kind=\"bar\")\n"
   ]
  },
  {
   "cell_type": "markdown",
   "id": "9685ac04-6295-4973-aba2-e60e6c7dbd25",
   "metadata": {},
   "source": [
    "### 10. Compare weekly revenue across categories"
   ]
  },
  {
   "cell_type": "code",
   "execution_count": null,
   "id": "83791255-f82e-4f02-abb2-3bc60d51e8eb",
   "metadata": {},
   "outputs": [],
   "source": [
    "df.groupby([pd.Grouper(freq=\"W\"), \"Category\"])[\"Revenue\"].sum().unstack().plot()\n"
   ]
  },
  {
   "cell_type": "markdown",
   "id": "1f31cac3-3e24-468a-acba-627de1d09d37",
   "metadata": {},
   "source": [
    "# Project: \n",
    "### Website or Sales Trends Over Time\n",
    "\n",
    "### Goal\n",
    "\n",
    "Analyze and visualize trends over time using:\n",
    "- Resampling\n",
    "- Rolling averages\n",
    "- Date decomposition\n",
    "\n",
    "### Sample Dataset: `web_traffic.csv` or `sales_data.csv`\n",
    "\n",
    "```python \n",
    "Date,PageViews,Users,Revenue\n",
    "2023-01-01,1200,300,2500\n",
    "2023-01-02,1300,320,2600\n",
    "2023-01-03,1100,290,2400\n",
    "```\n",
    "### Tasks\n",
    "\n",
    "1. Convert `Date` column to datetime\n",
    "2. Set `Date` as index\n",
    "3. Plot:\n",
    "   - Daily revenue trend\n",
    "   - 7-day rolling average\n",
    "4. Resample by month and compare growth\n",
    "5. Add weekday column and visualize patterns\n",
    "6. Bonus: Heatmap of traffic by weekday & hour (if hour available)"
   ]
  },
  {
   "cell_type": "markdown",
   "id": "2f86bb98-23ee-4995-9278-abcffea9b801",
   "metadata": {},
   "source": [
    "### Starter Code"
   ]
  },
  {
   "cell_type": "code",
   "execution_count": null,
   "id": "d03f7895-01d3-4c77-9e2f-016abb9352db",
   "metadata": {},
   "outputs": [],
   "source": [
    "import pandas as pd\n",
    "import matplotlib.pyplot as plt\n",
    "import seaborn as sns\n",
    "\n",
    "df = pd.read_csv(\"web_traffic.csv\")\n",
    "df[\"Date\"] = pd.to_datetime(df[\"Date\"])\n",
    "df.set_index(\"Date\", inplace=True)\n",
    "\n",
    "# Daily Revenue\n",
    "df[\"Revenue\"].plot(title=\"Daily Revenue\")\n",
    "plt.show()\n",
    "\n",
    "# 7-Day Rolling Average\n",
    "df[\"Revenue\"].rolling(7).mean().plot(title=\"7-Day Revenue Trend\")\n",
    "plt.show()\n",
    "\n",
    "# Monthly Resample\n",
    "monthly = df[\"Revenue\"].resample(\"M\").sum()\n",
    "monthly.plot(kind=\"bar\", title=\"Monthly Revenue\")\n",
    "plt.show()\n",
    "\n",
    "# Weekday Analysis\n",
    "df[\"Weekday\"] = df.index.day_name()\n",
    "sns.boxplot(data=df, x=\"Weekday\", y=\"Revenue\")\n",
    "plt.title(\"Revenue by Weekday\")\n",
    "plt.show()\n"
   ]
  },
  {
   "cell_type": "markdown",
   "id": "43452287-d521-467a-92dc-541a7d17ce62",
   "metadata": {},
   "source": [
    "#### Stretch Goals\n",
    "\n",
    "Compare weekday vs weekend behavior\n",
    "\n",
    "Add seasonality markers (holidays, promos)\n",
    "\n",
    "Save visualizations as PNG"
   ]
  },
  {
   "cell_type": "markdown",
   "id": "e313e6e9-a62d-4bac-a42a-98cdf83a734f",
   "metadata": {},
   "source": [
    "### Week 15: Intro to Predictive Modeling (Optional)\n",
    "* Linear Regression with scikit-learn\n",
    "* Model training, evaluation basics\n",
    "* Avoiding overfitting, test/train split\n",
    "  \n",
    "**Project:** \n",
    "* Predict future sales or employee attrition using linear regression\n",
    "\n",
    "**Learning Objectives**\n",
    "\n",
    "By the end of this week, you will be able to:\n",
    "- Understand what a predictive model is\n",
    "- Build a simple linear regression model using `scikit-learn`\n",
    "- Split data into training and testing sets\n",
    "- Evaluate model performance (R², MAE, RMSE)\n",
    "- Use the model to make predictions\n"
   ]
  },
  {
   "cell_type": "markdown",
   "id": "523999d4-5b15-4307-8cfd-94550f78a6ce",
   "metadata": {},
   "source": [
    "## What is Predictive Modeling?\n",
    "\n",
    "> Predictive modeling uses **historical data** to forecast **future outcomes**.\n",
    "\n",
    "Examples:\n",
    "- Predict next month’s sales\n",
    "- Predict employee attrition\n",
    "- Predict customer ratings or satisfaction\n",
    "\n",
    "## Linear Regression Overview\n",
    "\n",
    "- Simplest form of prediction\n",
    "- Assumes a **linear relationship** between input (X) and output (y)\n",
    "- Predicts **continuous** values\n",
    "\n",
    "\n",
    "## Modeling Workflow\n",
    "\n",
    "1. **Define X (features) and y (target)**\n",
    "2. **Split** the data into training and test sets\n",
    "3. **Train** the model using `.fit()`\n",
    "4. **Predict** on new data using `.predict()`\n",
    "5. **Evaluate** the model\n",
    "\n",
    "## Key Metrics\n",
    "\n",
    "| Metric | Use |\n",
    "|--------|-----|\n",
    "| R²     | How well model explains variance (closer to 1 = better) |\n",
    "| MAE    | Mean Absolute Error (lower = better) |\n",
    "| RMSE   | Root Mean Squared Error (lower = better) |\n",
    "\n",
    "### Tips for Good Predictions\n",
    "\n",
    "- Make sure your features (X) are numeric\n",
    "- Remove or fill missing values\n",
    "- Avoid using features that \"leak\" future information\n",
    "- Trai/test split is critical to avoid overfitting\n",
    "\n",
    "### scikit-learn Model Summary\n",
    "\n",
    "| Step        | Function                              |\n",
    "| ----------- | ------------------------------------- |\n",
    "| Split data  | `train_test_split()`                  |\n",
    "| Train model | `model.fit()`                         |\n",
    "| Predict     | `model.predict()`                     |\n",
    "| Evaluate    | `r2_score()`, `mean_absolute_error()` |\n"
   ]
  },
  {
   "cell_type": "markdown",
   "id": "c456a2bb-5c6f-4508-89c0-57af52701566",
   "metadata": {},
   "source": [
    "# Practice Exercises"
   ]
  },
  {
   "cell_type": "markdown",
   "id": "229bc094-1624-4d51-b5a7-e3eaa360c8cf",
   "metadata": {},
   "source": [
    "### 1. Load dataset and check shape"
   ]
  },
  {
   "cell_type": "code",
   "execution_count": null,
   "id": "e5267c68-9b62-4b0d-a347-07b3aa443c11",
   "metadata": {},
   "outputs": [],
   "source": [
    "df = pd.read_csv(\"sales_prediction.csv\")\n",
    "print(df.shape)\n",
    "print(df.head())\n"
   ]
  },
  {
   "cell_type": "markdown",
   "id": "c9323ccb-6ca7-46ce-b13d-b0ecd0d43609",
   "metadata": {},
   "source": [
    "### 2. Define feature matrix X and target y"
   ]
  },
  {
   "cell_type": "code",
   "execution_count": null,
   "id": "c76c7be2-eb70-4456-81e3-cdf125fdcaf4",
   "metadata": {},
   "outputs": [],
   "source": [
    "X = df[[\"Ad_Spend\", \"Email_Spend\", \"Social_Spend\"]]\n",
    "y = df[\"Total_Revenue\"]\n"
   ]
  },
  {
   "cell_type": "markdown",
   "id": "46a47160-8ef4-4375-878f-acaea615ec3b",
   "metadata": {},
   "source": [
    "### 3. Train/test split"
   ]
  },
  {
   "cell_type": "code",
   "execution_count": null,
   "id": "e9a23069-cca0-48c2-b86a-035c8053029a",
   "metadata": {},
   "outputs": [],
   "source": [
    "from sklearn.model_selection import train_test_split\n",
    "X_train, X_test, y_train, y_test = train_test_split(X, y, test_size=0.2, random_state=1)\n"
   ]
  },
  {
   "cell_type": "markdown",
   "id": "cf26d33c-23f9-49ec-b90e-86bb209c6318",
   "metadata": {},
   "source": [
    "### 4. Train model"
   ]
  },
  {
   "cell_type": "code",
   "execution_count": null,
   "id": "4f931724-40c0-42d6-99d3-dded416f205c",
   "metadata": {},
   "outputs": [],
   "source": [
    "from sklearn.linear_model import LinearRegression\n",
    "model = LinearRegression()\n",
    "model.fit(X_train, y_train)\n"
   ]
  },
  {
   "cell_type": "markdown",
   "id": "b629813c-77d9-480b-9d02-4e3156db2839",
   "metadata": {},
   "source": [
    "### 5. Make predictions"
   ]
  },
  {
   "cell_type": "code",
   "execution_count": null,
   "id": "df10cf61-14b5-4b7e-8272-4f28c2c4f530",
   "metadata": {},
   "outputs": [],
   "source": [
    "y_pred = model.predict(X_test)\n"
   ]
  },
  {
   "cell_type": "markdown",
   "id": "b1f81afa-9b9e-4770-bdd5-7069d3e3c600",
   "metadata": {},
   "source": [
    "### 6. Evaluate model"
   ]
  },
  {
   "cell_type": "code",
   "execution_count": null,
   "id": "493a0631-ddbe-42f1-950d-d9b0a7034a5b",
   "metadata": {},
   "outputs": [],
   "source": [
    "from sklearn.metrics import mean_absolute_error, r2_score\n",
    "\n",
    "print(\"MAE:\", mean_absolute_error(y_test, y_pred))\n",
    "print(\"R²:\", r2_score(y_test, y_pred))\n"
   ]
  },
  {
   "cell_type": "markdown",
   "id": "c25b3bff-06e1-4a85-b051-1d04f5d1b297",
   "metadata": {},
   "source": [
    "### 7. Visualize actual vs predicted"
   ]
  },
  {
   "cell_type": "code",
   "execution_count": null,
   "id": "a1655367-68fe-4ead-b7cb-bf9c7e211b84",
   "metadata": {},
   "outputs": [],
   "source": [
    "import matplotlib.pyplot as plt\n",
    "\n",
    "plt.scatter(y_test, y_pred)\n",
    "plt.xlabel(\"Actual Revenue\")\n",
    "plt.ylabel(\"Predicted Revenue\")\n",
    "plt.title(\"Actual vs Predicted\")\n",
    "plt.plot([y_test.min(), y_test.max()], [y_test.min(), y_test.max()], \"r--\")\n",
    "plt.show()\n"
   ]
  },
  {
   "cell_type": "markdown",
   "id": "d8601c2d-5eff-4f0e-b733-d4bd328d5636",
   "metadata": {},
   "source": [
    "# Project: \n",
    "\n",
    "### Predict Sales or Attrition\n",
    "\n",
    "### Goal\n",
    "\n",
    "Use a real dataset to train and evaluate a simple linear regression model.\n",
    "\n",
    "### Dataset Ideas\n",
    "\n",
    "| Dataset         | Predict…                         |\n",
    "|----------------|-----------------------------------|\n",
    "| Marketing    | Revenue from ad spend             |\n",
    "| HR           | Salary from years of experience   |\n",
    "| Retail       | Sales from price/discount         |\n",
    "\n",
    "### Tasks\n",
    "\n",
    "1. Load and clean your dataset\n",
    "2. Choose numeric input features (X) and target (y)\n",
    "3. Split into train and test\n",
    "4. Train `LinearRegression()` model\n",
    "5. Evaluate using:\n",
    "   - R² Score\n",
    "   - MAE / RMSE\n",
    "6. Visualize predictions vs actual\n",
    "7. Bonus: Interpret coefficients"
   ]
  },
  {
   "cell_type": "markdown",
   "id": "acdfb8af-a21b-41f3-b700-83053cd2fa7f",
   "metadata": {},
   "source": [
    "### Starter Code Snippet"
   ]
  },
  {
   "cell_type": "code",
   "execution_count": null,
   "id": "a40e1804-14c9-4178-8835-d3a60627df2b",
   "metadata": {},
   "outputs": [],
   "source": [
    "from sklearn.linear_model import LinearRegression\n",
    "from sklearn.model_selection import train_test_split\n",
    "from sklearn.metrics import r2_score, mean_absolute_error\n",
    "\n",
    "df = pd.read_csv(\"your_data.csv\")\n",
    "\n",
    "# Clean/prep data\n",
    "X = df[[\"Feature1\", \"Feature2\"]]\n",
    "y = df[\"Target\"]\n",
    "\n",
    "X_train, X_test, y_train, y_test = train_test_split(X, y, test_size=0.2)\n",
    "\n",
    "model = LinearRegression()\n",
    "model.fit(X_train, y_train)\n",
    "\n",
    "predictions = model.predict(X_test)\n",
    "\n",
    "print(\"R²:\", r2_score(y_test, predictions))\n",
    "print(\"MAE:\", mean_absolute_error(y_test, predictions))"
   ]
  },
  {
   "cell_type": "markdown",
   "id": "4f19eed1-f0bd-46a5-b6e7-db611276c303",
   "metadata": {},
   "source": [
    "### Stretch Goals\n",
    "\n",
    "Plot residuals (actual - predicted)\n",
    "\n",
    "Standardize features using StandardScaler\n",
    "\n",
    "Try polynomial regression for curve-fitting"
   ]
  },
  {
   "cell_type": "markdown",
   "id": "af31e630-ee48-41bb-b57c-b548aadce382",
   "metadata": {},
   "source": [
    "### Week 16: Final Capstone Project\n",
    "---\n",
    "**Choose one real dataset and business problem:**\n",
    "* Retail Sales Dashboard\n",
    "* HR Attrition Analysis\n",
    "* Marketing Funnel Performance\n",
    "* Financial KPIs Tracker\n",
    "* Survey Sentiment and NPS Analysis\n",
    "\n",
    "**Deliverables:**\n",
    "* Cleaned dataset\n",
    "* Data transformation notebook\n",
    "* 3–5 meaningful visualizations\n",
    "* Insightful summary (Markdown / PowerPoint)\n",
    "* GitHub repo or downloadable PDF\n",
    "\n",
    "### Purpose\n",
    "\n",
    "Build and deliver a real-world data project from start to finish, using everything you’ve learned:\n",
    "\n",
    "- Python foundations\n",
    "- Data cleaning\n",
    "- Pandas, NumPy\n",
    "- Visualization (Matplotlib, Seaborn)\n",
    "- (Optional) Predictive modeling\n",
    "\n",
    "### Project Options\n",
    "\n",
    "Choose one dataset and business question:\n",
    "| Project                       | Dataset Type           | Goal                                      |\n",
    "| ----------------------------- | ---------------------- | ----------------------------------------- |\n",
    "| **Retail Sales Dashboard** | Product sales (CSV)    | Analyze revenue, seasonality, products    |\n",
    "| **HR Attrition Analysis**  | Employee data          | Who is leaving and why?                   |\n",
    "| **Marketing Funnel KPIs**  | Campaign tracking      | Track conversions, drop-off points        |\n",
    "| **Financial KPI Tracker**  | Revenue & cost trends  | Visualize and forecast KPIs               |\n",
    "| **Survey NPS + Sentiment** | Survey + open feedback | Clean text + analyze satisfaction metrics |\n",
    "\n",
    "### Final Deliverables\n",
    "\n",
    "| Component           | Required? | Format                           |\n",
    "| ------------------- | --------- | -------------------------------- |\n",
    "| Cleaned Dataset  |         | CSV or processing code           |\n",
    "| Data Notebook    |         | `.ipynb` (Jupyter/Colab)         |\n",
    "| Visuals          |         | Seaborn / Matplotlib charts      |\n",
    "| Insight Summary  |         | Markdown or Slides               |\n",
    "| Predictive Model | Optional  | Linear regression (scikit-learn) |\n",
    "| Submission       |         | GitHub repo or ZIP folder        |\n",
    "\n",
    "### Workflow Checklist\n",
    "\n",
    "### STEP 1: Load & Explore\n",
    "\n",
    "- [ ] Read dataset with `pd.read_csv()`\n",
    "- [ ] Run `.info()` and `.describe()`\n",
    "- [ ] Check nulls, dtypes, duplicates\n",
    "\n",
    "### STEP 2: Clean Data\n",
    "\n",
    "- [ ] Handle missing values (drop or fill)\n",
    "- [ ] Rename columns\n",
    "- [ ] Convert dates\n",
    "- [ ] Create new columns if needed\n",
    "\n",
    "### STEP 3: Analyze & Transform\n",
    "\n",
    "- [ ] Aggregations: `.groupby()`, `.agg()`\n",
    "- [ ] Feature engineering: `.apply()`, `.map()`\n",
    "- [ ] Sort, filter, slice\n",
    "\n",
    "### STEP 4: Visualize\n",
    "\n",
    "- [ ] Distribution plots (hist, box, violin)\n",
    "- [ ] Relationships (scatter, lmplot)\n",
    "- [ ] Group comparisons (bar, line, heatmap)\n",
    "- [ ] Time trends (resample, rolling)\n",
    "\n",
    "### STEP 5 (Optional): Predict\n",
    "\n",
    "- [ ] Split into X, y\n",
    "- [ ] Train/test split\n",
    "- [ ] LinearRegression fit + predict\n",
    "- [ ] Evaluate with R², MAE\n",
    "\n",
    "### STEP 6: Communicate\n",
    "\n",
    "- [ ] Write insights in Markdown or PPT\n",
    "- [ ] Add titles to all charts\n",
    "- [ ] Answer business question(s)\n",
    "\n",
    "### Example Visuals to Include\n",
    "\n",
    "| Chart Type  | Shows                                     |\n",
    "| ----------- | ----------------------------------------- |\n",
    "| Line Plot   | Trends over time                          |\n",
    "| Bar Plot    | Group comparisons (e.g., region, segment) |\n",
    "| Boxplot     | Distribution across categories            |\n",
    "| Heatmap     | Correlation matrix                        |\n",
    "| Scatterplot | Relationship between 2 variables          |\n",
    "\n",
    "### Insight Summary Template\n",
    "\n",
    "You can deliver insights as:\n",
    "\n",
    "- Markdown cell summary (in your .ipynb)\n",
    "- PowerPoint slides\n",
    "- README in your GitHub repo\n",
    "- Sample structure:"
   ]
  },
  {
   "cell_type": "markdown",
   "id": "ccd69dab-c122-41ae-bb5d-5b14b1ffd926",
   "metadata": {},
   "source": [
    "## Capstone Project: Retail Sales Dashboard\n",
    "\n",
    "### Key Questions\n",
    "- What regions bring the most revenue?\n",
    "- Are there seasonal sales trends?\n",
    "- What product categories perform best?\n",
    "\n",
    "### Insights\n",
    "- Western region has 45% higher avg monthly revenue\n",
    "- Sales peak during Q4 (holiday season)\n",
    "- Office Supplies outperform Furniture in margin\n",
    "\n",
    "### Recommendations\n",
    "- Increase Q4 stock for high-volume items\n",
    "- Focus marketing on Western & Southern regions\n",
    "- Optimize Furniture discount strategy\n",
    "\n",
    "### Bonus Insight\n",
    "- Regression shows 72% of revenue variance explained by ad spend\n"
   ]
  },
  {
   "cell_type": "markdown",
   "id": "233e8066-78ad-4ddc-be00-80d4247aa654",
   "metadata": {},
   "source": [
    "### Submission Options\n",
    "\n",
    "GitHub repo with:\n",
    "\n",
    "notebook.ipynb\n",
    "\n",
    "README.md\n",
    "\n",
    "charts/ folder (optional)\n",
    "\n",
    "OR ZIP folder with notebook, dataset, and slides"
   ]
  },
  {
   "cell_type": "markdown",
   "id": "e66e33fb-d893-450b-b5eb-7de2d4987071",
   "metadata": {},
   "source": [
    "### Grading Criteria (if applicable)"
   ]
  },
  {
   "cell_type": "markdown",
   "id": "44a83e17-4ac2-4824-925b-84a8dc04329e",
   "metadata": {},
   "source": [
    "| Area            | Weight |\n",
    "| --------------- | ------ |\n",
    "| Data Cleaning   | 25%    |\n",
    "| Transformations | 20%    |\n",
    "| Visuals         | 25%    |\n",
    "| Insights/Story  | 20%    |\n",
    "| Bonus: Modeling | 10%    |\n"
   ]
  },
  {
   "cell_type": "markdown",
   "id": "93206f50-7246-4149-bb79-ca23dc8c295c",
   "metadata": {},
   "source": [
    "### You're Done!\n",
    "\n",
    "Once this project is complete, you’ll have a portfolio-ready data project to share with:\n",
    "\n",
    "Hiring managers\n",
    "\n",
    "Clients\n",
    "\n",
    "Stakeholders"
   ]
  },
  {
   "cell_type": "markdown",
   "id": "2c12f1b9-10fa-4a60-a60b-6e33c4b317c4",
   "metadata": {},
   "source": [
    "### Sample Project: Retail Sales Dashboard"
   ]
  },
  {
   "cell_type": "markdown",
   "id": "b47bd2a7-6919-4231-bc73-26cc458aae54",
   "metadata": {},
   "source": [
    "### Dataset: retail_sales.csv\n",
    "\n",
    "Here’s a sample structure:"
   ]
  },
  {
   "cell_type": "code",
   "execution_count": null,
   "id": "ebde45ea-38a6-4f4f-8e9d-f21f6bddfac9",
   "metadata": {},
   "outputs": [],
   "source": [
    "OrderDate,Region,ProductCategory,ProductName,UnitsSold,UnitPrice,Discount,Revenue\n",
    "2024-01-01,West,Office Supplies,Printer,10,200,0.1,1800\n",
    "2024-01-02,South,Technology,Laptop,5,800,0.15,3400\n",
    "2024-01-03,West,Furniture,Desk,3,400,0.2,960\n",
    "...\n"
   ]
  },
  {
   "cell_type": "code",
   "execution_count": null,
   "id": "4e569007-d81f-45d0-b5f9-0678a2798ae7",
   "metadata": {},
   "outputs": [],
   "source": [
    "You can create your own, or I can generate it for you — just say the word."
   ]
  },
  {
   "cell_type": "markdown",
   "id": "f226064a-f61d-423f-88b0-89b4d0056062",
   "metadata": {},
   "source": [
    "### Business Questions\n",
    "\n",
    "You'll answer:\n",
    "\n",
    "Which region is most profitable?\n",
    "\n",
    "Are sales seasonal or monthly trends evident?\n",
    "\n",
    "Which product categories perform best?\n",
    "\n",
    "How does discounting affect revenue?"
   ]
  },
  {
   "cell_type": "markdown",
   "id": "41223f96-4142-4e48-94cb-6bf962865233",
   "metadata": {},
   "source": [
    "### Starter Notebook Template"
   ]
  },
  {
   "cell_type": "code",
   "execution_count": null,
   "id": "a8e28cf4-2eee-4285-9932-06c36272fe14",
   "metadata": {},
   "outputs": [],
   "source": [
    "# Retail Sales Dashboard – Starter\n",
    "\n",
    "import pandas as pd\n",
    "import matplotlib.pyplot as plt\n",
    "import seaborn as sns\n",
    "\n",
    "# 1. Load Data\n",
    "df = pd.read_csv(\"retail_sales.csv\", parse_dates=[\"OrderDate\"])\n",
    "df.info()\n",
    "df.head()\n",
    "\n",
    "# 2. Clean & Engineer Features\n",
    "df[\"Month\"] = df[\"OrderDate\"].dt.to_period(\"M\")\n",
    "df[\"EffectivePrice\"] = df[\"UnitPrice\"] * (1 - df[\"Discount\"])\n",
    "df[\"TotalRevenue\"] = df[\"UnitsSold\"] * df[\"EffectivePrice\"]\n",
    "\n",
    "# 3. Monthly Sales Trend\n",
    "monthly = df.groupby(\"Month\")[\"TotalRevenue\"].sum()\n",
    "monthly.plot(title=\"Monthly Revenue Trend\", figsize=(10, 4))\n",
    "plt.ylabel(\"Revenue\")\n",
    "plt.show()\n",
    "\n",
    "# 4. Revenue by Region\n",
    "sns.barplot(data=df, x=\"Region\", y=\"TotalRevenue\", estimator=sum)\n",
    "plt.title(\"Revenue by Region\")\n",
    "plt.show()\n",
    "\n",
    "# 5. Category Analysis\n",
    "sns.boxplot(data=df, x=\"ProductCategory\", y=\"TotalRevenue\")\n",
    "plt.title(\"Revenue Distribution by Category\")\n",
    "plt.show()\n",
    "\n",
    "# 6. Discount vs Revenue Scatter\n",
    "sns.scatterplot(data=df, x=\"Discount\", y=\"TotalRevenue\", alpha=0.6)\n",
    "plt.title(\"Discount Impact on Revenue\")\n",
    "plt.show()\n"
   ]
  },
  {
   "cell_type": "markdown",
   "id": "7541b796-ca15-4e03-8fdb-f508b35d605c",
   "metadata": {},
   "source": [
    "### Markdown Summary Example"
   ]
  },
  {
   "cell_type": "markdown",
   "id": "15e60740-2a76-4dac-a9bd-40c4aa33476f",
   "metadata": {},
   "source": [
    "## Capstone Project Summary: Retail Sales Dashboard\n",
    "\n",
    "### Business Questions\n",
    "- What region generates the most revenue?\n",
    "- How do discounts affect performance?\n",
    "- Are there product categories with high returns?\n",
    "\n",
    "### Key Findings\n",
    "- The **West region** had 40% more revenue than others.\n",
    "- **Technology** products outperform in average revenue per unit.\n",
    "- High discounts (>20%) reduce total revenue below average.\n",
    "\n",
    "### Recommendations\n",
    "- Run promotions in low-performing regions.\n",
    "- Reduce discounts on high-performing tech items.\n",
    "- Focus Q4 inventory on Office Supplies & Technology.\n"
   ]
  },
  {
   "cell_type": "markdown",
   "id": "e22a3008-50c6-4bfc-a783-1a01488b1606",
   "metadata": {},
   "source": [
    "### Summary: How Does It Stack Up?\n",
    "\n",
    "Your course is surprisingly rigorous for a self-paced or part-time structure.\n",
    "\n",
    "It focuses heavily on hands-on learning, not just theory or slides.\n",
    "\n",
    "You're giving learners portfolio-ready projects that resemble what they'd do on the job.\n",
    "\n",
    "You cover Python as the primary data language, while many popular certs (Google) emphasize spreadsheets, SQL, and BI tools more than programming."
   ]
  },
  {
   "cell_type": "code",
   "execution_count": null,
   "id": "d7251d79-c576-4526-a79e-a0ef30782f40",
   "metadata": {},
   "outputs": [],
   "source": []
  },
  {
   "cell_type": "code",
   "execution_count": null,
   "id": "6757b4e1-ea61-40c8-93f0-93f05ec34fa2",
   "metadata": {},
   "outputs": [],
   "source": []
  }
 ],
 "metadata": {
  "kernelspec": {
   "display_name": "Python 3 (ipykernel)",
   "language": "python",
   "name": "python3"
  },
  "language_info": {
   "codemirror_mode": {
    "name": "ipython",
    "version": 3
   },
   "file_extension": ".py",
   "mimetype": "text/x-python",
   "name": "python",
   "nbconvert_exporter": "python",
   "pygments_lexer": "ipython3",
   "version": "3.12.3"
  }
 },
 "nbformat": 4,
 "nbformat_minor": 5
}
